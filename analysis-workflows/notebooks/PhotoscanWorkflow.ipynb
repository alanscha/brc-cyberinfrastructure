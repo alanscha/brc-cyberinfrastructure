{
 "cells": [
  {
   "cell_type": "markdown",
   "metadata": {},
   "source": [
    "# Overview\n",
    "This Jupyter notebook helps you create a 3D model using the Photoscan photogrammetry software, leveraging the computing power of a high-performance compute cluster. It assumes that your photographs are stored in a folder on [Box](http://berkeley.box.com), and the results of each step are saved back to Box.\n",
    "\n",
    "If you want to manually edit the results of any step in the process, you can sync or download the project file and photos from Box to any computer with Photoscan installed (version 1.5 or higher), make your edits, and move the changes back to Box before proceeding with the next computationally-intensive processing step."
   ]
  },
  {
   "cell_type": "markdown",
   "metadata": {},
   "source": [
    "## Software versions\n",
    "This notebook has been tested using:\n",
    "* python 3.5 kernel\n",
    "* boxsdk (2.0.0a2)\n",
    "* Photoscan XXXXXXXX?"
   ]
  },
  {
   "cell_type": "markdown",
   "metadata": {},
   "source": [
    "## Workflow at a glance\n",
    "The photogrammetry workflow laid out here involves the following steps. Each listed step has its own section in the notebook. You can click the \"+\" icon next to each section to expand it, and from there you can configure and run the code.\n",
    "1. **Project Setup**: defines where various source files are located.\n",
    "2. **Box Setup**: connect this notebook to Box so it can access the photos you've stored there. \n",
    "3. **Align Photos**: arranges the photos you've taken, relative to one another. 1% to 8% of the expected processing time.\n",
    "4. **Build Dense Cloud**: creates the a point cloud from the photographs. The most computationally-intensive step, which can take 50%-96% of the total model generation time, depending on your settings. This step is run using GPU nodes on the cluster, which improve performance.\n",
    "5. **Build Mesh**: connecting the point cloud together to build a mesh takes around 30% of the processing time on lower quality settings, or as little as 2% on higher quality settings.\n",
    "6. **Build Texture**: building the texture takes between 8% (medium quality) and 1% (ultra high quality) of the processing time."
   ]
  },
  {
   "cell_type": "markdown",
   "metadata": {},
   "source": [
    "# Project Setup\n",
    "This step connects the notebook to Box. Before you get started, make sure you have a folder in Box for your project. That folder should have a folder inside it called \"images\" that has all the photos you want to use for your 3D model. This workflow will also create a new folder, \"files\", that contains the project files-- you don't have to set that up in advance.\n",
    "\n",
    "Click in the first code box below, and then click the \"run cell\" button in the toolbar. This will run the code and move to the next box. Repeat until the next set of instructions."
   ]
  },
  {
   "cell_type": "code",
   "execution_count": 21,
   "metadata": {
    "code_folding": [
     0
    ],
    "collapsed": true,
    "scrolled": true
   },
   "outputs": [],
   "source": [
    "# widget imports\n",
    "from __future__ import print_function\n",
    "from ipywidgets import interact, interactive, fixed\n",
    "import ipywidgets as widgets\n",
    "from IPython.display import display\n"
   ]
  },
  {
   "cell_type": "code",
   "execution_count": 22,
   "metadata": {
    "code_folding": [
     0
    ],
    "collapsed": true,
    "scrolled": true
   },
   "outputs": [],
   "source": [
    "# Create text widget for projectname\n",
    "projectname = widgets.Text()\n",
    "\n",
    "# Create text widget for input\n",
    "input_text = widgets.Text()\n",
    "\n",
    "\n",
    "def setprojectname(projectname):\n",
    "    return projectname\n"
   ]
  },
  {
   "cell_type": "code",
   "execution_count": 23,
   "metadata": {
    "code_folding": [
     0
    ],
    "collapsed": false,
    "scrolled": false
   },
   "outputs": [],
   "source": [
    "# Define function to bind value of the input to the output variable \n",
    "def bind_input_to_projectname(sender):\n",
    "    projectname.value = input_text.value\n",
    "    \n",
    "input_text.on_submit(bind_input_to_projectname) "
   ]
  },
  {
   "cell_type": "markdown",
   "metadata": {},
   "source": [
    "## Input folder name\n",
    "After you run the code box below, a text box will appear. Click in the text box and type in the name of the folder on Box where you've uploaded your images, then hit the \"run cell\" button again."
   ]
  },
  {
   "cell_type": "code",
   "execution_count": 24,
   "metadata": {
    "code_folding": [
     0
    ],
    "collapsed": false,
    "scrolled": true
   },
   "outputs": [],
   "source": [
    "# Enter the projectname here:\n",
    "# Display input text box widget for input\n",
    "input_text\n",
    "\n",
    "# Display projectname text box widget (will populate when value submitted in input)\n",
    "projectname"
   ]
  },
  {
   "cell_type": "markdown",
   "metadata": {},
   "source": [
    "## Project set-up\n",
    "The code box below defines the locations of a number of things for your project. The defaults are usually fine, but depending on your compute environment, you may need to change some of these.\n",
    "    \n",
    "By default:\n",
    "* The processing jobs will run in /global/scratch/[your-user-name]/[your-project-name]\n",
    "* It's assuming your home folder is in /global/home/users/[your-user-name]\n",
    "* The Singularity container (a particular way of packaging up software so it can run in an HPC environment) that has Photoscan in it should be in /global/scratch/mmanning/photoscan13.img **(FIX THIS!!!)**\n",
    "\n",
    "After you run the next code box, text will appear confirming these paths. If you need to make any changes, edit the code box and run it again."
   ]
  },
  {
   "cell_type": "code",
   "execution_count": 25,
   "metadata": {
    "code_folding": [],
    "collapsed": false,
    "scrolled": true
   },
   "outputs": [
    {
     "name": "stdout",
     "output_type": "stream",
     "text": [
      "user name:  quinnd\n",
      "project name:  \n",
      "run folder:  /global/scratch/quinnd//\n"
     ]
    }
   ],
   "source": [
    "# Defines all paths and filenames\n",
    "import os\n",
    "\n",
    "usernamearray = %sx whoami\n",
    "username = usernamearray[0]\n",
    "print('user name: ', username)\n",
    "print('project name: ', projectname.value)\n",
    "\n",
    "#Modify the run folder location here\n",
    "runFolder = '/global/scratch/' + username + '/'  + projectname.value + '/'\n",
    "\n",
    "#Modify the home folder location here\n",
    "homeFolder = '/global/home/users/' + username + '/' \n",
    "print('run folder: ', runFolder)\n",
    "\n",
    "# Creates the run folder if it does not exist\n",
    "if ( not os.path.isdir(runFolder)):\n",
    "    print('run folder does not exist, creating.')\n",
    "    os.mkdir(runFolder)\n",
    "\n",
    "singularitymountfolder = '/scratch/'\n",
    "\n",
    "boxProjectFolder = projectname.value\n",
    "projectFile = projectname.value + '.psx'\n",
    "datazipFile = projectname.value + '.files.zip'\n",
    "dataFolder = projectname.value + '.files'\n",
    "\n",
    "projectfileid = ''\n",
    "objFile = projectname.value + '.obj'\n",
    "jpgFile = projectname.value + '.jpg'\n",
    "orthoFile = projectname.value + '.tiff'\n",
    "\n",
    "scratchImageDataDirectory = runFolder + 'images/'\n",
    "# Creates the image folder if it does not exist\n",
    "if ( not os.path.isdir(scratchImageDataDirectory)):\n",
    "    print('images folder does not exist, creating.')\n",
    "    os.mkdir(scratchImageDataDirectory)\n",
    "\n",
    "slurmScript = runFolder + 'slurmscript.sh'\n",
    "execScript = runFolder + 'execscript.sh'\n",
    "scratchExecScript = singularitymountfolder + 'execscript.sh'\n",
    "commandScript = runFolder + 'commandscript.sh'\n",
    "\n",
    "#Modify the path for the Singularity container here\n",
    "singularityContainerPath = '/global/scratch/mmanning/photoscan13.img'"
   ]
  },
  {
   "cell_type": "markdown",
   "metadata": {},
   "source": [
    "# Box Setup\n",
    "\n",
    "To connect Box with this notebook, you need to go through some one-time configuration steps. If you run this notebook again to create a 3D model out of a new set of photos, you won't have to run this step again. First, run the code below."
   ]
  },
  {
   "cell_type": "code",
   "execution_count": 26,
   "metadata": {
    "collapsed": true,
    "scrolled": false
   },
   "outputs": [],
   "source": [
    "def store_tokens(access_token, refresh_token):\n",
    "    \n",
    "    \"\"\"Callback for storing refresh tokens. (For now we ignore access tokens).\"\"\"\n",
    "    with open(homeFolder + 'apptoken.cfg', 'w') as f:\n",
    "     f.write(refresh_token.strip())"
   ]
  },
  {
   "cell_type": "markdown",
   "metadata": {},
   "source": [
    "## Creating a Box application\n",
    "\n",
    "To get access to the Box API (programmatic access to Box that you can use with this notebook), you have to register an \"application\" via the Box Developers site. \n",
    "\n",
    "For Berkeley, the Box Developers site is at: https://berkeley.app.box.com/developers/services/edit/. For other institutions, append */developers/console/newapp* to the URL when you're logged in with your institutional credentials.\n",
    "\n",
    "Once you're at the Box Developers site:\n",
    "\n",
    "1. Click *Enterprise Integration*, then click the *Next* button.\n",
    "2. On the next page, choose *Standard OAuth 2.0 (User Authentication)*\n",
    "3. On the next page, enter a name for this application, such as \"Photoscan notebook\" and click the *Create App* button.\n",
    "4. Click the *View your app* button.\n",
    "5. The next page shows a number of fields. The ones you need are *Client ID*, *Client secret*, and *Redirect URI*. Copy each of those and paste them into the corresponding place in the code box below, then run the code box.\n",
    "\n",
    "**FIGURE OUT WHY THIS DOESN'T WORK**\n",
    "\n",
    "-----\n",
    "Oauth2 information is read from a local file with three lines, one line per parameter. \n",
    "The client id and client secret are defined in the Box application created for this notebook.  Create the application at the Box Developers site: https://berkeley.app.box.com/developers/services/edit/\n",
    "\n",
    "The redirect uri can be any site that requires validation. Run the bootstrap notebook to create initial \n",
    "tokens that are then continually refreshed. **What's an example so we don't make people look for one?**"
   ]
  },
  {
   "cell_type": "code",
   "execution_count": 27,
   "metadata": {
    "collapsed": false,
    "scrolled": false
   },
   "outputs": [
    {
     "ename": "FileNotFoundError",
     "evalue": "[Errno 2] No such file or directory: '/global/home/users/quinnd/app.cfg'",
     "output_type": "error",
     "traceback": [
      "\u001b[0;31m---------------------------------------------------------------------------\u001b[0m",
      "\u001b[0;31mFileNotFoundError\u001b[0m                         Traceback (most recent call last)",
      "\u001b[0;32m<ipython-input-27-3cb55fabd27c>\u001b[0m in \u001b[0;36m<module>\u001b[0;34m()\u001b[0m\n\u001b[1;32m      5\u001b[0m \u001b[0mREDIRECT_URI\u001b[0m \u001b[0;34m=\u001b[0m \u001b[0;32mNone\u001b[0m\u001b[0;34m\u001b[0m\u001b[0m\n\u001b[1;32m      6\u001b[0m \u001b[0;31m# Read app info from text file\u001b[0m\u001b[0;34m\u001b[0m\u001b[0;34m\u001b[0m\u001b[0m\n\u001b[0;32m----> 7\u001b[0;31m \u001b[0;32mwith\u001b[0m \u001b[0mopen\u001b[0m\u001b[0;34m(\u001b[0m\u001b[0mhomeFolder\u001b[0m \u001b[0;34m+\u001b[0m \u001b[0;34m'app.cfg'\u001b[0m\u001b[0;34m,\u001b[0m \u001b[0;34m'r'\u001b[0m\u001b[0;34m)\u001b[0m \u001b[0;32mas\u001b[0m \u001b[0mapp_cfg\u001b[0m\u001b[0;34m:\u001b[0m\u001b[0;34m\u001b[0m\u001b[0m\n\u001b[0m\u001b[1;32m      8\u001b[0m     \u001b[0mCLIENT_ID\u001b[0m \u001b[0;34m=\u001b[0m \u001b[0mapp_cfg\u001b[0m\u001b[0;34m.\u001b[0m\u001b[0mreadline\u001b[0m\u001b[0;34m(\u001b[0m\u001b[0;34m)\u001b[0m\u001b[0;34m\u001b[0m\u001b[0m\n\u001b[1;32m      9\u001b[0m     \u001b[0mCLIENT_SECRET\u001b[0m \u001b[0;34m=\u001b[0m \u001b[0mapp_cfg\u001b[0m\u001b[0;34m.\u001b[0m\u001b[0mreadline\u001b[0m\u001b[0;34m(\u001b[0m\u001b[0;34m)\u001b[0m\u001b[0;34m\u001b[0m\u001b[0m\n",
      "\u001b[0;31mFileNotFoundError\u001b[0m: [Errno 2] No such file or directory: '/global/home/users/quinnd/app.cfg'"
     ]
    }
   ],
   "source": [
    "import os\n",
    "\n",
    "CLIENT_ID = None\n",
    "CLIENT_SECRET = None\n",
    "REDIRECT_URI = None\n",
    "# Read app info from text file\n",
    "with open(homeFolder + 'app.cfg', 'r') as app_cfg:\n",
    "    CLIENT_ID = app_cfg.readline()\n",
    "    CLIENT_SECRET = app_cfg.readline()\n",
    "    REDIRECT_URI = app_cfg.readline()\n"
   ]
  },
  {
   "cell_type": "markdown",
   "metadata": {},
   "source": [
    "The refresh token is read from a local file.\n",
    "This token was created by running the bootstrap notebook which requires the user to validate\n",
    "with CalNet Authentication Service credentials, then stores the returned auth and refresh tokens \n",
    "in the same config files."
   ]
  },
  {
   "cell_type": "code",
   "execution_count": null,
   "metadata": {
    "collapsed": true,
    "scrolled": false
   },
   "outputs": [],
   "source": [
    "REFRESH_TOKEN = None\n",
    "\n",
    "# Read app info from text file\n",
    "with open(homeFolder + 'apptoken.cfg', 'r') as apptoken_cfg:\n",
    "    REFRESH_TOKEN = apptoken_cfg.readline()"
   ]
  },
  {
   "cell_type": "markdown",
   "metadata": {},
   "source": [
    "__Perform autentication__ then create globus client\n",
    "Verify client is working by retrieving the name of the users root folder in Box"
   ]
  },
  {
   "cell_type": "code",
   "execution_count": null,
   "metadata": {
    "collapsed": false,
    "scrolled": false
   },
   "outputs": [],
   "source": [
    "from boxsdk import OAuth2\n",
    "from boxsdk import Client\n",
    "\n",
    "# Do OAuth2 authorization.\n",
    "oauth = OAuth2(\n",
    "    client_id=CLIENT_ID.strip(),\n",
    "    client_secret=CLIENT_SECRET.strip(),\n",
    "    refresh_token=REFRESH_TOKEN.strip(),\n",
    "    store_tokens=store_tokens\n",
    ")\n",
    "\n",
    "client = Client(oauth)\n",
    "\n",
    "root_folder = client.folder(folder_id='0').get()\n",
    "print (\"folder name: \", root_folder['name'] )\n",
    "\n",
    "items = client.folder(folder_id='0').get_items(limit=100, offset=0)\n",
    "#print (\"items: \", items )\n",
    "\n"
   ]
  },
  {
   "cell_type": "markdown",
   "metadata": {
    "heading_collapsed": true
   },
   "source": [
    "### Utility functions\n",
    "**Do you have to run all of these before using the notebook for photogrammetry?**"
   ]
  },
  {
   "cell_type": "markdown",
   "metadata": {
    "hidden": true
   },
   "source": [
    "__function to find folder id be folder name.__\n",
    "Current SDK does not have a 'find by name' function so must loop thru all folders and look for match."
   ]
  },
  {
   "cell_type": "code",
   "execution_count": null,
   "metadata": {
    "collapsed": false,
    "hidden": true,
    "scrolled": false
   },
   "outputs": [],
   "source": [
    "def find_folder_id(folder_name):\n",
    "    print ('find_folder_id folder_name: ', folder_name)\n",
    "    folderlist = client.search(query=folder_name, result_type='folder', limit=100, offset=0)\n",
    "    \n",
    "    print ('find_folder_id folderlist: ', folderlist)\n",
    "    \n",
    "    if len(folderlist) == 0:\n",
    "        print('folder not found: ', folder_name)\n",
    "        return 0\n",
    "    else:\n",
    "        for fldr in folderlist:\n",
    "            if fldr['name'] == folder_name :\n",
    "                return fldr['id']\n",
    "            \n",
    "        return 0"
   ]
  },
  {
   "cell_type": "markdown",
   "metadata": {
    "hidden": true
   },
   "source": [
    "__Create command scripts template.__\n",
    "Write out a execute file that includes the license install as the first step each time to enable any HPC node.\n",
    "This is a temporary workaround until release 1.3 is installed on Savio and a license server is configured.\n",
    "execscript - contains the license install as the first command and the command script as the second command."
   ]
  },
  {
   "cell_type": "code",
   "execution_count": null,
   "metadata": {
    "collapsed": false,
    "hidden": true,
    "scrolled": false
   },
   "outputs": [],
   "source": [
    "# script for singularity to run\n",
    "import os, stat\n",
    "\n",
    "execScriptTemplate = '/opt/photoscan-pro/photoscan.sh --activate TGN25-21RGK-UM9NG-UK49O-V55ZO\\n\\\n",
    "/opt/photoscan-pro/photoscan.sh -r  /scratch/commandscript.sh \\n'\n",
    "\n",
    "print (' exec script output: ', execScriptTemplate )\n",
    "\n",
    "with open(execScript, 'w') as f:\n",
    "    f.write(execScriptTemplate)\n",
    "    \n",
    "os.chmod(execScript,  stat.S_IRWXU)    \n",
    "\n",
    "\n",
    "\n"
   ]
  },
  {
   "cell_type": "code",
   "execution_count": null,
   "metadata": {
    "collapsed": true,
    "hidden": true
   },
   "outputs": [],
   "source": [
    "# batch script\n",
    "batchtemplate = '#!/bin/bash  \\n\\\n",
    "# Job name: \\n\\\n",
    "#SBATCH --job-name=' + projectname.value + '\\n\\\n",
    "# \\n\\\n",
    "# Account: \\n\\\n",
    "#SBATCH --account=ac_scsguest \\n\\\n",
    "# \\n\\\n",
    "# Partition: \\n\\\n",
    "#SBATCH --partition=savio \\n\\\n",
    "# \\n\\\n",
    "# Wall clock limit: \\n\\\n",
    "#SBATCH --time={} \\n\\\n",
    "# \\n\\\n",
    "## Command(s) to run: \\n\\\n",
    "singularity exec -B ' + runFolder + ':' + singularitymountfolder + '  ' + singularityContainerPath + '  ' + scratchExecScript + '\\n' \n",
    "  \n",
    "    "
   ]
  },
  {
   "cell_type": "markdown",
   "metadata": {
    "hidden": true
   },
   "source": [
    "__Update the project file in the Box folder.__ \n",
    "Multiple times in the workflow we need to move the project file back to Box for manual editing on the desktop \n",
    "then retrieve the updated the file and continue the workflow. This utility funcation pushes the project \n",
    "file into the working directory on Savio. It assumes that the project folder will only contain one project file and one zipped archive."
   ]
  },
  {
   "cell_type": "code",
   "execution_count": null,
   "metadata": {
    "collapsed": false,
    "hidden": true,
    "scrolled": false
   },
   "outputs": [],
   "source": [
    "import os\n",
    "import shutil\n",
    "\n",
    "def update_project_file_in_box():\n",
    "\n",
    "    newFolderId = find_folder_id(boxProjectFolder)\n",
    "    print (\"Box folder id: \", newFolderId  )\n",
    "    \n",
    "    # create a zipped archive of the data folder\n",
    "    shutil.make_archive(runFolder + dataFolder, 'zip', runFolder + dataFolder)\n",
    "    \n",
    "    projectfilelist = client.search(query=projectFile, result_type='file', limit=10, \n",
    "                                offset=0, ancestor_folders=[client.folder(folder_id=newFolderId)],\n",
    "                                file_extensions=['psx'] )  \n",
    "    \n",
    "    print (\"project file list: \", projectfilelist  )\n",
    "    \n",
    "    # if project file is not yet in folder, upload both the project file and the data zip file\n",
    "    if len(projectfilelist) == 0 or len(projectfilelist) > 1: \n",
    "        print (\"project file not found. \" )\n",
    "        upload_folder = client.folder(folder_id=newFolderId).get()\n",
    "        projectpsx = upload_folder.upload(runFolder + projectFile)  \n",
    "        print (\"project file id: \", projectpsx['id'] )\n",
    "        projectzip = upload_folder.upload(runFolder + datazipFile)  \n",
    "        print (\"data zip file id: \", projectzip['id'] )\n",
    "        return\n",
    "    else:\n",
    "        datazipfilelist = client.search(query=datazipFile, result_type='file', limit=10, \n",
    "                                offset=0, ancestor_folders=[client.folder(folder_id=newFolderId)])\n",
    "                                #file_extensions=['zip'] )  \n",
    "        print (\"datazip file list: \", datazipfilelist  )\n",
    "        \n",
    "        projectfileid = projectfilelist[0]['id']\n",
    "        print (\"project file id: \", projectfileid )\n",
    "        datazipfileid = datazipfilelist[0]['id']\n",
    "        print (\"data zip file list: \", datazipfileid  )\n",
    "    \n",
    "        update_file = client.file(file_id=projectfileid).get()\n",
    "        update_zip_file = client.file(file_id=datazipfileid).get()\n",
    "\n",
    "        # upload a new version of the project file\n",
    "        print ('begin project file update.' )\n",
    "        psxfile = update_file.update_contents(runFolder + projectFile)  \n",
    "        zipfile = update_zip_file.update_contents(runFolder + datazipFile)\n",
    "        print ('update psx result: ', psxfile ,'   update zip result: ', zipfile )"
   ]
  },
  {
   "cell_type": "markdown",
   "metadata": {
    "hidden": true
   },
   "source": [
    "__Retrieve the project file from the Box folder.__ \n",
    "Multiple times in the workflow we need to move the project file back to Box for manual editing on the desktop \n",
    "then retrieve the updated the file and continue the workflow. This utility funcation pulls the updated project \n",
    "file into the working directory on Savio."
   ]
  },
  {
   "cell_type": "code",
   "execution_count": null,
   "metadata": {
    "collapsed": false,
    "hidden": true,
    "scrolled": false
   },
   "outputs": [],
   "source": [
    "\n",
    "import os\n",
    "import shutil \n",
    "def retrieve_project_file():\n",
    "    newFolderId = find_folder_id(boxProjectFolder)\n",
    "    tgtitems = client.folder(folder_id=newFolderId).get_items(limit=1000, offset=0)\n",
    "\n",
    "    # download the project file\n",
    "    for tgtitem in tgtitems:\n",
    "        if  not tgtitem['type'] == 'folder' and tgtitem['name'].endswith('.psx'):\n",
    "            print('downloading: ', tgtitem['name'])\n",
    "            imagecontent = client.file(file_id=tgtitem['id']).content()\n",
    "            newfile = open(runFolder + tgtitem['name'], 'wb')\n",
    "            newfile.write(imagecontent)\n",
    "            newfile.close()\n",
    "            print('project file download complete.')\n",
    "            \n",
    "        if  not tgtitem['type'] == 'folder' and tgtitem['name'].endswith('.zip'):\n",
    "            \n",
    "            # delete the old folder\n",
    "            !rm -rf $runFolder$dataFolder\n",
    "            \n",
    "            print('downloading: ', tgtitem['name'])\n",
    "            imagecontent = client.file(file_id=tgtitem['id']).content()\n",
    "            newfile = open(runFolder + tgtitem['name'], 'wb')\n",
    "            newfile.write(imagecontent)\n",
    "            newfile.close()\n",
    "            \n",
    "            shutil.unpack_archive(runFolder + datazipFile, runFolder + dataFolder ,'zip')\n",
    "            \n",
    "            print('data zip file download complete.')"
   ]
  },
  {
   "cell_type": "markdown",
   "metadata": {
    "collapsed": true
   },
   "source": [
    "### Retrieve the images from the Box folder.\n",
    "currently the Box SDK does not have an option for finding a folder by name so if you are looking for a specific folder then you would need to loop thru all the items in the list below and do a name match. Once you find the folder and retrieve the id, you can save that id for subsequent runs. Another option is to get the id from the url in the web client, but approah below is more flexible for now. "
   ]
  },
  {
   "cell_type": "code",
   "execution_count": null,
   "metadata": {
    "collapsed": false,
    "scrolled": false
   },
   "outputs": [],
   "source": [
    "import os\n",
    "import shutil \n",
    "\n",
    "print ('current working directory: ', os.getcwd())\n",
    "os.chdir(scratchImageDataDirectory)\n",
    "\n",
    "# test folder contents\n",
    "items = client.folder(folder_id='0').get_items(limit=20, offset=0)\n",
    "if type(items) is list:\n",
    "    print ('number of files in top folder: ', len(items) )\n",
    "    \n",
    "    targetfolderId = ''\n",
    "    for item in items:\n",
    "        if item['type'] == 'folder':\n",
    "            print('folder name: ', item['name'])\n",
    "            if item['name'] == boxProjectFolder:\n",
    "                targetfolderId = item['id']\n",
    "                print('targetfolderId: ', targetfolderId)\n",
    "        \n",
    "    if targetfolderId is not None:\n",
    "        tgtitems = client.folder(folder_id=targetfolderId).get_items(limit=200, offset=0)\n",
    "        if type(tgtitems) is list:\n",
    "            print ('number of files in target folder: ', len(tgtitems) ) \n",
    "        \n",
    "        # download all image files\n",
    "        for tgtitem in tgtitems:\n",
    "            if  not tgtitem['type'] == 'folder' and tgtitem['name'].endswith('.JPG'):\n",
    "                print('dowmnloading: ', tgtitem['name'])\n",
    "                imagecontent = client.file(file_id=tgtitem['id']).content()\n",
    "                newfile = open(scratchImageDataDirectory + tgtitem['name'], 'wb')\n",
    "                newfile.write(imagecontent)\n",
    "                newfile.close()"
   ]
  },
  {
   "cell_type": "markdown",
   "metadata": {},
   "source": [
    "### Load the image set\n",
    "run the first photoscan step: add the files\n",
    "this cell created the script that will be executed by photoshop by writes the necessary commands into a text file.\n",
    "mod the text in the step1Template string below as required."
   ]
  },
  {
   "cell_type": "markdown",
   "metadata": {
    "collapsed": false
   },
   "source": [
    "clear docs about what needs to be set, can params be highlighted?\n"
   ]
  },
  {
   "cell_type": "code",
   "execution_count": null,
   "metadata": {
    "collapsed": false,
    "scrolled": false
   },
   "outputs": [],
   "source": [
    "import os, stat\n",
    "\n",
    "files = [ singularitymountfolder + 'images/' + f for f in os.listdir(scratchImageDataDirectory) ] \n",
    "\n",
    "template = '#!/usr/bin/env python3 \\n\\\n",
    "import PhotoScan \\n\\\n",
    "import time \\n\\\n",
    "doc = PhotoScan.app.document \\n\\\n",
    "chunk = PhotoScan.app.document.addChunk() \\n\\\n",
    "chunk.addPhotos( {} ) \\n\\\n",
    "doc.save(path=\\\"{}\\\", chunks = [doc.chunk])\\n '\n",
    "\n",
    "output = template.format(str(files), singularitymountfolder + projectFile)\n",
    "\n",
    "with open(commandScript, 'w') as f:  \n",
    "    f.write(output)\n",
    "\n",
    "os.chmod(commandScript,  stat.S_IRWXU)\n",
    "\n",
    "#set time limit for this batch run\n",
    "outputbatchscript = batchtemplate.format('00:30:00')\n",
    "with open(slurmScript, 'w') as f:  \n",
    "    f.write(outputbatchscript)"
   ]
  },
  {
   "cell_type": "markdown",
   "metadata": {},
   "source": [
    "#### Execute the image load"
   ]
  },
  {
   "cell_type": "code",
   "execution_count": null,
   "metadata": {
    "collapsed": false,
    "scrolled": false
   },
   "outputs": [],
   "source": [
    "os.chdir(runFolder)\n",
    "\n",
    "out = !sbatch slurmscript.sh   \n",
    "    \n",
    "print ('Execute the image load output: ', out ) \n"
   ]
  },
  {
   "cell_type": "code",
   "execution_count": null,
   "metadata": {
    "collapsed": false
   },
   "outputs": [],
   "source": [
    "!squeue -u $username\n",
    "\n",
    "!scontrol show job 1081527"
   ]
  },
  {
   "cell_type": "markdown",
   "metadata": {},
   "source": [
    "__Create a new folder in the base directory and upload the project (.psx and data zip) file in the current folder.__\n",
    "If the folder for the project does not exisit, the folder is created.\n",
    "If the folder already exists and contains a project file of the same name, the project file created in the previous step is NOT uploaded.\n",
    "#### <span style=\"color:red\">New folders in Box can take several minutes to 'register'</span>"
   ]
  },
  {
   "cell_type": "code",
   "execution_count": null,
   "metadata": {
    "collapsed": false,
    "scrolled": true
   },
   "outputs": [],
   "source": [
    "from boxsdk.exception import BoxAPIException\n",
    "\n",
    "newFolderId = find_folder_id(boxProjectFolder)\n",
    "print('folder id: ', newFolderId)\n",
    "\n",
    "if newFolderId == 0:\n",
    "    newFolder = client.folder(folder_id='0').create_subfolder(boxProjectFolder)\n",
    "    newFolderId = newFolder['id']\n",
    "    print (\"folder created\" )\n",
    "else: \n",
    "    print (\"folder exists\" )\n",
    "    \n",
    "print (\"folder id: \", newFolderId )\n",
    "\n",
    "update_project_file_in_box()"
   ]
  },
  {
   "cell_type": "markdown",
   "metadata": {},
   "source": [
    "#### <span style=\"color:red\">OFFLINE STEP:</span> User masks images in the project (psx) file locally using Photoscan on desktop."
   ]
  },
  {
   "cell_type": "markdown",
   "metadata": {},
   "source": [
    "# Build Dense Cloud\n",
    "\n",
    "Begin by retrieving the project file, by running the code box below."
   ]
  },
  {
   "cell_type": "code",
   "execution_count": null,
   "metadata": {
    "collapsed": false,
    "scrolled": true
   },
   "outputs": [],
   "source": [
    "retrieve_project_file()"
   ]
  },
  {
   "cell_type": "markdown",
   "metadata": {},
   "source": [
    "## Configuring and setting up job script\n",
    "\n",
    "Run the code box below, then select your depth filtering mode and dense point cloud quality from the drop-downs. \n",
    "\n",
    "Click the \"run code\" button again, then run the subsequent code boxes.\n",
    "\n",
    "-----\n",
    "Create the script for the second step: dense cloud build\n",
    "this cell created the script that will be executed by photoshop by writes the necessary commands into a text file.\n",
    "mod the text in the step2Template string below as required.\n",
    "\n",
    "Options for PhotoScan.FilterMode: Depth filtering mode in [NoFiltering, MildFiltering, ModerateFiltering, AggressiveFiltering]\n",
    "\n",
    "Options for PhotoScan.Quality: Dense point cloud quality in [UltraQuality, HighQuality, MediumQuality, LowQuality, LowestQuality]"
   ]
  },
  {
   "cell_type": "code",
   "execution_count": null,
   "metadata": {
    "collapsed": true
   },
   "outputs": [],
   "source": [
    "## DO SOME WIDGET STUFF HERE WITH SELECTION WIDGET, E.G.\n",
    "widgets.Select(\n",
    "    options=['Linux', 'Windows', 'OSX'],\n",
    "    value='OSX',\n",
    "    # rows=10,\n",
    "    description='OS:',\n",
    "    disabled=False\n",
    ")"
   ]
  },
  {
   "cell_type": "code",
   "execution_count": null,
   "metadata": {
    "collapsed": false,
    "scrolled": false
   },
   "outputs": [],
   "source": [
    "# Creates job script for building dense cloud\n",
    "import os, stat\n",
    "\n",
    "template = '#!/usr/bin/env python3 \\n\\\n",
    "import PhotoScan \\n\\\n",
    "import time \\n\\\n",
    "print( \"start time: \", time.time()) \\n\\\n",
    "doc = PhotoScan.app.document \\n\\\n",
    "doc.open(\\\"{}\\\") \\n\\\n",
    "chunk = doc.chunk \\n\\\n",
    "chunk.matchPhotos(accuracy=PhotoScan.HighAccuracy, preselection=PhotoScan.GenericPreselection) \\n\\\n",
    "chunk.alignCameras(adaptive_fitting=True) \\n\\\n",
    "chunk.buildDenseCloud(quality=PhotoScan.MediumQuality,  filter=PhotoScan.ModerateFiltering  ) \\n\\\n",
    "doc.save(\\\"{}\\\") \\n\\\n",
    "print( \"stop time: \", time.time()) \\n'\n",
    "\n",
    "output = template.format(singularitymountfolder + projectFile, singularitymountfolder + projectFile)\n",
    "\n",
    "with open(commandScript, 'w') as f:  \n",
    "    f.write(output)\n",
    "\n",
    "    \n",
    "#Set time limit for this batch run\n",
    "outputbatchscript = batchtemplate.format('01:30:00')\n",
    "with open(slurmScript, 'w') as f:  \n",
    "    f.write(outputbatchscript)\n",
    "    "
   ]
  },
  {
   "cell_type": "markdown",
   "metadata": {},
   "source": [
    "## Running job script\n",
    "Running the following code box will submit your job to the cluster. Your job ID will be printed below."
   ]
  },
  {
   "cell_type": "code",
   "execution_count": null,
   "metadata": {
    "collapsed": false,
    "scrolled": true
   },
   "outputs": [],
   "source": [
    "out = !sbatch slurmscript.sh   \n",
    "    \n",
    "print ('Execute the dense cloud build output: ', out ) \n",
    "jobId =  out[0].split()[3]\n",
    "print (jobId)"
   ]
  },
  {
   "cell_type": "markdown",
   "metadata": {},
   "source": [
    "## Checking on job status\n",
    "Run the following code box to check on the status of the dense cloud build. You can run it multiple times for long-running jobs to get new updates."
   ]
  },
  {
   "cell_type": "code",
   "execution_count": null,
   "metadata": {
    "code_folding": [],
    "collapsed": false
   },
   "outputs": [],
   "source": [
    "# print the users queue and the job status by id\n",
    "!squeue -u $username\n",
    "print('--------------------------------')\n",
    "!scontrol show job $jobId"
   ]
  },
  {
   "cell_type": "markdown",
   "metadata": {},
   "source": [
    "## What is this?"
   ]
  },
  {
   "cell_type": "code",
   "execution_count": null,
   "metadata": {
    "code_folding": [
     0
    ],
    "collapsed": false
   },
   "outputs": [],
   "source": [
    "# print the log file if necessary\n",
    "slurmlogfilename = 'slurm-' + jobId + '.out'\n",
    "with open(slurmlogfilename, 'r') as fin:\n",
    "    print(fin.read(), end=\"\")"
   ]
  },
  {
   "cell_type": "markdown",
   "metadata": {},
   "source": [
    "## Export results\n",
    "**What happens here??**"
   ]
  },
  {
   "cell_type": "code",
   "execution_count": null,
   "metadata": {
    "collapsed": true
   },
   "outputs": [],
   "source": [
    "template = '#!/usr/bin/env python3 \\n\\\n",
    "import PhotoScan \\n\\\n",
    "doc = PhotoScan.app.document \\n\\\n",
    "doc.open(\\\"{}\\\") \\n\\\n",
    "chunk = doc.chunk \\n\\\n",
    "chunk.exportPoints(path=\\\"{}\\\", format=PhotoScan.PointsFormat.PointsFormatOC3)  \\n' \n",
    "\n",
    "output = template.format(singularitymountfolder + projectFile,  singularitymountfolder + 'photoscandemo.oc3')\n",
    "\n",
    "with open(commandScript, 'w') as f:\n",
    "    f.write(output)"
   ]
  },
  {
   "cell_type": "code",
   "execution_count": null,
   "metadata": {
    "collapsed": false
   },
   "outputs": [],
   "source": [
    "out = !sbatch slurmscript.sh   \n",
    "        \n",
    "print (' Export the points  output: ', out ) \n",
    "jobId =  out[0].split()[3]\n",
    "print (jobId)"
   ]
  },
  {
   "cell_type": "markdown",
   "metadata": {},
   "source": [
    "## Move the updated project file back to Box\n",
    "After generating the dense cloud, this will be a large file.\n",
    "** Is there some sort of success message?**"
   ]
  },
  {
   "cell_type": "code",
   "execution_count": null,
   "metadata": {
    "collapsed": false,
    "scrolled": false
   },
   "outputs": [],
   "source": [
    "update_project_file_in_box()"
   ]
  },
  {
   "cell_type": "markdown",
   "metadata": {},
   "source": [
    "## Follow-up steps\n",
    "At this point, you may want to clean up the dense point cloud by removing stray points (e.g. for objects that have not been photographed in a lightbox, where there might be artifacts from the background, etc.) This should be done using the desktop version of Photoscan. \n",
    "\n",
    "Be sure to save the updated project file back to the same place in Box if you want to run the next processing steps through this notebook.\n",
    "\n",
    "**Stick in something about AEoD**"
   ]
  },
  {
   "cell_type": "markdown",
   "metadata": {},
   "source": [
    "# Build the mesh"
   ]
  },
  {
   "cell_type": "markdown",
   "metadata": {},
   "source": [
    "__Retrieve the project file (psx) from Box as it may have been updated.__"
   ]
  },
  {
   "cell_type": "code",
   "execution_count": null,
   "metadata": {
    "collapsed": false,
    "scrolled": false
   },
   "outputs": [],
   "source": [
    "retrieve_project_file()"
   ]
  },
  {
   "cell_type": "markdown",
   "metadata": {},
   "source": [
    "__build the mesh__\n",
    "\n",
    "Surface type in [Arbitrary, HeightField]\n",
    "\n",
    "Face count in [LowFaceCount, MediumFaceCount, HighFaceCount]\n",
    "\n",
    "Data source in [PointCloudData, DenseCloudData, ModelData, TiledModelData, ElevationData, OrthomosaicData]"
   ]
  },
  {
   "cell_type": "code",
   "execution_count": null,
   "metadata": {
    "collapsed": false,
    "scrolled": false
   },
   "outputs": [],
   "source": [
    "template = '#!/usr/bin/env python3 \\n\\\n",
    "import PhotoScan \\n\\\n",
    "import time \\n\\\n",
    "print( \"start time: \", time.time()) \\n\\\n",
    "doc = PhotoScan.app.document \\n\\\n",
    "doc.open(\\\"{}\\\") \\n\\\n",
    "chunk = doc.chunk \\n\\\n",
    "chunk.buildModel(surface=PhotoScan.Arbitrary, source=PhotoScan.DenseCloudData, face_count=PhotoScan.HighFaceCount ) \\n\\\n",
    "doc.save(\\\"{}\\\") \\n\\\n",
    "print( \"stop time: \", time.time()) \\n'\n",
    "\n",
    "output = template.format(singularitymountfolder + projectFile, singularitymountfolder + projectFile)\n",
    "\n",
    "with open(commandScript, 'w') as f:  \n",
    "    f.write(output)\n",
    "\n",
    "\n",
    "#set time limit for this batch run\n",
    "outputbatchscript = batchtemplate.format('00:30:00')\n",
    "with open(slurmScript, 'w') as f:  \n",
    "    f.write(outputbatchscript)\n",
    "    "
   ]
  },
  {
   "cell_type": "markdown",
   "metadata": {},
   "source": [
    "#### Execute the mesh build"
   ]
  },
  {
   "cell_type": "code",
   "execution_count": null,
   "metadata": {
    "collapsed": false,
    "scrolled": false
   },
   "outputs": [],
   "source": [
    "out = !sbatch slurmscript.sh   \n",
    "    \n",
    "print ('Execute the mesh build output: ', out ) \n",
    "jobId =  out[0].split()[3]\n",
    "print (jobId) "
   ]
  },
  {
   "cell_type": "code",
   "execution_count": null,
   "metadata": {
    "collapsed": false
   },
   "outputs": [],
   "source": [
    "# print the users queue and the job status by id\n",
    "!squeue -u $username\n",
    "print('--------------------------------')\n",
    "!scontrol show job $jobId"
   ]
  },
  {
   "cell_type": "code",
   "execution_count": null,
   "metadata": {
    "collapsed": false
   },
   "outputs": [],
   "source": [
    "# print the log file if necessary\n",
    "slurmlogfilename = 'slurm-' + jobId + '.out'\n",
    "with open(slurmlogfilename, 'r') as fin:\n",
    "    print(fin.read(), end=\"\")"
   ]
  },
  {
   "cell_type": "markdown",
   "metadata": {},
   "source": [
    "#### Move the resulting psx back to Box. "
   ]
  },
  {
   "cell_type": "code",
   "execution_count": null,
   "metadata": {
    "collapsed": false,
    "scrolled": false
   },
   "outputs": [],
   "source": [
    "update_project_file_in_box()"
   ]
  },
  {
   "cell_type": "markdown",
   "metadata": {},
   "source": [
    "#### <span style=\"color:red\">OFFLINE STEP:</span> User adds marker points in the project (psx) file locally using Photoscan on desktop."
   ]
  },
  {
   "cell_type": "markdown",
   "metadata": {},
   "source": [
    "### Build the texture and the orthomosaic"
   ]
  },
  {
   "cell_type": "markdown",
   "metadata": {},
   "source": [
    "__Retrieve the project file (psx) from Box as it may have been updated.__"
   ]
  },
  {
   "cell_type": "code",
   "execution_count": null,
   "metadata": {
    "collapsed": false,
    "scrolled": false
   },
   "outputs": [],
   "source": [
    "retrieve_project_file()"
   ]
  },
  {
   "cell_type": "markdown",
   "metadata": {},
   "source": [
    "__build the texture and the orthomosaic__\n",
    "\n",
    "\n",
    "Data source in [PointCloudData, DenseCloudData, ModelData, TiledModelData, ElevationData, OrthomosaicData]\n",
    "\n",
    "To specify coordinate system add: \n",
    "chunk.crs = PhotoScan.CoordinateSystem(\"????\")  \\n\\"
   ]
  },
  {
   "cell_type": "code",
   "execution_count": null,
   "metadata": {
    "collapsed": false,
    "scrolled": false
   },
   "outputs": [],
   "source": [
    "template = '#!/usr/bin/env python3 \\n\\\n",
    "import PhotoScan \\n\\\n",
    "import time \\n\\\n",
    "print( \"start time: \", time.time()) \\n\\\n",
    "doc = PhotoScan.app.document \\n\\\n",
    "doc.open(\\\"{}\\\") \\n\\\n",
    "chunk = doc.chunk \\n\\\n",
    "chunk.buildUV(mapping=PhotoScan.GenericMapping) \\n\\\n",
    "chunk.buildTexture( color_correction=True ) \\n\\\n",
    "doc.save(\\\"{}\\\") \\n\\\n",
    "doc.open(\\\"{}\\\") \\n\\\n",
    "chunk = doc.chunk \\n\\\n",
    "chunk.buildOrthomosaic( surface=PhotoScan.DataSource.ModelData ) \\n\\\n",
    "doc.save(\\\"{}\\\") \\n\\\n",
    "print( \"stop time: \", time.time()) \\n'\n",
    "\n",
    "output = template.format(singularitymountfolder + projectFile, singularitymountfolder + projectFile, singularitymountfolder + projectFile, singularitymountfolder + projectFile)\n",
    "\n",
    "with open(commandScript, 'w') as f:  \n",
    "    f.write(output)\n"
   ]
  },
  {
   "cell_type": "markdown",
   "metadata": {},
   "source": [
    "#### Execute the texture and orthomosaic build"
   ]
  },
  {
   "cell_type": "code",
   "execution_count": null,
   "metadata": {
    "collapsed": false,
    "scrolled": false
   },
   "outputs": [],
   "source": [
    "out = !sbatch slurmscript.sh   \n",
    "    \n",
    "print ('  texture and orthomosaic build output: ', out ) \n",
    "jobId =  out[0].split()[3]\n",
    "print (jobId)    "
   ]
  },
  {
   "cell_type": "markdown",
   "metadata": {},
   "source": [
    "#### Move the resulting psx back to Box. "
   ]
  },
  {
   "cell_type": "code",
   "execution_count": null,
   "metadata": {
    "collapsed": false,
    "scrolled": false
   },
   "outputs": [],
   "source": [
    "update_project_file_in_box()"
   ]
  },
  {
   "cell_type": "markdown",
   "metadata": {},
   "source": [
    "### Export results to Box"
   ]
  },
  {
   "cell_type": "markdown",
   "metadata": {},
   "source": [
    "#### Export the orthomosaic format"
   ]
  },
  {
   "cell_type": "code",
   "execution_count": null,
   "metadata": {
    "collapsed": false,
    "scrolled": false
   },
   "outputs": [],
   "source": [
    "template = '#!/usr/bin/env python3 \\n\\\n",
    "import PhotoScan \\n\\\n",
    "doc = PhotoScan.app.document \\n\\\n",
    "doc.open(\\\"{}\\\") \\n\\\n",
    "chunk = doc.chunk \\n\\\n",
    "chunk.exportOrthomosaic(path=\\\"{}\\\", image_format=PhotoScan.ImageFormat.ImageFormatTIFF,)  \\n' \n",
    "\n",
    "output = template.format(singularitymountfolder + projectFile,  singularitymountfolder + orthoFile)\n",
    "\n",
    "with open(commandScript, 'w') as f:\n",
    "    f.write(output)\n"
   ]
  },
  {
   "cell_type": "code",
   "execution_count": null,
   "metadata": {
    "collapsed": false,
    "scrolled": false
   },
   "outputs": [],
   "source": [
    "out = !sbatch slurmscript.sh   \n",
    "        \n",
    "print (' Export the orthomosaic format output: ', out ) \n",
    "jobId =  out[0].split()[3]\n",
    "print (jobId)  "
   ]
  },
  {
   "cell_type": "markdown",
   "metadata": {},
   "source": [
    "#### Move the resulting Orthomosaic file to Box. "
   ]
  },
  {
   "cell_type": "code",
   "execution_count": null,
   "metadata": {
    "collapsed": false,
    "scrolled": false
   },
   "outputs": [],
   "source": [
    "newFolderId = find_folder_id(boxProjectFolder)\n",
    "upload_folder = client.folder(folder_id=newFolderId).get()\n",
    "orthoUploaded = upload_folder.upload( runFolder + orthoFile)  \n",
    "print (\"orthomosaic file id: \", orthoUploaded['id'] )"
   ]
  },
  {
   "cell_type": "markdown",
   "metadata": {},
   "source": [
    "#### Generate OBJ format and load to Box\n",
    "then download and view at: http://3dviewer.net/"
   ]
  },
  {
   "cell_type": "code",
   "execution_count": null,
   "metadata": {
    "collapsed": true,
    "scrolled": false
   },
   "outputs": [],
   "source": [
    "template = '#!/usr/bin/env python3 \\n\\\n",
    "import PhotoScan \\n\\\n",
    "doc = PhotoScan.app.document \\n\\\n",
    "doc.open(\\\"{}\\\") \\n\\\n",
    "chunk = doc.chunk \\n\\\n",
    "chunk.exportModel(path=\\\"{}\\\", format=PhotoScan.ModelFormat.ModelFormatOBJ)  \\n' \n",
    "\n",
    "output = template.format(singularitymountfolder + projectFile, singularitymountfolder + objFile)\n",
    "\n",
    "with open(commandScript, 'w') as f:\n",
    "    f.write(output)\n"
   ]
  },
  {
   "cell_type": "code",
   "execution_count": null,
   "metadata": {
    "collapsed": false,
    "scrolled": false
   },
   "outputs": [],
   "source": [
    "out = !sbatch slurmscript.sh   \n",
    "        \n",
    "print (' Generate OBJ format output: ', out ) \n",
    "jobId =  out[0].split()[3]\n",
    "print (jobId)         \n"
   ]
  },
  {
   "cell_type": "markdown",
   "metadata": {},
   "source": [
    "#### Move the resulting OBJ file and JPEG file to Box."
   ]
  },
  {
   "cell_type": "code",
   "execution_count": null,
   "metadata": {
    "collapsed": false,
    "scrolled": false
   },
   "outputs": [],
   "source": [
    "newFolderId = find_folder_id(boxProjectFolder)\n",
    "upload_folder = client.folder(folder_id=newFolderId).get()\n",
    "objUploaded = upload_folder.upload(runFolder + objFile)  \n",
    "print (\"obj file id: \", objUploaded['id'] )\n",
    "jpgUploaded = upload_folder.upload(runFolder + jpgFile)  \n",
    "print (\"jpeg file id: \", jpgUploaded['id'] )"
   ]
  },
  {
   "cell_type": "markdown",
   "metadata": {},
   "source": [
    "## License\n",
    "This software is available under the terms of the Educational Community License, Version 2.0 (ECL 2.0). This software is Copyright 2016 The Regents of the University of California, Berkeley (\"Berkeley\").\n",
    "\n",
    "The text of the ECL license is reproduced below.\n",
    "\n",
    "Educational Community License, Version 2.0\n",
    "*************************************\n",
    "Copyright 2016 The Regents of the University of California, Berkeley (\"Berkeley\")\n",
    "\n",
    "Educational Community License, Version 2.0, April 2007\n",
    "\n",
    "The Educational Community License version 2.0 (\"ECL\") consists of the\n",
    "Apache 2.0 license, modified to change the scope of the patent grant in\n",
    "section 3 to be specific to the needs of the education communities using\n",
    "this license. The original Apache 2.0 license can be found at:[http://www.apache.org/licenses/LICENSE-2.0]"
   ]
  }
 ],
 "metadata": {
  "celltoolbar": "Edit Metadata",
  "kernelspec": {
   "display_name": "Python 3",
   "language": "python",
   "name": "python3"
  },
  "language_info": {
   "codemirror_mode": {
    "name": "ipython",
    "version": 3
   },
   "file_extension": ".py",
   "mimetype": "text/x-python",
   "name": "python",
   "nbconvert_exporter": "python",
   "pygments_lexer": "ipython3",
   "version": "3.5.1"
  }
 },
 "nbformat": 4,
 "nbformat_minor": 0
}
