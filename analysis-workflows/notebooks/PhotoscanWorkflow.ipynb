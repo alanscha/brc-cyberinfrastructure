{
 "cells": [
  {
   "cell_type": "markdown",
   "metadata": {
    "collapsed": true
   },
   "source": [
    "# Overview\n",
    "This Jupyter notebook helps you create a 3D model using the Photoscan photogrammetry software, leveraging the computing power of a high-performance compute cluster. It assumes that your photographs are stored in a folder on [Box](http://berkeley.box.com), and the results of each step are saved back to Box.\n",
    "\n",
    "If you want to manually edit the results of any step in the process, you can sync or download the project file and photos from Box to any computer with Photoscan installed (version 1.5 or higher), make your edits, and move the changes back to Box before proceeding with the next computationally-intensive processing step."
   ]
  },
  {
   "cell_type": "markdown",
   "metadata": {
    "collapsed": true
   },
   "source": [
    "### Software versions\n",
    "This notebook has been tested using:\n",
    "* python 3.5 kernel\n",
    "* boxsdk (2.0.0a2)\n",
    "* Photoscan 1.3 or later"
   ]
  },
  {
   "cell_type": "markdown",
   "metadata": {},
   "source": [
    "## Workflow at a glance\n",
    "The photogrammetry workflow laid out here involves the following steps. Each listed step has its own section in the notebook. \n",
    "1. **Overview**: the overview that you're currently reading\n",
    "2. **Source Files**: defines where various source files are located.\n",
    "3. **Box Setup**: connects this notebook to Box so it can access the photos you've stored there. \n",
    "4. **Project Setup**: pulls your images into the computing cluster, and creates a new Photoscan (psx) file if needed.\n",
    "5. **Align Photos**: arranges the photos you've taken, relative to one another. 1% to 8% of the expected processing time.\n",
    "6. **Build Dense Cloud**: creates the a point cloud from the photographs. The most computationally-intensive step, which can take 50%-96% of the total model generation time, depending on your settings. This step is run using GPU nodes on the cluster, which improve performance.\n",
    "7. **Build Mesh**: connecting the point cloud together to build a mesh takes around 30% of the processing time on lower quality settings, or as little as 2% on higher quality settings.\n",
    "8. **Build Texture**: building the texture takes between 8% (medium quality) and 1% (ultra high quality) of the processing time.\n",
    "9. **Export Results**: exporting the photomosaic and OBJ files, and moving them to Box."
   ]
  },
  {
   "cell_type": "markdown",
   "metadata": {
    "collapsed": true
   },
   "source": [
    "# Project Setup\n",
    "This step connects the notebook to Box. Before you get started, make sure you have a folder in Box for your project. That folder should have a folder inside it called \"images\" that has all the photos you want to use for your 3D model. This workflow will also create a new folder, \"files\", that contains the project files-- you don't have to set that up in advance.\n",
    "\n",
    "Click the code box below, and then click the \"run cell\" button in the toolbar. This will run the code and move to the next box.\n",
    "\n",
    "After you run the next code box, your user name on the cluster should appear at the bottom."
   ]
  },
  {
   "cell_type": "code",
   "execution_count": 78,
   "metadata": {
    "code_folding": [
     1
    ],
    "collapsed": false,
    "scrolled": true
   },
   "outputs": [
    {
     "name": "stdout",
     "output_type": "stream",
     "text": [
      "user name:  quinnd\n"
     ]
    }
   ],
   "source": [
    "# widget imports\n",
    "from __future__ import print_function\n",
    "from ipywidgets import interact, interactive, fixed, VBox\n",
    "import ipywidgets as widgets\n",
    "from IPython.display import display\n",
    "\n",
    "usernamearray = %sx whoami\n",
    "username = usernamearray[0]\n",
    "print('user name: ', username)\n",
    "\n",
    "def f(x):\n",
    "    return x\n",
    "\n",
    "def pn(projectName):\n",
    "    return projectName\n",
    "\n",
    "def smf(mountFolder):\n",
    "    return mountFolder\n",
    "\n",
    "def bpf(boxFolder):\n",
    "    return boxFolder\n",
    "\n",
    "def scp(containerPath):\n",
    "    return containerPath\n",
    "\n",
    "def idd(imageDataPath):\n",
    "    return imageDataPath\n",
    "\n",
    "def hfp(homePath):\n",
    "    return homePath\n",
    "\n",
    "def rf(runPath):\n",
    "    return runPath\n",
    "\n",
    "\n",
    "#Define widgets and defaults\n",
    "pntextbox=widgets.Text(value='projectname', description='Project Name')\n",
    "#singularitymountfoldertextbox =widgets.Text(value='/scratch/', description='Singularity Mount Folder') \n",
    "singularitymountfoldertextbox =widgets.Text(value='/scratch/') \n",
    "boxfoldertextbox =widgets.Text(value='myBoxFolderName', description='Box Project Folder') \n",
    "scptextbox=widgets.Text(value='/global/scratch/groups/dh/photoscan13.img', description='Path to Container')\n",
    "#iddtextbox=widgets.Text(value='/global/scratch/' + username + '/imageData', description='Image Data')\n",
    "hometextbox=widgets.Text(value='/global/home/users/' + username + '/', description='Home Folder')\n",
    "runtextbox=widgets.Text(value='/global/scratch/' + username + '/'  + pntextbox.value + '/', description='Run Folder')"
   ]
  },
  {
   "cell_type": "markdown",
   "metadata": {},
   "source": [
    "## Project set up\n",
    "After you run the code box below, a set of text boxes will appear. Click in the text boxes and enter the following values:\n",
    "* **Project name**: The name of your project. Will be used for some of the folders on the cluster that will be created to process the project.\n",
    "* **Mount folder**: Where your photos will be uploaded for processing. Unless you know specifically this should be somewhere else, leave this as /scratch/\n",
    "* **Box project folder**: The name of the folder on Box that has your photos in it.\n",
    "* **Path to container**: The location on the cluster where the container with the Photoscan software is installed. At Berkeley, this container is at /global/scratch/groups/dh/photoscan13.img.\n",
    "* **Home folder**: Your home folder on the cluster. \n",
    "* **Run folder**: The folder where the various job scripts to trigger the processing steps will be stored. Default: /global/scratch/your-user-name/your-project-name/\n",
    "\n",
    "When you're done filling in the text boxes, hit the \"run cell\" button again.\n"
   ]
  },
  {
   "cell_type": "code",
   "execution_count": 116,
   "metadata": {
    "code_folding": [
     0
    ],
    "collapsed": false,
    "scrolled": true
   },
   "outputs": [
    {
     "data": {
      "text/plain": [
       "'/global/scratch/quinnd/monument/'"
      ]
     },
     "metadata": {},
     "output_type": "display_data"
    },
    {
     "data": {
      "text/plain": [
       "<function __main__.rf>"
      ]
     },
     "execution_count": 116,
     "metadata": {},
     "output_type": "execute_result"
    }
   ],
   "source": [
    "# Enter the projectname\n",
    "interact(pn, projectName=pntextbox)\n",
    "\n",
    "# Enter the Singularity Mount Folder here, this is defined inside the Singularity container:\n",
    "interact(smf, mountFolder=singularitymountfoldertextbox)\n",
    "\n",
    "# Enter the Box Project folder\n",
    "interact(bpf, boxFolder=boxfoldertextbox)\n",
    "\n",
    "# Enter the path to the Singularity container hosting Photoscan\n",
    "interact(scp, containerPath=scptextbox)\n",
    "\n",
    "# Enter the path to where the iamge files from Box should be place on the scrath drive\n",
    "#interact(idd, imageDataPath=iddtextbox)\n",
    "\n",
    "# Enter the path to the user home folder where Box oauth information is stored in files.\n",
    "interact(hfp, homePath=hometextbox)\n",
    "\n",
    "# Enter the path to the run home folder where processing will be conducted and intermediate files created.\n",
    "interact(rf, runPath=runtextbox)"
   ]
  },
  {
   "cell_type": "markdown",
   "metadata": {},
   "source": [
    "## Creating project folders\n",
    "The code box below creates the project folders (e.g. run folder, scratch images directory) on the cluster if they don't already exist."
   ]
  },
  {
   "cell_type": "code",
   "execution_count": 105,
   "metadata": {
    "code_folding": [],
    "collapsed": false,
    "scrolled": true
   },
   "outputs": [
    {
     "name": "stdout",
     "output_type": "stream",
     "text": [
      "user name:  quinnd\n",
      "project name:  monument\n",
      "run folder:  /global/scratch/quinnd/monument/\n",
      "scratchImageDataDirectory:  /global/scratch/quinnd/monument/images/\n"
     ]
    }
   ],
   "source": [
    "projectname =  pntextbox.value\n",
    "\n",
    "# Defines all paths and filenames\n",
    "import os\n",
    "\n",
    "usernamearray = %sx whoami\n",
    "username = usernamearray[0]\n",
    "print('user name: ', username)\n",
    "print('project name: ', projectname)\n",
    "\n",
    "runFolder = os.path.join(runtextbox.value, '')\n",
    "homeFolder =  os.path.join(hometextbox.value, '')\n",
    "print('run folder: ', runFolder)\n",
    "\n",
    "# Creates the run folder if it does not exist\n",
    "if ( not os.path.isdir(runFolder)):\n",
    "    print('run folder does not exist, creating.')\n",
    "    os.mkdir(runFolder)\n",
    "\n",
    "singularitymountfolder = os.path.join(singularitymountfoldertextbox.value, '')\n",
    "\n",
    "boxProjectFolder = boxfoldertextbox.value\n",
    "projectFile = '/' + projectname + '.psx'\n",
    "datazipFile = '/' + projectname + '.files.zip'\n",
    "dataFolder = '/' + projectname + '.files'\n",
    "\n",
    "projectfileid = ''\n",
    "jpgFile = projectname + '.jpg'\n",
    "\n",
    "scratchImageDataDirectory = runFolder + 'images/'\n",
    "print('scratchImageDataDirectory: ', scratchImageDataDirectory)\n",
    "# Creates the image folder if it does not exist\n",
    "if ( not os.path.isdir(scratchImageDataDirectory)):\n",
    "    print('images folder does not exist, creating.')\n",
    "    os.mkdir(scratchImageDataDirectory)\n",
    "\n",
    "slurmScript = runFolder + 'slurmscript.sh'\n",
    "execScript = runFolder + 'execscript.sh'\n",
    "scratchExecScript = singularitymountfolder + 'execscript.sh'\n",
    "commandScript = runFolder + 'commandscript.sh'\n",
    "\n",
    "singularityContainerPath = scptextbox.value\n",
    "#/global/scratch/groups/dh/photoscan13.img"
   ]
  },
  {
   "cell_type": "markdown",
   "metadata": {},
   "source": [
    "## Box setup\n",
    "\n",
    "To connect Box with this notebook, you need to go through some one-time configuration steps the first time you use this notebook for any project. Please run the *BoxAuthenticationBootstrap.ipynb* notebook, then return to the code cells below to finish setup. After you finish the last cell, you should see *Folder name:  All Files*.\n",
    "\n",
    "If you run this notebook again for another project, you won't have to run *BoxAuthenticationBootstrap.ipynb* again, and can just continue to the code below."
   ]
  },
  {
   "cell_type": "code",
   "execution_count": 106,
   "metadata": {
    "collapsed": true,
    "scrolled": false
   },
   "outputs": [],
   "source": [
    "def store_tokens(access_token, refresh_token):\n",
    "    \n",
    "    \"\"\"Callback for storing refresh tokens. (For now we ignore access tokens).\"\"\"\n",
    "    with open(homeFolder + 'apptoken.cfg', 'w') as f:\n",
    "     f.write(refresh_token.strip())"
   ]
  },
  {
   "cell_type": "code",
   "execution_count": 107,
   "metadata": {
    "collapsed": false,
    "scrolled": false
   },
   "outputs": [],
   "source": [
    "import os\n",
    "\n",
    "CLIENT_ID = None\n",
    "CLIENT_SECRET = None\n",
    "REDIRECT_URI = None\n",
    "# Read app info from text file\n",
    "with open(homeFolder + 'app.cfg', 'r') as app_cfg:\n",
    "    CLIENT_ID = app_cfg.readline()\n",
    "    CLIENT_SECRET = app_cfg.readline()\n",
    "    REDIRECT_URI = app_cfg.readline()\n"
   ]
  },
  {
   "cell_type": "code",
   "execution_count": 108,
   "metadata": {
    "collapsed": true,
    "scrolled": false
   },
   "outputs": [],
   "source": [
    "REFRESH_TOKEN = None\n",
    "\n",
    "# Read app info from text file\n",
    "with open(homeFolder + 'apptoken.cfg', 'r') as apptoken_cfg:\n",
    "    REFRESH_TOKEN = apptoken_cfg.readline()"
   ]
  },
  {
   "cell_type": "code",
   "execution_count": 109,
   "metadata": {
    "collapsed": false,
    "scrolled": false
   },
   "outputs": [
    {
     "name": "stdout",
     "output_type": "stream",
     "text": [
      "Folder name:  All Files\n"
     ]
    }
   ],
   "source": [
    "from boxsdk import OAuth2\n",
    "from boxsdk import Client\n",
    "\n",
    "# Do OAuth2 authorization.\n",
    "oauth = OAuth2(\n",
    "    client_id=CLIENT_ID.strip(),\n",
    "    client_secret=CLIENT_SECRET.strip(),\n",
    "    refresh_token=REFRESH_TOKEN.strip(),\n",
    "    store_tokens=store_tokens\n",
    ")\n",
    "\n",
    "client = Client(oauth)\n",
    "\n",
    "root_folder = client.folder(folder_id='0').get()\n",
    "print (\"Folder name: \", root_folder['name'] )\n",
    "\n",
    "items = client.folder(folder_id='0').get_items(limit=100, offset=0)\n",
    "#print (\"items: \", items )\n",
    "\n"
   ]
  },
  {
   "cell_type": "markdown",
   "metadata": {},
   "source": [
    "## Finding folder on box\n",
    "The function below looks for your project folder on Box."
   ]
  },
  {
   "cell_type": "code",
   "execution_count": 110,
   "metadata": {
    "collapsed": false,
    "scrolled": false
   },
   "outputs": [],
   "source": [
    "def find_folder_id(folder_name):\n",
    "    print ('find_folder_id folder_name: ', folder_name)\n",
    "    folderlist = client.search(query=folder_name, result_type='folder', limit=100, offset=0)\n",
    "    \n",
    "    print ('find_folder_id folderlist: ', folderlist)\n",
    "    \n",
    "    if len(folderlist) == 0:\n",
    "        print('folder not found: ', folder_name)\n",
    "        return 0\n",
    "    else:\n",
    "        for fldr in folderlist:\n",
    "            if fldr['name'] == folder_name :\n",
    "                return fldr['id']\n",
    "            \n",
    "        return 0"
   ]
  },
  {
   "cell_type": "markdown",
   "metadata": {},
   "source": [
    "## Create command scripts template\n",
    "This code writes out a execute file that includes the license install as the first step each time to enable any HPC node. This is a temporary workaround until release 1.3 is installed on Savio and a license server is configured."
   ]
  },
  {
   "cell_type": "code",
   "execution_count": 111,
   "metadata": {
    "collapsed": false,
    "scrolled": false
   },
   "outputs": [],
   "source": [
    "# script for singularity to run\n",
    "import os, stat\n",
    "\n",
    "execScriptTemplate = '/opt/photoscan-pro/photoscan.sh --activate TBPD4-ACEN7-ZOM2L-TY3L8-PEP3G\\n\\\n",
    "/opt/photoscan-pro/photoscan.sh -r  /scratch/commandscript.sh \\n'\n",
    "\n",
    "\n",
    "with open(execScript, 'w') as f:\n",
    "    f.write(execScriptTemplate)\n",
    "    \n",
    "os.chmod(execScript,  0o755)    \n"
   ]
  },
  {
   "cell_type": "code",
   "execution_count": 112,
   "metadata": {
    "collapsed": false
   },
   "outputs": [],
   "source": [
    "# batch script\n",
    "batchtemplate = '#!/bin/bash  \\n\\\n",
    "# Job name: \\n\\\n",
    "#SBATCH --job-name=' + projectname + '\\n\\\n",
    "# \\n\\\n",
    "# Account: \\n\\\n",
    "#SBATCH --account=ac_scsguest \\n\\\n",
    "# \\n\\\n",
    "# Partition: \\n\\\n",
    "#SBATCH --partition=savio \\n\\\n",
    "# \\n\\\n",
    "# Wall clock limit: \\n\\\n",
    "#SBATCH --time={} \\n\\\n",
    "# \\n\\\n",
    "## Command(s) to run: \\n\\\n",
    "singularity exec --writable -B ' + runFolder + ':' + singularitymountfolder + '  ' + singularityContainerPath + '  ' + scratchExecScript + '\\n' \n",
    "  \n",
    "    "
   ]
  },
  {
   "cell_type": "markdown",
   "metadata": {},
   "source": [
    "## Function for updating project file\n",
    "Multiple times in the workflow, the project folder needs to be updated on Box in order to enable making edits through the desktop version of Photoscan. This sets up a utility funcation that pushes the project \n",
    "file into the working directory on Savio. It assumes that the project folder will only contain one project file and one zipped archive."
   ]
  },
  {
   "cell_type": "code",
   "execution_count": 113,
   "metadata": {
    "collapsed": false,
    "scrolled": false
   },
   "outputs": [],
   "source": [
    "import os\n",
    "import shutil\n",
    "\n",
    "def update_project_file_in_box():\n",
    "\n",
    "    newFolderId = find_folder_id(boxProjectFolder)\n",
    "    print (\"Box folder id: \", newFolderId  )\n",
    "    \n",
    "    # create a zipped archive of the data folder\n",
    "    shutil.make_archive(runFolder + dataFolder, 'zip', runFolder + dataFolder)\n",
    "    \n",
    "    projectfilelist = client.search(query=projectFile, result_type='file', limit=10, \n",
    "                                offset=0, ancestor_folders=[client.folder(folder_id=newFolderId)],\n",
    "                                file_extensions=['psx'] )  \n",
    "    \n",
    "    print (\"project file list: \", projectfilelist  )\n",
    "    \n",
    "    # if project file is not yet in folder, upload both the project file and the data zip file\n",
    "    if len(projectfilelist) == 0 or len(projectfilelist) > 1: \n",
    "        print (\"project file not found. \" )\n",
    "        upload_folder = client.folder(folder_id=newFolderId).get()\n",
    "        projectpsx = upload_folder.upload(runFolder + projectFile)  \n",
    "        print (\"project file id: \", projectpsx['id'] )\n",
    "        projectzip = upload_folder.upload(runFolder + datazipFile)  \n",
    "        print (\"data zip file id: \", projectzip['id'] )\n",
    "        return\n",
    "    else:\n",
    "        datazipfilelist = client.search(query=datazipFile, result_type='file', limit=10, \n",
    "                                offset=0, ancestor_folders=[client.folder(folder_id=newFolderId)])\n",
    "                                #file_extensions=['zip'] )  \n",
    "        print (\"datazip file list: \", datazipfilelist  )\n",
    "        \n",
    "        projectfileid = projectfilelist[0]['id']\n",
    "        print (\"project file id: \", projectfileid )\n",
    "        datazipfileid = datazipfilelist[0]['id']\n",
    "        print (\"data zip file list: \", datazipfileid  )\n",
    "    \n",
    "        update_file = client.file(file_id=projectfileid).get()\n",
    "        update_zip_file = client.file(file_id=datazipfileid).get()\n",
    "\n",
    "        # upload a new version of the project file\n",
    "        print ('begin project file update.' )\n",
    "        psxfile = update_file.update_contents(runFolder + projectFile)  \n",
    "        zipfile = update_zip_file.update_contents(runFolder + datazipFile)\n",
    "        print ('update psx result: ', psxfile ,'   update zip result: ', zipfile )"
   ]
  },
  {
   "cell_type": "markdown",
   "metadata": {},
   "source": [
    "## Fetching images from Box\n",
    "The code below retrieves the images from your project directory on Box, and puts them in the project folder on the cluster that you specified above.\n",
    "\n",
    "When you run it, it will check for the number of files in the folder on Box, and list each of them as it downloads. Please wait until you see *Download complete* before moving to the next step -- this can take some time if you have a lot of images, or large images."
   ]
  },
  {
   "cell_type": "code",
   "execution_count": 114,
   "metadata": {
    "collapsed": false,
    "scrolled": false
   },
   "outputs": [
    {
     "name": "stdout",
     "output_type": "stream",
     "text": [
      "retrieving images from folder:  monument\n",
      "downloading images to directory:  /global/scratch/quinnd/monument/images/\n",
      "targetfolderId:  27697792189\n",
      "number of files in target folder:  38\n",
      "downloading:  IMG_3023.JPG\n",
      "downloading:  IMG_3024.JPG\n",
      "downloading:  IMG_3025.JPG\n",
      "downloading:  IMG_3026.JPG\n",
      "downloading:  IMG_3027.JPG\n",
      "downloading:  IMG_3028.JPG\n",
      "downloading:  IMG_3029.JPG\n",
      "downloading:  IMG_3030.JPG\n",
      "downloading:  IMG_3031.JPG\n",
      "downloading:  IMG_3032.JPG\n",
      "downloading:  IMG_3033.JPG\n",
      "downloading:  IMG_3034.JPG\n",
      "downloading:  IMG_3035.JPG\n",
      "downloading:  IMG_3036.JPG\n",
      "downloading:  IMG_3037.JPG\n",
      "downloading:  IMG_3038.JPG\n",
      "downloading:  IMG_3039.JPG\n",
      "downloading:  IMG_3040.JPG\n",
      "downloading:  IMG_3041.JPG\n",
      "downloading:  IMG_3042.JPG\n",
      "downloading:  IMG_3043.JPG\n",
      "downloading:  IMG_3044.JPG\n",
      "downloading:  IMG_3045.JPG\n",
      "downloading:  IMG_3046.JPG\n",
      "downloading:  IMG_3047.JPG\n",
      "downloading:  IMG_3048.JPG\n",
      "downloading:  IMG_3049.JPG\n",
      "downloading:  IMG_3050.JPG\n",
      "downloading:  IMG_3051.JPG\n",
      "downloading:  IMG_3052.JPG\n",
      "downloading:  IMG_3053.JPG\n",
      "downloading:  IMG_3054.JPG\n",
      "Download complete\n"
     ]
    }
   ],
   "source": [
    "import os\n",
    "import shutil \n",
    "\n",
    "\n",
    "os.chdir(scratchImageDataDirectory)\n",
    "print ('retrieving images from folder: ', boxProjectFolder)\n",
    "print ('downloading images to directory: ', scratchImageDataDirectory)\n",
    "\n",
    "# test folder contents\n",
    "items = client.folder(folder_id='0').get_items(limit=20, offset=0)\n",
    "if type(items) is list:\n",
    "    #print ('number of files in top folder: ', len(items) )\n",
    "    \n",
    "    targetfolderId = ''\n",
    "    for item in items:\n",
    "        if item['type'] == 'folder':\n",
    "            #print('folder name: ', item['name'])\n",
    "            if item['name'] == boxProjectFolder:\n",
    "                targetfolderId = item['id']\n",
    "                print('targetfolderId: ', targetfolderId)\n",
    "        \n",
    "    if targetfolderId is not None:\n",
    "        tgtitems = client.folder(folder_id=targetfolderId).get_items(limit=200, offset=0)\n",
    "        if type(tgtitems) is list:\n",
    "            print ('number of files in target folder: ', len(tgtitems) ) \n",
    "        \n",
    "        # download all image files\n",
    "        for tgtitem in tgtitems:\n",
    "            if  not tgtitem['type'] == 'folder' and tgtitem['name'].endswith('.JPG'):\n",
    "                print('downloading: ', tgtitem['name'])\n",
    "                imagecontent = client.file(file_id=tgtitem['id']).content()\n",
    "                newfile = open(scratchImageDataDirectory + tgtitem['name'], 'wb')\n",
    "                newfile.write(imagecontent)\n",
    "                newfile.close()\n",
    "        print ('Download complete')"
   ]
  },
  {
   "cell_type": "markdown",
   "metadata": {},
   "source": [
    "## Function for retrieving project file\n",
    "This code sets up a function to bring an updated project file back from Box, e.g. after you've made changes using the desktop version of Photoscan, and you want to run a subsequent processing step on a cluster."
   ]
  },
  {
   "cell_type": "code",
   "execution_count": 115,
   "metadata": {
    "collapsed": false,
    "scrolled": false
   },
   "outputs": [],
   "source": [
    "\n",
    "import os\n",
    "import shutil \n",
    "def retrieve_project_file():\n",
    "    newFolderId = find_folder_id(boxProjectFolder)\n",
    "    tgtitems = client.folder(folder_id=newFolderId).get_items(limit=1000, offset=0)\n",
    "\n",
    "    # download the project file\n",
    "    for tgtitem in tgtitems:\n",
    "        if  not tgtitem['type'] == 'folder' and tgtitem['name'].endswith('.psx'):\n",
    "            print('downloading: ', tgtitem['name'])\n",
    "            imagecontent = client.file(file_id=tgtitem['id']).content()\n",
    "            newfile = open(runFolder + tgtitem['name'], 'wb')\n",
    "            newfile.write(imagecontent)\n",
    "            newfile.close()\n",
    "            print('project file download complete.')\n",
    "            \n",
    "        if  not tgtitem['type'] == 'folder' and tgtitem['name'].endswith('.zip'):\n",
    "            \n",
    "            # delete the old folder\n",
    "            !rm -rf $runFolder$dataFolder\n",
    "            \n",
    "            print('downloading: ', tgtitem['name'])\n",
    "            imagecontent = client.file(file_id=tgtitem['id']).content()\n",
    "            newfile = open(runFolder + tgtitem['name'], 'wb')\n",
    "            newfile.write(imagecontent)\n",
    "            newfile.close()\n",
    "            \n",
    "            shutil.unpack_archive(runFolder + datazipFile, runFolder + dataFolder ,'zip')\n",
    "            \n",
    "            print('data zip file download complete.')"
   ]
  },
  {
   "cell_type": "markdown",
   "metadata": {},
   "source": [
    "# Project setup\n",
    "\n",
    "This section pulls your images onto the computing cluster and creates and uploads a Photoscan .psx file if it doesn't already exist.\n",
    "\n"
   ]
  },
  {
   "cell_type": "markdown",
   "metadata": {},
   "source": [
    "## Set up job script\n",
    "\n",
    "This code sets up the job script that will be run on the cluster, in order to pull in your images."
   ]
  },
  {
   "cell_type": "code",
   "execution_count": 15,
   "metadata": {
    "collapsed": false
   },
   "outputs": [],
   "source": [
    "def hrs(xhrs):\n",
    "    return xhrs\n",
    "def mins(xmins):\n",
    "    return xmins\n",
    "\n",
    "#Define widgets and defaults\n",
    "hrslider=widgets.IntSlider(description='Estimated Hours:',  value=1, min=0, max=23,step=1)\n",
    "minslider=widgets.IntSlider(description='Estimated Minutes:',  value=0, min=0, max=59,step=1)\n"
   ]
  },
  {
   "cell_type": "code",
   "execution_count": 16,
   "metadata": {
    "collapsed": false
   },
   "outputs": [
    {
     "data": {
      "text/plain": [
       "0"
      ]
     },
     "metadata": {},
     "output_type": "display_data"
    },
    {
     "data": {
      "text/plain": [
       "<function __main__.mins>"
      ]
     },
     "execution_count": 16,
     "metadata": {},
     "output_type": "execute_result"
    }
   ],
   "source": [
    "# Enter the estimated hours and minutes to create the project and add photos\n",
    "interact(hrs, xhrs=hrslider)\n",
    "interact(mins, xmins=minslider)"
   ]
  },
  {
   "cell_type": "code",
   "execution_count": 17,
   "metadata": {
    "collapsed": false,
    "scrolled": false
   },
   "outputs": [
    {
     "name": "stdout",
     "output_type": "stream",
     "text": [
      "output:  #!/usr/bin/env python3 \n",
      "import PhotoScan \n",
      "import time \n",
      "doc = PhotoScan.app.document \n",
      "chunk = PhotoScan.app.document.addChunk() \n",
      "chunk.addPhotos( ['/scratch/images/IMG_3045.JPG', '/scratch/images/IMG_3051.JPG', '/scratch/images/IMG_3052.JPG', '/scratch/images/IMG_3048.JPG', '/scratch/images/IMG_3054.JPG', '/scratch/images/IMG_3034.JPG', '/scratch/images/IMG_3036.JPG', '/scratch/images/IMG_3049.JPG', '/scratch/images/IMG_3053.JPG', '/scratch/images/IMG_3040.JPG', '/scratch/images/IMG_3027.JPG', '/scratch/images/IMG_3031.JPG', '/scratch/images/IMG_3028.JPG', '/scratch/images/IMG_3029.JPG', '/scratch/images/IMG_3024.JPG', '/scratch/images/IMG_3025.JPG', '/scratch/images/IMG_3038.JPG', '/scratch/images/IMG_3033.JPG', '/scratch/images/IMG_3042.JPG', '/scratch/images/IMG_3026.JPG', '/scratch/images/IMG_3043.JPG', '/scratch/images/IMG_3046.JPG', '/scratch/images/IMG_3044.JPG', '/scratch/images/IMG_3041.JPG', '/scratch/images/IMG_3050.JPG', '/scratch/images/IMG_3023.JPG', '/scratch/images/IMG_3047.JPG', '/scratch/images/IMG_3039.JPG', '/scratch/images/IMG_3032.JPG', '/scratch/images/IMG_3035.JPG', '/scratch/images/IMG_3037.JPG', '/scratch/images/IMG_3030.JPG'] ) \n",
      "doc.save(path=\"/scratch//monument.psx\", chunks = [doc.chunk])\n",
      " \n",
      "estimateTime:  1:00:00\n"
     ]
    }
   ],
   "source": [
    "import os, stat\n",
    "\n",
    "files = [ singularitymountfolder + 'images/' + f for f in os.listdir(scratchImageDataDirectory) ] \n",
    "\n",
    "template = '#!/usr/bin/env python3 \\n\\\n",
    "import PhotoScan \\n\\\n",
    "import time \\n\\\n",
    "doc = PhotoScan.app.document \\n\\\n",
    "chunk = PhotoScan.app.document.addChunk() \\n\\\n",
    "chunk.addPhotos( {} ) \\n\\\n",
    "doc.save(path=\\\"{}\\\", chunks = [doc.chunk])\\n '\n",
    "\n",
    "output = template.format(str(files), singularitymountfolder + projectFile)\n",
    "print('output: ', output)\n",
    "\n",
    "with open(commandScript, 'w') as f:  \n",
    "    f.write(output)\n",
    "\n",
    "os.chmod(commandScript,  0o755)\n",
    "\n",
    "#set time limit for this batch run\n",
    "minstring = str(minslider.value)\n",
    "if minslider.value < 10:\n",
    "    minstring = '0' + str(minslider.value)\n",
    "estimateTime = str(hrslider.value) + ':' + minstring + ':00'\n",
    "print('estimateTime: ', estimateTime)\n",
    "outputbatchscript = batchtemplate.format(estimateTime)\n",
    "with open(slurmScript, 'w') as f:  \n",
    "    f.write(outputbatchscript)\n",
    "    \n",
    "os.chmod(slurmScript,  0o755)"
   ]
  },
  {
   "cell_type": "markdown",
   "metadata": {},
   "source": [
    "## Run job\n",
    "The code below will run the job on the cluster, pulling in your images from Box, and will display the job ID."
   ]
  },
  {
   "cell_type": "code",
   "execution_count": 18,
   "metadata": {
    "collapsed": false,
    "scrolled": false
   },
   "outputs": [
    {
     "name": "stdout",
     "output_type": "stream",
     "text": [
      "Execute image loading output:  ['Submitted batch job 1406445']\n",
      "1406445\n"
     ]
    }
   ],
   "source": [
    "os.chdir(runFolder)\n",
    "\n",
    "out = !sbatch slurmscript.sh   \n",
    "    \n",
    "print ('Execute image loading output: ', out ) \n",
    "jobId =  out[0].split()[3]\n",
    "print (jobId)"
   ]
  },
  {
   "cell_type": "code",
   "execution_count": 19,
   "metadata": {
    "collapsed": false
   },
   "outputs": [
    {
     "name": "stdout",
     "output_type": "stream",
     "text": [
      "             JOBID PARTITION     NAME     USER ST       TIME  NODES NODELIST(REASON)\n",
      "           1406445     savio monument   quinnd  R       0:03      1 n0021.savio1\n",
      "--------------------------------\n",
      "JobId=1406445 JobName=monument\n",
      "   UserId=quinnd(42413) GroupId=ucb(501) MCS_label=N/A\n",
      "   Priority=989225 Nice=0 Account=ac_scsguest QOS=savio_normal\n",
      "   JobState=RUNNING Reason=None Dependency=(null)\n",
      "   Requeue=0 Restarts=0 BatchFlag=1 Reboot=0 ExitCode=0:0\n",
      "   RunTime=00:00:03 TimeLimit=01:00:00 TimeMin=N/A\n",
      "   SubmitTime=2017-06-10T06:21:02 EligibleTime=2017-06-10T06:21:02\n",
      "   StartTime=2017-06-10T06:21:02 EndTime=2017-06-10T07:21:02 Deadline=N/A\n",
      "   PreemptTime=None SuspendTime=None SecsPreSuspend=0\n",
      "   Partition=savio AllocNode:Sid=ln000:21556\n",
      "   ReqNodeList=(null) ExcNodeList=(null)\n",
      "   NodeList=n0021.savio1\n",
      "   BatchHost=n0021.savio1\n",
      "   NumNodes=1 NumCPUs=20 NumTasks=1 CPUs/Task=1 ReqB:S:C:T=0:0:*:*\n",
      "   TRES=cpu=20,mem=62.50G,node=1\n",
      "   Socks/Node=* NtasksPerN:B:S:C=0:0:*:* CoreSpec=*\n",
      "   MinCPUsNode=1 MinMemoryNode=62.50G MinTmpDiskNode=0\n",
      "   Features=(null) Gres=(null) Reservation=(null)\n",
      "   OverSubscribe=NO Contiguous=0 Licenses=(null) Network=(null)\n",
      "   Command=/global/scratch/quinnd/monument/slurmscript.sh\n",
      "   WorkDir=/global/scratch/quinnd/monument\n",
      "   StdErr=/global/scratch/quinnd/monument/slurm-1406445.out\n",
      "   StdIn=/dev/null\n",
      "   StdOut=/global/scratch/quinnd/monument/slurm-1406445.out\n",
      "   Power=\n",
      "\n"
     ]
    }
   ],
   "source": [
    "# print the users queue and the job status by id\n",
    "!squeue -u $username\n",
    "print('--------------------------------')\n",
    "!scontrol show job $jobId"
   ]
  },
  {
   "cell_type": "markdown",
   "metadata": {},
   "source": [
    "## Upload project file\n",
    "If there isn't a \"data\" subfolder inside your project folder on Box already, the code below will first create it. The code will then upload a new Photoscan project file and associated data files to Box. \n",
    "\n",
    "If a Photoscan project file with the same name already exists in the folder on Box, this code will *not* overwrite it.\n",
    "\n",
    "Please note: New folders in Box can take several minutes to register, so this step may take a few minutes. If you get a \"file not found\" error in the next step, wait a minute or two and retry."
   ]
  },
  {
   "cell_type": "code",
   "execution_count": 20,
   "metadata": {
    "collapsed": false,
    "scrolled": true
   },
   "outputs": [
    {
     "name": "stdout",
     "output_type": "stream",
     "text": [
      "find_folder_id folder_name:  monument\n",
      "find_folder_id folderlist:  [<Box Folder - 27697792189 (monument)>]\n",
      "folder id:  27697792189\n",
      "folder exists\n",
      "folder id:  27697792189\n",
      "find_folder_id folder_name:  monument\n",
      "find_folder_id folderlist:  [<Box Folder - 27697792189 (monument)>]\n",
      "Box folder id:  27697792189\n",
      "project file list:  [<Box File - 183058668349 (monument.psx)>]\n",
      "datazip file list:  [<Box File - 183058591009 (monument.files.zip)>]\n",
      "project file id:  183058668349\n",
      "data zip file list:  183058591009\n",
      "begin project file update.\n",
      "update psx result:  <Box File - 183058668349>    update zip result:  <Box File - 183058591009>\n"
     ]
    }
   ],
   "source": [
    "from boxsdk.exception import BoxAPIException\n",
    "\n",
    "newFolderId = find_folder_id(boxProjectFolder)\n",
    "print('folder id: ', newFolderId)\n",
    "\n",
    "if newFolderId == 0:\n",
    "    newFolder = client.folder(folder_id='0').create_subfolder(boxProjectFolder)\n",
    "    newFolderId = newFolder['id']\n",
    "    print (\"folder created\" )\n",
    "else: \n",
    "    print (\"folder exists\" )\n",
    "    \n",
    "print (\"folder id: \", newFolderId )\n",
    "\n",
    "update_project_file_in_box()"
   ]
  },
  {
   "cell_type": "markdown",
   "metadata": {},
   "source": [
    "## OFFLINE: Image masking\n",
    "If you need to mask any images before building the dense cloud, please launch your desktop version of Photoscan, make those changes, and save the modified .psx file back to your folder on Box before proceeding with the next step."
   ]
  },
  {
   "cell_type": "markdown",
   "metadata": {},
   "source": [
    "# Align photos and Build Dense Cloud\n",
    "\n",
    "The code below will retrieve the project file from Box. This will ensure that you're working with the latest version, even if you've made changes offline (such as image masking)."
   ]
  },
  {
   "cell_type": "code",
   "execution_count": 21,
   "metadata": {
    "collapsed": false,
    "scrolled": true
   },
   "outputs": [
    {
     "name": "stdout",
     "output_type": "stream",
     "text": [
      "find_folder_id folder_name:  monument\n",
      "find_folder_id folderlist:  [<Box Folder - 27697792189 (monument)>]\n",
      "downloading:  monument.files.zip\n",
      "data zip file download complete.\n",
      "downloading:  monument.psx\n",
      "project file download complete.\n"
     ]
    }
   ],
   "source": [
    "retrieve_project_file()"
   ]
  },
  {
   "cell_type": "markdown",
   "metadata": {},
   "source": [
    "## Set up job script\n",
    "\n",
    "Run the code box below, then choose your estimated run time for the job. The default run time is 3 hours, which should cover most projects with under 75 photos. If you have more photos, please increase the run time.\n",
    "\n",
    "**Maurice: make this a different widget with default run time of 3 hours**"
   ]
  },
  {
   "cell_type": "code",
   "execution_count": 118,
   "metadata": {
    "collapsed": false
   },
   "outputs": [
    {
     "data": {
      "text/plain": [
       "0"
      ]
     },
     "metadata": {},
     "output_type": "display_data"
    },
    {
     "data": {
      "text/plain": [
       "<function __main__.mins>"
      ]
     },
     "execution_count": 118,
     "metadata": {},
     "output_type": "execute_result"
    }
   ],
   "source": [
    "# Enter the estimated hours and minutes to create the project and add photos\n",
    "interact(hrs, xhrs=hrslider)\n",
    "interact(mins, xmins=minslider)"
   ]
  },
  {
   "cell_type": "markdown",
   "metadata": {},
   "source": [
    "## Set up parameters\n",
    "Choose the quality settings for the dense cloud build after running the cells below."
   ]
  },
  {
   "cell_type": "code",
   "execution_count": 121,
   "metadata": {
    "collapsed": true
   },
   "outputs": [],
   "source": [
    "def chc(txt):\n",
    "    return txt\n",
    "\n",
    "pselchoice=widgets.Dropdown(description='Preselection', value='GenericPreselection', options=['GenericPreselection', 'ReferencePreselection'])\n",
    "qualchoice=widgets.Dropdown(description='Quality', value='MediumQuality', options=['UltraQuality', 'HighQuality', 'MediumQuality',  'LowQuality', 'LowestQuality'] )\n",
    "fltrchoice=widgets.Dropdown(description='Filter', value='ModerateFiltering', options=['NoFiltering', 'MildFiltering', 'ModerateFiltering',  'AggressiveFiltering']  )\n",
    "accchoice=widgets.Dropdown(description='Accuracy', value='MediumAccuracy', options= ['HighestAccuracy', 'HighAccuracy', 'MediumAccuracy',  'LowAccuracy', 'LowestAccuracy']  )\n",
    "afchoice=widgets.Dropdown(description='Adaptive Fitting', options=['True', 'False'])"
   ]
  },
  {
   "cell_type": "code",
   "execution_count": 122,
   "metadata": {
    "collapsed": false
   },
   "outputs": [
    {
     "data": {
      "text/plain": [
       "'True'"
      ]
     },
     "metadata": {},
     "output_type": "display_data"
    },
    {
     "data": {
      "text/plain": [
       "<function __main__.chc>"
      ]
     },
     "execution_count": 122,
     "metadata": {},
     "output_type": "execute_result"
    }
   ],
   "source": [
    "interact(chc, txt=pselchoice)\n",
    "interact(chc, txt=qualchoice)\n",
    "interact(chc, txt=fltrchoice)\n",
    "interact(chc, txt=accchoice)\n",
    "interact(chc, txt=afchoice)"
   ]
  },
  {
   "cell_type": "markdown",
   "metadata": {},
   "source": [
    "## Create job script\n",
    "The next cell will create and display the job script that will be run on the cluster."
   ]
  },
  {
   "cell_type": "code",
   "execution_count": 124,
   "metadata": {
    "collapsed": false,
    "scrolled": false
   },
   "outputs": [
    {
     "name": "stdout",
     "output_type": "stream",
     "text": [
      "output:  #!/usr/bin/env python3 \n",
      "import PhotoScan \n",
      "import time \n",
      "print( \"start time: \", time.time()) \n",
      "doc = PhotoScan.app.document \n",
      "doc.open(\"/scratch//monument.psx\") \n",
      "chunk = doc.chunk \n",
      "chunk.matchPhotos(accuracy=PhotoScan.MediumAccuracy, preselection=PhotoScan.GenericPreselection) \n",
      "chunk.alignCameras(adaptive_fitting=True) \n",
      "chunk.buildDenseCloud(quality=PhotoScan.MediumQuality,  filter=PhotoScan.ModerateFiltering ) \n",
      "doc.save(\"/scratch//monument.psx\") \n",
      "print( \"stop time: \", time.time()) \n",
      "\n",
      "estimateTime:  1:00:00\n"
     ]
    }
   ],
   "source": [
    "# Creates job script for building dense cloud\n",
    "import os, stat\n",
    "\n",
    "template = '#!/usr/bin/env python3 \\n\\\n",
    "import PhotoScan \\n\\\n",
    "import time \\n\\\n",
    "print( \"start time: \", time.time()) \\n\\\n",
    "doc = PhotoScan.app.document \\n\\\n",
    "doc.open(\\\"{}\\\") \\n\\\n",
    "chunk = doc.chunk \\n\\\n",
    "chunk.matchPhotos(accuracy=PhotoScan.{}, preselection=PhotoScan.{}) \\n\\\n",
    "chunk.alignCameras(adaptive_fitting={}) \\n\\\n",
    "chunk.buildDenseCloud(quality=PhotoScan.{},  filter=PhotoScan.{} ) \\n\\\n",
    "doc.save(\\\"{}\\\") \\n\\\n",
    "print( \"stop time: \", time.time()) \\n'\n",
    "\n",
    "output = template.format(singularitymountfolder + projectFile, accchoice.value, pselchoice.value, afchoice.value, qualchoice.value, fltrchoice.value, singularitymountfolder + projectFile)\n",
    "\n",
    "print('output: ', output)\n",
    "\n",
    "with open(commandScript, 'w') as f:  \n",
    "    f.write(output)\n",
    "\n",
    "    \n",
    "#Set time limit for this batch run\n",
    "minstring = str(minslider.value)\n",
    "if minslider.value < 10:\n",
    "    minstring = '0' + str(minslider.value)\n",
    "estimateTime = str(hrslider.value) + ':' + minstring + ':00'\n",
    "print('estimateTime: ', estimateTime)\n",
    "outputbatchscript = batchtemplate.format(estimateTime)\n",
    "#outputbatchscript = batchtemplate.format('01:30:00')\n",
    "with open(slurmScript, 'w') as f:  \n",
    "    f.write(outputbatchscript)\n",
    "    "
   ]
  },
  {
   "cell_type": "markdown",
   "metadata": {},
   "source": [
    "## Run dense cloud build\n",
    "Running the following code box will submit your job to the cluster. Your job ID will be printed below."
   ]
  },
  {
   "cell_type": "code",
   "execution_count": 31,
   "metadata": {
    "collapsed": false,
    "scrolled": true
   },
   "outputs": [
    {
     "name": "stdout",
     "output_type": "stream",
     "text": [
      "Execute the dense cloud build output:  ['Submitted batch job 1406448']\n",
      "1406448\n"
     ]
    }
   ],
   "source": [
    "out = !sbatch slurmscript.sh   \n",
    "    \n",
    "print ('Execute the dense cloud build output: ', out ) \n",
    "jobId =  out[0].split()[3]\n",
    "print (jobId)"
   ]
  },
  {
   "cell_type": "markdown",
   "metadata": {},
   "source": [
    "## Check on job status\n",
    "Building the dense cloud is the longest-running phase of the photogrammetry process. Depending on how many photos you have, and the quality settings you've chosen, the job could run for anywhere from minutes to hours. Run the following code box to check on the status of the dense cloud build. You can run it multiple times for new updates."
   ]
  },
  {
   "cell_type": "code",
   "execution_count": 34,
   "metadata": {
    "code_folding": [],
    "collapsed": false
   },
   "outputs": [
    {
     "name": "stdout",
     "output_type": "stream",
     "text": [
      "             JOBID PARTITION     NAME     USER ST       TIME  NODES NODELIST(REASON)\n",
      "--------------------------------\n",
      "JobId=1406448 JobName=monument\n",
      "   UserId=quinnd(42413) GroupId=ucb(501) MCS_label=N/A\n",
      "   Priority=735030 Nice=0 Account=ac_scsguest QOS=savio_normal\n",
      "   JobState=FAILED Reason=NonZeroExitCode Dependency=(null)\n",
      "   Requeue=0 Restarts=0 BatchFlag=1 Reboot=0 ExitCode=1:0\n",
      "   RunTime=00:06:49 TimeLimit=01:00:00 TimeMin=N/A\n",
      "   SubmitTime=2017-06-10T07:02:36 EligibleTime=2017-06-10T07:02:36\n",
      "   StartTime=2017-06-10T07:02:38 EndTime=2017-06-10T07:09:27 Deadline=N/A\n",
      "   PreemptTime=None SuspendTime=None SecsPreSuspend=0\n",
      "   Partition=savio AllocNode:Sid=ln000:21556\n",
      "   ReqNodeList=(null) ExcNodeList=(null)\n",
      "   NodeList=n0044.savio1\n",
      "   BatchHost=n0044.savio1\n",
      "   NumNodes=1 NumCPUs=20 NumTasks=0 CPUs/Task=1 ReqB:S:C:T=0:0:*:*\n",
      "   TRES=cpu=20,mem=62.50G,node=1\n",
      "   Socks/Node=* NtasksPerN:B:S:C=0:0:*:* CoreSpec=*\n",
      "   MinCPUsNode=1 MinMemoryNode=62.50G MinTmpDiskNode=0\n",
      "   Features=(null) Gres=(null) Reservation=(null)\n",
      "   OverSubscribe=NO Contiguous=0 Licenses=(null) Network=(null)\n",
      "   Command=/global/scratch/quinnd/monument/slurmscript.sh\n",
      "   WorkDir=/global/scratch/quinnd/monument\n",
      "   StdErr=/global/scratch/quinnd/monument/slurm-1406448.out\n",
      "   StdIn=/dev/null\n",
      "   StdOut=/global/scratch/quinnd/monument/slurm-1406448.out\n",
      "   Power=\n",
      "\n"
     ]
    }
   ],
   "source": [
    "# print the users queue and the job status by id\n",
    "!squeue -u $username\n",
    "print('--------------------------------')\n",
    "!scontrol show job $jobId"
   ]
  },
  {
   "cell_type": "markdown",
   "metadata": {},
   "source": [
    "## Display log message\n",
    "As an optional step, you can run the code below to see the log file once the job is done. It includes technical information about the points that were found in each photo, rectifying disparities between photos, etc."
   ]
  },
  {
   "cell_type": "code",
   "execution_count": 35,
   "metadata": {
    "code_folding": [
     0
    ],
    "collapsed": false
   },
   "outputs": [
    {
     "name": "stdout",
     "output_type": "stream",
     "text": [
      "Activation successful\n",
      "start time:  1497103364.3941915\n",
      "LoadProject\n",
      "loaded project in 0.122341 sec\n",
      "MatchPhotos: accuracy = Medium, preselection = generic, keypoint limit = 40000, tiepoint limit = 4000, constrain features by mask = 0\n",
      "photo 0: 13163 points\n",
      "photo 1: 14946 points\n",
      "photo 2: 15278 points\n",
      "photo 3: 15976 points\n",
      "photo 4: 13906 points\n",
      "photo 5: 13817 points\n",
      "photo 6: 14868 points\n",
      "photo 7: 14217 points\n",
      "photo 8: 15481 points\n",
      "photo 9: 14095 points\n",
      "photo 10: 14487 points\n",
      "photo 11: 15634 points\n",
      "photo 12: 15616 points\n",
      "photo 13: 16644 points\n",
      "photo 14: 15868 points\n",
      "photo 15: 17100 points\n",
      "photo 16: 19168 points\n",
      "photo 17: 18876 points\n",
      "photo 18: 17147 points\n",
      "photo 19: 15490 points\n",
      "photo 20: 13756 points\n",
      "photo 21: 14139 points\n",
      "photo 22: 14010 points\n",
      "photo 23: 14375 points\n",
      "photo 24: 15793 points\n",
      "photo 25: 16865 points\n",
      "photo 26: 19149 points\n",
      "photo 27: 19831 points\n",
      "photo 28: 16872 points\n",
      "photo 29: 13727 points\n",
      "photo 30: 12739 points\n",
      "photo 31: 13404 points\n",
      "points detected in 9.52669 sec\n",
      "29051 matches found in 3.12028 sec\n",
      "matches combined in 0.003446 sec\n",
      "matches filtered in 0.333042 sec\n",
      "104 of 141 pairs selected in 4.2e-05 sec\n",
      "233472 matches found in 4.37885 sec\n",
      "matches combined in 0.028133 sec\n",
      "matches filtered in 1.35179 sec\n",
      "finished matching in 18.7879 sec\n",
      "setting point indices... 41446 done in 0.005697 sec\n",
      "generated 41446 tie points, 2.94545 average projections\n",
      "removed 596 multiple indices\n",
      "removed 30 tracks\n",
      "selected 37782 tracks out of 41416 in 0.004073 sec\n",
      "AlignCameras: adaptive fitting = 1\n",
      "processing block: 32 photos\n",
      "pair 0 and 30: 2061 robust from 3128\n",
      "pair 1 and 31: 2177 robust from 2790\n",
      "pair 14 and 15: 1691 robust from 2485\n",
      "pair 24 and 25: 1991 robust from 2448\n",
      "pair 23 and 24: 2006 robust from 2421\n",
      "pair 5 and 6: 1778 robust from 2409\n",
      "pair 8 and 9: 1670 robust from 2354\n",
      "pair 6 and 7: 1801 robust from 2325\n",
      "pair 17 and 18: 1386 robust from 2321\n",
      "pair 22 and 23: 1838 robust from 2266\n",
      "pair 0 and 31: 1700 robust from 2183\n",
      "adding photos 1 and 31 (2177 robust)\n",
      "adding 2785 points, 1 far (7.28 threshold), 0 inaccurate, 1 invisible, 0 weak\n",
      "adjusting: xxxxxx 0.508762 -> 0.49302\n",
      "adding 2 points, 0 far (7.28 threshold), 0 inaccurate, 1 invisible, 0 weak\n",
      "adjusting: xxxxx 0.527338 -> 0.527058\n",
      "adding 1 points, 0 far (7.28 threshold), 0 inaccurate, 1 invisible, 0 weak\n",
      "optimized in 0.019908 seconds\n",
      "adding camera 0 (3 of 32), 1463 of 1480 used\n",
      "adding camera 2 (4 of 32), 1370 of 1378 used\n",
      "adding camera 30 (5 of 32), 1322 of 1342 used\n",
      "adding camera 29 (6 of 32), 842 of 871 used\n",
      "adding 3745 points, 41 far (7.28 threshold), 0 inaccurate, 22 invisible, 0 weak\n",
      "adjusting: xxxxxx 0.387857 -> 0.285672\n",
      "adding 31 points, 9 far (7.28 threshold), 0 inaccurate, 22 invisible, 0 weak\n",
      "optimized in 0.027626 seconds\n",
      "adding camera 28 (7 of 32), 986 of 1048 used\n",
      "adding camera 3 (8 of 32), 964 of 972 used\n",
      "adding camera 4 (9 of 32), 555 of 560 used\n",
      "adding 3229 points, 39 far (7.28 threshold), 0 inaccurate, 35 invisible, 0 weak\n",
      "adjusting: xxxxxx 0.656575 -> 0.289208\n",
      "adding 50 points, 9 far (7.28 threshold), 0 inaccurate, 35 invisible, 0 weak\n",
      "adjusting: xxx 0.298367 -> 0.298315\n",
      "adding 44 points, 9 far (7.28 threshold), 0 inaccurate, 35 invisible, 0 weak\n",
      "optimized in 0.059737 seconds\n",
      "adding camera 5 (10 of 32), 1025 of 1047 used\n",
      "adding camera 27 (11 of 32), 638 of 642 used\n",
      "adding camera 6 (12 of 32), 606 of 626 used\n",
      "adding 3802 points, 44 far (7.28 threshold), 0 inaccurate, 74 invisible, 0 weak\n",
      "adjusting: xxxxx 0.352517 -> 0.308432\n",
      "adding 86 points, 11 far (7.28 threshold), 0 inaccurate, 74 invisible, 0 weak\n",
      "adjusting: xxxxxx 0.311327 -> 0.305243\n",
      "adding 85 points, 11 far (7.28 threshold), 0 inaccurate, 74 invisible, 0 weak\n",
      "optimized in 1.36068 seconds\n",
      "adding camera 7 (13 of 32), 1360 of 1363 used\n",
      "adding camera 8 (14 of 32), 875 of 878 used\n",
      "adding camera 26 (15 of 32), 845 of 846 used\n",
      "adding 3202 points, 14 far (7.28 threshold), 0 inaccurate, 86 invisible, 0 weak\n",
      "adjusting: xxxxx 0.311031 -> 0.287841\n",
      "adding 97 points, 11 far (7.28 threshold), 0 inaccurate, 86 invisible, 0 weak\n",
      "optimized in 0.569452 seconds\n",
      "adding camera 9 (16 of 32), 1305 of 1308 used\n",
      "adding camera 25 (17 of 32), 1166 of 1166 used\n",
      "adding camera 24 (18 of 32), 944 of 945 used\n",
      "adding camera 10 (19 of 32), 901 of 906 used\n",
      "adding camera 23 (20 of 32), 761 of 763 used\n",
      "adding 5696 points, 15 far (7.28 threshold), 4 inaccurate, 173 invisible, 0 weak\n",
      "adjusting: xxxxxx 0.374327 -> 0.242426\n",
      "adding 189 points, 12 far (7.28 threshold), 1 inaccurate, 177 invisible, 0 weak\n",
      "optimized in 0.745679 seconds\n",
      "adding camera 22 (21 of 32), 1651 of 1687 used\n",
      "adding camera 21 (22 of 32), 1117 of 1124 used\n",
      "adding 1856 points, 44 far (7.28 threshold), 42 inaccurate, 351 invisible, 0 weak\n",
      "adjusting: xxxxxx 0.24146 -> 0.235577\n",
      "adding 406 points, 13 far (7.28 threshold), 75 inaccurate, 354 invisible, 0 weak\n",
      "optimized in 0.780655 seconds\n",
      "adding camera 20 (23 of 32), 1082 of 1087 used\n",
      "adding camera 11 (24 of 32), 743 of 747 used\n",
      "adding camera 19 (25 of 32), 656 of 663 used\n",
      "adding 3379 points, 16 far (7.28 threshold), 114 inaccurate, 439 invisible, 0 weak\n",
      "adjusting: xxxx 0.244782 -> 0.229384\n",
      "adding 566 points, 14 far (7.28 threshold), 110 inaccurate, 439 invisible, 0 weak\n",
      "adjusting: xxx 0.226826 -> 0.226821\n",
      "adding 563 points, 14 far (7.28 threshold), 110 inaccurate, 439 invisible, 0 weak\n",
      "optimized in 0.924119 seconds\n",
      "adding camera 18 (26 of 32), 831 of 844 used\n",
      "adding camera 17 (27 of 32), 493 of 521 used\n",
      "adding camera 12 (28 of 32), 489 of 504 used\n",
      "adding 5507 points, 16 far (7.28 threshold), 112 inaccurate, 493 invisible, 0 weak\n",
      "adjusting: xxxxxx 0.538171 -> 0.226035\n",
      "adding 623 points, 14 far (7.28 threshold), 99 inaccurate, 493 invisible, 0 weak\n",
      "adjusting: xxxx 0.22684 -> 0.226836\n",
      "adding 606 points, 14 far (7.28 threshold), 99 inaccurate, 493 invisible, 0 weak\n",
      "optimized in 1.18169 seconds\n",
      "adding camera 16 (29 of 32), 1421 of 1435 used\n",
      "adding camera 15 (30 of 32), 1081 of 1085 used\n",
      "adding camera 14 (31 of 32), 1004 of 1005 used\n",
      "adding camera 13 (32 of 32), 960 of 960 used\n",
      "adding 6440 points, 30 far (7.28 threshold), 141 inaccurate, 549 invisible, 0 weak\n",
      "adjusting: xxxxxx 0.457343 -> 0.218484\n",
      "adding 704 points, 14 far (7.28 threshold), 106 inaccurate, 581 invisible, 0 weak\n",
      "adjusting: xxx 0.218477 -> 0.218477\n",
      "adding 701 points, 14 far (7.28 threshold), 106 inaccurate, 581 invisible, 0 weak\n",
      "optimized in 1.23226 seconds\n",
      "3 sigma filtering...\n",
      "adjusting: xx 0.218477 -> 0.218477\n",
      "point variance: 0.219215 threshold: 0.657645\n",
      "adding 545 points, 465 far (0.657645 threshold), 103 inaccurate, 433 invisible, 0 weak\n",
      "adjusting: xxxx 0.130339 -> 0.129006\n",
      "point variance: 0.129368 threshold: 0.388104\n",
      "adding 485 points, 1089 far (0.388104 threshold), 102 inaccurate, 344 invisible, 0 weak\n",
      "adjusting: xxxx 0.11381 -> 0.113657\n",
      "point variance: 0.112822 threshold: 0.338467\n",
      "adding 1057 points, 1240 far (0.338467 threshold), 101 inaccurate, 323 invisible, 0 weak\n",
      "adjusting: xxxx 0.108444 -> 0.108375\n",
      "point variance: 0.106935 threshold: 0.320804\n",
      "adding 1435 points, 1319 far (0.320804 threshold), 102 inaccurate, 317 invisible, 0 weak\n",
      "adjusting: xxxx 0.10625 -> 0.106206\n",
      "point variance: 0.104461 threshold: 0.313384\n",
      "adding 1637 points, 1376 far (0.313384 threshold), 101 inaccurate, 314 invisible, 0 weak\n",
      "optimized in 2.41598 seconds\n",
      "f 6080.92, cx 0, cy 0, k1 -0.110694, k2 0, k3 0\n",
      "finished sfm in 10.8245 seconds\n",
      "coordinates applied in 0 sec\n",
      "BuildDenseCloud: quality = Medium, depth filtering = Moderate\n",
      "sorting point cloud... done in 0.000283 sec\n",
      "processing matches... done in 0.008747 sec\n",
      "initializing...\n",
      "selected 32 cameras from 32 in 0.289334 sec\n",
      "loaded photos in 1.36401 seconds\n",
      "[CPU] estimating 455x1017x192 disparity using 455x1017x8u tiles\n",
      "timings: rectify: 0.04265 disparity: 0.736082 borders: 0.013805 filter: 0.025358 fill: 0\n",
      "[CPU] estimating 494x1092x160 disparity using 494x1092x8u tiles\n",
      "timings: rectify: 0.032739 disparity: 0.805479 borders: 0.014774 filter: 0.025076 fill: 0\n",
      "[CPU] estimating 533x1126x160 disparity using 533x1126x8u tiles\n",
      "timings: rectify: 0.021596 disparity: 0.897917 borders: 0.015837 filter: 0.028394 fill: 0\n",
      "[CPU] estimating 716x1099x1152 disparity using 716x1099x8u tiles\n",
      "timings: rectify: 0.025893 disparity: 0.801893 borders: 0.001008 filter: 0.008667 fill: 0\n",
      "[CPU] estimating 673x1077x576 disparity using 673x1077x8u tiles\n",
      "timings: rectify: 0.027394 disparity: 0.860871 borders: 0.001119 filter: 0.013379 fill: 0\n",
      "[CPU] estimating 704x1082x640 disparity using 704x1082x8u tiles\n",
      "timings: rectify: 0.030029 disparity: 1.36782 borders: 0.02011 filter: 0.032219 fill: 0\n",
      "[CPU] estimating 658x1114x1152 disparity using 658x1114x8u tiles\n",
      "timings: rectify: 0.04674 disparity: 0.811351 borders: 0.00095 filter: 0.008763 fill: 1e-06\n",
      "[CPU] estimating 287x1130x160 disparity using 287x1130x8u tiles\n",
      "timings: rectify: 0.016081 disparity: 0.585099 borders: 0.0109 filter: 0.020522 fill: 0\n",
      "[CPU] estimating 550x1089x128 disparity using 550x1089x8u tiles\n",
      "timings: rectify: 0.024758 disparity: 1.06115 borders: 0.019021 filter: 0.032174 fill: 1e-06\n",
      "[CPU] estimating 780x1080x448 disparity using 780x1080x8u tiles\n",
      "timings: rectify: 0.052822 disparity: 1.52301 borders: 0.016634 filter: 0.03172 fill: 0\n",
      "[CPU] estimating 734x1074x512 disparity using 734x1074x8u tiles\n",
      "timings: rectify: 0.025743 disparity: 1.19565 borders: 0.014333 filter: 0.025695 fill: 0\n",
      "[CPU] estimating 676x1106x1024 disparity using 676x1106x8u tiles\n",
      "timings: rectify: 0.024638 disparity: 1.12918 borders: 0.015915 filter: 0.027975 fill: 0\n",
      "[CPU] estimating 477x1073x160 disparity using 477x1073x8u tiles\n",
      "timings: rectify: 0.01822 disparity: 0.745155 borders: 0.014535 filter: 0.025886 fill: 1e-06\n",
      "[CPU] estimating 456x1133x192 disparity using 456x1133x8u tiles\n",
      "timings: rectify: 0.018463 disparity: 0.80498 borders: 0.01362 filter: 0.024858 fill: 1e-06\n",
      "[CPU] estimating 392x959x192 disparity using 392x959x8u tiles\n",
      "timings: rectify: 0.013295 disparity: 0.557877 borders: 0.009079 filter: 0.017783 fill: 0\n",
      "[CPU] estimating 353x974x192 disparity using 353x974x8u tiles\n",
      "timings: rectify: 0.014827 disparity: 0.619125 borders: 0.005063 filter: 0.013626 fill: 1e-06\n",
      "[CPU] estimating 764x1106x1152 disparity using 764x1106x8u tiles\n",
      "timings: rectify: 0.032121 disparity: 1.02979 borders: 0.001278 filter: 0.012064 fill: 0\n",
      "[CPU] estimating 677x1084x640 disparity using 677x1084x8u tiles\n",
      "timings: rectify: 0.028945 disparity: 1.31054 borders: 0.018743 filter: 0.037443 fill: 0\n",
      "[CPU] estimating 692x1074x128 disparity using 692x1074x8u tiles\n",
      "timings: rectify: 0.047866 disparity: 1.36768 borders: 0.017738 filter: 0.031477 fill: 1e-06\n",
      "[CPU] estimating 550x1089x128 disparity using 550x1089x8u tiles\n",
      "timings: rectify: 0.024906 disparity: 1.06816 borders: 0.017847 filter: 0.027714 fill: 0\n",
      "[CPU] estimating 405x1127x160 disparity using 405x1127x8u tiles\n",
      "timings: rectify: 0.021779 disparity: 0.865813 borders: 0.015703 filter: 0.024588 fill: 0\n",
      "[CPU] estimating 331x1181x160 disparity using 331x1181x8u tiles\n",
      "timings: rectify: 0.016307 disparity: 0.692459 borders: 0.015038 filter: 0.024195 fill: 0\n",
      "[CPU] estimating 312x947x192 disparity using 312x947x8u tiles\n",
      "timings: rectify: 0.012778 disparity: 0.528102 borders: 0.01306 filter: 0.019441 fill: 1e-06\n",
      "[CPU] estimating 459x1148x192 disparity using 459x1148x8u tiles\n",
      "timings: rectify: 0.022782 disparity: 0.991555 borders: 0.016348 filter: 0.029162 fill: 0\n",
      "[CPU] estimating 568x1100x160 disparity using 568x1100x8u tiles\n",
      "timings: rectify: 0.025897 disparity: 1.14667 borders: 0.022393 filter: 0.036702 fill: 0\n",
      "[CPU] estimating 735x1088x992 disparity using 735x1088x8u tiles\n",
      "timings: rectify: 0.03061 disparity: 1.41958 borders: 0.021685 filter: 0.033941 fill: 0\n",
      "[CPU] estimating 728x1086x544 disparity using 728x1086x8u tiles\n",
      "timings: rectify: 0.030443 disparity: 1.19856 borders: 0.021965 filter: 0.04011 fill: 0\n",
      "[CPU] estimating 737x1071x576 disparity using 737x1071x8u tiles\n",
      "timings: rectify: 0.030127 disparity: 0.797748 borders: 0.001066 filter: 0.009242 fill: 0\n",
      "[CPU] estimating 715x1099x1152 disparity using 715x1099x8u tiles\n",
      "timings: rectify: 0.031614 disparity: 0.879141 borders: 0.00149 filter: 0.011446 fill: 0\n",
      "[CPU] estimating 432x1077x128 disparity using 432x1077x8u tiles\n",
      "timings: rectify: 0.02107 disparity: 0.840601 borders: 0.016134 filter: 0.028264 fill: 0\n",
      "[CPU] estimating 370x1128x160 disparity using 370x1128x8u tiles\n",
      "timings: rectify: 0.017454 disparity: 0.780191 borders: 0.014847 filter: 0.025704 fill: 0\n",
      "[CPU] estimating 364x920x160 disparity using 364x920x8u tiles\n",
      "timings: rectify: 0.01528 disparity: 0.562717 borders: 0.011418 filter: 0.020525 fill: 0\n",
      "[CPU] estimating 417x1052x160 disparity using 417x1052x8u tiles\n",
      "timings: rectify: 0.034774 disparity: 0.780796 borders: 0.015486 filter: 0.026482 fill: 0\n",
      "[CPU] estimating 432x1077x128 disparity using 432x1077x8u tiles\n",
      "timings: rectify: 0.01906 disparity: 0.858993 borders: 0.015705 filter: 0.028344 fill: 0\n",
      "[CPU] estimating 818x1121x1088 disparity using 818x1121x8u tiles\n",
      "timings: rectify: 0.037306 disparity: 1.10023 borders: 0.001719 filter: 0.013337 fill: 0\n",
      "[CPU] estimating 703x1082x640 disparity using 703x1082x8u tiles\n",
      "timings: rectify: 0.030654 disparity: 0.9059 borders: 0.001349 filter: 0.011084 fill: 0\n",
      "[CPU] estimating 749x1073x544 disparity using 749x1073x8u tiles\n",
      "timings: rectify: 0.035586 disparity: 0.927389 borders: 0.00146 filter: 0.011839 fill: 0\n",
      "[CPU] estimating 764x1106x1152 disparity using 764x1106x8u tiles\n",
      "timings: rectify: 0.036316 disparity: 1.00407 borders: 0.001289 filter: 0.01195 fill: 0\n",
      "[CPU] estimating 249x1122x160 disparity using 249x1122x8u tiles\n",
      "timings: rectify: 0.011677 disparity: 0.492772 borders: 0.007431 filter: 0.016682 fill: 0\n",
      "[CPU] estimating 249x1122x160 disparity using 249x1122x8u tiles\n",
      "timings: rectify: 0.017079 disparity: 0.532625 borders: 0.008477 filter: 0.015642 fill: 0\n",
      "[CPU] estimating 352x1094x128 disparity using 352x1094x8u tiles\n",
      "timings: rectify: 0.015997 disparity: 0.647704 borders: 0.011795 filter: 0.023097 fill: 0\n",
      "[CPU] estimating 691x1074x128 disparity using 691x1074x8u tiles\n",
      "timings: rectify: 0.03069 disparity: 1.30126 borders: 0.016688 filter: 0.033639 fill: 2e-06\n",
      "[CPU] estimating 780x1080x448 disparity using 780x1080x8u tiles\n",
      "timings: rectify: 0.034104 disparity: 1.48749 borders: 0.020407 filter: 0.034024 fill: 0\n",
      "[CPU] estimating 747x1102x992 disparity using 747x1102x8u tiles\n",
      "timings: rectify: 0.031643 disparity: 1.54007 borders: 0.01772 filter: 0.033593 fill: 0\n",
      "[CPU] estimating 423x1123x160 disparity using 423x1123x8u tiles\n",
      "timings: rectify: 0.019858 disparity: 0.882776 borders: 0.019952 filter: 0.028262 fill: 0\n",
      "[CPU] estimating 408x1132x160 disparity using 408x1132x8u tiles\n",
      "timings: rectify: 0.01957 disparity: 0.837825 borders: 0.01615 filter: 0.025207 fill: 0\n",
      "[CPU] estimating 395x1034x192 disparity using 395x1034x8u tiles\n",
      "timings: rectify: 0.016818 disparity: 0.785436 borders: 0.01313 filter: 0.021086 fill: 1e-06\n",
      "[CPU] estimating 615x1079x640 disparity using 615x1079x8u tiles\n",
      "timings: rectify: 0.031803 disparity: 0.816471 borders: 0.001058 filter: 0.009537 fill: 0\n",
      "[CPU] estimating 673x1076x576 disparity using 673x1076x8u tiles\n",
      "timings: rectify: 0.034783 disparity: 0.890638 borders: 0.001289 filter: 0.010372 fill: 0\n",
      "[CPU] estimating 495x1092x160 disparity using 495x1092x8u tiles\n",
      "timings: rectify: 0.022877 disparity: 1.00215 borders: 0.01736 filter: 0.027019 fill: 0\n",
      "[CPU] estimating 475x1137x192 disparity using 475x1137x8u tiles\n",
      "timings: rectify: 0.022201 disparity: 0.94667 borders: 0.015638 filter: 0.027942 fill: 0\n",
      "[CPU] estimating 369x1157x320 disparity using 369x1157x8u tiles\n",
      "timings: rectify: 0.017553 disparity: 0.770589 borders: 0.009946 filter: 0.021766 fill: 0\n",
      "[CPU] estimating 662x1137x1216 disparity using 662x1137x8u tiles\n",
      "timings: rectify: 0.02931 disparity: 0.933898 borders: 0.001156 filter: 0.010641 fill: 0\n",
      "[CPU] estimating 726x1081x736 disparity using 726x1081x8u tiles\n",
      "timings: rectify: 0.030541 disparity: 0.939917 borders: 0.001201 filter: 0.011189 fill: 0\n",
      "[CPU] estimating 735x1212x256 disparity using 735x1212x8u tiles\n",
      "timings: rectify: 0.035851 disparity: 1.4453 borders: 0.026536 filter: 0.046047 fill: 0\n",
      "[CPU] estimating 547x1079x192 disparity using 547x1079x8u tiles\n",
      "timings: rectify: 0.030096 disparity: 1.09382 borders: 0.019455 filter: 0.029561 fill: 0\n",
      "[CPU] estimating 586x1040x160 disparity using 586x1040x8u tiles\n",
      "timings: rectify: 0.025532 disparity: 1.11043 borders: 0.020546 filter: 0.032494 fill: 0\n",
      "[CPU] estimating 751x1119x1088 disparity using 751x1119x8u tiles\n",
      "timings: rectify: 0.031715 disparity: 1.0118 borders: 0.001463 filter: 0.012299 fill: 0\n",
      "[CPU] estimating 737x1071x576 disparity using 737x1071x8u tiles\n",
      "timings: rectify: 0.03401 disparity: 1.41818 borders: 0.017592 filter: 0.037297 fill: 0\n",
      "[CPU] estimating 674x1077x576 disparity using 674x1077x8u tiles\n",
      "timings: rectify: 0.023714 disparity: 1.09852 borders: 0.017073 filter: 0.029573 fill: 0\n",
      "[CPU] estimating 818x1121x1088 disparity using 818x1121x8u tiles\n",
      "timings: rectify: 0.032415 disparity: 0.879119 borders: 0.001123 filter: 0.010052 fill: 0\n",
      "[CPU] estimating 368x1085x160 disparity using 368x1085x8u tiles\n",
      "timings: rectify: 0.014415 disparity: 0.592797 borders: 0.013805 filter: 0.022833 fill: 0\n",
      "[CPU] estimating 295x837x160 disparity using 295x837x8u tiles\n",
      "timings: rectify: 0.013197 disparity: 0.400404 borders: 0.007835 filter: 0.014683 fill: 1e-06\n",
      "[CPU] estimating 375x868x192 disparity using 375x868x8u tiles\n",
      "timings: rectify: 0.012622 disparity: 0.494689 borders: 0.008536 filter: 0.014385 fill: 0\n",
      "[CPU] estimating 370x1128x160 disparity using 370x1128x8u tiles\n",
      "timings: rectify: 0.017647 disparity: 0.62343 borders: 0.014677 filter: 0.02147 fill: 1e-06\n",
      "[CPU] estimating 368x1085x160 disparity using 368x1085x8u tiles\n",
      "timings: rectify: 0.020369 disparity: 0.629352 borders: 0.014305 filter: 0.025453 fill: 0\n",
      "[CPU] estimating 659x1114x1152 disparity using 659x1114x8u tiles\n",
      "timings: rectify: 0.028086 disparity: 0.922298 borders: 0.001329 filter: 0.010642 fill: 0\n",
      "[CPU] estimating 749x1073x544 disparity using 749x1073x8u tiles\n",
      "timings: rectify: 0.037357 disparity: 1.46396 borders: 0.017659 filter: 0.037853 fill: 1e-06\n",
      "[CPU] estimating 678x1084x640 disparity using 678x1084x8u tiles\n",
      "timings: rectify: 0.028501 disparity: 0.908998 borders: 0.001156 filter: 0.010588 fill: 1e-06\n",
      "[CPU] estimating 352x1094x128 disparity using 352x1094x8u tiles\n",
      "timings: rectify: 0.016029 disparity: 0.665059 borders: 0.010608 filter: 0.019367 fill: 0\n",
      "[CPU] estimating 287x1130x160 disparity using 287x1130x8u tiles\n",
      "timings: rectify: 0.01342 disparity: 0.582805 borders: 0.009971 filter: 0.017079 fill: 0\n",
      "[CPU] estimating 219x1129x160 disparity using 219x1129x8u tiles\n",
      "timings: rectify: 0.01032 disparity: 0.460098 borders: 0.009079 filter: 0.014588 fill: 0\n",
      "[CPU] estimating 420x1219x256 disparity using 420x1219x8u tiles\n",
      "timings: rectify: 0.026645 disparity: 0.912083 borders: 0.010735 filter: 0.023168 fill: 0\n",
      "[CPU] estimating 475x1137x192 disparity using 475x1137x8u tiles\n",
      "timings: rectify: 0.022076 disparity: 0.958333 borders: 0.014903 filter: 0.026955 fill: 0\n",
      "[CPU] estimating 759x1088x1056 disparity using 759x1088x8u tiles\n",
      "timings: rectify: 0.031177 disparity: 1.00401 borders: 0.001247 filter: 0.011768 fill: 1e-06\n",
      "[CPU] estimating 723x1070x512 disparity using 723x1070x8u tiles\n",
      "timings: rectify: 0.038725 disparity: 1.39863 borders: 0.024727 filter: 0.039716 fill: 2e-06\n",
      "[CPU] estimating 736x1080x512 disparity using 736x1080x8u tiles\n",
      "timings: rectify: 0.030133 disparity: 1.41105 borders: 0.022009 filter: 0.035791 fill: 0\n",
      "[CPU] estimating 727x1099x992 disparity using 727x1099x8u tiles\n",
      "timings: rectify: 0.030403 disparity: 1.23453 borders: 0.018042 filter: 0.035953 fill: 0\n",
      "[CPU] estimating 568x1100x160 disparity using 568x1100x8u tiles\n",
      "timings: rectify: 0.025843 disparity: 0.943895 borders: 0.018012 filter: 0.026667 fill: 0\n",
      "[CPU] estimating 547x1079x192 disparity using 547x1079x8u tiles\n",
      "timings: rectify: 0.024449 disparity: 0.906532 borders: 0.017666 filter: 0.029761 fill: 0\n",
      "[CPU] estimating 455x1017x192 disparity using 455x1017x8u tiles\n",
      "timings: rectify: 0.019281 disparity: 0.742824 borders: 0.012618 filter: 0.021671 fill: 1e-06\n",
      "[CPU] estimating 444x1230x256 disparity using 444x1230x8u tiles\n",
      "timings: rectify: 0.022714 disparity: 0.888282 borders: 0.008815 filter: 0.016599 fill: 0\n",
      "[CPU] estimating 446x1163x192 disparity using 446x1163x8u tiles\n",
      "timings: rectify: 0.021709 disparity: 0.842452 borders: 0.01312 filter: 0.02408 fill: 0\n",
      "[CPU] estimating 219x1129x160 disparity using 219x1129x8u tiles\n",
      "timings: rectify: 0.02105 disparity: 0.443092 borders: 0.008869 filter: 0.017421 fill: 0\n",
      "[CPU] estimating 405x1127x160 disparity using 405x1127x8u tiles\n",
      "timings: rectify: 0.018949 disparity: 0.854075 borders: 0.017964 filter: 0.035488 fill: 0\n",
      "[CPU] estimating 747x1102x992 disparity using 747x1102x8u tiles\n",
      "timings: rectify: 0.031656 disparity: 1.48703 borders: 0.018017 filter: 0.031861 fill: 0\n",
      "[CPU] estimating 734x1074x512 disparity using 734x1074x8u tiles\n",
      "timings: rectify: 0.029882 disparity: 1.35299 borders: 0.017211 filter: 0.035361 fill: 0\n",
      "[CPU] estimating 731x1069x512 disparity using 731x1069x8u tiles\n",
      "timings: rectify: 0.038983 disparity: 1.37668 borders: 0.018976 filter: 0.033463 fill: 0\n",
      "[CPU] estimating 689x1107x1024 disparity using 689x1107x8u tiles\n",
      "timings: rectify: 0.02923 disparity: 1.39303 borders: 0.019249 filter: 0.032985 fill: 0\n",
      "[CPU] estimating 505x1081x160 disparity using 505x1081x8u tiles\n",
      "timings: rectify: 0.038497 disparity: 1.05854 borders: 0.019189 filter: 0.032457 fill: 1e-06\n",
      "[CPU] estimating 402x1051x192 disparity using 402x1051x8u tiles\n",
      "timings: rectify: 0.031786 disparity: 0.771271 borders: 0.014289 filter: 0.024713 fill: 0\n",
      "[CPU] estimating 426x1166x160 disparity using 426x1166x8u tiles\n",
      "timings: rectify: 0.026063 disparity: 0.895701 borders: 0.011388 filter: 0.023528 fill: 0\n",
      "[CPU] estimating 540x1118x160 disparity using 540x1118x8u tiles\n",
      "timings: rectify: 0.024999 disparity: 1.07064 borders: 0.018688 filter: 0.033794 fill: 1e-06\n",
      "[CPU] estimating 726x1099x992 disparity using 726x1099x8u tiles\n",
      "timings: rectify: 0.030354 disparity: 1.43451 borders: 0.024241 filter: 0.039896 fill: 0\n",
      "[CPU] estimating 727x1053x512 disparity using 727x1053x8u tiles\n",
      "timings: rectify: 0.041183 disparity: 1.32372 borders: 0.023833 filter: 0.036357 fill: 0\n",
      "[CPU] estimating 728x1086x544 disparity using 728x1086x8u tiles\n",
      "timings: rectify: 0.030236 disparity: 1.39217 borders: 0.023732 filter: 0.03788 fill: 1e-06\n",
      "[CPU] estimating 751x1119x1088 disparity using 751x1119x8u tiles\n",
      "timings: rectify: 0.031725 disparity: 1.00463 borders: 0.001271 filter: 0.011948 fill: 0\n",
      "[CPU] estimating 533x1126x160 disparity using 533x1126x8u tiles\n",
      "timings: rectify: 0.026673 disparity: 1.08231 borders: 0.020256 filter: 0.03382 fill: 0\n",
      "[CPU] estimating 417x1052x160 disparity using 417x1052x8u tiles\n",
      "timings: rectify: 0.018186 disparity: 0.788366 borders: 0.015347 filter: 0.027513 fill: 0\n",
      "[CPU] estimating 375x868x192 disparity using 375x868x8u tiles\n",
      "timings: rectify: 0.016158 disparity: 0.61932 borders: 0.010804 filter: 0.019135 fill: 1e-06\n",
      "[CPU] estimating 614x1079x640 disparity using 614x1079x8u tiles\n",
      "timings: rectify: 0.02757 disparity: 0.854692 borders: 0.001052 filter: 0.009559 fill: 0\n",
      "[CPU] estimating 688x1136x1184 disparity using 688x1136x8u tiles\n",
      "timings: rectify: 0.029855 disparity: 0.980617 borders: 0.001368 filter: 0.011394 fill: 0\n",
      "[CPU] estimating 439x1151x224 disparity using 439x1151x8u tiles\n",
      "timings: rectify: 0.022101 disparity: 0.873872 borders: 0.013915 filter: 0.024463 fill: 0\n",
      "[CPU] estimating 747x1123x1120 disparity using 747x1123x8u tiles\n",
      "timings: rectify: 0.031964 disparity: 1.02898 borders: 0.001444 filter: 0.012134 fill: 0\n",
      "[CPU] estimating 731x1077x608 disparity using 731x1077x8u tiles\n",
      "timings: rectify: 0.030573 disparity: 1.35428 borders: 0.018386 filter: 0.033573 fill: 0\n",
      "[CPU] estimating 774x1432x160 disparity using 774x1432x8u tiles\n",
      "timings: rectify: 0.042585 disparity: 1.723 borders: 0.031637 filter: 0.049059 fill: 1e-06\n",
      "[CPU] estimating 723x1118x384 disparity using 723x1118x8u tiles\n",
      "timings: rectify: 0.026809 disparity: 1.15877 borders: 0.020002 filter: 0.034928 fill: 0\n",
      "[CPU] estimating 312x947x192 disparity using 312x947x8u tiles\n",
      "timings: rectify: 0.016035 disparity: 0.471952 borders: 0.009694 filter: 0.01725 fill: 0\n",
      "[CPU] estimating 408x1132x160 disparity using 408x1132x8u tiles\n",
      "timings: rectify: 0.019314 disparity: 0.75723 borders: 0.01524 filter: 0.023362 fill: 0\n",
      "[CPU] estimating 477x1073x160 disparity using 477x1073x8u tiles\n",
      "timings: rectify: 0.032664 disparity: 0.776436 borders: 0.017178 filter: 0.028582 fill: 0\n",
      "[CPU] estimating 688x1107x1024 disparity using 688x1107x8u tiles\n",
      "timings: rectify: 0.028938 disparity: 0.782181 borders: 0.001179 filter: 0.008573 fill: 0\n",
      "[CPU] estimating 724x1083x544 disparity using 724x1083x8u tiles\n",
      "timings: rectify: 0.029822 disparity: 1.33352 borders: 0.019333 filter: 0.035448 fill: 0\n",
      "[CPU] estimating 719x1070x512 disparity using 719x1070x8u tiles\n",
      "timings: rectify: 0.029473 disparity: 1.39929 borders: 0.020219 filter: 0.031115 fill: 1e-06\n",
      "[CPU] estimating 687x1094x1024 disparity using 687x1094x8u tiles\n",
      "timings: rectify: 0.028737 disparity: 0.744743 borders: 0.000993 filter: 0.008404 fill: 0\n",
      "[CPU] estimating 378x1075x160 disparity using 378x1075x8u tiles\n",
      "timings: rectify: 0.020027 disparity: 0.646645 borders: 0.013085 filter: 0.020191 fill: 0\n",
      "[CPU] estimating 439x1151x224 disparity using 439x1151x8u tiles\n",
      "timings: rectify: 0.023311 disparity: 0.865979 borders: 0.013018 filter: 0.023348 fill: 0\n",
      "[CPU] estimating 495x1092x160 disparity using 495x1092x8u tiles\n",
      "timings: rectify: 0.022234 disparity: 0.924177 borders: 0.016928 filter: 0.032787 fill: 0\n",
      "[CPU] estimating 734x1088x576 disparity using 734x1088x8u tiles\n",
      "timings: rectify: 0.030144 disparity: 0.978029 borders: 0.001198 filter: 0.011389 fill: 1e-06\n",
      "[CPU] estimating 722x1070x512 disparity using 722x1070x8u tiles\n",
      "timings: rectify: 0.029638 disparity: 1.42979 borders: 0.025401 filter: 0.042413 fill: 0\n",
      "[CPU] estimating 749x1091x1024 disparity using 749x1091x8u tiles\n",
      "timings: rectify: 0.031347 disparity: 1.46931 borders: 0.022177 filter: 0.03914 fill: 1e-06\n",
      "[CPU] estimating 540x1118x160 disparity using 540x1118x8u tiles\n",
      "timings: rectify: 0.024936 disparity: 1.08902 borders: 0.01714 filter: 0.030064 fill: 0\n",
      "[CPU] estimating 459x1148x192 disparity using 459x1148x8u tiles\n",
      "timings: rectify: 0.021822 disparity: 0.927391 borders: 0.014935 filter: 0.025272 fill: 1e-06\n",
      "[CPU] estimating 419x1120x320 disparity using 419x1120x8u tiles\n",
      "timings: rectify: 0.019033 disparity: 0.857915 borders: 0.008502 filter: 0.020686 fill: 0\n",
      "[CPU] estimating 432x1165x224 disparity using 432x1165x8u tiles\n",
      "timings: rectify: 0.031564 disparity: 0.912695 borders: 0.012199 filter: 0.024837 fill: 0\n",
      "[CPU] estimating 468x1117x224 disparity using 468x1117x8u tiles\n",
      "timings: rectify: 0.021823 disparity: 0.948734 borders: 0.014945 filter: 0.024738 fill: 0\n",
      "[CPU] estimating 395x1034x192 disparity using 395x1034x8u tiles\n",
      "timings: rectify: 0.021213 disparity: 0.755356 borders: 0.012289 filter: 0.02423 fill: 0\n",
      "[CPU] estimating 456x1133x192 disparity using 456x1133x8u tiles\n",
      "timings: rectify: 0.02137 disparity: 0.909809 borders: 0.017103 filter: 0.02841 fill: 1e-06\n",
      "[CPU] estimating 505x1081x160 disparity using 505x1081x8u tiles\n",
      "timings: rectify: 0.03466 disparity: 0.964578 borders: 0.017565 filter: 0.031193 fill: 0\n",
      "[CPU] estimating 708x1099x1056 disparity using 708x1099x8u tiles\n",
      "timings: rectify: 0.029404 disparity: 0.935025 borders: 0.001535 filter: 0.011429 fill: 0\n",
      "[CPU] estimating 719x1070x512 disparity using 719x1070x8u tiles\n",
      "timings: rectify: 0.029961 disparity: 1.34188 borders: 0.020558 filter: 0.039088 fill: 1e-06\n",
      "[CPU] estimating 946x1068x448 disparity using 946x1068x8u tiles\n",
      "timings: rectify: 0.040143 disparity: 1.48033 borders: 0.026357 filter: 0.042104 fill: 1e-06\n",
      "[CPU] estimating 701x1077x928 disparity using 701x1077x8u tiles\n",
      "timings: rectify: 0.047462 disparity: 0.893176 borders: 0.001356 filter: 0.010946 fill: 0\n",
      "[CPU] estimating 502x1105x192 disparity using 502x1105x8u tiles\n",
      "timings: rectify: 0.024614 disparity: 1.01601 borders: 0.016189 filter: 0.027956 fill: 0\n",
      "[CPU] estimating 477x1147x224 disparity using 477x1147x8u tiles\n",
      "timings: rectify: 0.023156 disparity: 0.978962 borders: 0.011742 filter: 0.021414 fill: 0\n",
      "[CPU] estimating 331x1181x160 disparity using 331x1181x8u tiles\n",
      "timings: rectify: 0.020482 disparity: 0.678516 borders: 0.014481 filter: 0.024729 fill: 0\n",
      "[CPU] estimating 423x1123x160 disparity using 423x1123x8u tiles\n",
      "timings: rectify: 0.01973 disparity: 0.86776 borders: 0.017017 filter: 0.028122 fill: 0\n",
      "[CPU] estimating 677x1106x1024 disparity using 677x1106x8u tiles\n",
      "timings: rectify: 0.028483 disparity: 1.30787 borders: 0.01816 filter: 0.034174 fill: 0\n",
      "[CPU] estimating 731x1069x512 disparity using 731x1069x8u tiles\n",
      "timings: rectify: 0.02952 disparity: 1.34549 borders: 0.017698 filter: 0.035083 fill: 2e-06\n",
      "[CPU] estimating 724x1083x544 disparity using 724x1083x8u tiles\n",
      "timings: rectify: 0.030029 disparity: 1.19815 borders: 0.01984 filter: 0.032526 fill: 0\n",
      "[CPU] estimating 709x1099x1056 disparity using 709x1099x8u tiles\n",
      "timings: rectify: 0.029772 disparity: 0.788975 borders: 0.001011 filter: 0.008673 fill: 0\n",
      "[CPU] estimating 425x1127x160 disparity using 425x1127x8u tiles\n",
      "timings: rectify: 0.020609 disparity: 0.717243 borders: 0.016596 filter: 0.025037 fill: 0\n",
      "[CPU] estimating 331x1104x192 disparity using 331x1104x8u tiles\n",
      "timings: rectify: 0.015232 disparity: 0.535128 borders: 0.010471 filter: 0.016533 fill: 1e-06\n",
      "[CPU] estimating 392x959x192 disparity using 392x959x8u tiles\n",
      "timings: rectify: 0.01958 disparity: 0.616747 borders: 0.011914 filter: 0.021472 fill: 0\n",
      "[CPU] estimating 402x1051x192 disparity using 402x1051x8u tiles\n",
      "timings: rectify: 0.02932 disparity: 0.693161 borders: 0.015297 filter: 0.024043 fill: 0\n",
      "[CPU] estimating 425x1127x160 disparity using 425x1127x8u tiles\n",
      "timings: rectify: 0.019702 disparity: 0.775648 borders: 0.01647 filter: 0.026439 fill: 0\n",
      "[CPU] estimating 688x1094x1024 disparity using 688x1094x8u tiles\n",
      "timings: rectify: 0.028571 disparity: 0.895574 borders: 0.001334 filter: 0.011002 fill: 0\n",
      "[CPU] estimating 945x1068x448 disparity using 945x1068x8u tiles\n",
      "timings: rectify: 0.042178 disparity: 1.63252 borders: 0.015657 filter: 0.033441 fill: 0\n",
      "[CPU] estimating 704x1120x160 disparity using 704x1120x8u tiles\n",
      "timings: rectify: 0.032049 disparity: 1.19219 borders: 0.024092 filter: 0.037582 fill: 0\n",
      "[CPU] estimating 624x1076x160 disparity using 624x1076x8u tiles\n",
      "timings: rectify: 0.027539 disparity: 0.996989 borders: 0.018293 filter: 0.026593 fill: 0\n",
      "[CPU] estimating 558x1107x192 disparity using 558x1107x8u tiles\n",
      "timings: rectify: 0.025489 disparity: 0.962015 borders: 0.015081 filter: 0.025429 fill: 0\n",
      "[CPU] estimating 515x1152x224 disparity using 515x1152x8u tiles\n",
      "timings: rectify: 0.024535 disparity: 0.938854 borders: 0.014228 filter: 0.021848 fill: 0\n",
      "[CPU] estimating 525x1176x288 disparity using 525x1176x8u tiles\n",
      "timings: rectify: 0.025724 disparity: 0.979694 borders: 0.01407 filter: 0.024721 fill: 0\n",
      "[CPU] estimating 575x1211x320 disparity using 575x1211x8u tiles\n",
      "timings: rectify: 0.026866 disparity: 1.06408 borders: 0.009845 filter: 0.017003 fill: 0\n",
      "[CPU] estimating 687x1136x1184 disparity using 687x1136x8u tiles\n",
      "timings: rectify: 0.040138 disparity: 0.8783 borders: 0.001196 filter: 0.011126 fill: 0\n",
      "[CPU] estimating 672x1076x576 disparity using 672x1076x8u tiles\n",
      "timings: rectify: 0.028218 disparity: 0.912064 borders: 0.001089 filter: 0.010332 fill: 0\n",
      "[CPU] estimating 734x1088x576 disparity using 734x1088x8u tiles\n",
      "timings: rectify: 0.034994 disparity: 1.38309 borders: 0.021139 filter: 0.035394 fill: 0\n",
      "[CPU] estimating 759x1088x1056 disparity using 759x1088x8u tiles\n",
      "timings: rectify: 0.031546 disparity: 0.994944 borders: 0.001251 filter: 0.011775 fill: 0\n",
      "[CPU] estimating 509x1119x160 disparity using 509x1119x8u tiles\n",
      "timings: rectify: 0.031636 disparity: 1.03232 borders: 0.015736 filter: 0.028091 fill: 0\n",
      "[CPU] estimating 426x1166x160 disparity using 426x1166x8u tiles\n",
      "timings: rectify: 0.020713 disparity: 0.894336 borders: 0.012353 filter: 0.026058 fill: 0\n",
      "[CPU] estimating 334x1115x352 disparity using 334x1115x8u tiles\n",
      "timings: rectify: 0.014209 disparity: 0.699695 borders: 0.008419 filter: 0.014875 fill: 0\n",
      "[CPU] estimating 358x1160x256 disparity using 358x1160x8u tiles\n",
      "timings: rectify: 0.016976 disparity: 0.708708 borders: 0.010704 filter: 0.021711 fill: 0\n",
      "[CPU] estimating 654x1129x1024 disparity using 654x1129x8u tiles\n",
      "timings: rectify: 0.030095 disparity: 0.899816 borders: 0.001153 filter: 0.010532 fill: 1e-06\n",
      "[CPU] estimating 673x1091x832 disparity using 673x1091x8u tiles\n",
      "timings: rectify: 0.029034 disparity: 0.885089 borders: 0.001145 filter: 0.010551 fill: 1e-06\n",
      "[CPU] estimating 509x1119x160 disparity using 509x1119x8u tiles\n",
      "timings: rectify: 0.028662 disparity: 0.97042 borders: 0.015098 filter: 0.027102 fill: 0\n",
      "[CPU] estimating 748x1091x1024 disparity using 748x1091x8u tiles\n",
      "timings: rectify: 0.031266 disparity: 1.4789 borders: 0.023807 filter: 0.040961 fill: 0\n",
      "[CPU] estimating 735x1080x512 disparity using 735x1080x8u tiles\n",
      "timings: rectify: 0.043979 disparity: 1.36594 borders: 0.025328 filter: 0.038575 fill: 0\n",
      "[CPU] estimating 727x1053x512 disparity using 727x1053x8u tiles\n",
      "timings: rectify: 0.029154 disparity: 1.31739 borders: 0.024026 filter: 0.038576 fill: 0\n",
      "[CPU] estimating 735x1088x992 disparity using 735x1088x8u tiles\n",
      "timings: rectify: 0.030626 disparity: 1.45666 borders: 0.020791 filter: 0.039716 fill: 0\n",
      "[CPU] estimating 586x1040x160 disparity using 586x1040x8u tiles\n",
      "timings: rectify: 0.025213 disparity: 1.05753 borders: 0.020312 filter: 0.0366 fill: 0\n",
      "[CPU] estimating 494x1092x160 disparity using 494x1092x8u tiles\n",
      "timings: rectify: 0.022432 disparity: 0.948608 borders: 0.017809 filter: 0.028461 fill: 0\n",
      "[CPU] estimating 364x920x160 disparity using 364x920x8u tiles\n",
      "timings: rectify: 0.01401 disparity: 0.637174 borders: 0.012607 filter: 0.018318 fill: 0\n",
      "[CPU] estimating 337x1042x224 disparity using 337x1042x8u tiles\n",
      "timings: rectify: 0.018236 disparity: 0.644173 borders: 0.008751 filter: 0.01894 fill: 0\n",
      "[CPU] estimating 331x1104x192 disparity using 331x1104x8u tiles\n",
      "timings: rectify: 0.015137 disparity: 0.641838 borders: 0.013071 filter: 0.024316 fill: 0\n",
      "[CPU] estimating 378x1075x160 disparity using 378x1075x8u tiles\n",
      "timings: rectify: 0.01669 disparity: 0.763343 borders: 0.014209 filter: 0.021262 fill: 0\n",
      "[CPU] estimating 702x1077x928 disparity using 702x1077x8u tiles\n",
      "timings: rectify: 0.031029 disparity: 0.898779 borders: 0.001184 filter: 0.010801 fill: 0\n",
      "[CPU] estimating 705x1120x160 disparity using 705x1120x8u tiles\n",
      "timings: rectify: 0.038201 disparity: 1.35771 borders: 0.026623 filter: 0.043471 fill: 1e-06\n",
      "[CPU] estimating 652x1070x128 disparity using 652x1070x8u tiles\n",
      "timings: rectify: 0.03382 disparity: 1.1825 borders: 0.024471 filter: 0.040845 fill: 0\n",
      "[CPU] estimating 643x1091x160 disparity using 643x1091x8u tiles\n",
      "timings: rectify: 0.028733 disparity: 1.25265 borders: 0.021092 filter: 0.035827 fill: 0\n",
      "[CPU] estimating 629x1113x192 disparity using 629x1113x8u tiles\n",
      "timings: rectify: 0.028867 disparity: 1.26909 borders: 0.019644 filter: 0.032123 fill: 0\n",
      "[CPU] estimating 600x1147x192 disparity using 600x1147x8u tiles\n",
      "timings: rectify: 0.028645 disparity: 1.20993 borders: 0.019515 filter: 0.032033 fill: 1e-06\n",
      "[CPU] estimating 523x1148x256 disparity using 523x1148x8u tiles\n",
      "timings: rectify: 0.025095 disparity: 1.0741 borders: 0.018864 filter: 0.029897 fill: 0\n",
      "[CPU] estimating 559x1197x288 disparity using 559x1197x8u tiles\n",
      "timings: rectify: 0.039013 disparity: 1.16993 borders: 0.014782 filter: 0.02779 fill: 0\n",
      "[CPU] estimating 523x1092x320 disparity using 523x1092x8u tiles\n",
      "timings: rectify: 0.022261 disparity: 1.05379 borders: 0.011594 filter: 0.022343 fill: 1e-06\n",
      "[CPU] estimating 296x1082x192 disparity using 296x1082x8u tiles\n",
      "timings: rectify: 0.018682 disparity: 0.60077 borders: 0.010134 filter: 0.017423 fill: 0\n",
      "[CPU] estimating 502x1105x192 disparity using 502x1105x8u tiles\n",
      "timings: rectify: 0.036291 disparity: 0.955925 borders: 0.016224 filter: 0.026148 fill: 0\n",
      "[CPU] estimating 624x1076x160 disparity using 624x1076x8u tiles\n",
      "timings: rectify: 0.027487 disparity: 1.18117 borders: 0.021944 filter: 0.037934 fill: 0\n",
      "[CPU] estimating 652x1070x128 disparity using 652x1070x8u tiles\n",
      "timings: rectify: 0.02851 disparity: 1.215 borders: 0.023685 filter: 0.040094 fill: 1e-06\n",
      "[CPU] estimating 695x1077x128 disparity using 695x1077x8u tiles\n",
      "timings: rectify: 0.030562 disparity: 1.29117 borders: 0.027422 filter: 0.039712 fill: 0\n",
      "[CPU] estimating 678x1082x128 disparity using 678x1082x8u tiles\n",
      "timings: rectify: 0.03037 disparity: 1.26915 borders: 0.018886 filter: 0.031269 fill: 1e-06\n",
      "[CPU] estimating 629x1107x160 disparity using 629x1107x8u tiles\n",
      "timings: rectify: 0.028767 disparity: 1.05406 borders: 0.01743 filter: 0.03477 fill: 0\n",
      "[CPU] estimating 551x1140x192 disparity using 551x1140x8u tiles\n",
      "timings: rectify: 0.025582 disparity: 0.933416 borders: 0.016822 filter: 0.027492 fill: 0\n",
      "[CPU] estimating 551x1146x192 disparity using 551x1146x8u tiles\n",
      "timings: rectify: 0.036978 disparity: 0.984647 borders: 0.016658 filter: 0.032878 fill: 0\n",
      "[CPU] estimating 556x1171x256 disparity using 556x1171x8u tiles\n",
      "timings: rectify: 0.026951 disparity: 1.01336 borders: 0.014097 filter: 0.026548 fill: 0\n",
      "[CPU] estimating 477x1147x224 disparity using 477x1147x8u tiles\n",
      "timings: rectify: 0.036133 disparity: 0.941846 borders: 0.011639 filter: 0.022302 fill: 0\n",
      "[CPU] estimating 558x1107x192 disparity using 558x1107x8u tiles\n",
      "timings: rectify: 0.025296 disparity: 1.12731 borders: 0.018823 filter: 0.032622 fill: 0\n",
      "[CPU] estimating 643x1091x160 disparity using 643x1091x8u tiles\n",
      "timings: rectify: 0.028723 disparity: 1.21997 borders: 0.021362 filter: 0.036475 fill: 0\n",
      "[CPU] estimating 695x1077x128 disparity using 695x1077x8u tiles\n",
      "timings: rectify: 0.030596 disparity: 1.30235 borders: 0.027368 filter: 0.040656 fill: 1e-06\n",
      "[CPU] estimating 720x1082x96 disparity using 720x1082x8u tiles\n",
      "timings: rectify: 0.032136 disparity: 1.35509 borders: 0.030795 filter: 0.046491 fill: 1e-06\n",
      "[CPU] estimating 675x1077x128 disparity using 675x1077x8u tiles\n",
      "timings: rectify: 0.030048 disparity: 1.28224 borders: 0.021965 filter: 0.035056 fill: 1e-06\n",
      "[CPU] estimating 640x1092x160 disparity using 640x1092x8u tiles\n",
      "timings: rectify: 0.029116 disparity: 1.23079 borders: 0.020956 filter: 0.035558 fill: 1e-06\n",
      "[CPU] estimating 561x1097x192 disparity using 561x1097x8u tiles\n",
      "timings: rectify: 0.025625 disparity: 1.11874 borders: 0.020434 filter: 0.033882 fill: 1e-06\n",
      "[CPU] estimating 568x1141x224 disparity using 568x1141x8u tiles\n",
      "timings: rectify: 0.027363 disparity: 1.14742 borders: 0.018369 filter: 0.028792 fill: 0\n",
      "[CPU] estimating 447x1084x256 disparity using 447x1084x8u tiles\n",
      "timings: rectify: 0.02019 disparity: 0.891495 borders: 0.012738 filter: 0.025761 fill: 0\n",
      "[CPU] estimating 515x1152x224 disparity using 515x1152x8u tiles\n",
      "timings: rectify: 0.026859 disparity: 1.06945 borders: 0.018916 filter: 0.031114 fill: 1e-06\n",
      "[CPU] estimating 629x1113x192 disparity using 629x1113x8u tiles\n",
      "timings: rectify: 0.028971 disparity: 1.25434 borders: 0.02006 filter: 0.035846 fill: 0\n",
      "[CPU] estimating 678x1082x128 disparity using 678x1082x8u tiles\n",
      "timings: rectify: 0.030539 disparity: 1.32678 borders: 0.021833 filter: 0.038619 fill: 0\n",
      "[CPU] estimating 721x1082x96 disparity using 721x1082x8u tiles\n",
      "timings: rectify: 0.032412 disparity: 1.3243 borders: 0.027919 filter: 0.041334 fill: 0\n",
      "[CPU] estimating 701x1066x96 disparity using 701x1066x8u tiles\n",
      "timings: rectify: 0.031055 disparity: 1.2955 borders: 0.026503 filter: 0.04177 fill: 1e-06\n",
      "[CPU] estimating 646x1072x160 disparity using 646x1072x8u tiles\n",
      "timings: rectify: 0.047715 disparity: 1.2294 borders: 0.022819 filter: 0.03376 fill: 1e-06\n",
      "[CPU] estimating 568x1102x160 disparity using 568x1102x8u tiles\n",
      "timings: rectify: 0.026176 disparity: 1.146 borders: 0.021082 filter: 0.032528 fill: 0\n",
      "[CPU] estimating 570x1106x192 disparity using 570x1106x8u tiles\n",
      "timings: rectify: 0.026419 disparity: 1.13345 borders: 0.018971 filter: 0.031722 fill: 0\n",
      "[CPU] estimating 453x1199x224 disparity using 453x1199x8u tiles\n",
      "timings: rectify: 0.02233 disparity: 1.03405 borders: 0.015619 filter: 0.030117 fill: 0\n",
      "[CPU] estimating 575x1211x320 disparity using 575x1211x8u tiles\n",
      "timings: rectify: 0.033555 disparity: 1.26846 borders: 0.015147 filter: 0.03214 fill: 1e-06\n",
      "[CPU] estimating 523x1148x256 disparity using 523x1148x8u tiles\n",
      "timings: rectify: 0.025046 disparity: 1.09135 borders: 0.017575 filter: 0.029102 fill: 0\n",
      "[CPU] estimating 551x1140x192 disparity using 551x1140x8u tiles\n",
      "timings: rectify: 0.025799 disparity: 1.12359 borders: 0.019592 filter: 0.029354 fill: 0\n",
      "[CPU] estimating 640x1092x160 disparity using 640x1092x8u tiles\n",
      "timings: rectify: 0.028938 disparity: 1.25621 borders: 0.01983 filter: 0.033846 fill: 0\n",
      "[CPU] estimating 646x1072x160 disparity using 646x1072x8u tiles\n",
      "timings: rectify: 0.028959 disparity: 1.24081 borders: 0.021855 filter: 0.038612 fill: 1e-06\n",
      "[CPU] estimating 716x1104x128 disparity using 716x1104x8u tiles\n",
      "timings: rectify: 0.033079 disparity: 1.34315 borders: 0.026656 filter: 0.046841 fill: 0\n",
      "[CPU] estimating 675x1074x128 disparity using 675x1074x8u tiles\n",
      "timings: rectify: 0.029947 disparity: 1.25369 borders: 0.023924 filter: 0.040869 fill: 0\n",
      "[CPU] estimating 721x1086x896 disparity using 721x1086x8u tiles\n",
      "timings: rectify: 0.03262 disparity: 1.39954 borders: 0.02232 filter: 0.037418 fill: 0\n",
      "[CPU] estimating 464x1122x192 disparity using 464x1122x8u tiles\n",
      "timings: rectify: 0.039358 disparity: 0.953273 borders: 0.017585 filter: 0.029617 fill: 0\n",
      "[CPU] estimating 550x1060x320 disparity using 550x1060x8u tiles\n",
      "timings: rectify: 0.023205 disparity: 1.06313 borders: 0.009525 filter: 0.020985 fill: 0\n",
      "[CPU] estimating 559x1197x288 disparity using 559x1197x8u tiles\n",
      "timings: rectify: 0.04109 disparity: 1.24059 borders: 0.017375 filter: 0.030217 fill: 0\n",
      "[CPU] estimating 551x1146x192 disparity using 551x1146x8u tiles\n",
      "timings: rectify: 0.026227 disparity: 1.0875 borders: 0.018266 filter: 0.033283 fill: 0\n",
      "[CPU] estimating 561x1097x192 disparity using 561x1097x8u tiles\n",
      "timings: rectify: 0.025275 disparity: 1.14403 borders: 0.019122 filter: 0.036155 fill: 0\n",
      "[CPU] estimating 568x1102x160 disparity using 568x1102x8u tiles\n",
      "timings: rectify: 0.026675 disparity: 1.08103 borders: 0.020155 filter: 0.035385 fill: 0\n",
      "[CPU] estimating 579x1074x160 disparity using 579x1074x8u tiles\n",
      "timings: rectify: 0.02901 disparity: 1.06486 borders: 0.02078 filter: 0.035396 fill: 0\n",
      "[CPU] estimating 676x1074x128 disparity using 676x1074x8u tiles\n",
      "timings: rectify: 0.029619 disparity: 1.22372 borders: 0.022821 filter: 0.038697 fill: 0\n",
      "[CPU] estimating 702x1082x128 disparity using 702x1082x8u tiles\n",
      "timings: rectify: 0.031705 disparity: 1.29871 borders: 0.024759 filter: 0.04415 fill: 0\n",
      "[CPU] estimating 547x1089x160 disparity using 547x1089x8u tiles\n",
      "timings: rectify: 0.024721 disparity: 1.0502 borders: 0.019945 filter: 0.031257 fill: 0\n",
      "[CPU] estimating 436x1128x224 disparity using 436x1128x8u tiles\n",
      "timings: rectify: 0.032055 disparity: 0.918592 borders: 0.01474 filter: 0.023982 fill: 2e-06\n",
      "[CPU] estimating 405x1140x288 disparity using 405x1140x8u tiles\n",
      "timings: rectify: 0.036554 disparity: 0.857614 borders: 0.013193 filter: 0.023243 fill: 1e-06\n",
      "[CPU] estimating 318x1228x416 disparity using 318x1228x8u tiles\n",
      "timings: rectify: 0.030643 disparity: 0.507989 borders: 0.000679 filter: 0.00584 fill: 1e-06\n",
      "[CPU] estimating 523x1092x320 disparity using 523x1092x8u tiles\n",
      "timings: rectify: 0.022116 disparity: 1.04786 borders: 0.012829 filter: 0.025436 fill: 0\n",
      "[CPU] estimating 556x1171x256 disparity using 556x1171x8u tiles\n",
      "timings: rectify: 0.05063 disparity: 1.11088 borders: 0.014346 filter: 0.023897 fill: 0\n",
      "[CPU] estimating 568x1141x224 disparity using 568x1141x8u tiles\n",
      "timings: rectify: 0.026662 disparity: 0.989367 borders: 0.017182 filter: 0.03278 fill: 0\n",
      "[CPU] estimating 570x1106x192 disparity using 570x1106x8u tiles\n",
      "timings: rectify: 0.025871 disparity: 0.955387 borders: 0.019241 filter: 0.028395 fill: 0\n",
      "[CPU] estimating 573x1102x192 disparity using 573x1102x8u tiles\n",
      "timings: rectify: 0.026042 disparity: 0.962535 borders: 0.018979 filter: 0.032916 fill: 0\n",
      "[CPU] estimating 721x1086x896 disparity using 721x1086x8u tiles\n",
      "timings: rectify: 0.031869 disparity: 0.764736 borders: 0.001172 filter: 0.008741 fill: 1e-06\n",
      "[CPU] estimating 702x1082x128 disparity using 702x1082x8u tiles\n",
      "timings: rectify: 0.031125 disparity: 1.10216 borders: 0.02339 filter: 0.040979 fill: 0\n",
      "[CPU] estimating 718x1068x384 disparity using 718x1068x8u tiles\n",
      "timings: rectify: 0.030929 disparity: 1.30154 borders: 0.021094 filter: 0.036257 fill: 1e-06\n",
      "[CPU] estimating 701x1112x1056 disparity using 701x1112x8u tiles\n",
      "timings: rectify: 0.029317 disparity: 0.954317 borders: 0.001177 filter: 0.011109 fill: 0\n",
      "[CPU] estimating 423x1129x256 disparity using 423x1129x8u tiles\n",
      "timings: rectify: 0.020546 disparity: 0.842521 borders: 0.012944 filter: 0.023362 fill: 0\n",
      "[CPU] estimating 349x1184x352 disparity using 349x1184x8u tiles\n",
      "timings: rectify: 0.017324 disparity: 0.796704 borders: 0.009496 filter: 0.020567 fill: 1e-06\n",
      "[CPU] estimating 525x1176x288 disparity using 525x1176x8u tiles\n",
      "timings: rectify: 0.026104 disparity: 1.11079 borders: 0.017424 filter: 0.033405 fill: 1e-06\n",
      "[CPU] estimating 600x1147x192 disparity using 600x1147x8u tiles\n",
      "timings: rectify: 0.028522 disparity: 1.19218 borders: 0.020168 filter: 0.036303 fill: 0\n",
      "[CPU] estimating 629x1107x160 disparity using 629x1107x8u tiles\n",
      "timings: rectify: 0.028946 disparity: 1.23438 borders: 0.020793 filter: 0.037885 fill: 1e-06\n",
      "[CPU] estimating 675x1077x128 disparity using 675x1077x8u tiles\n",
      "timings: rectify: 0.029852 disparity: 1.28118 borders: 0.021364 filter: 0.034842 fill: 0\n",
      "[CPU] estimating 702x1066x96 disparity using 702x1066x8u tiles\n",
      "timings: rectify: 0.03291 disparity: 1.2716 borders: 0.028349 filter: 0.04211 fill: 1e-06\n",
      "[CPU] estimating 717x1104x128 disparity using 717x1104x8u tiles\n",
      "timings: rectify: 0.035817 disparity: 1.32668 borders: 0.026012 filter: 0.041063 fill: 0\n",
      "[CPU] estimating 579x1074x160 disparity using 579x1074x8u tiles\n",
      "timings: rectify: 0.028562 disparity: 1.07669 borders: 0.021849 filter: 0.032702 fill: 0\n",
      "[CPU] estimating 573x1102x192 disparity using 573x1102x8u tiles\n",
      "timings: rectify: 0.040969 disparity: 1.09991 borders: 0.020822 filter: 0.035597 fill: 0\n",
      "[CPU] estimating 470x1160x224 disparity using 470x1160x8u tiles\n",
      "timings: rectify: 0.022386 disparity: 0.99416 borders: 0.016114 filter: 0.03075 fill: 1e-06\n",
      "[CPU] estimating 747x1123x1120 disparity using 747x1123x8u tiles\n",
      "timings: rectify: 0.035194 disparity: 1.01576 borders: 0.001604 filter: 0.012243 fill: 0\n",
      "[CPU] estimating 369x1157x320 disparity using 369x1157x8u tiles\n",
      "timings: rectify: 0.018091 disparity: 0.806918 borders: 0.01109 filter: 0.018512 fill: 1e-06\n",
      "[CPU] estimating 334x1115x352 disparity using 334x1115x8u tiles\n",
      "timings: rectify: 0.014231 disparity: 0.703756 borders: 0.006774 filter: 0.016721 fill: 0\n",
      "[CPU] estimating 424x1060x288 disparity using 424x1060x8u tiles\n",
      "timings: rectify: 0.017162 disparity: 0.808841 borders: 0.010386 filter: 0.023653 fill: 0\n",
      "[CPU] estimating 447x1084x256 disparity using 447x1084x8u tiles\n",
      "timings: rectify: 0.020919 disparity: 0.856668 borders: 0.0119 filter: 0.021028 fill: 0\n",
      "[CPU] estimating 453x1199x224 disparity using 453x1199x8u tiles\n",
      "timings: rectify: 0.022265 disparity: 0.957948 borders: 0.014603 filter: 0.025393 fill: 0\n",
      "[CPU] estimating 470x1160x224 disparity using 470x1160x8u tiles\n",
      "timings: rectify: 0.022403 disparity: 0.959786 borders: 0.01507 filter: 0.026433 fill: 1e-06\n",
      "[CPU] estimating 464x1122x192 disparity using 464x1122x8u tiles\n",
      "timings: rectify: 0.021696 disparity: 0.974823 borders: 0.017027 filter: 0.030514 fill: 0\n",
      "[CPU] estimating 547x1089x160 disparity using 547x1089x8u tiles\n",
      "timings: rectify: 0.024746 disparity: 1.05481 borders: 0.020349 filter: 0.036639 fill: 0\n",
      "[CPU] estimating 718x1068x384 disparity using 718x1068x8u tiles\n",
      "timings: rectify: 0.031266 disparity: 1.37955 borders: 0.024209 filter: 0.04015 fill: 0\n",
      "[CPU] estimating 733x1072x544 disparity using 733x1072x8u tiles\n",
      "timings: rectify: 0.029627 disparity: 0.95745 borders: 0.001383 filter: 0.011236 fill: 0\n",
      "[CPU] estimating 739x1109x1024 disparity using 739x1109x8u tiles\n",
      "timings: rectify: 0.031724 disparity: 0.947285 borders: 0.00125 filter: 0.011648 fill: 0\n",
      "[CPU] estimating 423x1128x256 disparity using 423x1128x8u tiles\n",
      "timings: rectify: 0.022575 disparity: 0.90726 borders: 0.01454 filter: 0.026201 fill: 1e-06\n",
      "[CPU] estimating 774x1432x160 disparity using 774x1432x8u tiles\n",
      "timings: rectify: 0.048299 disparity: 1.72844 borders: 0.037866 filter: 0.058385 fill: 0\n",
      "[CPU] estimating 726x1081x736 disparity using 726x1081x8u tiles\n",
      "timings: rectify: 0.030165 disparity: 0.78614 borders: 0.001024 filter: 0.008807 fill: 0\n",
      "[CPU] estimating 654x1129x1024 disparity using 654x1129x8u tiles\n",
      "timings: rectify: 0.035885 disparity: 0.704235 borders: 0.000991 filter: 0.008172 fill: 0\n",
      "[CPU] estimating 432x1165x224 disparity using 432x1165x8u tiles\n",
      "timings: rectify: 0.02105 disparity: 0.783547 borders: 0.01351 filter: 0.020193 fill: 0\n",
      "[CPU] estimating 739x1109x1024 disparity using 739x1109x8u tiles\n",
      "timings: rectify: 0.031051 disparity: 1.27282 borders: 0.014704 filter: 0.025761 fill: 0\n",
      "[CPU] estimating 723x1078x480 disparity using 723x1078x8u tiles\n",
      "timings: rectify: 0.029324 disparity: 1.12444 borders: 0.017379 filter: 0.029069 fill: 0\n",
      "[CPU] estimating 722x1073x480 disparity using 722x1073x8u tiles\n",
      "timings: rectify: 0.02975 disparity: 1.10603 borders: 0.01758 filter: 0.030669 fill: 0\n",
      "[CPU] estimating 731x1077x608 disparity using 731x1077x8u tiles\n",
      "timings: rectify: 0.039699 disparity: 1.11467 borders: 0.022078 filter: 0.03258 fill: 0\n",
      "[CPU] estimating 661x1137x1216 disparity using 661x1137x8u tiles\n",
      "timings: rectify: 0.028398 disparity: 0.973132 borders: 0.001385 filter: 0.010795 fill: 0\n",
      "[CPU] estimating 358x1160x256 disparity using 358x1160x8u tiles\n",
      "timings: rectify: 0.021396 disparity: 0.750061 borders: 0.014347 filter: 0.023331 fill: 0\n",
      "[CPU] estimating 419x1120x320 disparity using 419x1120x8u tiles\n",
      "timings: rectify: 0.033043 disparity: 0.830417 borders: 0.009023 filter: 0.021344 fill: 1e-06\n",
      "[CPU] estimating 436x1128x224 disparity using 436x1128x8u tiles\n",
      "timings: rectify: 0.020559 disparity: 0.864815 borders: 0.014854 filter: 0.027109 fill: 1e-06\n",
      "[CPU] estimating 702x1112x1056 disparity using 702x1112x8u tiles\n",
      "timings: rectify: 0.029768 disparity: 0.957829 borders: 0.001382 filter: 0.01119 fill: 0\n",
      "[CPU] estimating 733x1072x544 disparity using 733x1072x8u tiles\n",
      "timings: rectify: 0.031423 disparity: 1.38677 borders: 0.018128 filter: 0.031533 fill: 0\n",
      "[CPU] estimating 723x1078x480 disparity using 723x1078x8u tiles\n",
      "timings: rectify: 0.029453 disparity: 1.37848 borders: 0.018866 filter: 0.034902 fill: 0\n",
      "[CPU] estimating 726x1105x960 disparity using 726x1105x8u tiles\n",
      "timings: rectify: 0.03054 disparity: 0.948135 borders: 0.001475 filter: 0.011701 fill: 0\n",
      "[CPU] estimating 723x1118x384 disparity using 723x1118x8u tiles\n",
      "timings: rectify: 0.048866 disparity: 1.34089 borders: 0.020849 filter: 0.038896 fill: 0\n",
      "[CPU] estimating 735x1212x256 disparity using 735x1212x8u tiles\n",
      "timings: rectify: 0.034469 disparity: 1.39604 borders: 0.024299 filter: 0.04044 fill: 1e-06\n",
      "[CPU] estimating 674x1091x832 disparity using 674x1091x8u tiles\n",
      "timings: rectify: 0.028348 disparity: 0.923605 borders: 0.001342 filter: 0.010572 fill: 0\n",
      "[CPU] estimating 468x1117x224 disparity using 468x1117x8u tiles\n",
      "timings: rectify: 0.026139 disparity: 0.954441 borders: 0.016908 filter: 0.029274 fill: 0\n",
      "[CPU] estimating 446x1163x192 disparity using 446x1163x8u tiles\n",
      "timings: rectify: 0.021776 disparity: 0.926924 borders: 0.020005 filter: 0.028758 fill: 0\n",
      "[CPU] estimating 423x1128x256 disparity using 423x1128x8u tiles\n",
      "timings: rectify: 0.019786 disparity: 0.845627 borders: 0.011773 filter: 0.021058 fill: 0\n",
      "[CPU] estimating 726x1105x960 disparity using 726x1105x8u tiles\n",
      "timings: rectify: 0.030915 disparity: 1.43225 borders: 0.014265 filter: 0.033332 fill: 0\n",
      "[CPU] estimating 722x1073x480 disparity using 722x1073x8u tiles\n",
      "timings: rectify: 0.029649 disparity: 1.27749 borders: 0.017484 filter: 0.036657 fill: 0\n",
      "finished depth reconstruction in 329.659 seconds\n",
      "Device 1: 100% work done with performance: 33.7875 million samples/sec (CPU), device used for 295.5 seconds\n",
      "Total performance: 33.7875 million samples/sec\n",
      "selected 32 cameras in 0.083219 sec\n",
      "working volume: 29219x26962x9084\n",
      "tiles: 7x7x2\n",
      "selected 1 cameras\n",
      "preloading data... done in 0.046293 sec\n",
      "filtering depth maps... done in 0.000114 sec\n",
      "preloading data... done in 0.243921 sec\n",
      "accumulating data... done in 0.081148 sec\n",
      "building point cloud... done in 0.006208 sec\n",
      "selected 1 cameras\n",
      "preloading data... done in 0.05306 sec\n",
      "filtering depth maps... done in 0.000102 sec\n",
      "preloading data... done in 0.241178 sec\n",
      "accumulating data... done in 0.081069 sec\n",
      "building point cloud... done in 0.008413 sec\n",
      "selected 1 cameras\n",
      "preloading data... done in 0.053296 sec\n",
      "filtering depth maps... done in 9.7e-05 sec\n",
      "preloading data... done in 0.241845 sec\n",
      "accumulating data... done in 0.077077 sec\n",
      "building point cloud... done in 0.011606 sec\n",
      "selected 1 cameras\n",
      "preloading data... done in 0.052909 sec\n",
      "filtering depth maps... done in 0.000106 sec\n",
      "preloading data... done in 0.245807 sec\n",
      "accumulating data... done in 0.07896 sec\n",
      "building point cloud... done in 0.009155 sec\n",
      "selected 2 cameras\n",
      "preloading data... done in 0.052709 sec\n",
      "filtering depth maps... done in 0.028345 sec\n",
      "preloading data... done in 0.236378 sec\n",
      "accumulating data... done in 0.090092 sec\n",
      "building point cloud... done in 0.041432 sec\n",
      "selected 2 cameras\n",
      "preloading data... done in 0.05244 sec\n",
      "filtering depth maps... done in 0.030672 sec\n",
      "preloading data... done in 0.243346 sec\n",
      "accumulating data... done in 0.07907 sec\n",
      "building point cloud... done in 0.012289 sec\n",
      "selected 1 cameras\n",
      "preloading data... done in 0.045711 sec\n",
      "filtering depth maps... done in 0.000103 sec\n",
      "preloading data... done in 0.247729 sec\n",
      "accumulating data... done in 0.079776 sec\n",
      "building point cloud... done in 0.005725 sec\n",
      "selected 1 cameras\n",
      "preloading data... done in 0.045453 sec\n",
      "filtering depth maps... done in 9.5e-05 sec\n",
      "preloading data... done in 0.236168 sec\n",
      "accumulating data... done in 0.072281 sec\n",
      "building point cloud... done in 0.014104 sec\n",
      "selected 4 cameras\n",
      "preloading data... done in 0.060012 sec\n",
      "filtering depth maps... done in 0.167522 sec\n",
      "preloading data... done in 0.239938 sec\n",
      "accumulating data... done in 0.139888 sec\n",
      "building point cloud... done in 0.029299 sec\n",
      "selected 6 cameras\n",
      "preloading data... done in 0.062743 sec\n",
      "filtering depth maps... done in 0.334657 sec\n",
      "preloading data... done in 0.233006 sec\n",
      "accumulating data... done in 0.090909 sec\n",
      "building point cloud... done in 0.006938 sec\n",
      "selected 2 cameras\n",
      "preloading data... done in 0.059112 sec\n",
      "filtering depth maps... done in 0.041577 sec\n",
      "preloading data... done in 0.263521 sec\n",
      "accumulating data... done in 0.097257 sec\n",
      "building point cloud... done in 0.00497 sec\n",
      "selected 7 cameras\n",
      "preloading data... done in 0.066584 sec\n",
      "filtering depth maps... done in 0.55825 sec\n",
      "preloading data... done in 0.208563 sec\n",
      "accumulating data... done in 0.097518 sec\n",
      "building point cloud... done in 0.082313 sec\n",
      "selected 9 cameras\n",
      "preloading data... done in 0.058076 sec\n",
      "filtering depth maps... done in 0.758262 sec\n",
      "preloading data... done in 0.21428 sec\n",
      "accumulating data... done in 0.083701 sec\n",
      "building point cloud... done in 0.006924 sec\n",
      "selected 2 cameras\n",
      "preloading data... done in 0.04069 sec\n",
      "filtering depth maps... done in 0.032951 sec\n",
      "preloading data... done in 0.181367 sec\n",
      "accumulating data... done in 0.054272 sec\n",
      "building point cloud... done in 0.004906 sec\n",
      "selected 2 cameras\n",
      "preloading data... done in 0.041804 sec\n",
      "filtering depth maps... done in 0.03931 sec\n",
      "preloading data... done in 0.17682 sec\n",
      "accumulating data... done in 0.057462 sec\n",
      "building point cloud... done in 0.007754 sec\n",
      "selected 1 cameras\n",
      "preloading data... done in 0.039416 sec\n",
      "filtering depth maps... done in 0.00013 sec\n",
      "preloading data... done in 0.201073 sec\n",
      "accumulating data... done in 0.052053 sec\n",
      "building point cloud... done in 0.007535 sec\n",
      "selected 1 cameras\n",
      "preloading data... done in 0.039971 sec\n",
      "filtering depth maps... done in 0.000199 sec\n",
      "preloading data... done in 0.17362 sec\n",
      "accumulating data... done in 0.051916 sec\n",
      "building point cloud... done in 0.00931 sec\n",
      "selected 1 cameras\n",
      "preloading data... done in 0.050165 sec\n",
      "filtering depth maps... done in 5.9e-05 sec\n",
      "preloading data... done in 0.19821 sec\n",
      "accumulating data... done in 0.0798 sec\n",
      "building point cloud... done in 0.004933 sec\n",
      "selected 4 cameras\n",
      "preloading data... done in 0.051005 sec\n",
      "filtering depth maps... done in 0.185687 sec\n",
      "preloading data... done in 0.192449 sec\n",
      "accumulating data... done in 0.077256 sec\n",
      "building point cloud... done in 0.009687 sec\n",
      "selected 1 cameras\n",
      "preloading data... done in 0.040095 sec\n",
      "filtering depth maps... done in 0.000152 sec\n",
      "preloading data... done in 0.176099 sec\n",
      "accumulating data... done in 0.057925 sec\n",
      "building point cloud... done in 0.007617 sec\n",
      "selected 2 cameras\n",
      "preloading data... done in 0.041802 sec\n",
      "filtering depth maps... done in 0.036745 sec\n",
      "preloading data... done in 0.175405 sec\n",
      "accumulating data... done in 0.059834 sec\n",
      "building point cloud... done in 0.004958 sec\n",
      "selected 2 cameras\n",
      "preloading data... done in 0.040693 sec\n",
      "filtering depth maps... done in 0.033463 sec\n",
      "preloading data... done in 0.179796 sec\n",
      "accumulating data... done in 0.057549 sec\n",
      "building point cloud... done in 0.005675 sec\n",
      "selected 2 cameras\n",
      "preloading data... done in 0.040718 sec\n",
      "filtering depth maps... done in 0.034068 sec\n",
      "preloading data... done in 0.175567 sec\n",
      "accumulating data... done in 0.057751 sec\n",
      "building point cloud... done in 0.006529 sec\n",
      "selected 2 cameras\n",
      "preloading data... done in 0.043099 sec\n",
      "filtering depth maps... done in 0.036149 sec\n",
      "preloading data... done in 0.177583 sec\n",
      "accumulating data... done in 0.058913 sec\n",
      "building point cloud... done in 0.006249 sec\n",
      "selected 1 cameras\n",
      "preloading data... done in 0.038111 sec\n",
      "filtering depth maps... done in 0.000183 sec\n",
      "preloading data... done in 0.181402 sec\n",
      "accumulating data... done in 0.05363 sec\n",
      "building point cloud... done in 0.004992 sec\n",
      "selected 2 cameras\n",
      "preloading data... done in 0.041467 sec\n",
      "filtering depth maps... done in 0.032608 sec\n",
      "preloading data... done in 0.188175 sec\n",
      "accumulating data... done in 0.056268 sec\n",
      "building point cloud... done in 0.007489 sec\n",
      "selected 2 cameras\n",
      "preloading data... done in 0.041516 sec\n",
      "filtering depth maps... done in 0.037116 sec\n",
      "preloading data... done in 0.170226 sec\n",
      "accumulating data... done in 0.061721 sec\n",
      "building point cloud... done in 0.005284 sec\n",
      "selected 1 cameras\n",
      "preloading data... done in 0.035571 sec\n",
      "filtering depth maps... done in 0.000162 sec\n",
      "preloading data... done in 0.189288 sec\n",
      "accumulating data... done in 0.056559 sec\n",
      "building point cloud... done in 0.008885 sec\n",
      "selected 1 cameras\n",
      "preloading data... done in 0.039899 sec\n",
      "filtering depth maps... done in 7.3e-05 sec\n",
      "preloading data... done in 0.192636 sec\n",
      "accumulating data... done in 0.056867 sec\n",
      "building point cloud... done in 0.005652 sec\n",
      "selected 1 cameras\n",
      "preloading data... done in 0.036539 sec\n",
      "filtering depth maps... done in 9.5e-05 sec\n",
      "preloading data... done in 0.178972 sec\n",
      "accumulating data... done in 0.05845 sec\n",
      "building point cloud... done in 0.006506 sec\n",
      "selected 1 cameras\n",
      "preloading data... done in 0.09228 sec\n",
      "filtering depth maps... done in 9.6e-05 sec\n",
      "preloading data... done in 0.238419 sec\n",
      "accumulating data... done in 0.070611 sec\n",
      "building point cloud... done in 0.006673 sec\n",
      "selected 1 cameras\n",
      "preloading data... done in 0.052188 sec\n",
      "filtering depth maps... done in 8.5e-05 sec\n",
      "preloading data... done in 0.23939 sec\n",
      "accumulating data... done in 0.074185 sec\n",
      "building point cloud... done in 0.00713 sec\n",
      "selected 2 cameras\n",
      "preloading data... done in 0.052417 sec\n",
      "filtering depth maps... done in 0.030191 sec\n",
      "preloading data... done in 0.226996 sec\n",
      "accumulating data... done in 0.073939 sec\n",
      "building point cloud... done in 0.015775 sec\n",
      "selected 1 cameras\n",
      "preloading data... done in 0.047115 sec\n",
      "filtering depth maps... done in 0.000104 sec\n",
      "preloading data... done in 0.239734 sec\n",
      "accumulating data... done in 0.079367 sec\n",
      "building point cloud... done in 0.00573 sec\n",
      "selected 1 cameras\n",
      "preloading data... done in 0.052629 sec\n",
      "filtering depth maps... done in 0.000103 sec\n",
      "preloading data... done in 0.235824 sec\n",
      "accumulating data... done in 0.070347 sec\n",
      "building point cloud... done in 0.007839 sec\n",
      "selected 1 cameras\n",
      "preloading data... done in 0.051978 sec\n",
      "filtering depth maps... done in 6.9e-05 sec\n",
      "preloading data... done in 0.219832 sec\n",
      "accumulating data... done in 0.081135 sec\n",
      "building point cloud... done in 0.012108 sec\n",
      "selected 4 cameras\n",
      "preloading data... done in 0.058966 sec\n",
      "filtering depth maps... done in 0.165533 sec\n",
      "preloading data... done in 0.230444 sec\n",
      "accumulating data... done in 0.096657 sec\n",
      "building point cloud... done in 0.024299 sec\n",
      "selected 30 cameras\n",
      "preloading data... done in 0.12045 sec\n",
      "filtering depth maps... done in 6.77988 sec\n",
      "preloading data... done in 0.39334 sec\n",
      "accumulating data... done in 0.151602 sec\n",
      "building point cloud... done in 0.010486 sec\n",
      "selected 1 cameras\n",
      "preloading data... done in 0.034337 sec\n",
      "filtering depth maps... done in 0.000121 sec\n",
      "preloading data... done in 0.183705 sec\n",
      "accumulating data... done in 0.054871 sec\n",
      "building point cloud... done in 0.005281 sec\n",
      "selected 3 cameras\n",
      "preloading data... done in 0.050565 sec\n",
      "filtering depth maps... done in 0.098207 sec\n",
      "preloading data... done in 0.189071 sec\n",
      "accumulating data... done in 0.075924 sec\n",
      "building point cloud... done in 0.004939 sec\n",
      "selected 7 cameras\n",
      "preloading data... done in 0.053766 sec\n",
      "filtering depth maps... done in 0.548054 sec\n",
      "preloading data... done in 0.196136 sec\n",
      "accumulating data... done in 0.083447 sec\n",
      "building point cloud... done in 0.044013 sec\n",
      "selected 32 cameras\n",
      "preloading data... done in 0.100846 sec\n",
      "filtering depth maps... done in 7.44219 sec\n",
      "preloading data... done in 0.396225 sec\n",
      "accumulating data... done in 0.285913 sec\n",
      "building point cloud... done in 0.117829 sec\n",
      "selected 3 cameras\n",
      "preloading data... done in 0.049046 sec\n",
      "filtering depth maps... done in 0.066228 sec\n",
      "preloading data... done in 0.187114 sec\n",
      "accumulating data... done in 0.0655 sec\n",
      "building point cloud... done in 0.006867 sec\n",
      "selected 2 cameras\n",
      "preloading data... done in 0.041268 sec\n",
      "filtering depth maps... done in 0.032359 sec\n",
      "preloading data... done in 0.184776 sec\n",
      "accumulating data... done in 0.058695 sec\n",
      "building point cloud... done in 0.005594 sec\n",
      "selected 1 cameras\n",
      "preloading data... done in 0.039921 sec\n",
      "filtering depth maps... done in 0.000146 sec\n",
      "preloading data... done in 0.179779 sec\n",
      "accumulating data... done in 0.060575 sec\n",
      "building point cloud... done in 0.007922 sec\n",
      "selected 1 cameras\n",
      "preloading data... done in 0.050174 sec\n",
      "filtering depth maps... done in 8.8e-05 sec\n",
      "preloading data... done in 0.210911 sec\n",
      "accumulating data... done in 0.120185 sec\n",
      "building point cloud... done in 0.004954 sec\n",
      "selected 4 cameras\n",
      "preloading data... done in 0.104293 sec\n",
      "filtering depth maps... done in 0.213584 sec\n",
      "preloading data... done in 0.254621 sec\n",
      "accumulating data... done in 0.098038 sec\n",
      "building point cloud... done in 0.00567 sec\n",
      "selected 1 cameras\n",
      "preloading data... done in 0.05347 sec\n",
      "filtering depth maps... done in 0.000184 sec\n",
      "preloading data... done in 0.245403 sec\n",
      "accumulating data... done in 0.075719 sec\n",
      "building point cloud... done in 0.005706 sec\n",
      "selected 2 cameras\n",
      "preloading data... done in 0.052825 sec\n",
      "filtering depth maps... done in 0.038013 sec\n",
      "preloading data... done in 0.224945 sec\n",
      "accumulating data... done in 0.075615 sec\n",
      "building point cloud... done in 0.007701 sec\n",
      "selected 2 cameras\n",
      "preloading data... done in 0.053052 sec\n",
      "filtering depth maps... done in 0.0385 sec\n",
      "preloading data... done in 0.225095 sec\n",
      "accumulating data... done in 0.075104 sec\n",
      "building point cloud... done in 0.007554 sec\n",
      "selected 2 cameras\n",
      "preloading data... done in 0.055055 sec\n",
      "filtering depth maps... done in 0.03751 sec\n",
      "preloading data... done in 0.237969 sec\n",
      "accumulating data... done in 0.075956 sec\n",
      "building point cloud... done in 0.010326 sec\n",
      "selected 2 cameras\n",
      "preloading data... done in 0.052962 sec\n",
      "filtering depth maps... done in 0.042415 sec\n",
      "preloading data... done in 0.227194 sec\n",
      "accumulating data... done in 0.072405 sec\n",
      "building point cloud... done in 0.005732 sec\n",
      "selected 1 cameras\n",
      "preloading data... done in 0.053232 sec\n",
      "filtering depth maps... done in 0.000139 sec\n",
      "preloading data... done in 0.242495 sec\n",
      "accumulating data... done in 0.072978 sec\n",
      "building point cloud... done in 0.005739 sec\n",
      "selected 2 cameras\n",
      "preloading data... done in 0.053248 sec\n",
      "filtering depth maps... done in 0.041701 sec\n",
      "preloading data... done in 0.236766 sec\n",
      "accumulating data... done in 0.075239 sec\n",
      "building point cloud... done in 0.008742 sec\n",
      "selected 2 cameras\n",
      "preloading data... done in 0.051894 sec\n",
      "filtering depth maps... done in 0.03853 sec\n",
      "preloading data... done in 0.222715 sec\n",
      "accumulating data... done in 0.072282 sec\n",
      "building point cloud... done in 0.008649 sec\n",
      "selected 1 cameras\n",
      "preloading data... done in 0.046919 sec\n",
      "filtering depth maps... done in 0.000159 sec\n",
      "preloading data... done in 0.228439 sec\n",
      "accumulating data... done in 0.070507 sec\n",
      "building point cloud... done in 0.005703 sec\n",
      "3036614 points extracted\n",
      "SaveProject\n",
      "saved project in 1.02697 sec\n",
      "LoadProject\n",
      "loaded project in 0.034772 sec\n",
      "stop time:  1497103765.6077719\n"
     ]
    }
   ],
   "source": [
    "# print the log file if necessary\n",
    "slurmlogfilename = 'slurm-' + jobId + '.out'\n",
    "with open(slurmlogfilename, 'r') as fin:\n",
    "    print(fin.read(), end=\"\")"
   ]
  },
  {
   "cell_type": "markdown",
   "metadata": {},
   "source": [
    "## Export dense cloud\n",
    "If you want to export the dense cloud for use in other software, you can run the code boxes below. If you want to just continue with the next step in the photogrammetry process, you can skip it."
   ]
  },
  {
   "cell_type": "code",
   "execution_count": 125,
   "metadata": {
    "collapsed": true
   },
   "outputs": [],
   "source": [
    "# Quinn - Im guessing at these extenstions, I have only used oc3\n",
    "pointsFormatExt = { 'PointsFormatOBJ':'.obj', 'PointsFormatPLY':'.ply', 'PointsFormatXYZ':'.xyz', 'PointsFormatLAS':'.las', 'PointsFormatExpe':'.???',\n",
    "'PointsFormatU3D':'.u3d', 'PointsFormatPDF':'.pdf', 'PointsFormatE57':'.e57', 'PointsFormatOC3':'.oc3', 'PointsFormatPotree':'.???',\n",
    "'PointsFormatLAZ':'.laz', 'PointsFormatCL3':'.cl3', 'PointsFormatPTS':'.pts', 'PointsFormatDXF':'.dxf' }\n",
    "\n",
    "ptsfchoice=widgets.Dropdown(description='Points Format', value='PointsFormatOC3', options= ['PointsFormatOBJ', 'PointsFormatPLY', 'PointsFormatXYZ', 'PointsFormatLAS', 'PointsFormatExpe',\n",
    "'PointsFormatU3D', 'PointsFormatPDF', 'PointsFormatE57', 'PointsFormatOC3', 'PointsFormatPotree',\n",
    "'PointsFormatLAZ', 'PointsFormatCL3', 'PointsFormatPTS', 'PointsFormatDXF']   )\n"
   ]
  },
  {
   "cell_type": "code",
   "execution_count": 37,
   "metadata": {
    "collapsed": false
   },
   "outputs": [
    {
     "data": {
      "text/plain": [
       "'PointsFormatOBJ'"
      ]
     },
     "metadata": {},
     "output_type": "display_data"
    }
   ],
   "source": [
    "interact(chc, txt=ptsfchoice)"
   ]
  },
  {
   "cell_type": "code",
   "execution_count": 38,
   "metadata": {
    "collapsed": false
   },
   "outputs": [
    {
     "name": "stdout",
     "output_type": "stream",
     "text": [
      "output: #!/usr/bin/env python3 \n",
      "import PhotoScan \n",
      "doc = PhotoScan.app.document \n",
      "doc.open(\"/scratch//monument.psx\") \n",
      "chunk = doc.chunk \n",
      "chunk.exportPoints(path=\"/scratch/photoscandemo.obj\", format=PhotoScan.PointsFormat.PointsFormatOBJ)  \n",
      "\n"
     ]
    }
   ],
   "source": [
    "template = '#!/usr/bin/env python3 \\n\\\n",
    "import PhotoScan \\n\\\n",
    "doc = PhotoScan.app.document \\n\\\n",
    "doc.open(\\\"{}\\\") \\n\\\n",
    "chunk = doc.chunk \\n\\\n",
    "chunk.exportPoints(path=\\\"{}\\\", format=PhotoScan.PointsFormat.{})  \\n' \n",
    "\n",
    "output = template.format(singularitymountfolder + projectFile,  singularitymountfolder + 'photoscandemo' + pointsFormatExt[ptsfchoice.value], ptsfchoice.value)\n",
    "\n",
    "print('output:', output)\n",
    "\n",
    "with open(commandScript, 'w') as f:\n",
    "    f.write(output)"
   ]
  },
  {
   "cell_type": "code",
   "execution_count": 39,
   "metadata": {
    "collapsed": false
   },
   "outputs": [
    {
     "name": "stdout",
     "output_type": "stream",
     "text": [
      " Export the points  output:  ['Submitted batch job 1406450']\n",
      "1406450\n"
     ]
    }
   ],
   "source": [
    "out = !sbatch slurmscript.sh   \n",
    "        \n",
    "print (' Export the points  output: ', out ) \n",
    "jobId =  out[0].split()[3]\n",
    "print (jobId)"
   ]
  },
  {
   "cell_type": "code",
   "execution_count": 40,
   "metadata": {
    "collapsed": false
   },
   "outputs": [
    {
     "name": "stdout",
     "output_type": "stream",
     "text": [
      "             JOBID PARTITION     NAME     USER ST       TIME  NODES NODELIST(REASON)\n",
      "           1406450     savio monument   quinnd  R       0:03      1 n0044.savio1\n",
      "--------------------------------\n",
      "JobId=1406450 JobName=monument\n",
      "   UserId=quinnd(42413) GroupId=ucb(501) MCS_label=N/A\n",
      "   Priority=544271 Nice=0 Account=ac_scsguest QOS=savio_normal\n",
      "   JobState=RUNNING Reason=None Dependency=(null)\n",
      "   Requeue=0 Restarts=0 BatchFlag=1 Reboot=0 ExitCode=0:0\n",
      "   RunTime=00:00:03 TimeLimit=01:00:00 TimeMin=N/A\n",
      "   SubmitTime=2017-06-10T07:12:03 EligibleTime=2017-06-10T07:12:03\n",
      "   StartTime=2017-06-10T07:12:04 EndTime=2017-06-10T08:12:04 Deadline=N/A\n",
      "   PreemptTime=None SuspendTime=None SecsPreSuspend=0\n",
      "   Partition=savio AllocNode:Sid=ln000:21556\n",
      "   ReqNodeList=(null) ExcNodeList=(null)\n",
      "   NodeList=n0044.savio1\n",
      "   BatchHost=n0044.savio1\n",
      "   NumNodes=1 NumCPUs=20 NumTasks=1 CPUs/Task=1 ReqB:S:C:T=0:0:*:*\n",
      "   TRES=cpu=20,mem=62.50G,node=1\n",
      "   Socks/Node=* NtasksPerN:B:S:C=0:0:*:* CoreSpec=*\n",
      "   MinCPUsNode=1 MinMemoryNode=62.50G MinTmpDiskNode=0\n",
      "   Features=(null) Gres=(null) Reservation=(null)\n",
      "   OverSubscribe=NO Contiguous=0 Licenses=(null) Network=(null)\n",
      "   Command=/global/scratch/quinnd/monument/slurmscript.sh\n",
      "   WorkDir=/global/scratch/quinnd/monument\n",
      "   StdErr=/global/scratch/quinnd/monument/slurm-1406450.out\n",
      "   StdIn=/dev/null\n",
      "   StdOut=/global/scratch/quinnd/monument/slurm-1406450.out\n",
      "   Power=\n",
      "\n"
     ]
    }
   ],
   "source": [
    "# print the users queue and the job status by id\n",
    "!squeue -u $username\n",
    "print('--------------------------------')\n",
    "!scontrol show job $jobId"
   ]
  },
  {
   "cell_type": "markdown",
   "metadata": {},
   "source": [
    "## Update project on Box\n",
    "After generating the dense cloud, the .psx file will be much larger and this may take a moment.\n",
    "**Maurice: add success message**"
   ]
  },
  {
   "cell_type": "code",
   "execution_count": 126,
   "metadata": {
    "collapsed": false,
    "scrolled": true
   },
   "outputs": [
    {
     "name": "stdout",
     "output_type": "stream",
     "text": [
      "find_folder_id folder_name:  monument\n",
      "find_folder_id folderlist:  [<Box Folder - 27697792189 (monument)>]\n",
      "Box folder id:  27697792189\n",
      "project file list:  [<Box File - 183058668349 (monument.psx)>]\n",
      "datazip file list:  [<Box File - 183058591009 (monument.files.zip)>]\n",
      "project file id:  183058668349\n",
      "data zip file list:  183058591009\n",
      "begin project file update.\n",
      "update psx result:  <Box File - 183058668349>    update zip result:  <Box File - 183058591009>\n"
     ]
    }
   ],
   "source": [
    "update_project_file_in_box()"
   ]
  },
  {
   "cell_type": "markdown",
   "metadata": {},
   "source": [
    "## OFFLINE: Dense cloud clean-up\n",
    "At this point, you may want to clean up the dense point cloud by removing stray points (e.g. for objects that have not been photographed in a lightbox, where there might be artifacts from the background, etc.) This should be done using the desktop version of Photoscan. \n",
    "\n",
    "Be sure to save the updated project file back to the same place in Box if you want to run the next processing steps through this notebook."
   ]
  },
  {
   "cell_type": "markdown",
   "metadata": {},
   "source": [
    "# Build Mesh\n",
    "\n",
    "First, retrieve the project file (.psx) from Box, in case it has been updated."
   ]
  },
  {
   "cell_type": "code",
   "execution_count": 42,
   "metadata": {
    "collapsed": false,
    "scrolled": false
   },
   "outputs": [
    {
     "name": "stdout",
     "output_type": "stream",
     "text": [
      "find_folder_id folder_name:  monument\n",
      "find_folder_id folderlist:  [<Box Folder - 27697792189 (monument)>]\n",
      "downloading:  monument.files.zip\n",
      "data zip file download complete.\n",
      "downloading:  monument.psx\n",
      "project file download complete.\n"
     ]
    }
   ],
   "source": [
    "retrieve_project_file()"
   ]
  },
  {
   "cell_type": "markdown",
   "metadata": {},
   "source": [
    "## Choose parameters\n",
    "Running the code box below will create three sets of drop-downs where you can choose the surface type, face count, and data source."
   ]
  },
  {
   "cell_type": "code",
   "execution_count": 43,
   "metadata": {
    "collapsed": true
   },
   "outputs": [],
   "source": [
    "stchoice=widgets.Dropdown(description='Surface type', value='Arbitrary', options=['Arbitrary', 'HeightField'])\n",
    "fcchoice=widgets.Dropdown(description='Face count', value='HighFaceCount', options= ['LowFaceCount', 'MediumFaceCount', 'HighFaceCount'] )\n",
    "dschoice=widgets.Dropdown(description='Data source', value='DenseCloudData', options=['PointCloudData', 'DenseCloudData', 'DepthMapsData', 'ModelData', 'TiledModelData', 'ElevationData',\n",
    "'OrthomosaicData']  )\n"
   ]
  },
  {
   "cell_type": "code",
   "execution_count": 45,
   "metadata": {
    "collapsed": false
   },
   "outputs": [
    {
     "data": {
      "text/plain": [
       "'DenseCloudData'"
      ]
     },
     "metadata": {},
     "output_type": "display_data"
    },
    {
     "data": {
      "text/plain": [
       "<function __main__.chc>"
      ]
     },
     "execution_count": 45,
     "metadata": {},
     "output_type": "execute_result"
    }
   ],
   "source": [
    "interact(chc, txt=stchoice)\n",
    "interact(chc, txt=fcchoice)\n",
    "interact(chc, txt=dschoice)"
   ]
  },
  {
   "cell_type": "code",
   "execution_count": 46,
   "metadata": {
    "collapsed": false,
    "scrolled": false
   },
   "outputs": [
    {
     "name": "stdout",
     "output_type": "stream",
     "text": [
      "output: #!/usr/bin/env python3 \n",
      "import PhotoScan \n",
      "import time \n",
      "print( \"start time: \", time.time()) \n",
      "doc = PhotoScan.app.document \n",
      "doc.open(\"/scratch//monument.psx\") \n",
      "chunk = doc.chunk \n",
      "chunk.buildModel(surface=PhotoScan.Arbitrary, source=PhotoScan.DenseCloudData, face_count=PhotoScan.MediumFaceCount ) \n",
      "doc.save(\"/scratch//monument.psx\") \n",
      "print( \"stop time: \", time.time()) \n",
      "\n"
     ]
    }
   ],
   "source": [
    "template = '#!/usr/bin/env python3 \\n\\\n",
    "import PhotoScan \\n\\\n",
    "import time \\n\\\n",
    "print( \"start time: \", time.time()) \\n\\\n",
    "doc = PhotoScan.app.document \\n\\\n",
    "doc.open(\\\"{}\\\") \\n\\\n",
    "chunk = doc.chunk \\n\\\n",
    "chunk.buildModel(surface=PhotoScan.{}, source=PhotoScan.{}, face_count=PhotoScan.{} ) \\n\\\n",
    "doc.save(\\\"{}\\\") \\n\\\n",
    "print( \"stop time: \", time.time()) \\n'\n",
    "\n",
    "output = template.format(singularitymountfolder + projectFile, stchoice.value, dschoice.value, fcchoice.value, singularitymountfolder + projectFile)\n",
    "\n",
    "print('output:', output)\n",
    "\n",
    "with open(commandScript, 'w') as f:  \n",
    "    f.write(output)\n",
    "\n",
    "\n",
    "#set time limit for this batch run\n",
    "outputbatchscript = batchtemplate.format('00:30:00')\n",
    "with open(slurmScript, 'w') as f:  \n",
    "    f.write(outputbatchscript)\n",
    "    "
   ]
  },
  {
   "cell_type": "markdown",
   "metadata": {},
   "source": [
    "## Run mesh build\n",
    "The code box below will submit your job and print out your job ID."
   ]
  },
  {
   "cell_type": "code",
   "execution_count": 47,
   "metadata": {
    "collapsed": false,
    "scrolled": false
   },
   "outputs": [
    {
     "name": "stdout",
     "output_type": "stream",
     "text": [
      "Execute the mesh build output:  ['Submitted batch job 1406451']\n",
      "1406451\n"
     ]
    }
   ],
   "source": [
    "out = !sbatch slurmscript.sh   \n",
    "    \n",
    "print ('Execute the mesh build output: ', out ) \n",
    "jobId =  out[0].split()[3]\n",
    "print (jobId) "
   ]
  },
  {
   "cell_type": "markdown",
   "metadata": {},
   "source": [
    "## Check on mesh build status\n",
    "Run the code box below to get the current status of the mesh build job. You can run it multiple times for the most recent status."
   ]
  },
  {
   "cell_type": "code",
   "execution_count": 50,
   "metadata": {
    "collapsed": false
   },
   "outputs": [
    {
     "name": "stdout",
     "output_type": "stream",
     "text": [
      "             JOBID PARTITION     NAME     USER ST       TIME  NODES NODELIST(REASON)\n",
      "--------------------------------\n",
      "JobId=1406451 JobName=monument\n",
      "   UserId=quinnd(42413) GroupId=ucb(501) MCS_label=N/A\n",
      "   Priority=544271 Nice=0 Account=ac_scsguest QOS=savio_normal\n",
      "   JobState=FAILED Reason=NonZeroExitCode Dependency=(null)\n",
      "   Requeue=0 Restarts=0 BatchFlag=1 Reboot=0 ExitCode=1:0\n",
      "   RunTime=00:02:37 TimeLimit=00:30:00 TimeMin=N/A\n",
      "   SubmitTime=2017-06-10T07:13:19 EligibleTime=2017-06-10T07:13:19\n",
      "   StartTime=2017-06-10T07:13:20 EndTime=2017-06-10T07:15:57 Deadline=N/A\n",
      "   PreemptTime=None SuspendTime=None SecsPreSuspend=0\n",
      "   Partition=savio AllocNode:Sid=ln000:21556\n",
      "   ReqNodeList=(null) ExcNodeList=(null)\n",
      "   NodeList=n0044.savio1\n",
      "   BatchHost=n0044.savio1\n",
      "   NumNodes=1 NumCPUs=20 NumTasks=0 CPUs/Task=1 ReqB:S:C:T=0:0:*:*\n",
      "   TRES=cpu=20,mem=62.50G,node=1\n",
      "   Socks/Node=* NtasksPerN:B:S:C=0:0:*:* CoreSpec=*\n",
      "   MinCPUsNode=1 MinMemoryNode=62.50G MinTmpDiskNode=0\n",
      "   Features=(null) Gres=(null) Reservation=(null)\n",
      "   OverSubscribe=NO Contiguous=0 Licenses=(null) Network=(null)\n",
      "   Command=/global/scratch/quinnd/monument/slurmscript.sh\n",
      "   WorkDir=/global/scratch/quinnd/monument\n",
      "   StdErr=/global/scratch/quinnd/monument/slurm-1406451.out\n",
      "   StdIn=/dev/null\n",
      "   StdOut=/global/scratch/quinnd/monument/slurm-1406451.out\n",
      "   Power=\n",
      "\n"
     ]
    }
   ],
   "source": [
    "# print the users queue and the job status by id\n",
    "!squeue -u $username\n",
    "print('--------------------------------')\n",
    "!scontrol show job $jobId"
   ]
  },
  {
   "cell_type": "markdown",
   "metadata": {},
   "source": [
    "## Display log message\n",
    "\n",
    "As an optional step, you can run the code below to see the log file once the job is done."
   ]
  },
  {
   "cell_type": "code",
   "execution_count": 51,
   "metadata": {
    "collapsed": false
   },
   "outputs": [
    {
     "name": "stdout",
     "output_type": "stream",
     "text": [
      "Activation successful\n",
      "start time:  1497104001.9384043\n",
      "LoadProject\n",
      "loaded project in 0.078207 sec\n",
      "BuildModel: surface type = Arbitrary, source data = Dense cloud, face count = Medium, interpolation = Enabled\n",
      "Grid size: 29219 x 26962 x 9084\n",
      "Tree depth: 15\n",
      "Tree set in 10.8818s (1357815 points)\n",
      "Leaves/Nodes: 10386055/11869777\n",
      "Laplacian constraints set in 3.06303s\n",
      "Depth[0/15]: 1\n",
      "\tEvaluated / Got / Solved in: 0 / 5.81741e-05 / 6.58035e-05\n",
      "Depth[1/15]: 8\n",
      "\tEvaluated / Got / Solved in: 0 / 0.000167131 / 0.00329208\n",
      "Depth[2/15]: 64\n",
      "\tEvaluated / Got / Solved in: 0 / 0.000571012 / 0.004843\n",
      "Depth[3/15]: 512\n",
      "\tEvaluated / Got / Solved in: 0 / 0.00102901 / 0.0106981\n",
      "Depth[4/15]: 4096\n",
      "\tEvaluated / Got / Solved in: 0 / 0.00439477 / 0.0287468\n",
      "Depth[5/15]: 32768\n",
      "\tEvaluated / Got / Solved in: 0 / 0.0482392 / 0.0571988\n",
      "Depth[6/15]: 11640\n",
      "\tEvaluated / Got / Solved in: 0 / 0.00913405 / 0.0859375\n",
      "Depth[7/15]: 24024\n",
      "\tEvaluated / Got / Solved in: 0 / 0.0197394 / 0.154392\n",
      "Depth[8/15]: 58360\n",
      "\tEvaluated / Got / Solved in: 0 / 0.0702169 / 0.341327\n",
      "Depth[9/15]: 148904\n",
      "\tEvaluated / Got / Solved in: 0 / 0.107779 / 0.687733\n",
      "Depth[10/15]: 410024\n",
      "\tEvaluated / Got / Solved in: 0 / 0.222066 / 1.36028\n",
      "Depth[11/15]: 1082000\n",
      "\tEvaluated / Got / Solved in: 0 / 0.515411 / 2.72977\n",
      "Depth[12/15]: 1996168\n",
      "\tEvaluated / Got / Solved in: 0 / 0.901821 / 5.27866\n",
      "Depth[13/15]: 2113824\n",
      "\tEvaluated / Got / Solved in: 0 / 1.37111 / 10.7979\n",
      "Depth[14/15]: 2419376\n",
      "\tEvaluated / Got / Solved in: 0 / 1.99094 / 20.6931\n",
      "Depth[15/15]: 3568008\n",
      "\tEvaluated / Got / Solved in: 0 / 3.3744 / 42.0991\n",
      "Linear system solved in 93.7451s\n",
      "Got Iso-value in 0.435957s\n",
      "Iso-Value 0.359865\n",
      "3437618 faces extracted in 23.1614s\n",
      "decimating mesh (3319685 -> 90521)\n",
      "processing nodes...  done in 0.064031 sec\n",
      "calculating colors...  done in 4.97562 sec\n",
      "SaveProject\n",
      "saved project in 0.039148 sec\n",
      "LoadProject\n",
      "loaded project in 0.017946 sec\n",
      "stop time:  1497104155.8039658\n"
     ]
    }
   ],
   "source": [
    "# print the log file if necessary\n",
    "slurmlogfilename = 'slurm-' + jobId + '.out'\n",
    "with open(slurmlogfilename, 'r') as fin:\n",
    "    print(fin.read(), end=\"\")"
   ]
  },
  {
   "cell_type": "markdown",
   "metadata": {},
   "source": [
    "## Update project on Box\n",
    "The next code box will return the project file to Box so you can make additional tweaks and changes offline."
   ]
  },
  {
   "cell_type": "code",
   "execution_count": 52,
   "metadata": {
    "collapsed": false,
    "scrolled": false
   },
   "outputs": [
    {
     "name": "stdout",
     "output_type": "stream",
     "text": [
      "find_folder_id folder_name:  monument\n",
      "find_folder_id folderlist:  [<Box Folder - 27697792189 (monument)>]\n",
      "Box folder id:  27697792189\n",
      "project file list:  [<Box File - 183058668349 (monument.psx)>]\n",
      "datazip file list:  [<Box File - 183058591009 (monument.files.zip)>]\n",
      "project file id:  183058668349\n",
      "data zip file list:  183058591009\n",
      "begin project file update.\n",
      "update psx result:  <Box File - 183058668349>    update zip result:  <Box File - 183058591009>\n"
     ]
    }
   ],
   "source": [
    "update_project_file_in_box()"
   ]
  },
  {
   "cell_type": "markdown",
   "metadata": {},
   "source": [
    "## OFFLINE: Mesh cleanup\n",
    "If you need to add marker points in the Photoscan file (.psx), download the latest project file from Box, make the changes, and upload the edited .psx file back to Box."
   ]
  },
  {
   "cell_type": "markdown",
   "metadata": {},
   "source": [
    "# Build Texture\n",
    "\n",
    "First, retrieve the project file from Box in case it has been updated."
   ]
  },
  {
   "cell_type": "code",
   "execution_count": null,
   "metadata": {
    "collapsed": false,
    "scrolled": false
   },
   "outputs": [],
   "source": [
    "retrieve_project_file()"
   ]
  },
  {
   "cell_type": "markdown",
   "metadata": {},
   "source": [
    "## Choose parameters\n",
    "Choose the data source, and specify a coordinate system if desired, after running the next code box."
   ]
  },
  {
   "cell_type": "code",
   "execution_count": 53,
   "metadata": {
    "collapsed": false
   },
   "outputs": [],
   "source": [
    "gmchoice=widgets.Dropdown(description='UV Mapping Mode', value='GenericMapping', options= ['GenericMapping', 'OrthophotoMapping', 'AdaptiveOrthophotoMapping', 'SphericalMapping',\n",
    "'CameraMapping'])\n",
    "ccchoice=widgets.Dropdown(description='Color Correction', value='True', options= ['True', 'False'] )\n",
    "ds2choice=widgets.Dropdown(description='Data source', value='ModelData', options=['PointCloudData', 'DenseCloudData', 'DepthMapsData', 'ModelData', 'TiledModelData', 'ElevationData',\n",
    "'OrthomosaicData']  )"
   ]
  },
  {
   "cell_type": "code",
   "execution_count": 54,
   "metadata": {
    "collapsed": false
   },
   "outputs": [
    {
     "data": {
      "text/plain": [
       "'ModelData'"
      ]
     },
     "metadata": {},
     "output_type": "display_data"
    },
    {
     "data": {
      "text/plain": [
       "<function __main__.chc>"
      ]
     },
     "execution_count": 54,
     "metadata": {},
     "output_type": "execute_result"
    }
   ],
   "source": [
    "interact(chc, txt=gmchoice)\n",
    "interact(chc, txt=ccchoice)\n",
    "interact(chc, txt=ds2choice)"
   ]
  },
  {
   "cell_type": "code",
   "execution_count": 55,
   "metadata": {
    "collapsed": false,
    "scrolled": false
   },
   "outputs": [
    {
     "name": "stdout",
     "output_type": "stream",
     "text": [
      "output: #!/usr/bin/env python3 \n",
      "import PhotoScan \n",
      "import time \n",
      "print( \"start time: \", time.time()) \n",
      "doc = PhotoScan.app.document \n",
      "doc.open(\"/scratch//monument.psx\") \n",
      "chunk = doc.chunk \n",
      "chunk.buildUV(mapping=PhotoScan.GenericMapping) \n",
      "chunk.buildTexture( color_correction=True ) \n",
      "doc.save(\"/scratch//monument.psx\") \n",
      "doc.open(\"/scratch//monument.psx\") \n",
      "chunk = doc.chunk \n",
      "chunk.buildOrthomosaic( surface=PhotoScan.DataSource.ModelData ) \n",
      "doc.save(\"/scratch//monument.psx\") \n",
      "print( \"stop time: \", time.time()) \n",
      "\n"
     ]
    }
   ],
   "source": [
    "template = '#!/usr/bin/env python3 \\n\\\n",
    "import PhotoScan \\n\\\n",
    "import time \\n\\\n",
    "print( \"start time: \", time.time()) \\n\\\n",
    "doc = PhotoScan.app.document \\n\\\n",
    "doc.open(\\\"{}\\\") \\n\\\n",
    "chunk = doc.chunk \\n\\\n",
    "chunk.buildUV(mapping=PhotoScan.{}) \\n\\\n",
    "chunk.buildTexture( color_correction={} ) \\n\\\n",
    "doc.save(\\\"{}\\\") \\n\\\n",
    "doc.open(\\\"{}\\\") \\n\\\n",
    "chunk = doc.chunk \\n\\\n",
    "chunk.buildOrthomosaic( surface=PhotoScan.DataSource.{} ) \\n\\\n",
    "doc.save(\\\"{}\\\") \\n\\\n",
    "print( \"stop time: \", time.time()) \\n'\n",
    "\n",
    "output = template.format(singularitymountfolder + projectFile, gmchoice.value, ccchoice.value,  singularitymountfolder + projectFile, singularitymountfolder + projectFile, ds2choice.value, singularitymountfolder + projectFile)\n",
    "\n",
    "print('output:', output)\n",
    "\n",
    "with open(commandScript, 'w') as f:  \n",
    "    f.write(output)\n"
   ]
  },
  {
   "cell_type": "markdown",
   "metadata": {},
   "source": [
    "## Run texture build"
   ]
  },
  {
   "cell_type": "code",
   "execution_count": 56,
   "metadata": {
    "collapsed": false,
    "scrolled": false
   },
   "outputs": [
    {
     "name": "stdout",
     "output_type": "stream",
     "text": [
      "  texture and orthomosaic build output:  ['Submitted batch job 1406452']\n",
      "1406452\n"
     ]
    }
   ],
   "source": [
    "out = !sbatch slurmscript.sh   \n",
    "    \n",
    "print ('  texture and orthomosaic build output: ', out ) \n",
    "jobId =  out[0].split()[3]\n",
    "print (jobId)    "
   ]
  },
  {
   "cell_type": "code",
   "execution_count": 59,
   "metadata": {
    "collapsed": false
   },
   "outputs": [
    {
     "name": "stdout",
     "output_type": "stream",
     "text": [
      "             JOBID PARTITION     NAME     USER ST       TIME  NODES NODELIST(REASON)\n",
      "--------------------------------\n",
      "JobId=1406452 JobName=monument\n",
      "   UserId=quinnd(42413) GroupId=ucb(501) MCS_label=N/A\n",
      "   Priority=482814 Nice=0 Account=ac_scsguest QOS=savio_normal\n",
      "   JobState=FAILED Reason=NonZeroExitCode Dependency=(null)\n",
      "   Requeue=0 Restarts=0 BatchFlag=1 Reboot=0 ExitCode=1:0\n",
      "   RunTime=00:02:21 TimeLimit=00:30:00 TimeMin=N/A\n",
      "   SubmitTime=2017-06-10T07:18:11 EligibleTime=2017-06-10T07:18:11\n",
      "   StartTime=2017-06-10T07:18:11 EndTime=2017-06-10T07:20:32 Deadline=N/A\n",
      "   PreemptTime=None SuspendTime=None SecsPreSuspend=0\n",
      "   Partition=savio AllocNode:Sid=ln000:21556\n",
      "   ReqNodeList=(null) ExcNodeList=(null)\n",
      "   NodeList=n0044.savio1\n",
      "   BatchHost=n0044.savio1\n",
      "   NumNodes=1 NumCPUs=20 NumTasks=0 CPUs/Task=1 ReqB:S:C:T=0:0:*:*\n",
      "   TRES=cpu=20,mem=62.50G,node=1\n",
      "   Socks/Node=* NtasksPerN:B:S:C=0:0:*:* CoreSpec=*\n",
      "   MinCPUsNode=1 MinMemoryNode=62.50G MinTmpDiskNode=0\n",
      "   Features=(null) Gres=(null) Reservation=(null)\n",
      "   OverSubscribe=NO Contiguous=0 Licenses=(null) Network=(null)\n",
      "   Command=/global/scratch/quinnd/monument/slurmscript.sh\n",
      "   WorkDir=/global/scratch/quinnd/monument\n",
      "   StdErr=/global/scratch/quinnd/monument/slurm-1406452.out\n",
      "   StdIn=/dev/null\n",
      "   StdOut=/global/scratch/quinnd/monument/slurm-1406452.out\n",
      "   Power=\n",
      "\n"
     ]
    }
   ],
   "source": [
    "# print the users queue and the job status by id\n",
    "!squeue -u $username\n",
    "print('--------------------------------')\n",
    "!scontrol show job $jobId"
   ]
  },
  {
   "cell_type": "markdown",
   "metadata": {},
   "source": [
    "## Update project on Box"
   ]
  },
  {
   "cell_type": "code",
   "execution_count": 60,
   "metadata": {
    "collapsed": false,
    "scrolled": false
   },
   "outputs": [
    {
     "name": "stdout",
     "output_type": "stream",
     "text": [
      "find_folder_id folder_name:  monument\n",
      "find_folder_id folderlist:  [<Box Folder - 27697792189 (monument)>]\n",
      "Box folder id:  27697792189\n",
      "project file list:  [<Box File - 183058668349 (monument.psx)>]\n",
      "datazip file list:  [<Box File - 183058591009 (monument.files.zip)>]\n",
      "project file id:  183058668349\n",
      "data zip file list:  183058591009\n",
      "begin project file update.\n",
      "update psx result:  <Box File - 183058668349>    update zip result:  <Box File - 183058591009>\n"
     ]
    }
   ],
   "source": [
    "update_project_file_in_box()"
   ]
  },
  {
   "cell_type": "markdown",
   "metadata": {},
   "source": [
    "# Export results"
   ]
  },
  {
   "cell_type": "markdown",
   "metadata": {},
   "source": [
    "## Export the orthomosaic"
   ]
  },
  {
   "cell_type": "code",
   "execution_count": 61,
   "metadata": {
    "collapsed": true
   },
   "outputs": [],
   "source": [
    "# QUINN guessing at some of these extensions\n",
    "ifextension = {'ImageFormatJPEG':'.jpg', 'ImageFormatTIFF':'.tiff', 'ImageFormatPNG':'.png', 'ImageFormatBMP':'.bmp', 'ImageFormatEXR':'.exr',\n",
    "'ImageFormatPNM':'.pnm', 'ImageFormatSGI':'.sgi', 'ImageFormatCR2':'.cr2', 'ImageFormatSEQ':'.seq', 'ImageFormatARA':'.ara'}\n",
    "\n",
    "ifchoice=widgets.Dropdown(description='Image Format', value='ImageFormatTIFF', options=['ImageFormatJPEG', 'ImageFormatTIFF', 'ImageFormatPNG', 'ImageFormatBMP', 'ImageFormatEXR',\n",
    "'ImageFormatPNM', 'ImageFormatSGI', 'ImageFormatCR2', 'ImageFormatSEQ', 'ImageFormatARA'] )"
   ]
  },
  {
   "cell_type": "code",
   "execution_count": 62,
   "metadata": {
    "collapsed": false
   },
   "outputs": [
    {
     "data": {
      "text/plain": [
       "'ImageFormatJPEG'"
      ]
     },
     "metadata": {},
     "output_type": "display_data"
    }
   ],
   "source": [
    "interact(chc, txt=ifchoice)"
   ]
  },
  {
   "cell_type": "code",
   "execution_count": 63,
   "metadata": {
    "collapsed": false,
    "scrolled": false
   },
   "outputs": [
    {
     "name": "stdout",
     "output_type": "stream",
     "text": [
      "output: #!/usr/bin/env python3 \n",
      "import PhotoScan \n",
      "doc = PhotoScan.app.document \n",
      "doc.open(\"/scratch//monument.psx\") \n",
      "chunk = doc.chunk \n",
      "chunk.exportOrthomosaic(path=\"/scratch/monument.jpg\", image_format=PhotoScan.ImageFormat.ImageFormatJPEG,)  \n",
      "\n"
     ]
    }
   ],
   "source": [
    "template = '#!/usr/bin/env python3 \\n\\\n",
    "import PhotoScan \\n\\\n",
    "doc = PhotoScan.app.document \\n\\\n",
    "doc.open(\\\"{}\\\") \\n\\\n",
    "chunk = doc.chunk \\n\\\n",
    "chunk.exportOrthomosaic(path=\\\"{}\\\", image_format=PhotoScan.ImageFormat.{},)  \\n' \n",
    "\n",
    "orthoFile = projectname + ifextension[ifchoice.value]\n",
    "output = template.format(singularitymountfolder + projectFile,  singularitymountfolder + orthoFile, ifchoice.value)\n",
    "\n",
    "print('output:', output)\n",
    "\n",
    "with open(commandScript, 'w') as f:\n",
    "    f.write(output)\n"
   ]
  },
  {
   "cell_type": "code",
   "execution_count": 64,
   "metadata": {
    "collapsed": false,
    "scrolled": false
   },
   "outputs": [
    {
     "name": "stdout",
     "output_type": "stream",
     "text": [
      " Export the orthomosaic format output:  ['Submitted batch job 1406454']\n",
      "1406454\n"
     ]
    }
   ],
   "source": [
    "out = !sbatch slurmscript.sh   \n",
    "        \n",
    "print (' Export the orthomosaic format output: ', out ) \n",
    "jobId =  out[0].split()[3]\n",
    "print (jobId)  "
   ]
  },
  {
   "cell_type": "code",
   "execution_count": 65,
   "metadata": {
    "collapsed": false
   },
   "outputs": [
    {
     "name": "stdout",
     "output_type": "stream",
     "text": [
      "             JOBID PARTITION     NAME     USER ST       TIME  NODES NODELIST(REASON)\n",
      "           1406454     savio monument   quinnd  R       0:11      1 n0044.savio1\n",
      "--------------------------------\n",
      "JobId=1406454 JobName=monument\n",
      "   UserId=quinnd(42413) GroupId=ucb(501) MCS_label=N/A\n",
      "   Priority=435720 Nice=0 Account=ac_scsguest QOS=savio_normal\n",
      "   JobState=RUNNING Reason=None Dependency=(null)\n",
      "   Requeue=0 Restarts=0 BatchFlag=1 Reboot=0 ExitCode=0:0\n",
      "   RunTime=00:00:12 TimeLimit=00:30:00 TimeMin=N/A\n",
      "   SubmitTime=2017-06-10T07:23:27 EligibleTime=2017-06-10T07:23:27\n",
      "   StartTime=2017-06-10T07:23:28 EndTime=2017-06-10T07:53:28 Deadline=N/A\n",
      "   PreemptTime=None SuspendTime=None SecsPreSuspend=0\n",
      "   Partition=savio AllocNode:Sid=ln000:21556\n",
      "   ReqNodeList=(null) ExcNodeList=(null)\n",
      "   NodeList=n0044.savio1\n",
      "   BatchHost=n0044.savio1\n",
      "   NumNodes=1 NumCPUs=20 NumTasks=1 CPUs/Task=1 ReqB:S:C:T=0:0:*:*\n",
      "   TRES=cpu=20,mem=62.50G,node=1\n",
      "   Socks/Node=* NtasksPerN:B:S:C=0:0:*:* CoreSpec=*\n",
      "   MinCPUsNode=1 MinMemoryNode=62.50G MinTmpDiskNode=0\n",
      "   Features=(null) Gres=(null) Reservation=(null)\n",
      "   OverSubscribe=NO Contiguous=0 Licenses=(null) Network=(null)\n",
      "   Command=/global/scratch/quinnd/monument/slurmscript.sh\n",
      "   WorkDir=/global/scratch/quinnd/monument\n",
      "   StdErr=/global/scratch/quinnd/monument/slurm-1406454.out\n",
      "   StdIn=/dev/null\n",
      "   StdOut=/global/scratch/quinnd/monument/slurm-1406454.out\n",
      "   Power=\n",
      "\n"
     ]
    }
   ],
   "source": [
    "# print the users queue and the job status by id\n",
    "!squeue -u $username\n",
    "print('--------------------------------')\n",
    "!scontrol show job $jobId"
   ]
  },
  {
   "cell_type": "markdown",
   "metadata": {},
   "source": [
    "## Move the orthomosaic file to Box"
   ]
  },
  {
   "cell_type": "code",
   "execution_count": 73,
   "metadata": {
    "collapsed": false,
    "scrolled": false
   },
   "outputs": [
    {
     "name": "stdout",
     "output_type": "stream",
     "text": [
      "find_folder_id folder_name:  monument\n",
      "find_folder_id folderlist:  [<Box Folder - 27697792189 (monument)>]\n",
      "orthomosaic file id:  183711291332\n"
     ]
    }
   ],
   "source": [
    "newFolderId = find_folder_id(boxProjectFolder)\n",
    "upload_folder = client.folder(folder_id=newFolderId).get()\n",
    "orthoUploaded = upload_folder.upload( runFolder + orthoFile)  \n",
    "print (\"orthomosaic file id: \", orthoUploaded['id'] )"
   ]
  },
  {
   "cell_type": "markdown",
   "metadata": {},
   "source": [
    "## Generate the Model export\n"
   ]
  },
  {
   "cell_type": "code",
   "execution_count": 74,
   "metadata": {
    "collapsed": true
   },
   "outputs": [],
   "source": [
    "\n",
    "# QUINN guessing at some of these extensions\n",
    "mfextension = { 'ModelFormatOBJ':'.obj', 'ModelFormat3DS':'.3ds', 'ModelFormatVRML':'.vrml', 'ModelFormatPLY':'.ply', 'ModelFormatCOLLADA':'.col',\n",
    "'ModelFormatU3D':'.u3d', 'ModelFormatPDF':'.pdf', 'ModelFormatDXF':'.dxf', 'ModelFormatFBX':'.fbx', 'ModelFormatKMZ':'.kmz',\n",
    "'ModelFormatCTM':'.ctm', 'ModelFormatSTL':'.stl', 'ModelFormatDXF_3DF':'.3df', 'ModelFormatTLS':'.tls' }\n",
    "\n",
    "mfchoice=widgets.Dropdown(description='Model Format', value='ModelFormatOBJ', options= ['ModelFormatOBJ', 'ModelFormat3DS', 'ModelFormatVRML', 'ModelFormatPLY', 'ModelFormatCOLLADA',\n",
    "'ModelFormatU3D', 'ModelFormatPDF', 'ModelFormatDXF', 'ModelFormatFBX', 'ModelFormatKMZ',\n",
    "'ModelFormatCTM', 'ModelFormatSTL', 'ModelFormatDXF_3DF', 'ModelFormatTLS'] )"
   ]
  },
  {
   "cell_type": "code",
   "execution_count": 75,
   "metadata": {
    "collapsed": false
   },
   "outputs": [
    {
     "data": {
      "text/plain": [
       "'ModelFormatOBJ'"
      ]
     },
     "metadata": {},
     "output_type": "display_data"
    },
    {
     "data": {
      "text/plain": [
       "<function __main__.chc>"
      ]
     },
     "execution_count": 75,
     "metadata": {},
     "output_type": "execute_result"
    }
   ],
   "source": [
    "interact(chc, txt=mfchoice)"
   ]
  },
  {
   "cell_type": "code",
   "execution_count": 69,
   "metadata": {
    "collapsed": false,
    "scrolled": false
   },
   "outputs": [
    {
     "name": "stdout",
     "output_type": "stream",
     "text": [
      "output: #!/usr/bin/env python3 \n",
      "import PhotoScan \n",
      "doc = PhotoScan.app.document \n",
      "doc.open(\"/scratch//monument.psx\") \n",
      "chunk = doc.chunk \n",
      "chunk.exportModel(path=\"/scratch/monument.obj\", format=PhotoScan.ModelFormat.ModelFormatOBJ)  \n",
      "\n"
     ]
    }
   ],
   "source": [
    "template = '#!/usr/bin/env python3 \\n\\\n",
    "import PhotoScan \\n\\\n",
    "doc = PhotoScan.app.document \\n\\\n",
    "doc.open(\\\"{}\\\") \\n\\\n",
    "chunk = doc.chunk \\n\\\n",
    "chunk.exportModel(path=\\\"{}\\\", format=PhotoScan.ModelFormat.{})  \\n' \n",
    "\n",
    "modelFile = projectname + mfextension[mfchoice.value]\n",
    "output = template.format(singularitymountfolder + projectFile, singularitymountfolder + modelFile, mfchoice.value)\n",
    "print('output:', output)\n",
    "\n",
    "with open(commandScript, 'w') as f:\n",
    "    f.write(output)\n"
   ]
  },
  {
   "cell_type": "code",
   "execution_count": 70,
   "metadata": {
    "collapsed": false,
    "scrolled": false
   },
   "outputs": [
    {
     "name": "stdout",
     "output_type": "stream",
     "text": [
      " Generate model output:  ['Submitted batch job 1406456']\n",
      "1406456\n"
     ]
    }
   ],
   "source": [
    "out = !sbatch slurmscript.sh   \n",
    "        \n",
    "print (' Generate model output: ', out ) \n",
    "jobId =  out[0].split()[3]\n",
    "print (jobId)         \n"
   ]
  },
  {
   "cell_type": "code",
   "execution_count": 71,
   "metadata": {
    "collapsed": false
   },
   "outputs": [
    {
     "name": "stdout",
     "output_type": "stream",
     "text": [
      "             JOBID PARTITION     NAME     USER ST       TIME  NODES NODELIST(REASON)\n",
      "--------------------------------\n",
      "JobId=1406456 JobName=monument\n",
      "   UserId=quinnd(42413) GroupId=ucb(501) MCS_label=N/A\n",
      "   Priority=435720 Nice=0 Account=ac_scsguest QOS=savio_normal\n",
      "   JobState=FAILED Reason=NonZeroExitCode Dependency=(null)\n",
      "   Requeue=0 Restarts=0 BatchFlag=1 Reboot=0 ExitCode=1:0\n",
      "   RunTime=00:00:03 TimeLimit=00:30:00 TimeMin=N/A\n",
      "   SubmitTime=2017-06-10T07:24:32 EligibleTime=2017-06-10T07:24:32\n",
      "   StartTime=2017-06-10T07:24:32 EndTime=2017-06-10T07:24:35 Deadline=N/A\n",
      "   PreemptTime=None SuspendTime=None SecsPreSuspend=0\n",
      "   Partition=savio AllocNode:Sid=ln000:21556\n",
      "   ReqNodeList=(null) ExcNodeList=(null)\n",
      "   NodeList=n0044.savio1\n",
      "   BatchHost=n0044.savio1\n",
      "   NumNodes=1 NumCPUs=20 NumTasks=0 CPUs/Task=1 ReqB:S:C:T=0:0:*:*\n",
      "   TRES=cpu=20,mem=62.50G,node=1\n",
      "   Socks/Node=* NtasksPerN:B:S:C=0:0:*:* CoreSpec=*\n",
      "   MinCPUsNode=1 MinMemoryNode=62.50G MinTmpDiskNode=0\n",
      "   Features=(null) Gres=(null) Reservation=(null)\n",
      "   OverSubscribe=NO Contiguous=0 Licenses=(null) Network=(null)\n",
      "   Command=/global/scratch/quinnd/monument/slurmscript.sh\n",
      "   WorkDir=/global/scratch/quinnd/monument\n",
      "   StdErr=/global/scratch/quinnd/monument/slurm-1406456.out\n",
      "   StdIn=/dev/null\n",
      "   StdOut=/global/scratch/quinnd/monument/slurm-1406456.out\n",
      "   Power=\n",
      "\n"
     ]
    }
   ],
   "source": [
    "# print the users queue and the job status by id\n",
    "!squeue -u $username\n",
    "print('--------------------------------')\n",
    "!scontrol show job $jobId"
   ]
  },
  {
   "cell_type": "markdown",
   "metadata": {},
   "source": [
    "## Move the OBJ and associated JPG to Box\n",
    "You can download the files from Box and preview using http://3dviewer.net/"
   ]
  },
  {
   "cell_type": "code",
   "execution_count": 77,
   "metadata": {
    "collapsed": false,
    "scrolled": false
   },
   "outputs": [
    {
     "name": "stdout",
     "output_type": "stream",
     "text": [
      "find_folder_id folder_name:  monument\n",
      "find_folder_id folderlist:  [<Box Folder - 27697792189 (monument)>]\n",
      "obj file id:  183711388797\n",
      "jpeg file id:  183711415771\n"
     ]
    }
   ],
   "source": [
    "newFolderId = find_folder_id(boxProjectFolder)\n",
    "upload_folder = client.folder(folder_id=newFolderId).get()\n",
    "objUploaded = upload_folder.upload(runFolder + modelFile)  \n",
    "print (\"obj file id: \", objUploaded['id'] )\n",
    "jpgUploaded = upload_folder.upload(runFolder + jpgFile)  \n",
    "print (\"jpeg file id: \", jpgUploaded['id'] )"
   ]
  },
  {
   "cell_type": "markdown",
   "metadata": {},
   "source": [
    "# Software license\n",
    "This software is available under the terms of the Educational Community License, Version 2.0 (ECL 2.0). This software is Copyright 2016 The Regents of the University of California, Berkeley (\"Berkeley\").\n",
    "\n",
    "The text of the ECL license is reproduced below.\n",
    "\n",
    "Educational Community License, Version 2.0\n",
    "*************************************\n",
    "Copyright 2016 The Regents of the University of California, Berkeley (\"Berkeley\")\n",
    "\n",
    "Educational Community License, Version 2.0, April 2007\n",
    "\n",
    "The Educational Community License version 2.0 (\"ECL\") consists of the\n",
    "Apache 2.0 license, modified to change the scope of the patent grant in\n",
    "section 3 to be specific to the needs of the education communities using\n",
    "this license. The original Apache 2.0 license can be found at:[http://www.apache.org/licenses/LICENSE-2.0]"
   ]
  }
 ],
 "metadata": {
  "celltoolbar": "Edit Metadata",
  "kernelspec": {
   "display_name": "Python 3",
   "language": "python",
   "name": "python3"
  },
  "language_info": {
   "codemirror_mode": {
    "name": "ipython",
    "version": 3
   },
   "file_extension": ".py",
   "mimetype": "text/x-python",
   "name": "python",
   "nbconvert_exporter": "python",
   "pygments_lexer": "ipython3",
   "version": "3.5.1"
  },
  "toc": {
   "colors": {
    "hover_highlight": "#DAA520",
    "running_highlight": "#FF0000",
    "selected_highlight": "#FFD700"
   },
   "moveMenuLeft": true,
   "nav_menu": {
    "height": "512px",
    "width": "252px"
   },
   "navigate_menu": true,
   "number_sections": true,
   "sideBar": true,
   "threshold": "6",
   "toc_cell": false,
   "toc_section_display": "block",
   "toc_window_display": true
  },
  "widgets": {
   "state": {
    "06b8adbd101d487087ab3bf320cb46dd": {
     "views": [
      {
       "cell_index": 6
      }
     ]
    },
    "1529933b49b844d9ba02819a24e4571b": {
     "views": [
      {
       "cell_index": 42
      }
     ]
    },
    "166c3100dfc7420f979917f14677ebf4": {
     "views": [
      {
       "cell_index": 39
      }
     ]
    },
    "18aa20c2d5c44328b36c57557cbf4134": {
     "views": [
      {
       "cell_index": 67
      }
     ]
    },
    "1ddec2c4784243df9ab0639b10f871c6": {
     "views": [
      {
       "cell_index": 46
      }
     ]
    },
    "208a50bab3eb4d9da039b5b8fb7b6c6b": {
     "views": [
      {
       "cell_index": 46
      }
     ]
    },
    "23c6a76f94f4479b8446ace48f490b78": {
     "views": [
      {
       "cell_index": 82
      }
     ]
    },
    "3250e957bcb24216968c22b357308846": {
     "views": [
      {
       "cell_index": 6
      }
     ]
    },
    "35044abd185a49c4b25b1d1f218f0a09": {
     "views": [
      {
       "cell_index": 67
      }
     ]
    },
    "3de43f62bc46490aad4825e782cd9cef": {
     "views": [
      {
       "cell_index": 46
      }
     ]
    },
    "460a20bbe43a4a7b8499a3bca8988f11": {
     "views": [
      {
       "cell_index": 33
      }
     ]
    },
    "4b25bf2fe76d4c7aab4a3474cc4c2d77": {
     "views": [
      {
       "cell_index": 6
      }
     ]
    },
    "522999fad3d746698cfc4227cf469267": {
     "views": [
      {
       "cell_index": 42
      }
     ]
    },
    "5652a78a56954e94aa65a033fa7ea8e2": {
     "views": [
      {
       "cell_index": 67
      }
     ]
    },
    "577e1ebbba624ee0aaa7e1176663595b": {
     "views": [
      {
       "cell_index": 92
      }
     ]
    },
    "5ba7839d2ac7435d828a68406e71a3da": {
     "views": [
      {
       "cell_index": 42
      }
     ]
    },
    "5bd43ab3e1a545c9a105208be217320f": {
     "views": [
      {
       "cell_index": 6
      }
     ]
    },
    "647968bedd3f427a9d54ddddbe0c92f4": {
     "views": [
      {
       "cell_index": 46
      }
     ]
    },
    "64e23041912147a3a87817a5682ddeb1": {
     "views": [
      {
       "cell_index": 42
      }
     ]
    },
    "6bde7739e795435daa9f3a99747aef91": {
     "views": [
      {
       "cell_index": 33
      }
     ]
    },
    "7301be399f8c4cc19fd4dd6ed4143232": {
     "views": [
      {
       "cell_index": 82
      }
     ]
    },
    "7be8717715734c4ab5da9ee15dd2f384": {
     "views": [
      {
       "cell_index": 42
      }
     ]
    },
    "873dd8cfb2f540818136e59da8791ed8": {
     "views": [
      {
       "cell_index": 6
      }
     ]
    },
    "882cbffc50004d66991ecc46eb68ca0b": {
     "views": [
      {
       "cell_index": 100
      }
     ]
    },
    "89f35bcfb1a94514883036b24f7a42c6": {
     "views": [
      {
       "cell_index": 39
      }
     ]
    },
    "8b2279c44b90454c93238e344554e1a2": {
     "views": [
      {
       "cell_index": 6
      }
     ]
    },
    "8bdbf73dfe644d6faac8ae0a464dcc87": {
     "views": [
      {
       "cell_index": 39
      }
     ]
    },
    "9218dd72817546ceb9c52cfd732a9800": {
     "views": [
      {
       "cell_index": 44
      }
     ]
    },
    "94d2ad509a2b48d69a76dea593c88459": {
     "views": [
      {
       "cell_index": 6
      }
     ]
    },
    "9ab2f75feb7f491ba97c3fce74ff62d4": {
     "views": [
      {
       "cell_index": 6
      }
     ]
    },
    "9b3b1983e0c74208a54ed65e9946ff74": {
     "views": [
      {
       "cell_index": 6
      }
     ]
    },
    "9f22118b28074cc1848e75a48538205f": {
     "views": [
      {
       "cell_index": 46
      }
     ]
    },
    "ae7a0ccbc54d46df99e403294610c691": {
     "views": [
      {
       "cell_index": 42
      }
     ]
    },
    "b0662c85b2e943d6b9dc613fb5ad25be": {
     "views": [
      {
       "cell_index": 6
      }
     ]
    },
    "d09d51f06675471b9fe6605562bb33ef": {
     "views": [
      {
       "cell_index": 6
      }
     ]
    },
    "d2e46df0abf44776a27b53faa9d74e69": {
     "views": [
      {
       "cell_index": 6
      }
     ]
    },
    "d9dce42192ee4ec48361348749dbd496": {
     "views": [
      {
       "cell_index": 82
      }
     ]
    },
    "e05238a937794ed3a12aac70d0d797e7": {
     "views": [
      {
       "cell_index": 6
      }
     ]
    },
    "edd22ed4e32e477c85994d46b5831432": {
     "views": [
      {
       "cell_index": 42
      }
     ]
    },
    "f1a5cd932c274ad88446a98021a91719": {
     "views": [
      {
       "cell_index": 67
      }
     ]
    },
    "f2c178cdaa1a447082cbd3bf0d2aa07c": {
     "views": [
      {
       "cell_index": 44
      }
     ]
    },
    "f99b7f10e8dd4f42a5224e36cb20be48": {
     "views": [
      {
       "cell_index": 6
      }
     ]
    },
    "fd356fbe6f114902a1b6073a0875ec6c": {
     "views": [
      {
       "cell_index": 6
      }
     ]
    }
   },
   "version": "1.2.0"
  }
 },
 "nbformat": 4,
 "nbformat_minor": 0
}
