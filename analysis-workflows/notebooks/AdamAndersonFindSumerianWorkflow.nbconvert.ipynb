{
 "cells": [
  {
   "cell_type": "markdown",
   "metadata": {
    "collapsed": true
   },
   "source": [
    "### This notebook is an exemplar which demonstrates transferring zip files between a bDrive folder and Savio scratch to run OCR on images using Tesseract (inside a Singularity container)\n",
    "\n",
    "( tested with boxsdk (2.0.0a2) on python 3.5 kernel)\n",
    "pip install -Iv boxsdk==2.0.0a2 "
   ]
  },
  {
   "cell_type": "markdown",
   "metadata": {},
   "source": [
    "\n",
    "_This software is available under the terms of the Educational Community License, Version 2.0 (ECL 2.0). This software is Copyright 2016 The Regents of the University of California, Berkeley (\"Berkeley\")._\n",
    "\n",
    "The text of the ECL license is reproduced below.\n",
    "\n",
    "Educational Community License, Version 2.0\n",
    "*************************************\n",
    "Copyright 2017 The Regents of the University of California, Berkeley (\"Berkeley\")\n",
    "\n",
    "Educational Community License, Version 2.0, April 2007\n",
    "\n",
    "The Educational Community License version 2.0 (\"ECL\") consists of the\n",
    "Apache 2.0 license, modified to change the scope of the patent grant in\n",
    "section 3 to be specific to the needs of the education communities using\n",
    "this license. The original Apache 2.0 license can be found at:[http://www.apache.org/licenses/LICENSE-2.0]"
   ]
  },
  {
   "cell_type": "markdown",
   "metadata": {},
   "source": [
    "### Notebook configuration section\n",
    "Set of target and source directories, script file names and other used as parameters in processing below."
   ]
  },
  {
   "cell_type": "code",
   "execution_count": 1,
   "metadata": {
    "collapsed": true
   },
   "outputs": [],
   "source": [
    "savioUsername = 'guohaoang' #Put your savio username here\n",
    "boxProjectFolder = 'aatest' #Put the name of your Google Drive Folder with data here, ensure that it is NOT nested\n",
    "boxResultsFolder = 'aatest' #Put the name of the Drive Folder where you would like results placed. \n",
    "projectname = 'aanderson'         #Put the name of the folder in your scratch folder you would like data stored in\n"
   ]
  },
  {
   "cell_type": "code",
   "execution_count": 2,
   "metadata": {
    "collapsed": true
   },
   "outputs": [],
   "source": [
    "# Added by Nicolas Chan, 10/12/2017\n",
    "number_to_process = 20\n",
    "shared_results_folder_id = '0B1297pLT9WXLV29iNmlWcTlvakk'\n",
    "all_files_list = '/global/scratch/groups/dh/aanderson/all_files.txt'\n",
    "group_results_folder = '/global/scratch/groups/dh/aanderson/results/'"
   ]
  },
  {
   "cell_type": "code",
   "execution_count": 3,
   "metadata": {
    "collapsed": false
   },
   "outputs": [],
   "source": [
    "runFolder = '/global/scratch/' + savioUsername + '/' + projectname + '/'\n",
    "\n",
    "tesseractimage = '/global/scratch/groups/dh/tesseract2_3.img'\n",
    "tesseractdatadir = '/opt/tessdata/'\n",
    "pdfnamelist = []\n",
    "\n",
    "scratchDataDirectory = '/global/scratch/' + savioUsername + '/' + projectname + '/data/'\n",
    "tesseractScratchDataDirectory = '/scratch/'\n",
    "\n",
    "SINGULARITYCMD = 'singularity exec -B ' + runFolder + ':/scratch/  ' + tesseractimage"
   ]
  },
  {
   "cell_type": "code",
   "execution_count": 4,
   "metadata": {
    "collapsed": false
   },
   "outputs": [],
   "source": [
    "#Make Directories if they do not exist\n",
    "import os\n",
    "import sys\n",
    "import errno\n",
    "\n",
    "def dir_create(path):\n",
    "    try:\n",
    "        os.makedirs(path)\n",
    "    except OSError as exception:\n",
    "        if exception.errno != errno.EEXIST:\n",
    "            raise\n",
    "        else:\n",
    "            print('Folder at: ' + path + ' already exists. Skipping...')\n",
    "# dir_create(runFolder)\n",
    "# dir_create(scratchDataDirectory)"
   ]
  },
  {
   "cell_type": "markdown",
   "metadata": {},
   "source": [
    "### bDrive Authorization"
   ]
  },
  {
   "cell_type": "code",
   "execution_count": 5,
   "metadata": {
    "collapsed": false
   },
   "outputs": [],
   "source": [
    "import codecs\n",
    "import httplib2\n",
    "from googleapiclient.http import MediaIoBaseDownload\n",
    "from googleapiclient.http import MediaFileUpload\n",
    "from apiclient import discovery, errors\n",
    "from oauth2client import client\n",
    "from oauth2client import tools\n",
    "from oauth2client.file import Storage"
   ]
  },
  {
   "cell_type": "code",
   "execution_count": 6,
   "metadata": {
    "collapsed": true
   },
   "outputs": [],
   "source": [
    "SCOPES = 'https://www.googleapis.com/auth/drive'\n",
    "CLIENT_SECRET_FILE = 'client_secret.json'\n",
    "APPLICATION_NAME = 'gDriveConnect'"
   ]
  },
  {
   "cell_type": "code",
   "execution_count": 7,
   "metadata": {
    "collapsed": false
   },
   "outputs": [],
   "source": [
    "import argparse\n",
    "parser = argparse.ArgumentParser(parents=[tools.argparser])\n",
    "parser.add_argument('-f', help=argparse.SUPPRESS)\n",
    "\n",
    "flags = parser.parse_known_args()[0]\n",
    "flags.noauth_local_webserver = True"
   ]
  },
  {
   "cell_type": "code",
   "execution_count": 8,
   "metadata": {
    "collapsed": true
   },
   "outputs": [],
   "source": [
    "def get_credentials():\n",
    "    \n",
    "    home_dir = os.path.expanduser('~')\n",
    "    credential_dir = os.path.join(home_dir, '.credentials')\n",
    "    if not os.path.exists(credential_dir):\n",
    "        os.makedirs(credential_dir)\n",
    "    credential_path = os.path.join(credential_dir, 'gDriveConnect.json')\n",
    "    \n",
    "    store = Storage(credential_path)    \n",
    "    credentials = store.get()\n",
    "    \n",
    "    if not credentials or credentials.invalid:\n",
    "        flow = client.flow_from_clientsecrets(CLIENT_SECRET_FILE, SCOPES)\n",
    "        flow.user_agent = APPLICATION_NAME\n",
    "        if flags:\n",
    "            credentials = tools.run_flow(flow, store, flags)\n",
    "        else: # Needed only for compatibility with Python 2.6\n",
    "            credentials = tools.run(flow, store)\n",
    "        print('Storing credentials to ' + credential_path)\n",
    "        \n",
    "    return credentials"
   ]
  },
  {
   "cell_type": "code",
   "execution_count": 9,
   "metadata": {
    "collapsed": false
   },
   "outputs": [
    {
     "name": "stdout",
     "output_type": "stream",
     "text": [
      "credential_path: <oauth2client.client.OAuth2Credentials object at 0x2ad338a6d4e0>\n"
     ]
    }
   ],
   "source": [
    "credentials = get_credentials()\n",
    "print('credential_path:', credentials)\n",
    "http = credentials.authorize(httplib2.Http())\n",
    "service = discovery.build('drive', 'v3', http=http)"
   ]
  },
  {
   "cell_type": "code",
   "execution_count": 10,
   "metadata": {
    "collapsed": false
   },
   "outputs": [
    {
     "name": "stdout",
     "output_type": "stream",
     "text": [
      "target folder id:\n"
     ]
    }
   ],
   "source": [
    "# loop thru folders to get the target dfolder for the download\n",
    "page_token=None\n",
    "response = service.files().list(q=\"mimeType='application/vnd.google-apps.folder'\",\n",
    "                                     spaces='drive',\n",
    "                                     fields='files(id, name)',\n",
    "                                     pageToken=page_token).execute()\n",
    "targetFolderId = ''\n",
    "for file in response.get('files', []):\n",
    "    if file.get('name')== boxProjectFolder:\n",
    "        targetFolderId = file.get('id')\n",
    "print('target folder id:' + targetFolderId)"
   ]
  },
  {
   "cell_type": "code",
   "execution_count": 11,
   "metadata": {
    "collapsed": false
   },
   "outputs": [
    {
     "name": "stdout",
     "output_type": "stream",
     "text": [
      "['Results_636-655', 'Results_456-475', 'Results_159-163', 'Results_536-555', 'Results_354-355', 'Results_676-695', 'Results_274-293', 'Results_294-313', 'Results_229-273', 'Results_179-183', 'Results_169-173', 'Results_656-675', 'Results_174-183', 'Results_696-715', 'Results_184-203', 'Results_164-168', 'Results_476-485', 'Results_576-595', 'Results_356-455', 'Results_516-535', 'Results_209-223', 'Results_496-505', 'Results_314-333', 'Results_204-208', 'Results_616-635', 'Results_596-615', 'Results_506-515', 'Results_334-353', 'Results_486-495', 'Results_224-228', 'Results_154-158', 'Results_556-575', 'Results_141-153']\n",
      "Will process range 716 to 735\n"
     ]
    }
   ],
   "source": [
    "# Added by Nicolas Chan, 10/12/2017\n",
    "# Figure out where to start in the range\n",
    "\n",
    "# Get names of all the folders\n",
    "def get_drive_contents(folder_id):\n",
    "    contents = []\n",
    "    query=\"'\" + folder_id + \"' in parents and trashed=false\"\n",
    "    \n",
    "    # This implementation is copied from below (commented out)\n",
    "    page_token = None\n",
    "    while True:\n",
    "        response = service.files().list(q=query,\n",
    "                                             spaces='drive',\n",
    "                                             fields='nextPageToken, files(id, name)',\n",
    "                                             pageToken=page_token).execute()\n",
    "        for file in response.get('files', []):\n",
    "            # Process change\n",
    "            print('Found file: %s (%s)' % (file.get('name'), file.get('id')) )\n",
    "            tup = (file.get('name'), file.get('id'))\n",
    "            contents.append(tup)\n",
    "        page_token = response.get('nextPageToken', None)\n",
    "        if page_token is None:\n",
    "            break;\n",
    "    return contents\n",
    "\n",
    "def results_folder_to_range(folder_name):\n",
    "    start, end = folder_name.split('_')[1].split('-')\n",
    "    return int(start), int(end)\n",
    "\n",
    "# results_folders = get_drive_contents(shared_results_folder_id)\n",
    "results_folders = [ d for d in os.listdir(group_results_folder) ]\n",
    "print(os.listdir(group_results_folder))\n",
    "\n",
    "completed_up_to = -1\n",
    "for folder in results_folders:\n",
    "    folder_name = folder\n",
    "    _, end = results_folder_to_range(folder_name)\n",
    "    completed_up_to = max(completed_up_to, end)\n",
    "\n",
    "completed_up_to += 1 # Start on next one\n",
    "#henry:should be number_to_process + completed_up_to - 1\n",
    "#start_index, end_index = completed_up_to, number_to_process + start_index - 1\n",
    "start_index, end_index = completed_up_to, number_to_process + completed_up_to - 1\n",
    "print('Will process range', start_index, 'to', end_index)\n",
    "log = \"Processing from index {0} to index {1}\".format"
   ]
  },
  {
   "cell_type": "code",
   "execution_count": 12,
   "metadata": {
    "collapsed": false
   },
   "outputs": [],
   "source": [
    "# Nicolas Chan, 10/17/2017\n",
    "# Create the directory for this run inside of the projectname folder\n",
    "runFolder = runFolder + 'range_' + str(start_index) + '-' + str(end_index) + '/'\n",
    "scratchDataDirectory = runFolder + 'data/'\n",
    "\n",
    "gsCommandScript = runFolder + 'gsCommandScript.sh'\n",
    "t4CommandScript = runFolder + 't4CommandScript.sh'\n",
    "slurmScript = runFolder + 'slurmscript.sh'\n",
    "\n",
    "dir_create(runFolder)\n",
    "dir_create(scratchDataDirectory)"
   ]
  },
  {
   "cell_type": "code",
   "execution_count": 13,
   "metadata": {
    "collapsed": false
   },
   "outputs": [
    {
     "name": "stdout",
     "output_type": "stream",
     "text": [
      "2017-10-27 14:11:51 Start processing index 716 to index 735\n"
     ]
    }
   ],
   "source": [
    "#Henry Ang 10/13/2017\n",
    "from time import localtime, strftime\n",
    "logMsg = \"{2} Start processing index {0} to index {1}\".format(start_index, end_index, strftime(\"%Y-%m-%d %H:%M:%S\", localtime())\n",
    ")\n",
    "print(logMsg)\n",
    "!echo $logMsg >> /global/scratch/groups/dh/aanderson/process_log.txt"
   ]
  },
  {
   "cell_type": "code",
   "execution_count": 14,
   "metadata": {
    "collapsed": false
   },
   "outputs": [
    {
     "name": "stdout",
     "output_type": "stream",
     "text": [
      "/global/scratch/groups/dh/aanderson/results//Results_716-735/\n"
     ]
    }
   ],
   "source": [
    "# Added by Nicolas Chan, 10/12/2017\n",
    "def create_drive_folder(name, parent=None):\n",
    "    \"Create a new Google Drive folder, nested under parent\"\n",
    "    \n",
    "    body = { 'name': name, 'mimeType': 'application/vnd.google-apps.folder' }\n",
    "    if parent:\n",
    "        body['parents'] = [parent]\n",
    "    return service.files().create(body = body).execute()\n",
    "\n",
    "# Create a results folder for this range\n",
    "results_folder_name = 'Results_' + str(start_index) + '-' + str(end_index)\n",
    "# results_folder = create_drive_folder(results_folder_name, shared_results_folder_id)\n",
    "results_folder = group_results_folder + '/' + results_folder_name + '/'\n",
    "dir_create(results_folder)\n",
    "print(results_folder)"
   ]
  },
  {
   "cell_type": "code",
   "execution_count": 15,
   "metadata": {
    "collapsed": false
   },
   "outputs": [],
   "source": [
    "# Added by Nicolas Chan based on previous code, 10/12/2017\n",
    "import io\n",
    "def download_file(google_id, destination):\n",
    "    \"\"\"Downloads a file from Google Drive\"\"\"\n",
    "    \n",
    "    request = service.files().get_media(fileId=google_id)\n",
    "    fh = io.BytesIO()\n",
    "    downloader = MediaIoBaseDownload(fh, request)\n",
    "    \n",
    "    done = False\n",
    "    while done is False:\n",
    "        try:\n",
    "            status, done = downloader.next_chunk()\n",
    "            sys.stdout.write('.')\n",
    "        except errors.HttpError as error :\n",
    "            print('Error file:', value, '   id:', key)\n",
    "            print('An error occurred pulling the next chunk:', error)\n",
    "            break\n",
    "\n",
    "    fh.seek(0)\n",
    "\n",
    "    print('\\nwriting:', destination)\n",
    "    with open( destination, 'wb',) as f2:\n",
    "        f2.write(fh.getvalue())\n",
    "        f2.close()\n",
    "\n",
    "    fh.close()"
   ]
  },
  {
   "cell_type": "code",
   "execution_count": 16,
   "metadata": {
    "collapsed": false
   },
   "outputs": [
    {
     "name": "stdout",
     "output_type": "stream",
     "text": [
      "20 files to download\n"
     ]
    }
   ],
   "source": [
    "# Added by Nicolas Chan, 10/12/2017\n",
    "# Find which files to use in the range specified\n",
    "files_to_download = []\n",
    "with open(all_files_list, 'rt', encoding='utf-8') as f:\n",
    "    line_number = 0\n",
    "    for line in f:\n",
    "        if line_number > end_index:\n",
    "            break\n",
    "        if line_number >= start_index:\n",
    "            files_to_download.append(line.split(';')[-1].strip('\\n'))\n",
    "        line_number += 1\n",
    "\n",
    "print(len(files_to_download), 'files to download')"
   ]
  },
  {
   "cell_type": "code",
   "execution_count": 17,
   "metadata": {
    "collapsed": false
   },
   "outputs": [
    {
     "name": "stdout",
     "output_type": "stream",
     "text": [
      "2017-10-27 14:11:51 Start downloading PDFs\n"
     ]
    }
   ],
   "source": [
    "#Henry Ang 10/13/2017\n",
    "logMsg = \"{0} Start downloading PDFs\".format(strftime(\"%Y-%m-%d %H:%M:%S\", localtime()))\n",
    "print(logMsg)\n",
    "!echo $logMsg >> /global/scratch/groups/dh/aanderson/process_log.txt"
   ]
  },
  {
   "cell_type": "code",
   "execution_count": 18,
   "metadata": {
    "collapsed": false
   },
   "outputs": [
    {
     "name": "stdout",
     "output_type": "stream",
     "text": [
      "....................................................\n",
      "writing: /global/scratch/guohaoang/aanderson/range_716-735/data/0B30KweltiOGYUTVrQkgteE9aWkE.pdf\n",
      "..\n",
      "writing: /global/scratch/guohaoang/aanderson/range_716-735/data/0B30KweltiOGYMjZmT3hPWkVZM3M.pdf\n",
      "....................\n",
      "writing: /global/scratch/guohaoang/aanderson/range_716-735/data/0B30KweltiOGYMGVMd0huT2pHN00.pdf\n",
      "...............\n",
      "writing: /global/scratch/guohaoang/aanderson/range_716-735/data/0B30KweltiOGYQjA2cFh5NHlpZEE.pdf\n",
      "................\n",
      "writing: /global/scratch/guohaoang/aanderson/range_716-735/data/0B30KweltiOGYbFpQWlJrb2l3RGs.pdf\n",
      "......................\n",
      "writing: /global/scratch/guohaoang/aanderson/range_716-735/data/0B30KweltiOGYTF94VUwybjZiLU0.pdf\n",
      ".....\n",
      "writing: /global/scratch/guohaoang/aanderson/range_716-735/data/0B30KweltiOGYazlWWU05VktOUXc.pdf\n",
      ".................\n",
      "writing: /global/scratch/guohaoang/aanderson/range_716-735/data/0B30KweltiOGYWndYU3p0V1Q4Um8.pdf\n",
      "................................................................................\n",
      "writing: /global/scratch/guohaoang/aanderson/range_716-735/data/0B30KweltiOGYNUlCRnVwWk9mX1k.pdf\n",
      ".........................................\n",
      "writing: /global/scratch/guohaoang/aanderson/range_716-735/data/0B30KweltiOGYcXUxR252dzlFcEk.pdf\n",
      ".................\n",
      "writing: /global/scratch/guohaoang/aanderson/range_716-735/data/0B30KweltiOGYVV9aSUZlNTBZZmc.pdf\n",
      "..........................\n",
      "writing: /global/scratch/guohaoang/aanderson/range_716-735/data/0B30KweltiOGYc2huWHhxRnByTTA.pdf\n",
      "..............\n",
      "writing: /global/scratch/guohaoang/aanderson/range_716-735/data/0B5pvLyX4aZqxVUtFQVg0dGVFOFU.pdf\n",
      "...........................................................................................\n",
      "writing: /global/scratch/guohaoang/aanderson/range_716-735/data/0B30KweltiOGYc0RrTmNoZkFEc2s.pdf\n",
      "............\n",
      "writing: /global/scratch/guohaoang/aanderson/range_716-735/data/0BxXY6-YEk2r-RjItNVFkMXRCMGM.pdf\n",
      "....................\n",
      "writing: /global/scratch/guohaoang/aanderson/range_716-735/data/0BxXY6-YEk2r-NGZCd203TXZia0E.pdf\n",
      "................\n",
      "writing: /global/scratch/guohaoang/aanderson/range_716-735/data/0ByQ0tEGgk5rvdkFNVU92Qm5zelE.pdf\n",
      "..........................................................................................................\n",
      "writing: /global/scratch/guohaoang/aanderson/range_716-735/data/0ByQ0tEGgk5rvS0kyZHJMeDFEeGc.pdf\n",
      ".....................................................................................................................................................................................\n",
      "writing: /global/scratch/guohaoang/aanderson/range_716-735/data/0ByQ0tEGgk5rvR0hJMXdYVnlRLWM.pdf\n",
      "........................................................................................................................................................................................................................................................\n",
      "writing: /global/scratch/guohaoang/aanderson/range_716-735/data/0ByQ0tEGgk5rvc052aFRrNzZaa2s.pdf\n"
     ]
    }
   ],
   "source": [
    "# Added by Nicolas Chan, 10/12/2017\n",
    "# Download specified files\n",
    "for file in files_to_download:\n",
    "    download_file(file, scratchDataDirectory + file + '.pdf')"
   ]
  },
  {
   "cell_type": "markdown",
   "metadata": {},
   "source": [
    "### Utility functions"
   ]
  },
  {
   "cell_type": "code",
   "execution_count": 19,
   "metadata": {
    "collapsed": true
   },
   "outputs": [],
   "source": [
    "import re\n",
    "\n",
    "def natural_sort_key(s, _nsre=re.compile('([0-9]+)')):\n",
    "    return [int(text) if text.isdigit() else text.lower()\n",
    "            for text in re.split(_nsre, s)]  "
   ]
  },
  {
   "cell_type": "markdown",
   "metadata": {},
   "source": [
    "__function to return all files in directory tree.__"
   ]
  },
  {
   "cell_type": "code",
   "execution_count": 20,
   "metadata": {
    "collapsed": false
   },
   "outputs": [],
   "source": [
    "import os\n",
    "def scantreeForFiles(path):\n",
    "    \"\"\"Recursively yield DirEntry objects for given directory.\"\"\"\n",
    "    for entry in os.scandir(path):\n",
    "        if entry.is_dir(follow_symlinks=False):\n",
    "            yield from scantreeForFiles(entry.path) \n",
    "        else:\n",
    "            yield entry.path\n"
   ]
  },
  {
   "cell_type": "markdown",
   "metadata": {},
   "source": [
    "__function to return list of all folders in directory tree.__"
   ]
  },
  {
   "cell_type": "code",
   "execution_count": 21,
   "metadata": {
    "collapsed": false
   },
   "outputs": [],
   "source": [
    "import os\n",
    "def scandirForFolders(path, dirlist):\n",
    "    \"\"\"Recursively yield DirEntry objects for given directory.\"\"\"\n",
    "    for entry in os.scandir(path):\n",
    "        if entry.is_dir(follow_symlinks=False):\n",
    "            dirlist.append(entry.path)\n",
    "            scandirForFolders(entry.path, dirlist)    \n"
   ]
  },
  {
   "cell_type": "markdown",
   "metadata": {},
   "source": [
    "__Validate all the task log files produced by ht_helper __"
   ]
  },
  {
   "cell_type": "code",
   "execution_count": 22,
   "metadata": {
    "collapsed": false
   },
   "outputs": [],
   "source": [
    "def validateTaskResults(fileroot, totalTasks):\n",
    "    # file root is job-name.jobId.taskNumber.log\n",
    "    \n",
    "    errorList = []\n",
    "    \n",
    "    for i in range(0, totalTasks-1):\n",
    "        fn = fileroot + '.' + str(i)\n",
    "        if os.path.exists(fn):\n",
    "            out = !tail -1 {fn}\n",
    "            retval = out[0]\n",
    "            #print ('return code: ', out[0])\n",
    "        else:\n",
    "            print ('warning: log file not available: ', fn)\n",
    "        \n",
    "        if ( retval != '0' ):\n",
    "            errorList.append(i)\n",
    "            \n",
    "    return errorList\n"
   ]
  },
  {
   "cell_type": "markdown",
   "metadata": {},
   "source": [
    "__SLURM job script__ normal"
   ]
  },
  {
   "cell_type": "code",
   "execution_count": 23,
   "metadata": {
    "collapsed": false
   },
   "outputs": [],
   "source": [
    "# batch script\n",
    "batchtemplate = '#!/bin/bash -l  \\n\\\n",
    "# Job name: \\n\\\n",
    "#SBATCH --job-name=' + projectname + '\\n\\\n",
    "# \\n\\\n",
    "# Account: \\n\\\n",
    "#SBATCH --account=ac_scsguest \\n\\\n",
    "# \\n\\\n",
    "# Partition: \\n\\\n",
    "#SBATCH --partition=savio2 \\n\\\n",
    "# \\n\\\n",
    "## Scale by increasing the number of nodes \\n\\\n",
    "#SBATCH --nodes=5  \\n\\\n",
    "## DO NOT change ntasks-per-node setting as T4 also distributes across cores \\n\\\n",
    "#SBATCH --ntasks-per-node=6 \\n\\\n",
    "#SBATCH --qos=savio_normal \\n\\\n",
    "# \\n\\\n",
    "# Wall clock limit: \\n\\\n",
    "#SBATCH --time={} \\n\\\n",
    "# \\n\\\n",
    "## Command(s) to run: \\n\\\n",
    "module load gcc openmpi  \\n\\\n",
    "/global/home/groups/allhands/bin/ht_helper.sh  -t {} -n1 -s1 -vL \\n' \n"
   ]
  },
  {
   "cell_type": "markdown",
   "metadata": {},
   "source": [
    "### Create script to convert all pdf files in working directory to images\n"
   ]
  },
  {
   "cell_type": "code",
   "execution_count": 24,
   "metadata": {
    "collapsed": false
   },
   "outputs": [
    {
     "name": "stdout",
     "output_type": "stream",
     "text": [
      "current working directory:  /global/scratch/guohaoang/aanderson/range_716-735/data\n"
     ]
    }
   ],
   "source": [
    "import glob, os\n",
    "import shutil \n",
    "\n",
    "# Ghostscript executable is inside the container.\n",
    "# TEMPLATE: gs -dBATCH -dNOPAUSE -dQUIET -sDEVICE=png16m -sOutputFile=/scratch/test/output/test-%d.png -r300 /scratch/test/germanocr.pdf\n",
    "SINGULARITYCMD = 'singularity exec -B {}:/scratch/ /global/scratch/groups/dh/tesseract2_3.img ' \n",
    "GHOSTSCRIPTCMD = 'gs -dBATCH -dNOPAUSE -dQUIET -sDEVICE=png16m -sOutputFile=\\\"{}-%d.png\\\" -r300 \\\"{}\\\" ;  echo $?'\n",
    "\n",
    "os.chdir(scratchDataDirectory)\n",
    "print ('current working directory: ', os.getcwd())\n",
    "\n",
    "scmd = SINGULARITYCMD.format(scratchDataDirectory)\n",
    "\n",
    "# total number of ghostscript tasks\n",
    "gsCommandTotal = 0\n",
    "\n",
    "with open(gsCommandScript, 'w') as f:  \n",
    "\n",
    "    for entry in scantreeForFiles(scratchDataDirectory):\n",
    "        filename, file_extension = os.path.splitext(entry)\n",
    "        if ( entry.endswith('.pdf')):\n",
    "            relativepath1 = entry[len(scratchDataDirectory):]\n",
    "            relativepath2 = filename[len(scratchDataDirectory):]\n",
    "            gcmd = GHOSTSCRIPTCMD.format(tesseractScratchDataDirectory+relativepath2, tesseractScratchDataDirectory+relativepath1 )\n",
    "            f.write(scmd + gcmd + '\\n')\n",
    "            gsCommandTotal += 1\n",
    "    \n",
    "    \n",
    "#set time limit for this batch run\n",
    "outputbatchscript = batchtemplate.format('00:30:00',  gsCommandScript)\n",
    "with open(slurmScript, 'w') as f:  \n",
    "    f.write(outputbatchscript)"
   ]
  },
  {
   "cell_type": "markdown",
   "metadata": {},
   "source": [
    "__Execute the task script with ht_helper__"
   ]
  },
  {
   "cell_type": "code",
   "execution_count": 25,
   "metadata": {
    "collapsed": false
   },
   "outputs": [
    {
     "name": "stdout",
     "output_type": "stream",
     "text": [
      "current working directory:  /global/scratch/guohaoang/aanderson/range_716-735\n",
      "Execute ghostscript output:  ['Submitted batch job 1862535']\n",
      "1862535\n"
     ]
    }
   ],
   "source": [
    "os.chdir(runFolder)\n",
    "print ('current working directory: ', os.getcwd())\n",
    "\n",
    "out = !sbatch slurmscript.sh   \n",
    "    \n",
    "print ('Execute ghostscript output: ', out ) \n",
    "jobId =  out[0].split()[3]\n",
    "print (jobId)"
   ]
  },
  {
   "cell_type": "code",
   "execution_count": 26,
   "metadata": {
    "collapsed": false
   },
   "outputs": [
    {
     "name": "stdout",
     "output_type": "stream",
     "text": [
      "2017-10-27 14:32:25 Start converting PDF to PNG, job ID:1862535\n"
     ]
    }
   ],
   "source": [
    "#Henry Ang 10/13/2017\n",
    "logMsg = \"{1} Start converting PDF to PNG, job ID:{0}\".format(jobId, strftime(\"%Y-%m-%d %H:%M:%S\", localtime()))\n",
    "print(logMsg)\n",
    "!echo $logMsg >> /global/scratch/groups/dh/aanderson/process_log.txt"
   ]
  },
  {
   "cell_type": "code",
   "execution_count": 27,
   "metadata": {
    "collapsed": false
   },
   "outputs": [
    {
     "name": "stdout",
     "output_type": "stream",
     "text": [
      "             JOBID PARTITION     NAME     USER ST       TIME  NODES NODELIST(REASON)\r\n",
      "           1862535    savio2 aanderso guohaoan PD       0:00      5 (None)\r\n",
      "--------------------------------\n",
      "Savio Job has been submitted. This cell will notify you when the job is done.\n",
      ".........................................\n",
      "******Savio Job finished******\n"
     ]
    }
   ],
   "source": [
    "import time\n",
    "# print the users queue and the job status by id\n",
    "!squeue -u $savioUsername #possibly do not need\n",
    "print('--------------------------------')\n",
    "print('Savio Job has been submitted. This cell will notify you when the job is done.')\n",
    "jobState = False\n",
    "while not jobState:\n",
    "    out = !scontrol show job $jobId\n",
    "    if any(\"COMPLETED\" in s for s in out):\n",
    "        print('\\n******Savio Job finished******')\n",
    "        jobState = True\n",
    "    else:\n",
    "       print('.', end='')\n",
    "       time.sleep(10) #Can tweak this so that people can see it moving\n",
    "        \n"
   ]
  },
  {
   "cell_type": "markdown",
   "metadata": {},
   "source": [
    "__Check all task log files for bad exit code__  \n",
    "task numbers align with lines in the task script  \n",
    "check the log file of tasks in the returned array of failures  "
   ]
  },
  {
   "cell_type": "code",
   "execution_count": 28,
   "metadata": {
    "collapsed": false
   },
   "outputs": [
    {
     "name": "stdout",
     "output_type": "stream",
     "text": [
      "current working directory:  /global/scratch/guohaoang/aanderson/range_716-735\n",
      "these tasks in task script failed:  [0, 1, 2, 3, 4, 5, 6, 7, 8, 9, 10, 11, 12, 13, 14, 15, 16, 17, 18]\n"
     ]
    }
   ],
   "source": [
    "import glob, os\n",
    "if (not jobState):\n",
    "    print(\"WARNING: Your SLURM Job has not finished processing! Please wait for the cell above to complete.\")\n",
    "else:\n",
    "    print ('current working directory: ', os.getcwd())\n",
    "    fileroot = projectname + '.' + jobId + '.log'\n",
    "    tasklist = validateTaskResults(fileroot, gsCommandTotal)\n",
    "    print ('these tasks in task script failed: ', tasklist)\n"
   ]
  },
  {
   "cell_type": "markdown",
   "metadata": {},
   "source": [
    "__Remove task logs after any errors have been resolved__"
   ]
  },
  {
   "cell_type": "code",
   "execution_count": 29,
   "metadata": {
    "collapsed": false
   },
   "outputs": [
    {
     "name": "stdout",
     "output_type": "stream",
     "text": [
      "filter:  aanderson.1862535.log*\n"
     ]
    }
   ],
   "source": [
    " \n",
    "filter = fileroot + '*'\n",
    "print ('filter: ', filter)\n",
    "for f in glob.glob(filter):\n",
    "    os.remove(f)"
   ]
  },
  {
   "cell_type": "markdown",
   "metadata": {},
   "source": [
    "### Create script to ocr all png files in working directory to text"
   ]
  },
  {
   "cell_type": "code",
   "execution_count": 30,
   "metadata": {
    "collapsed": false
   },
   "outputs": [
    {
     "name": "stdout",
     "output_type": "stream",
     "text": [
      "current working directory:  /global/scratch/guohaoang/aanderson/range_716-735/data\n"
     ]
    }
   ],
   "source": [
    "import glob, os\n",
    "os.chdir(scratchDataDirectory)\n",
    "print ('current working directory: ', os.getcwd())\n",
    "# template: tesseract --tessdata-dir /opt/tessdata /scratch/germanocr_Page_01.png  germanout  -l deu\n",
    "#TCMD = ' sh -c \\'OMP_NUM_THREADS=1 tesseract --tessdata-dir /opt/tessdata \\\"{}\\\" \\\"{}\\\" \\'  -l deu+eng+tur+fra -c tessedit_create_hocr=1;  echo $?'\n",
    "TCMD = ' sh -c \\'OMP_NUM_THREADS=1 tesseract --tessdata-dir /opt/tessdata  -l deu+eng+tur+fra -c tessedit_create_hocr=1 \\\"{}\\\" \\\"{}\\\" \\';  echo $?'\n",
    "\n",
    "#\n",
    "\n",
    "scmd = SINGULARITYCMD.format(scratchDataDirectory)\n",
    "# total number of tesseract tasks\n",
    "t4CommandTotal = 0\n",
    "\n",
    "with open(t4CommandScript, 'w') as f:\n",
    "\n",
    "    for entry in scantreeForFiles(scratchDataDirectory):\n",
    "        if ( entry.endswith('.png')):\n",
    "            filename, file_extension = os.path.splitext(entry)\n",
    "            relativepath1 = entry[len(scratchDataDirectory):]\n",
    "            relativepath2 = filename[len(scratchDataDirectory):]\n",
    "            tcmd = TCMD.format(tesseractScratchDataDirectory+relativepath1, tesseractScratchDataDirectory+relativepath2 )\n",
    "            #print(scmd + tcmd)\n",
    "            f.write(scmd + tcmd + '\\n')\n",
    "            t4CommandTotal += 1\n",
    "    \n",
    "    \n",
    "#set time limit for this batch run\n",
    "outputbatchscript = batchtemplate.format('03:00:00',  t4CommandScript)\n",
    "with open(slurmScript, 'w') as f:  \n",
    "    f.write(outputbatchscript)"
   ]
  },
  {
   "cell_type": "markdown",
   "metadata": {},
   "source": [
    "__Execute the task script with ht_helper__"
   ]
  },
  {
   "cell_type": "code",
   "execution_count": 31,
   "metadata": {
    "collapsed": false
   },
   "outputs": [
    {
     "name": "stdout",
     "output_type": "stream",
     "text": [
      "current working directory:  /global/scratch/guohaoang/aanderson/range_716-735\n",
      "Execute tesseract4 output:  ['Submitted batch job 1862539']\n",
      "1862539\n"
     ]
    }
   ],
   "source": [
    "os.chdir(runFolder)\n",
    "print ('current working directory: ', os.getcwd())\n",
    "\n",
    "out = !sbatch slurmscript.sh   \n",
    "    \n",
    "print ('Execute tesseract4 output: ', out ) \n",
    "jobId =  out[0].split()[3]\n",
    "print (jobId)"
   ]
  },
  {
   "cell_type": "code",
   "execution_count": 32,
   "metadata": {
    "collapsed": false
   },
   "outputs": [
    {
     "name": "stdout",
     "output_type": "stream",
     "text": [
      "2017-10-27 14:39:26 Start converting PNG to text, job ID:1862539\n"
     ]
    }
   ],
   "source": [
    "#Henry Ang 10/13/2017\n",
    "logMsg = \"{1} Start converting PNG to text, job ID:{0}\".format(jobId, strftime(\"%Y-%m-%d %H:%M:%S\", localtime()))\n",
    "print(logMsg)\n",
    "!echo $logMsg >> /global/scratch/groups/dh/aanderson/process_log.txt"
   ]
  },
  {
   "cell_type": "code",
   "execution_count": 33,
   "metadata": {
    "collapsed": false
   },
   "outputs": [
    {
     "name": "stdout",
     "output_type": "stream",
     "text": [
      "             JOBID PARTITION     NAME     USER ST       TIME  NODES NODELIST(REASON)\r\n",
      "           1862539    savio2 aanderso guohaoan PD       0:00      5 (None)\r\n",
      "--------------------------------\n",
      "Savio Job has been submitted. This cell will notify you when the job is done.\n",
      "......................................................................................................................................................................................................................................................................................................................................................................................................................................................................\n",
      "******Savio Job finished******\n"
     ]
    }
   ],
   "source": [
    "import time\n",
    "# print the users queue and the job status by id\n",
    "!squeue -u $savioUsername #possibly do not need\n",
    "print('--------------------------------')\n",
    "print('Savio Job has been submitted. This cell will notify you when the job is done.')\n",
    "jobState = False\n",
    "while not jobState:\n",
    "    out = !scontrol show job $jobId\n",
    "    if any(\"COMPLETED\" in s for s in out):\n",
    "        print('\\n******Savio Job finished******')\n",
    "        jobState = True\n",
    "    else:\n",
    "       print('.', end='')\n",
    "       time.sleep(10) #Can tweak this so that people can see it moving\n",
    "        "
   ]
  },
  {
   "cell_type": "markdown",
   "metadata": {},
   "source": [
    "__Check all task log files for bad exit code__"
   ]
  },
  {
   "cell_type": "code",
   "execution_count": 34,
   "metadata": {
    "collapsed": false
   },
   "outputs": [
    {
     "name": "stdout",
     "output_type": "stream",
     "text": [
      "current working directory:  /global/scratch/guohaoang/aanderson/range_716-735\n",
      "these tasks in task script failed:  []\n"
     ]
    }
   ],
   "source": [
    "\n",
    "os.chdir(runFolder)\n",
    "print ('current working directory: ', os.getcwd())\n",
    "\n",
    "fileroot = projectname + '.' + jobId + '.log'\n",
    "#tasklist = validateTaskResults(fileroot, 10) first check a small subset\n",
    "tasklist = validateTaskResults(fileroot, t4CommandTotal)\n",
    "print ('these tasks in task script failed: ', tasklist)\n",
    "\n",
    "# Remove task logs\n",
    "#filter = fileroot + '*'\n",
    "#for f in glob.glob(filter):\n",
    "#    os.remove(f)"
   ]
  },
  {
   "cell_type": "markdown",
   "metadata": {},
   "source": [
    "### Merge text files and upload to Box"
   ]
  },
  {
   "cell_type": "code",
   "execution_count": 35,
   "metadata": {
    "collapsed": false
   },
   "outputs": [
    {
     "name": "stdout",
     "output_type": "stream",
     "text": [
      "num dirs:  0\n"
     ]
    }
   ],
   "source": [
    "from scandir import scandir\n",
    "dirlist = []\n",
    "\n",
    "scandirForFolders(scratchDataDirectory, dirlist)\n",
    "\n",
    "print(\"num dirs: \", len(dirlist) ) \n"
   ]
  },
  {
   "cell_type": "markdown",
   "metadata": {},
   "source": [
    "__check that for every .png there is a .hocr in each directory__"
   ]
  },
  {
   "cell_type": "code",
   "execution_count": 36,
   "metadata": {
    "collapsed": false
   },
   "outputs": [
    {
     "name": "stdout",
     "output_type": "stream",
     "text": [
      "missingResultList size:  0\n"
     ]
    }
   ],
   "source": [
    "missingResultList = []\n",
    "for currentdir in dirlist:\n",
    "    os.chdir(currentdir)\n",
    "    #print ('current working directory: ', os.getcwd())\n",
    "    \n",
    "    \n",
    "    # get a list of all pdf names\n",
    "    for filename in os.listdir(os.getcwd()):\n",
    "        if  os.path.isfile(filename)  and filename.endswith('.png'):\n",
    "            fn, fe = os.path.splitext(filename)\n",
    "            if not os.path.exists(fn + '.hocr'):\n",
    "                missingResultList.append(currentdir + '/' + filename)\n",
    "                print ('missing result: ', currentdir + '/' + filename )\n",
    "print(\"missingResultList size: \", len(missingResultList) ) "
   ]
  },
  {
   "cell_type": "markdown",
   "metadata": {
    "collapsed": false
   },
   "source": [
    "__process hocr files__"
   ]
  },
  {
   "cell_type": "markdown",
   "metadata": {},
   "source": [
    "Current scoring approach:\n",
    "- To be counted, the score for a word must be between 25 and 70, this removes some garbage characters at the low end.\n",
    "- If a line contains between 6 and 9 scoring words it registers as a small hit, if it contains 10 or more then the line registers as a big hit.\n",
    "- If the total score for the last three lines (a rolling window) is > 15 then that is a small hit and > 25 is a big hit.\n",
    "- if a \"paragraph\" (currently using the dev tag in the hocr xml) has > 25 scoring words that is a small hit and > 40 is a bit hit.\n",
    "This scoring approach seems to be doing a good job of finding target text. However, it also includes a number of false positives that I \n",
    "have not been able to reduce significantly. Table and figures are usually tagged as hits. The Teissier_Sealings doc has a number of tables, \n",
    "rotated to landscape, which show up in the big hits list. I have not found a way to identify a table or figure from the xml results. \n",
    "There are a couple papers online with complex detection algorithms but nothing I could implement without significant development time."
   ]
  },
  {
   "cell_type": "code",
   "execution_count": 37,
   "metadata": {
    "collapsed": false
   },
   "outputs": [],
   "source": [
    "import sys\n",
    "\n",
    "srch = re.compile(r'.*[-—]+.*[-—]+[.-—]*')\n",
    "\n",
    "def vetHitList(hitlist):\n",
    "\n",
    "    #logging.info('vetHitList  hitlist: %s ', hitlist )\n",
    "    totalHits= len(hitlist)\n",
    "    count = 0\n",
    "    for hit in hitlist:\n",
    "        found = srch.search(hit)\n",
    "        if found:\n",
    "            #logging.info('good hit: %s ', hit )\n",
    "            count = count + 1\n",
    "        #else:\n",
    "            #logging.info('BAD hit:  %s ', hit )\n",
    "\n",
    "    percent = count / totalHits\n",
    "    #logging.info('vetHitList percent: %s ', percent)\n",
    "    if percent > .666:\n",
    "        return True\n",
    "    else:\n",
    "        return False\n"
   ]
  },
  {
   "cell_type": "code",
   "execution_count": 38,
   "metadata": {
    "collapsed": false
   },
   "outputs": [],
   "source": [
    "import collections\n",
    "from bs4 import BeautifulSoup\n",
    "import logging\n",
    "import lxml\n",
    "import lxml.etree\n",
    "import bs4.builder._lxml\n",
    "import bs4.builder._html5lib\n",
    "\n",
    "\n",
    "\n",
    "def parseHocrFiles(filenameroot, fileList):\n",
    "\n",
    "    logging.basicConfig(handlers=[logging.FileHandler('ocrparse.log', 'w', 'utf-8')], level=logging.INFO, format='%(message)s',  datefmt='%Y-%m-%d %H:%M:%S')\n",
    "\n",
    "    last_three_lines = collections.deque(3*[0], 3)\n",
    "    last_three_line_words = collections.deque(3*[''], 3)\n",
    "    div_count=0\n",
    "    avg_low_score = 0\n",
    "    low_score_ctr = 0\n",
    "    low_score_words = []\n",
    "    div_words = []\n",
    "    line_id = ''\n",
    "    bighits = []\n",
    "    smallhits = []\n",
    "\n",
    "    for filename in fileList :\n",
    "\n",
    "        if not filename.endswith(\".hocr\"):\n",
    "            continue\n",
    "\n",
    "        #print (' filename: ', filename)\n",
    "\n",
    "        # split out the file name and the page (image) number\n",
    "        splittokens = re.split(r\"-|\\.\", filename)\n",
    "        tot = len(splittokens)\n",
    "        image_number = splittokens[tot - 2]\n",
    "        image_number_decimal = int(image_number.strip())\n",
    "        #doc_name = splittokens[0]\n",
    "        #print (' doc name: ', filenameroot)\n",
    "        #print (' image number: ', image_number)\n",
    "        soup = BeautifulSoup(open(filename, encoding='utf-8'), \"lxml\")\n",
    "        #print ('==========>', filename )\n",
    "        logging.info(\"==========> %s\", filename )\n",
    "\n",
    "        last_three_lines.clear()\n",
    "        last_three_line_words.clear()\n",
    "\n",
    "        for div_tag in soup.find_all('div'):\n",
    "\n",
    "\n",
    "            div_id = div_tag['id']\n",
    "            if div_id is None:\n",
    "                div_id = 'None'\n",
    "            else:\n",
    "                div_id = div_id.strip()\n",
    "\n",
    "\n",
    "            div_count = len(div_words)\n",
    "            #check words in hit list for hypens\n",
    "            #logging.info(\"div words: %s \", div_words)\n",
    "\n",
    "            if div_count > 0 :\n",
    "                gooddivwords = vetHitList( div_words )\n",
    "            else:\n",
    "                gooddivwords = False\n",
    "\n",
    "            if gooddivwords :\n",
    "                logging.info(\"good div words: %s \", div_words)\n",
    "\n",
    "            # if more than 25 words in this dev section then add to hit list\n",
    "            if div_count > 20 and gooddivwords:\n",
    "                bighits.append([filenameroot, image_number_decimal, \"div count: \" + str(div_count), div_words] )\n",
    "                logging.info(\"file: %s  div count: %d tag: %s \", filename, div_count, div_id )\n",
    "            elif div_count > 10 and gooddivwords:\n",
    "                smallhits.append([filenameroot, image_number_decimal, \"div count: \" + str(div_count), div_words] )\n",
    "                logging.info(\"file: %s  div count: %d tag: %s \", filename, div_count, div_id )\n",
    "\n",
    "            div_count = 0\n",
    "            div_words = []\n",
    "\n",
    "\n",
    "            #print 'tag initial: ', tag\n",
    "            #print ('tag class: ', div_tag['class'] )\n",
    "            if 'ocr_page' in div_tag['class']:\n",
    "                #logging.info(\"ocr_page: %s\" % tag['title'])\n",
    "                #print 'tag filtered: ', tag\n",
    "                for span_tag in div_tag.find_all('span'):\n",
    "                    #print spantag\n",
    "\n",
    "                    if 'ocr_line' in span_tag['class']:\n",
    "                        line_id = span_tag['id'].strip().encode('utf-8')\n",
    "                        #print ('new line :', line_id,  ' process prev set then reset counters')\n",
    "\n",
    "                        #check words in hit list for hypens\n",
    "                        if len(low_score_words) > 0:\n",
    "                            goodwords = vetHitList( low_score_words )\n",
    "                        else:\n",
    "                            goodwords = False\n",
    "                        #print(\"goodwords: \", goodwords)\n",
    "                        lsw = [x.encode('utf-8') for x in low_score_words]\n",
    "                        if low_score_ctr > 6 and low_score_ctr <= 9 and goodwords :\n",
    "                            \n",
    "                            print ('mid range hit: ',  lsw  )\n",
    "                            logging.info(\"line:  %s   score: %d   avg low score: %f  words:  %s\",  line_id, low_score_ctr, (avg_low_score/low_score_ctr) , low_score_words  )\n",
    "                            #smallhits.append( [filenameroot, image_number_decimal, low_score_ctr, low_score_words] )\n",
    "                            smallhits.append( [filenameroot, image_number_decimal, low_score_ctr, lsw] )\n",
    "\n",
    "                        if low_score_ctr >= 10 and goodwords :\n",
    "                            \n",
    "                            print ('high range hit', lsw  )\n",
    "                            logging.info(\"line:  %s   score: %d    avg low score: %f  words:  %s\",  line_id, low_score_ctr, (avg_low_score/low_score_ctr),   low_score_words )\n",
    "                            #bighits.append( [filenameroot, image_number_decimal, low_score_ctr, low_score_words] )\n",
    "                            bighits.append( [filenameroot, image_number_decimal, low_score_ctr, lsw] )\n",
    "\n",
    "                        div_words.extend(low_score_words)\n",
    "\n",
    "\n",
    "                        # add to the counter of the last three lines and if total is over the threahold then log\n",
    "                        last_three_lines.appendleft(low_score_ctr)\n",
    "                        last_three_line_words.appendleft(low_score_words)\n",
    "                        total_last_three_lines = sum(last_three_lines)\n",
    "                        if total_last_three_lines > 25 :\n",
    "                            logging.info(\"line:  %s   last three lines:  %s\",  line_id, last_three_lines )\n",
    "                            bighits.append( [filenameroot, image_number_decimal, \"three line total:\" + str(total_last_three_lines) , list(last_three_line_words) ] )\n",
    "                        elif total_last_three_lines > 15 :\n",
    "                            logging.info(\"line:  %s   last three lines:  %s\",  line_id, last_three_lines )\n",
    "                            smallhits.append( [filenameroot, image_number_decimal, \"three line total:\" + str(total_last_three_lines), list(last_three_line_words) ] )\n",
    "\n",
    "\n",
    "                        low_score_words = []\n",
    "                        avg_low_score = 0\n",
    "                        low_score_ctr = 0\n",
    "\n",
    "                        # that is all the processing when a new line is reached\n",
    "                        continue\n",
    "\n",
    "                    if span_tag.string is None:\n",
    "                        continue\n",
    "\n",
    "                    spantagword = span_tag.string.strip()\n",
    "                    #print ('span tag: ', spantagword.encode(\"utf-8\")  )\n",
    "                    span_title_split = span_tag['title'].split(';')\n",
    "                    for span_title_element in span_title_split:\n",
    "                        if 'x_wconf' in span_title_element:\n",
    "                            #label, score = title_element.split(' ')\n",
    "                            score = span_title_element.replace('x_wconf', '').strip()\n",
    "                            #print( 'word: ', spantagword.encode(\"utf-8\"), 'score: ', int(score.strip()) )\n",
    "\n",
    "                            # if score less than 25 the could be table. diagram, or figure\n",
    "                            if int(score.strip())  < 70 and int(score.strip()) > 25 :\n",
    "                                #logging.info('word:  %s score: %s ',  spantagconverted, score.strip() )\n",
    "                                low_score_ctr = low_score_ctr + 1\n",
    "                                low_score_words.append( spantagword )\n",
    "                                avg_low_score = avg_low_score + int(score.strip())\n",
    "\n",
    "\n",
    "\n",
    "\n",
    "    #files to hold totalsi\n",
    "    #print(\"create results files for: \", filenameroot)\n",
    "    bighitssorted = open( scratchDataDirectory + filenameroot + '_bighits.txt', 'w', encoding=\"utf-8\")\n",
    "    smallhitssorted = open( scratchDataDirectory + filenameroot + '_smallhits.txt', 'w', encoding=\"utf-8\")\n",
    "\n",
    "    bigsortedlist =  sorted(bighits, key=lambda row: row[1], reverse=False)\n",
    "    logging.info('bigsortedlist: %s ', bigsortedlist)\n",
    "    smallsortedlist =  sorted(smallhits, key=lambda row: row[1], reverse=False)\n",
    "    logging.info('smallsortedlist: %s ', smallsortedlist)\n",
    "\n",
    "    unique = []\n",
    "    for hit in bigsortedlist:\n",
    "        if hit[1] not in unique :\n",
    "            unique.append( hit[1] )\n",
    "            print(\"big hit:\", hit)\n",
    "            #bighitssorted.write(hit[0] + ';' + hit[1] + ';' + hit[3]  + \"\\n\"  )\n",
    "            thehit = str(hit[3])\n",
    "            #bighitssorted.write( str(hit[3])   )\n",
    "            bighitssorted.write(str(hit[0]) + ';' + str(hit[1]) + ';' + str(hit[3])  + \"\\n\" )\n",
    "    bighitssorted.close()\n",
    "\n",
    "    for hit in smallsortedlist:\n",
    "        if hit[1] not in unique :\n",
    "            unique.append( hit[1] )\n",
    "            print(\"small hit:\", hit)\n",
    "            smallhitssorted.write(str(hit[0]) + ';' + str(hit[1]) + ';' + str(hit[3])  + \"\\n\"  )\n",
    "            #smallhitssorted.write(str(hit[0]).encode('utf-8') + ';' + str(hit[1]).encode('utf-8') + ';' + str(hit[3]).encode('utf-8') + \"\\n\"  )\n",
    "    smallhitssorted.close()\n",
    "\n"
   ]
  },
  {
   "cell_type": "code",
   "execution_count": 39,
   "metadata": {
    "collapsed": false
   },
   "outputs": [
    {
     "name": "stdout",
     "output_type": "stream",
     "text": [
      "small hit: ['0B30KweltiOGYUTVrQkgteE9aWkE', 103, 'three line total:17', [['5', 'a“', ')', 'esßas)', '““', ')', '1503)', 'u“', ')'], [',', '„'], ['aus;.)', '„', '.', 'semaGI)', 'äuŒU)', '„']]]\n",
      "small hit: ['0B30KweltiOGYUTVrQkgteE9aWkE', 245, 'three line total:16', [['(uatumd', '9139pq'], ['-g80[oqd10ul', 'uaııeıaueâ', 'uatuoumd', 'Jap', 'äumegsmm', 'Jsp', 'gag'], [':egqomxam', 'auge', 'uogmänfuoqans', 'Jap', 'uauuod', 'pq', 'uaâumlumqossg']]]\n",
      "small hit: ['0B30KweltiOGYUTVrQkgteE9aWkE', 513, 'three line total:16', [['uballaqû', 'Ea', 'mubbi—ğunu'], ['PNZ', \"mubbi-s'u\", 'i§appar', 'ERINMES—Eu', \"GIşGlGlRMES—S'u\"], ['mubhi', '‘IRMES', 'atm-Eu', 'Emm', \"t‘teps'ti\", 'bâin', 'mubhi—Eu', 'anﬂku']]]\n",
      "small hit: ['0B30KweltiOGYUTVrQkgteE9aWkE', 561, 'three line total:16', [['94341;', 'ği-ib-riMEĞ', 'mc', 'nme-te:', 'äi—ib-re-ti', '88.215824'], ['…s.', 'Ëi-ib-ru', 'KINMES'], ['s.…', 'Eipru:', 'äi-ib-ru', '32,R9’;', 'éi—ib—ri', 'Eipri;', 'ği-ib-']]]\n",
      "small hit: ['0B30KweltiOGYUTVrQkgteE9aWkE', 565, 'three line total:16', [['iu-pi-il-ta', 'sm', 'sauna:', 'su-bil-ta', '2332’;'], ['Ğu-pi—il—ta', '46314”;', 'sm', 'mmm:', 'su-bi-il-ta', '°;', '43,\"25’;'], ['Kıl—bilm:', 'ğu-bi—il—wm', '94,V12’;', 'su—bil—tum']]]\n",
      "small hit: ['0B30KweltiOGYUTVrQkgteE9aWkE', 574, 'three line total:16', [['Su', 'S-almu', 'aÿmû', 'Eulma', '£a', 'umma'], ['Ealim', 'aämû', 'Eulma', 'Ea', 'ğarraıi', \"s'alma\", 'Ea'], ['(ıimıî', 'svulma', 'sa']]]\n",
      "big hit: ['0B30KweltiOGYMjZmT3hPWkVZM3M', 6, 'div count: 54', ['Bönr,', 'YOSII4922', 'tı-b', \"iş-rşe'İ-e-pi\", 'i-ik-ka-a—al', 'le-el-li-ka-ni—i—im', 'im—rma‘(?)-ra-a-a$', 'ni—ip-pa—a-al', 'a-li—i-im', 'it-ta-ke-e-er', 'ib-ba-a—ği', 'ad-di-iğ-ğu-nu—ği-i-im', 'ağu-nu', '-5i-i-im', 'äa-al-rma‘-a—at', 'li-ib—bi-i-im', 'ta-al—lu—ü—um', 'li-ib-bi-i—im', 'ü-şa-a-ab', 'ü-rğaı-a-ab', \"'ne-ği-i-im\", 'ü—ği-e-şi', 'i-fre—rel-di', 'te—e-ri-di', 'ğu-ul-mu—ü-um', 'i-te-e—li', 'ib-ba-la-ka-a-sü', 'uğ-ğa-ab', 'ip-‚m—fübru', 'ip-şü-fru)', '14', 'gi-iğ-ra-a—am', 'i—ka-äa-a-ad', 'i-ik-ka—a-al', 'uğ-ğa-a-ab', '»)', 'i-pe-e-es”', 'il—te-e-te', 'i-tu—ru-né—e-äu', 'ti—iş-bu-ü-tu', 'i—pe-e-s’u', 'i-pi-ğu)', \"I—d'L—AHHHr—AHHHHn—Io—Il—II—t\", 'ta—ar-ti-i-ği', 'ta-ab—te—e-pi', \"tar-ti—i—ğı'\", 'iş-şa-ba-a-sü', 'iş-şa-ba—as-si)', \"eppaä-s'i)\", 'e-ep-pu—ü—ğu-us”', 'tal-te-e-qi', 'it-ti—ke—e—er', 'il—lu—ü-ku', 'it-tu-m)']]\n",
      "big hit: ['0B30KweltiOGYMjZmT3hPWkVZM3M', 7, 'div count: 66', ['ra—ki-i-eä', 'tu—ü—us-sa', 'pa-aş-şu-ü-na-at', \"ü-pal—lu-fıZ—s'u\", 'û-na-ku-û—su', \"tu—û—uë—è'a-ab\", 'it-tu—ü-m', 'tu—ü-us-sa', \"tu-û-uë—s'a—ab\", 'tu-u—ug—gab', '155-555-5511)', 'i—äa-ak—ku-ü-nu-us”', 'ih—ha-a-si', 'ba-a-di', 'i-qar-mııibu', 'i-ğa-çu-ü-ru', \"'i-ğat-tu-m)\", 'HHHHP—‘H—KHHHH', \"ib-ta-ra-a-ds'\", 'll—ciHam—m—a—a-q', 'too-In', 'Silli—Samas', 'yiz.,', 'iq-ta—a-bi', 'preceding', 'iqjta-a—bi', '11,-id', 'us-zi-iﬁz', 'u—se-er-re-enbu', 'i-la-a-ku,', 'bu—ü-ba,', '24', 'an—ni-ki-a-am!', 'na-ap—pi-ı—is,', 'e—ri-iğ-ıa—a-am.', '55—55-55-5-5555,', 'ka-m—ni—i-im,', 'ha-as—hu—ri-i—im,', 'w—du-ni—Mm,', 'ener,', '1111—', 'bé—gdl-', '555-155-51-', \"'\", '\\\\', 'ul-te-bi-i-lu', \"s'u-b'i-i-la\", 'sVu-bi-la', 'tu—ğe-bi-e-la', 'ip-pu-ü-ğu', 'ğu—pi-i-ğu', 'ğu—bi-i—la', 'li—iş—ru—ü—pu', 'DUMU’', 'ği—ip-ri-i—', 'it-ti-', '’i-Ğu.', 'i-nu-Ma', 'ki-e-fri—', 'a-ba-tı-su-', 'nw', 'e—ri—eğ—ki-i-ga-a-al', \"iğ-ptt-t't-ru\", 'ma-a-ar', 'ği—i-ip-ri.1', 'be:']]\n",
      "small hit: ['0B30KweltiOGYMjZmT3hPWkVZM3M', 8, 'three line total:16', [['mürit,', 'mitts“,', \"ihta'râğ,\", 'ittamrâq,', 'ittikâr.'], ['uğğâb,', 'mak,', 'ikağğâd,', 'üskül,'], [\"ğalma't,\", \"s'ulmüm,\", 'libbîm,', 'ituwdm,', 'nêäïm,', 'giğrâm,', 'réqdm,']]]\n",
      "big hit: ['0B30KweltiOGYMGVMd0huT2pHN00', 111, 'div count: 21', ['i', '{(e)', 'li-wu—uz-zu-nu,', 'li—wi-', 'iz-zu-nu,', 'är-iE-ri,', 'a—du-û,', 'a-di-i,', 'uË-pd—ra—a—tù,', 'iğpartu', 'uëpartu', 'uä—pa-m—tum,', 'iğ—pd-re-e,', 'd’AlalaLl', 'uË—pa—ru,', 'iğ-ta-din-ğu,', 'it-ta-din-é’i,', 'ri—pu—ut-tum,', 'ripitu,', 'ripütu.', 'Di—mağ—qa,']]\n",
      "big hit: ['0B30KweltiOGYMGVMd0huT2pHN00', 158, 'div count: 24', ['i(e)—a', \"gi—s'a-i-lu,\", 'ü-za-iz,', '[dr,', 'zu-bu-m-im,', \"Foz'es,\", 'i—te-li-ağ—ğum—ma,', 'ba-m—ü,', \"nventm'res,\", 'ü—ma—al-la-ü,', 'ka-uk—ki,', 'i-u', 'u-i', 'yi-li-ü,', 'ti—li-u-na,', 'mu—ut—tar-ri—ul-ti-ğu,', 'li-e-ü,', 'Ëu-ub-ri-û,', 'a—ni-ü-um,', 'Fades,', 'La—na—su-i-im,', 'ğu-pef-ü,', 'tü-il-tm,', 'fil—te—']]\n",
      "big hit: ['0B30KweltiOGYMGVMd0huT2pHN00', 161, 'div count: 26', ['”“ya—,', 'Hattuëa', ':i-m—ëu,', 'ba-dü-ü-tu,KBo,I,', 'mu-û-m,', \"s'i-i-mi,\", 'be-e-li,', 'ëu-û,', 'wa—aä-bu-ü,', 'an—ni-i-im,', '[can-Wa,', 'ki—i-me-e,', 'RS,', 'mi—nu-û-um,', '[an-ni]-ka—a,', 'Hu-m—pi-i,', 'i-svu-ü,', 'ba-ri-i,', 'iq-', 'il-qa-a,', 'lil-qu—ma,', 'e-ri-ğu,', 'it—ti—i-ka,', 'mıı-du,', 'i-äu,', \"i-s'u-ü,\"]]\n",
      "big hit: ['0B30KweltiOGYMGVMd0huT2pHN00', 163, 'div count: 21', ['i—nu-um-ma,', 'inüma,', 'fat-tum,', 'i—ğar—', 'ri-ip,', 'it—ma—am-ma,', 'ÿa-bu-ut—', \"ağ-ğu-ut-tı',\", \"aëè'ütz'\", 'ba—aş-şi—m-nu,', \"e-ep-pu-us',\", '’êppuë,', 'i—il-la-ak,', '\"mais;', 'i-iş—tum,', 'Hattusa,', 'e-eğ—ğar,', 'i-za—a—az-zu,', \"d-da—a-ak—ku—s'u,\", 'dd-ma-a—aq-qi—im,', 'a—al-li,']]\n",
      "big hit: ['0B30KweltiOGYMGVMd0huT2pHN00', 222, 'div count: 24', ['.(«w', \"E’-li-te-s'ub‚\", 'Eb-li-te-ğub,', 'pi—ir-’a-am‚', '[i]r-’i-mu-5u—nu-ti,', '’a-bu—ü,', '’i-ru-up,', '’i-ru-pa-am,', 'ib.,', 'ği-ta-a’-il-ğu—nu,', 'ğa’âlu,', 'i—li-’i—ma,', 'i—la-’e-e—§u,', 'RS,', 'RS,', 'RS,', \"man-’a-ğa—ri-s'a,\", 'RS,', 'A—ri-ku-ğu-u’,', \"A-ri—ku-s'u-uZL,\", \"Hi-il-pi-z'é-s'u-u’,\", 'Ei-lfi—pi—iğ-ğu-ub,', 'ğu-u’,', 'Ta-i—in—Ëu-ub.']]\n",
      "big hit: ['0B30KweltiOGYMGVMd0huT2pHN00', 274, 'div count: 23', ['id-bé—e—ma', 'it-pé—e—', 'nakäru,', 'ik-ki-ir,', 'it-ta-din,', 'id-di-na-am,', 'ib-ba—al-ki-tu,', 'li-du-ud,', 'im-gu-ur-mw],', \"ı'm-tu-\", 'im-du-ut,', 'i-ta-ad-da-a,', 'ad-di-in,', '*(mdin', 'Mo', 'ait.,', 'li-du-ud,', 'mabärum,', 'it-ta-lm—ar,', 'ğapâm,', 'iğ-ğa-pa-m,', \"iş-şü—u'r,\", 'ba-an-é’i—äu,']]\n",
      "big hit: ['0B30KweltiOGYMGVMd0huT2pHN00', 281, 'div count: 29', ['a-lza-at-ka,', 'ti—il-la-at-km,', 'dë—äa—at-ka,', \"i—s'e—ri—ib-ka,\", '39’,', '55', \"bi-il-s'u-mi,\", 'ü-ée—e-bz’l-me,', 'amaru,', '[a—t]a—am—ma7-ku-nu,', '3”,', 'at—ta-di—ğu-ma,', '(Zi—ğu,', \"li—id-di—ië—s'um,\", 'it-ta—din—ğu,', 'RS,', 'at-ta-din-', \"a—na—ad—di-in-s'u,\", 'iä—ku-un-ëu,', 'i-ğa-', 'iğ—ğa-kan-ğu,', \"id-di-iğ-s'u,\", 'i-na-an-di—in—s’u,', 'ü—ğa-al-la—am—ğu,', 'ik-kim-ëu—nu—tv),', 'RS,', \"m-ma-asV-s'u,\", 'ra—ma—ağ—ğa,', 'ra-ma-an-ğu,']]\n",
      "small hit: ['0B30KweltiOGYMGVMd0huT2pHN00', 115, 'div count: 18', [\"yi—pu-uè',\", 'a-li-ik,', 'a-li-uk,', 'a—li-ik,', 'e-WJ-ub,', 'e—pu-ié,', 'e-pu—uğ,', 'né-im—qu-ut.', 'ni-am—qu-ut/qut,', 'ni—um—qu-ut.', 'a-am-ru-iç-Èl,', 'Ya-am-ru-uç-Èl', 'Ëa-al—lu-ru-im,', 'Sa-al-lu-ri-im,', '*Ëalluru’ûm', 'Êallurûm,', 'ni-pi-us-sü,', 'garantie']]\n",
      "small hit: ['0B30KweltiOGYMGVMd0huT2pHN00', 181, 'div count: 11', ['i—ib-bâ—er,', 'i-be-er,', 'e-ep-pu—uë,', 'e-pu—us”,', 'ir-ru-ub,', '[(30,', 'i-ru-ub,', 'a-ab,', '(ı,—ağı,', \"'i-z'r-ri—ğu-tu,\", 'e—er-re-éu—ti,']]\n",
      "small hit: ['0B30KweltiOGYQjA2cFh5NHlpZEE', 101, 'three line total:16', [['+', '‘I', '\"\"\"\"\"', 'i', \"'7\", \"—'\", \"'r\", '\"\"\"\"\"\"\"'], ['““““', '__', '___—‘—', '“_.-“__\"', '__.__:»—\"\\'', '___—___', '“/5.—'], ['\\\\']]]\n",
      "small hit: ['0B30KweltiOGYbFpQWlJrb2l3RGs', 47, 'three line total:19', [['raw', '»,', '—.—', '4—', '?___', ',..', 'w..', '«.', '._.', '.', 'r.', '.»', '_.', '„;.', '„.:', '.::—i,“:—', '“ﬁr-mes»', '.::.—'], [], ['î']]]\n",
      "small hit: ['0B30KweltiOGYbFpQWlJrb2l3RGs', 63, 'three line total:21', [['„.:', '_', '„', 'Jupp—f..', '„_', '…;', '„„...', '„gi.', '.,', 'r.', '‚_', '““‘-\"“\\'Î', '.__;„.—', '.:..“', '.', '“___,', '„_', '__.___;‚_‚____', '58-'], ['qi-bi-ma', '(says.']]]\n",
      "small hit: ['0B30KweltiOGYbFpQWlJrb2l3RGs', 134, 'three line total:17', [[',', ':-', 'thÀf', 'p-rl\"y\\',<\"\\'->vﬁ', 'A,', '‚‘', '_\"‘*', ':\":'], ['\"€?“', 'JMSE‘IXFEfﬁf', '”???ng', '„', ',-', 'Ewan—@@', \"Füg—'R'”:\", ',', '314.3'], []]]\n",
      "small hit: ['0B30KweltiOGYTF94VUwybjZiLU0', 81, 'three line total:17', [['31,', '33,', '55,4;', '91,', '92,7;', '&', '59,5andrerseits.'], ['\"?z‘a’æn‘'], [\"miædaz‘z'\", \"(raàïfz')\", \"$'a\", \"eéczllz'm\", 'im:', \"Ùta’arz'\", '(mii)', '£a', 'eèalt‘z‘m']]]\n",
      "small hit: ['0B30KweltiOGYTF94VUwybjZiLU0', 159, 'three line total:16', [[\"Bêl—nâdz'n-a-Æi]\", 'mainz?\"', 'dEn-Zz‘l—mu-dammz‘g', 'dupfarrua)', 'marA-àu-L'], [\"—e'rz's'\", 'maàar', '\"\\'Aa’ad-pzîlaâ', 'Mar-\"Nârz\\'', 'maàar', 'ja-a—èu—li—me—z‘r'], ['.éunuél)', \"dA-fur—ri—ma—m'\", 'maàar', 'dA—s‘ur—ri—mà-ni', '{Zum-']]]\n",
      "small hit: ['0B30KweltiOGYTF94VUwybjZiLU0', 165, 'three line total:17', [['dups’arru2)', 'mar', \"Ën'Ë—z'lum\", 'âzam/%i)', 'dupfarriz)'], ['mağza?', \"dAa’ad-‚éaéz't\", 'Pa—li—àzlz‘a', 'aşıma/âl)', 'dAa’ad-‚éaäif', 'mağar'], ['èunuèl)', '”Agu—62154;', 'mağza?”', \"ls-gu-bz'—ia\", 'dA', \"Jungarraa'\"]]]\n",
      "small hit: ['0B30KweltiOGYTF94VUwybjZiLU0', 177, 'three line total:20', [['E—en-fa-rum', 'mallar', \"Ğe-ei-wa—z'a\", 'mar', 'E-gzlgé'], [\"Xi-öi—z'a\", 'maàar', 'Ar—Îz—ÿugÿ', \"Na-al—du-z'a,\", '(21)', 'maéar', 'mar'], ['maizar', \"A—ri-wa-tz'\", 'mar', 'A-Æu-Ëe-en—ni', 'mazhar', 'flat-21T', \"e-ÿ'up\", 'mar']]]\n",
      "small hit: ['0B30KweltiOGYTF94VUwybjZiLU0', 184, 'three line total:16', [['[maàar', \"M]ug-rz'—z'a\", '[mallar', '{Yb-$212k'], ['Y‘a-e', '{mafzær', '.}[za—a-pu', 'mar', 'En-na—a-az', '[malıdır', \"Ëe-}1)—we-z'ç-ga\"], ['{maêzar', \"E—l]z‘-z'5—tz'l—Za1)\", 'Ni—z’r—Zzi—z‘z‘l—la', '[maàar', \"A—ğu-p'aî)\"]]]\n",
      "small hit: ['0B30KweltiOGYazlWWU05VktOUXc', 3, 'three line total:16', [['…»“', \"'*\", '\",?\"', '?”\"', '‚{', '\"$\"\"'], [',»—', 'r;', '_…»a', '„.', '…,', '‚„'], ['.;-', 'Mm', ':', ',:”']]]\n",
      "small hit: ['0B30KweltiOGYazlWWU05VktOUXc', 54, 'div count: 11', ['ip-ti—uZ—ni', 'GISmah—bu—lu', '[Sa', '[il]—te—[qe~u2]', 'tup—pu—Ğu', 'i-vap-pi', 'ITU.d.NIN—E2.GAL—li3', 'l—uZ-sa—at-d.AMAR.UD', 'SZIG5', '[uz—q]ar-ri—bu-ni', 'a[h]-bu-MES']]\n",
      "small hit: ['0B30KweltiOGYazlWWU05VktOUXc', 63, 'div count: 13', ['Se-bi-la-ni', 'ğu—ut—ra', 'GISum-ni-na-me', 'kamz—', '16.K[AM2]', 'lvd.a-éur—EN—Su1«lim', '1-mu-éal-lim—d.a-§ur', 'çup-pa—te', '1-a-bu-DUG3.GA', 'E,', 'çup—pu-Ëu', 'tup-pa', 'l-mu-ëal—lim-da—äur']]\n",
      "small hit: ['0B30KweltiOGYWndYU3p0V1Q4Um8', 27, 'three line total:16', [[\"GÜW'MEĞ'\", 'KAM?—ME?'], ['su', \"G'FGlGIR\", '‚ra', 'GIÊ.[GÀR7]'], ['cağ-ğum', '\"ZABAR\"', 'ga', 'NİGBAMEğ', 'ia', 'lu-us\\'—\\'me\"', '\"a\"-na', 'ISU-ağ-ğuı»', \"'lxtgla-m'\", 'w']]]\n",
      "small hit: ['0B30KweltiOGYVV9aSUZlNTBZZmc', 33, 'three line total:17', [['”)', 'ü-ıâ-tâm', 'Kâ-ni-iğ’d', '15)', 'ğu—nu-ma', 'i—ğa-du—du—nim', '‘6)', 'ü—lä-„tdm'], ['ğâl—mî-ğu—nu', '…', 'ki—ni—ğu-nu'], ['8)', '9)', \"ma—ak—ri—e—es'\", '1°)', 'wii-if', '“)']]]\n",
      "small hit: ['0B30KweltiOGYVV9aSUZlNTBZZmc', 35, 'three line total:17', [['9’', 'û—tâ-tâm', '“”', '11)i-aïu—nu', 'Ëu-nu-ma'], ['\"”', 'Îÿ—ku—na—ni-kà', 'a—ği-ti—ğu', '7’', 'f§-pu-na-ah-§u', '3)', 'i—sVu'], ['ğe—am', '3’mi—isv—lıîm', '4)', 'i—sé-er', '5)']]]\n",
      "small hit: ['0B30KweltiOGYVV9aSUZlNTBZZmc', 37, 'three line total:16', [['û-tâ-zâm', '1\"”a-na', '4-1\"!', '17)i-alu-nu'], ['”)', 'sa', '15’En-na-SLZ-'], [\"II'-ğu\", \"10)Ma-da—wa-a'a\", \"tz'-§u\", 'iğ—tiı', 'ha-mu—uğ-tim', '12)', 'Ea', \"kâ-s'ı'-ı'm\", 'sva']]]\n",
      "small hit: ['0B30KweltiOGYVV9aSUZlNTBZZmc', 39, 'three line total:16', [['İ—ri—ğu-nu', '12)Êi-wa—âsv-me-i', '13)ku-um-m-um', \"14)S'a\", 'Hi-giS-ğa', '15)'], ['7’', '&', 'A—ğu-âğ-ğu', '1°)', 'Ta-ak—Ëa-ma'], ['3)', 'İ-lâ-li—iğ-kâ—an', '‘“', '5]', '“']]]\n",
      "small hit: ['0B30KweltiOGYVV9aSUZlNTBZZmc', 41, 'three line total:16', [['ğu-um-ku', \"iğ-tı'ı\", '7)', \"$'a\", '*”'], ['Ëu—um—ku', 'iË—tù', 'Ta-ba-ar—ri—is”', 'ni—ilS-qi', '‘”'], ['2)', 'ğu—um—ku-ma', '3)', 'Ëu-um-ku', '4)', 'fa']]]\n",
      "small hit: ['0B30KweltiOGYVV9aSUZlNTBZZmc', 51, 'three line total:19', [['iÿ—qû—lu', '1/2', '9)', '10>'], ['5a', \"MAN-A—ğı'ır\", '6)', 'ha—am-ğa-tıIm]', 'i—§a-qd-Iu', 'ğu-ma', '3’'], ['i-sé-er', '3)', 'A-ğur-ma-lik', 'MAN-A-ğur', 'i—Ëu', 'Ili-tü', '5)', 'ha—muğ—']]]\n",
      "small hit: ['0B30KweltiOGYVV9aSUZlNTBZZmc', 57, 'three line total:18', [['12)i-na', '13)ki—ra-nim', '14)KÜBABBAR', 'i-ğa-qü—lu', '”’12'], ['ği—ni—iIS—kâ', '7)a-äi—ti—äu', 'E—ni—iğ—m', '»?', 'i—ğu—ü', '10)A—ta—ah—ğu'], ['Ëe-umw”', '3)', '4)', '”', 'i—şâ-e', 'Sâ-hu—td—ğu', '°)']]]\n",
      "small hit: ['0B30KweltiOGYVV9aSUZlNTBZZmc', 67, 'three line total:18', [['22)', 'Ea', 'ta-âğ-pu-ra-ni', 'ğe—um', '23)', \"e-pâ—a'ğ\", '24’'], ['ü-‚ti—tim', '”)', 'ia', 'i-ba-ği-ü', '18)', 'äé—um', '…'], ['12)', 'ğe—am', 'âğ-pu-uk—ma.', '.“)']]]\n",
      "small hit: ['0B30KweltiOGYVV9aSUZlNTBZZmc', 74, 'three line total:16', [['28’', 'ilâ-am', \"“23'28)\"], ['re—eğls—tdm', '25)', '£a', \"a-lı'm’“i\", 're—eğls-tâm', '26)', 'Ëa', '27)', '5a'], ['23)', '24)', 'pi—ta—ği—a', 'i-ğu']]]\n",
      "small hit: ['0B30KweltiOGYVV9aSUZlNTBZZmc', 79, 'three line total:16', [['5)', \"TÜGHİ'f-ğu\", '27)', 'a-s’a—me-ma', 'Li-n‘t—tum', '28)', 'ﬁa'], ['3>', 'Ea', 'u-m-tdm', '4)', 'ü-ğa-bi—ü—kâ', \"ta—âğ—bi-ı't\"], ['“', \"Puzur4-A-s'ür\", '2)']]]\n",
      "small hit: ['0B30KweltiOGYVV9aSUZlNTBZZmc', 86, 'three line total:19', [['*)', '9)', 'i-ğa-qal...', \"“1'”\", '5‘6qu'], ['Puzur4-A-äur', 'i-ğu', 'iE-tü', \"ha-mu-uğ-tı'm\", '6)', '£a', \"Puzur4-s'a-\"], ['1/2', '“KÙBABBAR', 'i-sé-er', '3)', 'Ha-bi4-a', 'ğa', '%']]]\n",
      "small hit: ['0B30KweltiOGYVV9aSUZlNTBZZmc', 107, 'three line total:17', [['12)', '“)', 'ği—mi-ğu', '\"‘)'], ['E—ni—iğ-ru', '‘”', \"sâ'-ı'm\", '1°)', 'hu-zi—ri—ğu-nu', '11)Pé-er—'], ['”', \"a—ğı'-tz'-ğu\", '“', 'ğa', '7’', \"a-Ëa-su'\", '’”']]]\n",
      "small hit: ['0B30KweltiOGYVV9aSUZlNTBZZmc', 136, 'three line total:17', [['tuba-glad', '?>', 'ld!', 'ğa', '8)', '”KÜBABBAR'], ['3)', 'lâ-Ëu', '“)', 'sa', \"iğ—tı'\", 'u-mî4-im', '5)', 'Ëa-âp-tim', '6)'], ['l)', '2)']]]\n",
      "small hit: ['0B30KweltiOGYVV9aSUZlNTBZZmc', 137, 'three line total:16', [['10>', 'lâ—äu', \"sâ'—ı'm\", '„)', \"Puzur4-A-s'ur\"], ['s”a', 'âÿ-pu—ra-ku', '7)', 'Puzur4-A-ğur', '8)', '9)'], ['5)', \"s'i-im\", 'Ea—dp-tU-ni]', '‘”', 'ğu-']]]\n",
      "big hit: ['0B5pvLyX4aZqxVUtFQVg0dGVFOFU', 38, 'three line total:28', [['wﬂmuwwsm', '…ËÈ', 'coin—mm', 'wo', '_ÆËC', 'Et', 'Go', 'ouﬂmm', 'ËËËOŒ', 'ŒAËNNËwËËn—wz', 'wo', '€Envo—', 'Et', 'mEËEŒ', 'aﬁn…', '‚mi'], ['.ËOÈËO', '5383', 'of', 'E', 'van', '8E3', 'Et', '5', 'do?um', 'Et', 'wo', 'ËOÉŒE'], []]]\n",
      "small hit: ['0B5pvLyX4aZqxVUtFQVg0dGVFOFU', 160, 'three line total:24', [['wo', 'Swami', '£mequ', 'BEES', 'Ltunumccum', ':ËÈ', '%%', 'E=', 'wo', '33358', 'Et', 'Ho…', '=?va', 'äîmcﬁb', 'œZËËGE', 'Et', 'wage“:', 'mEËŒD', 'È“', '‚mi'], ['.En.', 'méa—', 'Emma', '_ŒËË'], []]]\n",
      "big hit: ['0B30KweltiOGYc0RrTmNoZkFEc2s', 437, 'div count: 27', ['ÿu—u-um-pu', '(Han)', 'bu—um-ba/pa', '@u-um-pa-an', '@u-(um-}ba/pa-(a-)be/bi', 'ğu—up-pa-be', '[m-pa-pè—e', 'bu-um—bi—iğı—ni', 'bu—um-bar(?)—bi', 'gu-un-na', 'ğu-un-ni-da', 'angedeutet.358', 'FIglunzanze', 'ğıunzo', 'gu-un-ği-ni', '[mm])?“', 'bu-(up-)pa—be', 'bu-um-pa-bi', 'l_ıupp-', '354214).', 'bu-un-na,', 'im-me-er—bu-un-na.', 'hu-un-ni-ia', 'bu-ni—ia,', 'bu-ni—ia', 'bu-un-zzYzé-ri', 'Flglunzanze']]\n",
      "big hit: ['0B30KweltiOGYc0RrTmNoZkFEc2s', 649, 'div count: 32', ['°a-i—is“:', \"(ku-ra-i—is').\", '(up-ba-i-iä),', '(a-na—iğ—bu-mu).', 'a-ri—ıp-bi-ğa-i—iğ', '(e—li—li—iğ,', 'i-li—(e-ﬂi-is“).', '(ti-i-ğa-am,', 'ti—iğ—na-am).', '«', '(ti-i—iğ—na).', '(ti—i-iğ-na-am,', 'ti—iğ-la-am).', '(ğe-wi-i—ni—ri).', 'Ğa-lğaw-', '[...]-ü-um-ti—iﬁ-ni', '(s’a-wu—ü-um).', 'FSawum-nirze', '(s‘a—wu-û-um-ni-ir-ze,', 'ğa-um-na-ar—', '(ia—(zi-Mm-na—mar).', '(Sa—ü—um—ıi-ri).', '(Ea-ü-un).', '((d—)un—da—an—di).', '(ü—uÿ—ÿe)', 'FUsse', '(ü-uğ-ğe).', '(§u-d—um-a-da-al).', '_', '(mam—u).', '—', 'FAzzu']]\n",
      "big hit: ['0B30KweltiOGYc0RrTmNoZkFEc2s', 653, 'div count: 45', ['—,“28', '(e-la—an-ğa-ki', 'a-la-an-Ëa-ki', '(bi-ir—ğıe-en-a—', 'pa—ar-ğıe—en-a-tal', 'parh-', 'Féawum-nirze', '(ğu-wu-ü-', '(“’—bi—ra/ri—to', '(ul—lum-ti-isv-ni', '(ul-la—am-tağ-ni', '(a-ğıa—ar-me', 'a-[ıa-ar-mi', 'A', '(e-li—li-isf,', 'i—li-li-is‘,', 'i-li—e-li—is“', 'E/Intusse', '(en-du-uğ—ğe', 'en—da—aË—Ëu', 'en-du-u’s’-[...]', '[lx],', \"in—du-uË/ûË-s'e\", 'in—da-ağ-ğu', '(iğ—me-en-al-la-ni', 'es”-me-en-[...]', 'A', 'f', '(ğe—eb-li-ıp-ğıu—uğı', 'ği-iğı-li—ip—ğıu-uğı', '«', 'lEAttap—Naje', \"(en/in-du—uğ/üğ-s'e\", \"[...]-üğ-s'e\", 'en/in-da—ağ—ğu', 'Fiğkar-', '(iğ-ka-ar-e-li,', \"iğ-kur-e-lı'\", '*', '(@u-ba-az-za-am,', '[m-bi-iz—za—am', '(pa-na—âğ-ğe,', '(Hatt)', 'bedingt“.', ',,fĞARUM-ALLA']]\n",
      "big hit: ['0B30KweltiOGYc0RrTmNoZkFEc2s', 687, 'div count: 55', ['(tu—ni—ip—ğar-ri);', '(tu-nu—um—ğar-ri);', '(”Tupi—mama', 'FTupki-Iğğıara', '(tu—up-ki—iğ-ğıa-ra);', 'FTuruplvle', '(tu-ru—up—ğze);', '(tu-ğa—ia);', 'Tutanap-Suri', '(tu—ta—na—ap-ğu-ri);', 'rel-ab);', 'turabbe', '(al-li—tu—ra-be);', 'Amman-tabe', '(am-ma-an-ta-(ab-)Z1e);', '(a-we-eğ—ta-ri);', '(a-wi—iË—tu—ul—la);', '(a-ri—ıp-te(9)-(eğ-)ğu—up);', '(a—rum—te—esV-ğu-up);', '(as“—ta—ar—ta/te—ki,', 'Igg—TÄR-äa-ki);', '(eh-li—ip-tefsvu-', 'EniĞ-tabe', '(e—ni-iğ-ta—ğıe);', '(ba-la-ağ-tu—uk);', '(ha-zi—ip—ta-wa-an);', \"(ba—zi—ip-te-(eğ/es'15-)s'u-up);\", '(ki—ri—ıp—te-ğu-up);', \"(ma-ru-u's'da—a-ğıe);\", '(ni-ne/ni5-eË/iË-ta—ar—e,', 'ni-né/ni5-eË/iË-ta—ri', 'mar-ta—be);', '(te—be-eğ-tu-uk-ki);', '(te—Üi—isV-tu-up-', 'Tizam—tabe', '(ti-za—am—ta—he);', '(ti-za-an-ta-be);', '(ul-lum-ti-iğ-ni);', '(ul-lum-ti—iğ—ti);', '(ul-lu—üğ-ta-(a-', 'ağı—be);', '([...]x-ta-ah-he);', '([...]—an—ta-ğıe);', '([...-a]p—1a-be);', '([...]-ta-ağ—mi-is“);', '([...]-ü—um-ti—iğ—ni);', \"([...]-te-eğ-s'u—up);\", '([...]—üğ—tu-uk);', '..a_ä-', '(x-ağ—', '.]', '(fıa-', '@a-bar—duk,', 'ha-pa—duk);', '([...]-re-eğ-di—pu-ni)']]\n",
      "big hit: ['0B30KweltiOGYc0RrTmNoZkFEc2s', 688, 'div count: 41', ['[au-ul);', '(ta-al—pu-üä(.’)-ew-ri);', '(ta-am-pu-üS-til);', '(ta-ap-Sa-lze);', '(ta-aS-mu-ia);', 'I:Tatenna', '(eË-ﬂu-up—ew—ri);', '(ti-zi-àa-am);', 'ap(!)-tu-up-ki);>Äirliiieiiliabe', '(a—ma-an-ta—ğıe);', '(a-ri-zp-te-eS—Su-', '(ka-li—iS—ta-bu-um);', 'FSehlum-tari', '(Se-eb-lum-ta-ri).', '(bı', 'TeheS—SukaC?)', '(te—be—eğ—ğu(?)-ka(?));', '(te-eS—Su-up—ew—ri);', 'Se);', '(tu-ru-Se);', '(a—ga/ka—aS—tu-rum/ru);', \"(ba-zi/Si-lp-te—(e§-)s'u-up);\", '(uS—tap-tu-up-ki).', '_stimmhgﬁ:', '(ul-mu-ur—da—be).', 'be);', '(ti-iS—we-en-a-tal);', '(te-eS—Su—up-ew-ri);', \"ap-ti-s'e-be);\", 'SE1—2', '(ba-la—dS—tu-[...]);', '(ba—zi-ıp-te-(eğ-)5u—up);', '(li-be-eS—tu-uk—ki);', '(Su-uk—rum-te-Su—up);', 'Tatum-teSbe', '(ta-du-um-te-eS—be);', '...—tabe', 'tel-be);', '@.', '(ta-al-pu-üS-a-tal);', \"(te-eZı-ğıi-ı'n);\"]]\n",
      "big hit: ['0B30KweltiOGYc0RrTmNoZkFEc2s', 689, 'div count: 57', ['(te-em-mi-be);', '(te—eğ—ğe—en);', '(te-eğ—hu—ub);', '(te—ri-ıp-te-eğ-', '(te-eğ-ğe-en—a-tal);', '(te-eğ-ğu-up-ew-ri);', \"(tu—ni—ip-le—eÿ—s'u—up,\", 'Awi-tehupe', '(a-wi-te-bu—be);', '(a-ri-ip—te—eğ—ğu—up);', 'Teğğup', '(a-rum-te—ei—ğu—up);', 'Ehlip-Teğğup', '(elı—li—ıp-te-eğ-ğu—up);', '(ip-äu-un-tu-uk);', '(i-ri-ip-te—eğ-fu-up);', '(ba-ağ-te-eğ—ğu-up);', '(bi—ku—um-te—eğ-ğu-up);', '(ği-ni-en-tu-ug—ge);', '(tu-ni-ıp-te-eğ—ğu—up).', '«', '(me—me-en-da-bu-be);', 'Nawar-tabe*', 'da—ağı-e).', '(ta-al—mu-uğ—e—IÜD;', '(ta-ap-sva—be);', 'bi-a-tal);', '(ti-zi-ba-am);', 'mitveinern', 'FAğtue', '(aË—tu-e);', '(ağ-tu-za-', 'FAğtakka', '(ai-ta-ak—ka);', '(aä—ta-ku-zi);', 'FAğte', '(ağ/dğ-ıe);', 'FAëten', '(a5-te(-en));', '(ağ-tu);', 'FAğtu', '(525—114(42));', 'FAétu-Ala', '(aË-tu—a-la);', 'FAätu—atana', '(ağ-ıu-a-ıa-na);', '(ağ-tu-be);', '(ağ—tu—un);', '(ul-lum-ti—iğ—ti);', \"(u'ğ-ta-am);\", '(uğ—ta-an—rıi);', 'Uğtanzar', '(uğ-ta—an—za-ar);', '(uË—ta-an-äar-ri);', '(usïta-an-du);', '(ui—ta—ap,', 'tığ-tap).']]\n",
      "big hit: ['0B30KweltiOGYc0RrTmNoZkFEc2s', 695, 'div count: 53', ['Hurpiä', 'FKuntija', 'l\"Kun’turi', '(ku-nu-ûË-na);', '(“KuwariM1/M1-9', '(ku-ÿa-ia);', '®Kuzari', '(ku-äi-ia);', '(ku—uğ—ki—ba);', '(ku-zu—ub-a-tal/da-al);', '(ku—zu-ub-ew—ri);', 'Kuzuh—ëarri', \"(ku-zu-uğz—s'ar—ri);\", '(ku-zu—uğı-AN-x-', '(ku-zu-ub-[...]);', '(ku-zu-u[b-...]);', 'f', '_ştimmhmafjt:', 'ga—ap-ki-iğ-be);', 'F…Alli-kipra', '(a—ni—iğ-ke—ba-al);', '(a-wi-ki—ri-iğ/es\");', '(a-ri-ıp-ku—ul-mi-iğ);', '(as\"—mu-un-ki—ia-ze/ğe);', '(eb—li—ip-ka-zi-ia—ar);', '(i—ni-iğ-ke—ba-al);', '(e-ni—iğ-ki—ğa);', '(eğ—m[e—en-k]a—na-zi);', '(ke-lum—ki-ia-ze/ğe/ği);', '(ki—iğ—ka-na-zi);', 'FKuğ-kıpaa)', '(ku-uğ—ki—ba);', 'l:Meme-kijaze', \"FMulvn'um-kijaze\", \"(mu-uh-rum—ki—ı'a-ze);\", 'FPirben-kijaze', '(bi-ir-be-(en/in-)ki-ia-ze/§i,', 'bi-ir—ba-k[i-...]);', '(s“a-wa-an—ni-ki-[z]i);', \"(ğa—aW-lum-ki—ri-is');\", \"l'Ğattam—kijaze\", \"(s'a-(at—ﬂam-ki—ia-ze);\", 'F\"Saturn-kijaze', '(s“a-tum-ki-ia-ze);', '(ğa-at-tu-um-ki—ia-ze);', 'F(?)Talmiğ-ki', \"(ta-al-mi-ı'ğ-ki);\", '(ta—al—mu-üğ-ki—ia-ze);', '(ta—ğa/za-ap-ki-il—di', 'FTiz-kijach:', \"(ü—nu-u'ğ-ki);\", '(ü—nu—uğ/üğ/uz-ki-ia/a—ze/ğe);', '(uä-tap—ki-ri-is”)']]\n",
      "big hit: ['0B30KweltiOGYc0RrTmNoZkFEc2s', 703, 'div count: 57', [\"(a—we—eğ-mu—zı');\", '(iğ-', 'me—en—ğu-wa-la);', '(ba—zi-ip—na-wa-ar);', '(bi—wi-la-at—', 'be);', '(na-wa—ar—ni—ii—be);', '(na-wa-ar—ği-mi-ig);', 'FĞewi-niri', 'ZiwubbaC?)', '(zi-WA-AH-ğıa);', '(a-wi-ki-ri—iä/esﬁ;', \"(a—Wi-ı'ğ-mu-üğ—e);\", 'l:Awié-Na', 'wi—i§(6)-na/a-we-es“-na);', '(a-we—eğ—ta—ri);', 'i§(7)-(ta/te->l1u-be);', '(a—wi-iğ-tu-ul-la);', 'AWis-una', '(a-wi—iğ—ü-ri);', '(eh—li-ip—ğıa—wa-ar);', 'Eblip-bawur', '(eh—li-ıp-ğıa-wu-ur);', '(i-wi-i§-§e-e[n6]);', '(i—wu-üf—e);', 'FIçIawin—Ala', '(ba-wi-na-la);', '(ba—wi—ir—ni);', 'FIçlawiË—alla', '(ba-wi—iğ—al-la);', '(ba-', \"(ba-zi-ı'p—ğu—WA-di—im-ze);\", '(ba-zi-ip-ta-wa-an);', '(na—ni-ıp—ğa—wu-ri/O-ğa—ü-ri);', '„ar—a', '((mna-', '(na-wa-ar—ÿar-', '(na—wa—ar—Ee-mi-ge);', '(na-wa-ar—§i-in-za);', '(ğu-wa-an—ni-ki—[z]i);', '(s”a—wu-û-um);', '(s“a—wu-û-um—ni-ir—zeP-na-', '(ÿa-wu-mu-ru);', '(s”e-we-en-na);', '‘ig’rî', '(Ëe—we—en-iz—ri);', 'I:Sewen-§aki', '(s“e—we—en-ğa-ki);', \"(s'e-we-en—ğar—ri);\", 'ZiwubbeC?)', '(zi-WA-AIj—be);', '(ğe-wu-um-ba-ba-al);', '(s\"e-wu-um—s\\'a-ar—ri);', '(Ëu-uk-mm—na—wa-ar);', 'l:Tawenna', '(ti-iğ-a-na-wa-ar);', '(ü-wu-bu-le/°-bu-ul-e).']]\n",
      "small hit: ['0B30KweltiOGYc0RrTmNoZkFEc2s', 654, 'div count: 17', ['(“’—bi-ra-f>', 'ğu-ği-in—na', 'lx)', '(ba—zi—ıp-ği—mi—ga,', '(bu-zi—ri,', '@u-uz-re-en', 'f', '*', '[...]-ki—ia-sTi]', '(ÿa-du-um-a—mu-mi,', 'Ëa-du—um-a-mu—me', '(en/in-du-uğ/üğ—ğe', '[...]—ûÿ—äe', 'en/in-da—ağ—ğu', '*', '(be-el-mi,', ']}i-il-mu']]\n",
      "small hit: ['0B30KweltiOGYc0RrTmNoZkFEc2s', 697, 'div count: 19', ['(ka-al-ti—ir-be);', \"(ki-ri-ıp—a—ra—an-s'i-ib);\", '(ku-ul-mi-iğ—ew-ri);', \"(ku-un-s'e-ek—ki(?));\", '(ku—be—ğa—ki);', '(ku—ra-i-is“);', '(ku-ğu-uğı—a-tah;', '(ku-ğu—ub-ew-ri);', \"(ku-s'u-uğı-s'ar-\", '(h)__s_t_i_mml_1_a_ft_(_s_.gl):', '(ge—eğ-ğıe-en-ew-ri);', '(ge-iğ-lum).', '(eb-li-qa-gélsäfalä)}\"Nävi\\'éi-keéhe', '(na—wa-ar-ge—eğ—ğıe);', '(ia-du-um-ge—[...]).', 'Ô.', '____________', '(gl_ştimmlgş:', 'AĞ']]\n",
      "big hit: ['0BxXY6-YEk2r-RjItNVFkMXRCMGM', 36, 'three line total:26', [['*', 'Lam', 'yuma', '.', 'ımı;', 'muma'], ['“353,33', \"'\", '{', 'ËÊÎÜËÊ', 'îÊﬁÎËÎ—eîuÂËnäaîîïŸŸÏ', 'Æ?', '{', 'saim', 'T', 'yuzauiy', '{garni', 'museum'], ['fig/ﬂ:', 'iitiféﬁém', ';', 'ğağab', '%', 'yaggıg', 'ﬁg…', 'lynx;']]]\n",
      "small hit: ['0BxXY6-YEk2r-RjItNVFkMXRCMGM', 10, 'three line total:16', [['tive', 'n,y', 'äîâäat', 'papier.', \"ËEÏl'\", 'maîîon', 'Ëäuäïtî)'], ['o', 'usage', 'interrwger', 'nége—', 'KitAb'], [':i\"nifiant', '€', ':', '5']]]\n",
      "small hit: ['0BxXY6-YEk2r-RjItNVFkMXRCMGM', 15, 'three line total:18', [['aressîon', 'parîes', 'en', '‘', 'lquant', ')osseîsıon', 'var', \"quelqu'un\"], ['E', 'léi', '‘', 'dıt', '%', 'PGBt', 'etre'], ['.', '\"', 'A.']]]\n",
      "big hit: ['0BxXY6-YEk2r-NGZCd203TXZia0E', 65, 'three line total:32', [['+', '0‘', 'c', 'v', '_y—', '*', '\\\\', '\\\\,', \"'N\", '*', 'Ai'], ['„„', 's', '@', '?', ':', '*', '“:““'], [':', '&', 'ﬁ', 'r', '€', 'm', ':', \"'N\", '(\\\\', '!', ')', '“bleme…', '\"', 'Jahaz?']]]\n",
      "small hit: ['0BxXY6-YEk2r-NGZCd203TXZia0E', 64, 'three line total:17', [['»', 'x', '+', '+', '?', '%'], ['ğ:—', \"“'“?\", '\\\\!', '+', '«\\\\\\\\', ':', 'gge‘fäg;'], [\"”_“(Gqu—“ﬂ'\", '\\\\\\\\“', 'Q', 's:?']]]\n",
      "big hit: ['0ByQ0tEGgk5rvR0hJMXdYVnlRLWM', 319, 'three line total:26', [['w»', 'man', \"1'29\", 'ma', 'mm', 'run:', 'îmân', \"’l'm‘nx\", 'mtr', '\";'], ['„um;', 'Kati', 'ab?”', 'zum', 'Wma.', 'nwa-ı', 'www'], ['wmv:', 'm;;', 'nin\";', '“am,', 'nan', 'mm', 'mm', \"fi'am\", '\";']]]\n",
      "small hit: ['0ByQ0tEGgk5rvR0hJMXdYVnlRLWM', 311, 'three line total:16', [['“’—°?', '\"!\"?', 'Nani”:', 'w', 'nu.-::'], [\"”WEED-73'!\", '“ÇŞ', '3535', '”\"-5:31', 'at?“', '”,!'], ['“FW:?', '\".,—\"7311', \"Fi'l;\", '‘n‘mn', '??']]]\n",
      "small hit: ['0ByQ0tEGgk5rvR0hJMXdYVnlRLWM', 312, 'three line total:18', [['=va', '\";#', '513%;', 'leb'], [\"'ın\", 'maté“.', 'zifir:', \"'n;\", \"mı“-'n;\", '@1535', '%ng', '135'], ['mi?;', 'riv;', '“rn', 'Fra—r.', 'am:', 'ww']]]\n",
      "small hit: ['0ByQ0tEGgk5rvR0hJMXdYVnlRLWM', 313, 'three line total:17', [['‘üùaquu', 'takat', 'iii—lı', ',äùu', 'damağı:'], ['Lüqäu', 'Ğâjcı', '‚im', 'ﬁücltu', 'dü:'], ['àäu.', 'idem', 'küf.', 'Elu', \";:Ç'L\", '*Lügu', 'lehu:']]]\n",
      "small hit: ['0ByQ0tEGgk5rvR0hJMXdYVnlRLWM', 314, 'three line total:16', [['mama:', '#7155', '©}?!', 'ms', 'i.??—', 'm\\'\";'], ['um', '»', 'W:', '“f\"?!', 'mm.', '557123', 'mama', 'aim'], ['@', 'Æ]']]]\n",
      "small hit: ['0ByQ0tEGgk5rvR0hJMXdYVnlRLWM', 315, 'three line total:20', [['\"@', 'nm', 'im“!', 'nw', 'm“?', 'nm:', 'mmm'], ['«m‘a?', 'was\"):', 'wäw’nzjnm', '1“?', 'map;', '13%', 'mısra'], ['neşr;', '«m;-nr.:', \"wmv-m'\", 'azra-nm\".', 'mı:;', 'nin:']]]\n",
      "small hit: ['0ByQ0tEGgk5rvR0hJMXdYVnlRLWM', 316, 'three line total:19', [[':“?', 'mm\\'!\"', '*‘71', 'ﬂ‘Pt‘âî', 'naam', '&“?!', 'um“:', 'was', '\"üs'], ['w', '\"1:31', '«wa', \"Pin-‚'\", '‘ne-us', \"mm'?\", '+:ng'], ['al', '@', '@']]]\n",
      "small hit: ['0ByQ0tEGgk5rvR0hJMXdYVnlRLWM', 317, 'three line total:20', [['”29?', '”>“???', '“I???', '“A?', '”mü?\"!'], ['mig', 'régi', '&\"?!', \"nğg'zi'g';\", '<u>', '53127“.', 'my\");', 'nagm’', 'mm'], ['muş;', '39g:', 'ını-5;', 'am“)?', 'min:', '\"gn—_']]]\n",
      "small hit: ['0ByQ0tEGgk5rvR0hJMXdYVnlRLWM', 318, 'three line total:16', [['nw', 'lar:“?', \"P'ıif'üşım\", '\"an-:»:'], ['3.315“?', 'W:', '«:»', '15,qu', '111qu', '\";-\"51!'], ['‘Jë‘Z-JT.', \"mn'işşa\", '«:»', '19:32:;', \"R';\", \"*ıv'w'nlnj\"]]]\n",
      "small hit: ['0ByQ0tEGgk5rvR0hJMXdYVnlRLWM', 320, 'three line total:17', [['mamma', '”in“?', 'ncı-w', 'ww', '“\";?', 'm‘a', 'w:'], ['mm.', '\"ﬁa:', 'ﬂirt“?', 'aşım', 'm', '31;', 'wma'], ['ﬁl', 'ﬁl', '@']]]\n",
      "small hit: ['0ByQ0tEGgk5rvR0hJMXdYVnlRLWM', 321, 'three line total:17', [['”WWW”?', \"“m‘-‘n'\", '\"?::', '“mwa', 'mm', 'nin:'], [':*;çsgjm', \"q—Şıs'\", 'wv', '115:5', 'nın:'], [':*?', '2:28', 'marsh', '”m?', '*;', 'Hımmm;']]]\n",
      "small hit: ['0ByQ0tEGgk5rvR0hJMXdYVnlRLWM', 322, 'three line total:16', [['mm“?', 'm', 'mim-‚Isa:', 'mm'], ['==?', '#29', 'PhP', 'Fsa:', '\"m‘.', 'WW'], [\"yağı—'a;\", 'mgr;', '\"qi:', 'np:', '«:»', 'sum-w']]]\n",
      "small hit: ['0ByQ0tEGgk5rvR0hJMXdYVnlRLWM', 323, 'three line total:18', [['ama:', 'm;?', 'am', \"n'aè\", 'wé', 'We', 'ﬁ?!'], [':ﬂl:—m', 'Puf;', 'ﬁes', 'mr:', 'nag“?', 'ama', 'mmm', 'np“?'], ['ilâ!', 'ﬁl', 'ﬁl']]]\n",
      "small hit: ['0ByQ0tEGgk5rvR0hJMXdYVnlRLWM', 324, 'three line total:16', [[\"mu'?\", 'hgaga-bis', 'Ting\"', 'min', 'a;', \"alma';\", \"1515'58\"], [':qu', 'uns;', '$$;', 'um', 'hg.-11', 'rpg', 'am', 'hai-193'], ['Puma-23']]]\n",
      "small hit: ['0ByQ0tEGgk5rvR0hJMXdYVnlRLWM', 325, 'three line total:16', [['mfy-maç', \"arüînşı'\", 'ray-‚m', 'mpg', 'wm;'], ['ıra-mm', 'm‘r‘r\"', 'mms', '\"ş', '5m;', 'Hmm;'], ['vrv»?', 'nàans’mn', 'min', 'm:.', 'nains-11']]]\n",
      "small hit: ['0ByQ0tEGgk5rvR0hJMXdYVnlRLWM', 326, 'three line total:19', [['zinâ?', '103', 'WWW:-n', '===“?', '1;:', 'mm', '===.'], ['mw', '===', 'm', '===:', 'aw', '1.311.'], ['ww\":', '===-::', 'Rim.', '=Tüm', '===sz', '&?']]]\n",
      "small hit: ['0ByQ0tEGgk5rvR0hJMXdYVnlRLWM', 327, 'three line total:16', [[\"mm'?\", 'am', 'ağu:', '5‘90?', 'mn'], ['mews!', 'mw', \"Dfm-'ı\", 'm', 'up:', 'näv‘,'], ['mim-53', 'mu', 'um“:', '=??', '19m']]]\n",
      "small hit: ['0ByQ0tEGgk5rvR0hJMXdYVnlRLWM', 328, 'three line total:16', [['“LétüL', '€:qu', 'att;', ':Làëüut', '&&&,qu', 'adıl:'], ['ız', 'üsü;', '&çıyu', 'Quiz;'], ['118', '{Law', 'aaa:', 'âäL', 'güdük!', 'rm:']]]\n",
      "small hit: ['0ByQ0tEGgk5rvR0hJMXdYVnlRLWM', 329, 'three line total:19', [['Edith', 'Eüşyu', 'îuğu', 'Édith', 'EûLLu', 'dpi]:', 'am'], [\"c'zdgyu\", 'Lig.:', 'Shi—CI', 'dagina)', 'Sul…', 'âàtgulutu:'], ['[mü.]:', 'Eââçkc’ışı.', 'çàüüw', 'tanimam', '‚Lulu', '«gamm:']]]\n",
      "small hit: ['0ByQ0tEGgk5rvR0hJMXdYVnlRLWM', 330, 'three line total:16', [['“aama', 'man', 'götü', 'aıt-aa', '6116c,', '6164::'], ['üiüùm', '14116111', '151611111', '1139161311611:', '.th‘d:'], [\"'qu\", 'Sate', '6,636,.', '11\",??th', 'amc—::']]]\n",
      "small hit: ['0ByQ0tEGgk5rvR0hJMXdYVnlRLWM', 331, 'three line total:18', [[\"m'as\", 'ww.', '?n\";', 'man', 'm?“?', 'm‘a', 'mn'], ['tiras;', 'aims', 'ne“?', 'mam', \"at./'s\", 'näa'], ['dm???', 'Mär-\"mu“;', 'mbar', 'man;', 'nw;']]]\n",
      "small hit: ['0ByQ0tEGgk5rvR0hJMXdYVnlRLWM', 332, 'three line total:16', [['mış—aşa', 'mima“', 'm;', 'new', 'man.'], ['mm:?', 'ıçın', 'mad', 'mam“?', 'ütü.', \"31'7”?\"], ['xml-m', 'mm’', 'ntv—ıs;', 'ﬁa“!', 'Wm']]]\n",
      "small hit: ['0ByQ0tEGgk5rvR0hJMXdYVnlRLWM', 333, 'three line total:16', [['aw“:', 'm:\"nrs', 'm‘as', \"'iş“?\", 'ﬂint', '=?!'], ['man?', 'am', '55', \"n‘zm'ms\", 'nm', '«\":/\"as'], ['\"anan?', '&?\"an', '\"“au?', \"‘âîvä'mn\"]]]\n",
      "small hit: ['0ByQ0tEGgk5rvR0hJMXdYVnlRLWM', 334, 'three line total:17', [['ETW', 'Sûr;', 'nm;', 'utan-ğ', 'nigga', '\"pg?', 'ambğg'], ['“ms', '\"31.547;', \"W'â'xf\", 'nun', '#9;', 'Wm'], ['Www?', \"wm‘ﬁ‘m'\", '1‘9rs‘m‘5;', 'maﬁa.']]]\n",
      "big hit: ['0ByQ0tEGgk5rvc052aFRrNzZaa2s', 225, 'three line total:27', [['İli-Jin', 'pum', 'man.-at“', 'kisim', ':wh—', 'ama:', 'dub:', 'ındır;', \":;P'\", '.\":', \"'est-.::\", 'tır-6', 'ati—=', \"'\"], ['Hun-1.1“', '\"°:', '\\'—.\"H\\'..||-\\'E', '|||):', 'MPH:', \"-'t<_-ï.\", '_\\'\"\"\\'', '\"h\\'cr', \"'v'\", '*', \"'ne—'Hav\"], ['___', 'ama!”']]]\n",
      "big hit: ['0ByQ0tEGgk5rvc052aFRrNzZaa2s', 410, 'three line total:27', [['nüfus', 'cf»;', 'nam', '”nos', 'HW', 'atan', '5a'], ['wars', 'm', ':???', 'virüs', \"mnt'nv\", 'bb?', \"m'?\", \"Him-«'51\", '»…'], ['mms', '03535', '“uns', \"ﬁab'ms\", 'mn', '‘wa', 'HW', 'mı?!', '“mf?', '“ân', '“a']]]\n",
      "big hit: ['0ByQ0tEGgk5rvc052aFRrNzZaa2s', 411, 'three line total:26', [[':11”?an', 'mpg;', 'im;', 'um', ':=', 'm'], ['His-am“.', '\"Mîna', '“am', 'Wm:', 'DW?', 'nin“.', '1614“?!', 'wu”', '\"', '‘bﬁ'], ['“WW', 'mw', 'rum:', 'vim', '1559-?-', 'nâmm', '\"fw', 'nm', 'nun?-m;:', '\"“:-u']]]\n",
      "big hit: ['0ByQ0tEGgk5rvc052aFRrNzZaa2s', 417, 'three line total:27', [[':*Şş', 'avg—cana', 'Bie-gtr', 'am;', '“Elam', 'ağır-123;', 'warn', 'uwm', 'Hü!'], ['*#:', 'mm', 'ms', 'W?', 'Haw-1&9', 'm‘a', 'haa“-“:$', 'nubm', 'nim', 'H‘äm'], [':mg::', 'mg;', \"'ı;\", 'nr}!', 'um', 'nŞ—ıg', 'an;', '(:în‘m‘ïm']]]\n",
      "big hit: ['0ByQ0tEGgk5rvc052aFRrNzZaa2s', 422, 'three line total:26', [['man“?', 'run:', 'n‘;', '“lier!', '“awp—ı;', 'wma', 'Wm:', '*iëtstr’', 'rw'], ['war', 'qbqb', 'nw', '1111px;', 'um:', '“in'], ['WW', 'mt', '1W”.', 'm', \"'m\", '\":ıîî\\'vşa', '127?:', 'nın\",', '1m', \"'!th\", 'mı']]]\n",
      "big hit: ['0ByQ0tEGgk5rvc052aFRrNzZaa2s', 427, 'three line total:28', [['5:51?th', 'w', 'mıs', \"n'r'awv\", \"“'m:\", 'nir:', 'nos:', 'm;.', 'vt“?', '*;', '223'], ['min', 'man', \"'a;\", '“>;', 'müş;', 'ı'], ['”9‘35?!', '”1””?', 'ne?', 'w', '1W2', 'DEÜ?“', '\":ı\\'ârs—tı', '1.371', ':=', '1', 'a']]]\n",
      "small hit: ['0ByQ0tEGgk5rvc052aFRrNzZaa2s', 102, 'three line total:16', [['Jo:-', '19,5;1', \"IÎIIÂ'SI\", '$*…'], ['\"3,319.', 'iqwbl', '1:1', 'im;', \"'iwullnsnnllmnnl\", 'um'], ['733,10', '@', '|n_:.n—<<1>>1:i', '“MR—]', 'Insnnrnu', 'wan-ı']]]\n",
      "small hit: ['0ByQ0tEGgk5rvc052aFRrNzZaa2s', 412, 'three line total:18', [['mm', 'ü»;', 'nâ?', '“mm', '33333133333', '\"=an', 'em.', 'DWI?', 'raw-=:'], ['“ama?', \"'ım:\", \":rsms'?\", 'vhs', 'w:', \"wﬂï'äs\", 'nbr;', '“&&-13333133'], ['msg']]]\n",
      "small hit: ['0ByQ0tEGgk5rvc052aFRrNzZaa2s', 413, 'three line total:16', [['mitm', \"Bağın-n';\", \"Y'ŒÊU\", 'Elf\"?', 'WT.'], [':nşa', 'nm', 'The:'], ['=', 'we', 'ne?', 'mı:\"?', 'mim', 'r?', '\"ı“?\"fâü', 'hmm-\"11:3']]]\n",
      "small hit: ['0ByQ0tEGgk5rvc052aFRrNzZaa2s', 414, 'three line total:17', [[':m:', 'wr:', 'max', '1158', 'am'], ['mm“:', 'fière', 'n‘a:', 'Dumm.', 'mim:', '?!?:', 'km???', 'rag-m:'], ['ﬂma', 'vw', 'nw', 'mm;']]]\n",
      "small hit: ['0ByQ0tEGgk5rvc052aFRrNzZaa2s', 415, 'three line total:17', [['nın—:', 'niş:', 'n‘jæäm'], ['ﬂâs‘am', 'm', '\"”.-58', 'nm', '5'], ['mw', 'msn', 'man', '‘an', 'ws', 'ms', 'ran:', 'nz:-', '«am']]]\n",
      "small hit: ['0ByQ0tEGgk5rvc052aFRrNzZaa2s', 416, 'three line total:17', [['rim:', 'nimm', '538', 'W', 'im', '1°“'], ['işin;', '\\'\"?', \":‘æ'ﬂ.\", 'mins', 'THE.', 'îmân', '”?!?“.', '”È“.', '…“'], ['”LJ', 'sjntfjlîîğ;']]]\n",
      "small hit: ['0ByQ0tEGgk5rvc052aFRrNzZaa2s', 418, 'three line total:18', [['“‘-5°', '11-5:', '“.\"?', '“Bilm”?', \"1159'?\", 'ms', '[hm-ran]', 'taam;', 'min'], ['man-5:1', 'ibm;', \"D'?'?W'=Ti'n*5\", 'Pîr;'], ['mrh;', 'wa', 'ihm-nm', '“Wm;', 'mn']]]\n",
      "small hit: ['0ByQ0tEGgk5rvc052aFRrNzZaa2s', 419, 'three line total:21', [['nam-=', \"'t»;\", 'rw', '“mm', 'mm', '1559;', 'im“', 'mam', 'Wim;', '28'], ['ının-12159', '\"am', 'naam', 'Tef,:'], [\"'>st\", 'm', '”19m;', '29171565?', 'am', '‘m', '‘a']]]\n",
      "small hit: ['0ByQ0tEGgk5rvc052aFRrNzZaa2s', 420, 'three line total:18', [['run:', '\"m', 'rw', '…', '?“'], [':nrxau', 'mıs', 'nâm-1\":', '1‘29', 'www.', 'am', '‘…'], ['ü“???', 'nm', '“rw', 'nm', 'mm;', '*“']]]\n",
      "small hit: ['0ByQ0tEGgk5rvc052aFRrNzZaa2s', 421, 'three line total:18', [['%', \"mı'—=\", 'nâm—nın', 'FW', 'we.', 'ms.', 'wär-59', 'wm'], ['nm', 'w', '=an', \"mam-'a:\", 'Has'], ['farm', \"a'zam???\", 'min', 'im', '“am']]]\n",
      "small hit: ['0ByQ0tEGgk5rvc052aFRrNzZaa2s', 423, 'three line total:16', [['mw', 'mm\"???', 'nw;'], ['nin', 'wgpn', '“tm-5x;', 'mim;', \"mpg-ki'?\", 'wing;', '\"ag'], ['v:', '”px:', '“&=-m;', 'nin:', 'nm', 'HEH-ış“;']]]\n",
      "small hit: ['0ByQ0tEGgk5rvc052aFRrNzZaa2s', 424, 'three line total:16', [['im;', 'nâm', '‘àwf‘ëm', '”rm”:', 'Wm'], ['Hirn-wa', 'ma', '59:1', '?“'], ['ww…', '“?”“.', 'jaar“)?', 'ﬁrs', '“mm', 'mm', 'mm']]]\n",
      "small hit: ['0ByQ0tEGgk5rvc052aFRrNzZaa2s', 425, 'three line total:16', [[\"nväan'ms\", '«man', 'nâm—.', '\"am;', \"'D'ınaa'örnş\", '«9.21.'], ['mm?', 'mam', 'cw', 'nw', 'ama', 'mms'], ['nın\",', 'naza', 'm', 'www-“11.511111.']]]\n",
      "small hit: ['0ByQ0tEGgk5rvc052aFRrNzZaa2s', 426, 'three line total:21', [['n‘äTx', 'rad', 'mm?', \"Brim-1'29\", 'nw', 'nazı”', 'Tits,', '%'], ['“maximum“?', 'Tam', '\"ms', 'DWT—31.559', 'ms', 'mim-ns!', '13…'], ['mm', \"50,1'5rs\", 'mms', 'Tm', '“âb', '8']]]\n",
      "small hit: ['0ByQ0tEGgk5rvc052aFRrNzZaa2s', 428, 'three line total:17', [['mam:', '‘;än‘?', 'ma?!', \"'in'—ı\", 'www', 'aw', \"nızı-'ön\"], ['nm:', '“mö?!', '\"nr-ı', 'm,'], [':=?', 'w', 'w', '”mâts', 'ms', 'miam']]]\n",
      "\n",
      "\n",
      "Finished Processing OCR Files.\n"
     ]
    }
   ],
   "source": [
    "filenameList = []\n",
    "\n",
    "import fnmatch\n",
    "#for filename in os.listdir(scratchDataDirectory):\n",
    "    #print(\"filename: \", filename)\n",
    "#    if filename.endswith(\".pdf\") :\n",
    "\n",
    "        # split out the file name and the page (image) number\n",
    "#        splittokens = re.split(r\"-|\\.\", filename)\n",
    "#        tot = len(splittokens)\n",
    "#        filenameList.append( splittokens[0] )\n",
    "#print(\"filenameList: \", filenameList )\n",
    "            \n",
    "pattern = '*.hocr'\n",
    "#for filenameroot in filenameList:\n",
    "# for key, value in downloadMap.items():\n",
    "for key in files_to_download:\n",
    "    #print('processing: ' + value)\n",
    "    hocrfileList = []\n",
    "    for hocrname in os.listdir(scratchDataDirectory):\n",
    "        if (fnmatch.fnmatch(hocrname, pattern) and hocrname.startswith(key) ):\n",
    "            hocrfileList.append(scratchDataDirectory+hocrname)\n",
    "\n",
    "    #print(\"\\n\\nparseOcrOutputForFileset list: \", hocrfileList)\n",
    "    parseHocrFiles(key, hocrfileList)\n",
    "    #print(\"parseOcrOutputForFileset completed file set parse: \", key)\n",
    "print('\\n\\nFinished Processing OCR Files.')"
   ]
  },
  {
   "cell_type": "markdown",
   "metadata": {},
   "source": [
    "__merge all the big hit and small hit result files__"
   ]
  },
  {
   "cell_type": "markdown",
   "metadata": {},
   "source": [
    "- Each document has its own bighits and smallhits files, located in `data/$GOOGLEID_bighits.txt` and `data/$GOOGLEID_smallhits.txt`\n",
    "- Merge these into a `bighitlist.txt` and `smallhitlist.txt` for the whole run"
   ]
  },
  {
   "cell_type": "code",
   "execution_count": 40,
   "metadata": {
    "collapsed": true
   },
   "outputs": [],
   "source": [
    "# Added by Nicolas Chan, 10/12/2017\n",
    "!cat data/*smallhits* > smallhitlist.txt\n",
    "!cat data/*bighits* > bighitlist.txt"
   ]
  },
  {
   "cell_type": "code",
   "execution_count": 41,
   "metadata": {
    "collapsed": true
   },
   "outputs": [],
   "source": []
  },
  {
   "cell_type": "code",
   "execution_count": 41,
   "metadata": {
    "collapsed": true
   },
   "outputs": [],
   "source": []
  },
  {
   "cell_type": "markdown",
   "metadata": {},
   "source": [
    "__cleanup__"
   ]
  },
  {
   "cell_type": "code",
   "execution_count": 41,
   "metadata": {
    "collapsed": false
   },
   "outputs": [
    {
     "name": "stdout",
     "output_type": "stream",
     "text": [
      "num dirs:  0\n"
     ]
    }
   ],
   "source": [
    "print(\"num dirs: \", len(dirlist) ) \n",
    "\n",
    "for currentdir in dirlist:\n",
    "    os.chdir(currentdir)\n",
    "    print ('current working directory: ', os.getcwd())\n",
    "    \n",
    "    # remove all pdf and png files\n",
    "    for currentFile in os.listdir(os.getcwd()):\n",
    "        if os.path.isfile(currentFile) and not currentFile.endswith('hits.txt'):\n",
    "                os.remove(os.path.join(currentdir, currentFile))\n",
    "    "
   ]
  },
  {
   "cell_type": "markdown",
   "metadata": {
    "collapsed": true
   },
   "source": [
    "#### Move the resulting zip file to bDrive."
   ]
  },
  {
   "cell_type": "code",
   "execution_count": 42,
   "metadata": {
    "collapsed": false
   },
   "outputs": [],
   "source": [
    "# Added by Nicolas Chan based on previous code, 10/12/2017\n",
    "def upload_txt_file(name, path, destination_folder=None):\n",
    "    \"\"\"Upload a text file to Google Drive\"\"\"\n",
    "    \n",
    "    file_metadata = { 'name': name }\n",
    "    if destination_folder:\n",
    "        file_metadata['parents'] = [destination_folder]\n",
    "    media = MediaFileUpload(path, mimetype='text/plain')\n",
    "    file = service.files().create(\n",
    "        body=file_metadata,\n",
    "        media_body=media,\n",
    "        fields='id'\n",
    "    ).execute()\n",
    "    print('Uploaded', name, '; ID:', file.get('id'))\n",
    "\n",
    "# upload_txt_file('smallhitlist.txt', runFolder + 'smallhitlist.txt', results_folder['id'])\n",
    "# upload_txt_file('bighitlist.txt', runFolder + 'bighitlist.txt', results_folder['id'])"
   ]
  },
  {
   "cell_type": "code",
   "execution_count": 43,
   "metadata": {
    "collapsed": false
   },
   "outputs": [
    {
     "data": {
      "text/plain": [
       "'/global/scratch/groups/dh/aanderson/results//Results_716-735//bighitlist.txt'"
      ]
     },
     "execution_count": 43,
     "metadata": {},
     "output_type": "execute_result"
    }
   ],
   "source": [
    "# Copy results to shared folder\n",
    "import shutil\n",
    "shutil.copyfile(runFolder + 'smallhitlist.txt', results_folder + '/smallhitlist.txt')\n",
    "shutil.copyfile(runFolder + 'bighitlist.txt', results_folder + '/bighitlist.txt')"
   ]
  },
  {
   "cell_type": "code",
   "execution_count": 44,
   "metadata": {
    "collapsed": false
   },
   "outputs": [
    {
     "data": {
      "text/plain": [
       "\"\\ntry:\\n    file = service.files().get(fileId=googleFileID).execute()\\n    name = file['name']\\n    print(name)\\nexcept Error:\\n    name = 'unable to get file name'\\n\""
      ]
     },
     "execution_count": 44,
     "metadata": {},
     "output_type": "execute_result"
    }
   ],
   "source": [
    "#Henry Ang 10/24/17 format hitlists: still working on it\n",
    "import os\n",
    "results_archive_folder = '/global/scratch/groups/dh/aanderson/run_archive/'\n",
    "os.chdir(results_archive_folder)\n",
    "os.chdir('Results_219-223')\n",
    "with open('bighitlist.txt','r', encoding='utf-8') as f:\n",
    "    content = f.readlines()\n",
    "lines = [line.strip() for line in content]\n",
    "hitFiles = {}\n",
    "for line in lines:\n",
    "    googleFileID, rest = line[:line.find(';')], line[line.find(';') + 1:]\n",
    "    pageNumber, rest = rest[:rest.find(';')], rest[rest.find(';') + 1:]\n",
    "    matchList = rest \n",
    "    if googleFileID in hitFiles:\n",
    "        hitFiles[googleFileID].append((pageNumber, matchList))\n",
    "    else:\n",
    "        hitFiles[googleFileID] = [(pageNumber, matchList)]\n",
    "\"\"\"\n",
    "try:\n",
    "    file = service.files().get(fileId=googleFileID).execute()\n",
    "    name = file['name']\n",
    "    print(name)\n",
    "except Error:\n",
    "    name = 'unable to get file name'\n",
    "\"\"\"\n"
   ]
  },
  {
   "cell_type": "code",
   "execution_count": 45,
   "metadata": {
    "collapsed": false
   },
   "outputs": [
    {
     "name": "stdout",
     "output_type": "stream",
     "text": [
      "2017-10-27 16:07:19 Finished processing from index 716 to index 735\n"
     ]
    }
   ],
   "source": [
    "#Henry Ang 10/13/2017\n",
    "logMsg = \"{2} Finished processing from index {0} to index {1}\".format(start_index, end_index, strftime(\"%Y-%m-%d %H:%M:%S\", localtime())\n",
    ")\n",
    "print(logMsg)\n",
    "!echo $logMsg >> /global/scratch/groups/dh/aanderson/process_log.txt"
   ]
  },
  {
   "cell_type": "code",
   "execution_count": 46,
   "metadata": {
    "collapsed": true
   },
   "outputs": [],
   "source": []
  }
 ],
 "metadata": {
  "kernelspec": {
   "display_name": "ocrPython36opencv",
   "language": "python",
   "name": "ocrpython36opencv"
  },
  "language_info": {
   "codemirror_mode": {
    "name": "ipython",
    "version": 3
   },
   "file_extension": ".py",
   "mimetype": "text/x-python",
   "name": "python",
   "nbconvert_exporter": "python",
   "pygments_lexer": "ipython3",
   "version": "3.6.2"
  }
 },
 "nbformat": 4,
 "nbformat_minor": 1
}
