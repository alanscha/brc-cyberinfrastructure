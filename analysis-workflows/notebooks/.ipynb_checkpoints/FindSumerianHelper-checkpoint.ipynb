{
 "cells": [
  {
   "cell_type": "markdown",
   "metadata": {},
   "source": [
    "# Helper notebook\n",
    "#### Henry Ang 10/13/2017\n",
    "\n",
    "Runs the entire AdamAndersonFindSumerianWorkflow notebook to process pdfs to hitlists\n",
    "Results saved at google folder https://drive.google.com/drive/u/1/folders/0B1297pLT9WXLV29iNmlWcTlvakk"
   ]
  },
  {
   "cell_type": "code",
   "execution_count": null,
   "metadata": {
    "collapsed": false
   },
   "outputs": [
    {
     "name": "stdout",
     "output_type": "stream",
     "text": [
      "[NbConvertApp] Converting notebook AdamAndersonFindSumerianWorkflow.ipynb to notebook\n",
      "[NbConvertApp] Executing notebook with kernel: ocrpython36opencv\n",
      "[NbConvertApp] ERROR | Error while converting 'AdamAndersonFindSumerianWorkflow.ipynb'\n",
      "Traceback (most recent call last):\n",
      "  File \"/global/software/sl-6.x86_64/modules/langs/python/3.5.1/lib/python3.5/site-packages/nbconvert/nbconvertapp.py\", line 357, in export_single_notebook\n",
      "    output, resources = self.exporter.from_filename(notebook_filename, resources=resources)\n",
      "  File \"/global/software/sl-6.x86_64/modules/langs/python/3.5.1/lib/python3.5/site-packages/nbconvert/exporters/exporter.py\", line 165, in from_filename\n",
      "    return self.from_file(f, resources=resources, **kw)\n",
      "  File \"/global/software/sl-6.x86_64/modules/langs/python/3.5.1/lib/python3.5/site-packages/nbconvert/exporters/exporter.py\", line 183, in from_file\n",
      "    return self.from_notebook_node(nbformat.read(file_stream, as_version=4), resources=resources, **kw)\n",
      "  File \"/global/software/sl-6.x86_64/modules/langs/python/3.5.1/lib/python3.5/site-packages/nbconvert/exporters/notebook.py\", line 26, in from_notebook_node\n",
      "    nb_copy, resources = super(NotebookExporter, self).from_notebook_node(nb, resources, **kw)\n",
      "  File \"/global/software/sl-6.x86_64/modules/langs/python/3.5.1/lib/python3.5/site-packages/nbconvert/exporters/exporter.py\", line 130, in from_notebook_node\n",
      "    nb_copy, resources = self._preprocess(nb_copy, resources)\n",
      "  File \"/global/software/sl-6.x86_64/modules/langs/python/3.5.1/lib/python3.5/site-packages/nbconvert/exporters/exporter.py\", line 302, in _preprocess\n",
      "    nbc, resc = preprocessor(nbc, resc)\n",
      "  File \"/global/software/sl-6.x86_64/modules/langs/python/3.5.1/lib/python3.5/site-packages/nbconvert/preprocessors/base.py\", line 47, in __call__\n",
      "    return self.preprocess(nb,resources)\n",
      "  File \"/global/software/sl-6.x86_64/modules/langs/python/3.5.1/lib/python3.5/site-packages/nbconvert/preprocessors/execute.py\", line 145, in preprocess\n",
      "    nb, resources = super(ExecutePreprocessor, self).preprocess(nb, resources)\n",
      "  File \"/global/software/sl-6.x86_64/modules/langs/python/3.5.1/lib/python3.5/site-packages/nbconvert/preprocessors/base.py\", line 70, in preprocess\n",
      "    nb.cells[index], resources = self.preprocess_cell(cell, resources, index)\n",
      "  File \"/global/software/sl-6.x86_64/modules/langs/python/3.5.1/lib/python3.5/site-packages/nbconvert/preprocessors/execute.py\", line 176, in preprocess_cell\n",
      "    raise CellExecutionError(msg)\n",
      "nbconvert.preprocessors.execute.CellExecutionError: An error occurred while executing the following cell:\n",
      "------------------\n",
      "# Added by Nicolas Chan, 10/12/2017\n",
      "# Download specified files\n",
      "for file in files_to_download:\n",
      "    download_file(file, scratchDataDirectory + file + '.pdf')\n",
      "------------------\n",
      "\n",
      "NameError: name 'value' is not defined\n",
      "\n"
     ]
    }
   ],
   "source": [
    "for _ in range(10):\n",
    "    !jupyter nbconvert --ExecutePreprocessor.timeout=-1 --to notebook --execute AdamAndersonFindSumerianWorkflow.ipynb"
   ]
  },
  {
   "cell_type": "code",
   "execution_count": null,
   "metadata": {
    "collapsed": false
   },
   "outputs": [],
   "source": [
    "\"\"\"\n",
    "import nbformat\n",
    "from nbconvert.preprocessors import ExecutePreprocessor\n",
    "\"\"\""
   ]
  },
  {
   "cell_type": "code",
   "execution_count": null,
   "metadata": {
    "collapsed": false,
    "scrolled": true
   },
   "outputs": [],
   "source": [
    "\"\"\"\n",
    "notebook_filename = \"brc-cyberinfrastructure/AdamAndersonFindSumerianWorkflow.ipynb\"\n",
    "with open(notebook_filename) as f:\n",
    "    nb = nbformat.read(f, as_version=4)\n",
    "ep = ExecutePreprocessor(timeout=600, kernel_name='ocrPython36opencv')\n",
    "ep.preprocess(nb, {'metadata': {'path': '/'}})\n",
    "\"\"\""
   ]
  },
  {
   "cell_type": "code",
   "execution_count": null,
   "metadata": {
    "collapsed": false,
    "scrolled": true
   },
   "outputs": [],
   "source": []
  },
  {
   "cell_type": "code",
   "execution_count": null,
   "metadata": {
    "collapsed": true
   },
   "outputs": [],
   "source": []
  }
 ],
 "metadata": {
  "kernelspec": {
   "display_name": "Python 3",
   "language": "python",
   "name": "python3"
  },
  "language_info": {
   "codemirror_mode": {
    "name": "ipython",
    "version": 3
   },
   "file_extension": ".py",
   "mimetype": "text/x-python",
   "name": "python",
   "nbconvert_exporter": "python",
   "pygments_lexer": "ipython3",
   "version": "3.5.1"
  }
 },
 "nbformat": 4,
 "nbformat_minor": 1
}
