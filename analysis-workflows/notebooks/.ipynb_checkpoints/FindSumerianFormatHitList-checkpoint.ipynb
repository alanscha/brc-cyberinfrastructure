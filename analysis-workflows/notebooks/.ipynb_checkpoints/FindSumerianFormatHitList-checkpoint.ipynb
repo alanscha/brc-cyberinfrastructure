{
 "cells": [
  {
   "cell_type": "markdown",
   "metadata": {},
   "source": [
    "### Format the histlists and add file names (Not completed)\n",
    "Henry Ang 10/23/17\n",
    "\n",
    "The Formatted hitlist should look like this:\n",
    "\n",
    "filename1;GoogleDriveFileId<br/>\n",
    "1,3,4<br/>\n",
    "\n",
    "filename2;GoogleDriveFileId<br/>\n",
    "1,2,3<br/>"
   ]
  },
  {
   "cell_type": "code",
   "execution_count": null,
   "metadata": {
    "collapsed": true
   },
   "outputs": [],
   "source": [
    "projectDir = \"/global/scratch/groups/dh/aanderson/\"\n",
    "resultsDir = projectDir + \"results/\"\n",
    "archiveDir = projectDir + \"run_archive/\""
   ]
  },
  {
   "cell_type": "code",
   "execution_count": null,
   "metadata": {
    "collapsed": true
   },
   "outputs": [],
   "source": [
    "import os\n",
    "import codecs\n",
    "import httplib2\n",
    "from googleapiclient.http import MediaIoBaseDownload\n",
    "from googleapiclient.http import MediaFileUpload\n",
    "from apiclient import discovery, errors\n",
    "from oauth2client import client\n",
    "from oauth2client import tools\n",
    "from oauth2client.file import Storage"
   ]
  },
  {
   "cell_type": "code",
   "execution_count": null,
   "metadata": {
    "collapsed": true
   },
   "outputs": [],
   "source": [
    "SCOPES = 'https://www.googleapis.com/auth/drive'\n",
    "CLIENT_SECRET_FILE = 'client_secret.json'\n",
    "APPLICATION_NAME = 'gDriveConnect'"
   ]
  },
  {
   "cell_type": "code",
   "execution_count": null,
   "metadata": {
    "collapsed": false
   },
   "outputs": [],
   "source": [
    "import argparse\n",
    "parser = argparse.ArgumentParser(parents=[tools.argparser])\n",
    "parser.add_argument('-f', help=argparse.SUPPRESS)\n",
    "\n",
    "flags = parser.parse_known_args()[0]\n",
    "flags.noauth_local_webserver = True"
   ]
  },
  {
   "cell_type": "code",
   "execution_count": null,
   "metadata": {
    "collapsed": true
   },
   "outputs": [],
   "source": [
    "def get_credentials():\n",
    "    \n",
    "    home_dir = os.path.expanduser('~')\n",
    "    credential_dir = os.path.join(home_dir, '.credentials')\n",
    "    if not os.path.exists(credential_dir):\n",
    "        os.makedirs(credential_dir)\n",
    "    credential_path = os.path.join(credential_dir, 'gDriveConnect.json')\n",
    "    \n",
    "    store = Storage(credential_path)    \n",
    "    credentials = store.get()\n",
    "    \n",
    "    if not credentials or credentials.invalid:\n",
    "        flow = client.flow_from_clientsecrets(CLIENT_SECRET_FILE, SCOPES)\n",
    "        flow.user_agent = APPLICATION_NAME\n",
    "        if flags:\n",
    "            credentials = tools.run_flow(flow, store, flags)\n",
    "        else: # Needed only for compatibility with Python 2.6\n",
    "            credentials = tools.run(flow, store)\n",
    "        print('Storing credentials to ' + credential_path)\n",
    "        \n",
    "    return credentials"
   ]
  },
  {
   "cell_type": "code",
   "execution_count": null,
   "metadata": {
    "collapsed": false
   },
   "outputs": [],
   "source": [
    "credentials = get_credentials()\n",
    "print('credential_path:', credentials)\n",
    "http = credentials.authorize(httplib2.Http())\n",
    "service = discovery.build('drive', 'v3', http=http)"
   ]
  },
  {
   "cell_type": "code",
   "execution_count": 111,
   "metadata": {
    "collapsed": false
   },
   "outputs": [],
   "source": [
    "def createFormattedHistlist(filePath, newFilePath):\n",
    "    try:\n",
    "        with open(filePath, 'r', encoding='utf-8') as f:\n",
    "            content = f.readlines()\n",
    "            f.close()\n",
    "    except:\n",
    "        return\n",
    "    lines = [line.strip() for line in content]\n",
    "    hitFiles = {}\n",
    "    for line in lines:\n",
    "        googleFileID, rest = line[:line.find(';')], line[line.find(';') + 1:]\n",
    "        pageNumber, rest = rest[:rest.find(';')], rest[rest.find(';') + 1:]\n",
    "        matchList = rest \n",
    "        if googleFileID in hitFiles:\n",
    "            hitFiles[googleFileID].append((pageNumber, matchList))\n",
    "        else:\n",
    "            hitFiles[googleFileID] = [(pageNumber, matchList)]\n",
    "\n",
    "    for hitFileId in hitFiles:\n",
    "        try:\n",
    "            file = service.files().get(fileId=hitFileId).execute()\n",
    "            name = file['name']\n",
    "        except Error:\n",
    "            name = 'unable to get file name'\n",
    "        \n",
    "        pageNumbers = [file[0] for file in hitFiles[hitFileId]]\n",
    "        firstLine = \"{0};{1}\".format(name, hitFileId) + '\\n'\n",
    "        secondLine = \",\".join(pageNumbers) + '\\n'\n",
    "        #print(firstLine)\n",
    "        #print (secondLine)\n",
    "        with open(newFilePath, 'a', encoding='utf-8') as f2:\n",
    "            f2.writelines([firstLine, secondLine, '\\n'])\n",
    "            f2.close()\n",
    "        \n",
    "        \n"
   ]
  },
  {
   "cell_type": "code",
   "execution_count": 110,
   "metadata": {
    "collapsed": false
   },
   "outputs": [
    {
     "name": "stdout",
     "output_type": "stream",
     "text": [
      "Streck_2003_AOAT303_Verbalstämme mit ta-Infix.pdf;0B30KweltiOGYQjA2cFh5NHlpZEE\n",
      "\n",
      "101\n",
      "\n",
      "Stephanie Dalley-The Mystery of the Hanging Garden of Babylon_ An Elusive World Wonder Traced-Oxford University Press, USA (2013).pdf;0B5pvLyX4aZqxVUtFQVg0dGVFOFU\n",
      "\n",
      "160\n",
      "\n",
      "Spieckermann, H. - Heilsgegenwart eine Theologie der Psalmen, 1989.pdf;0ByQ0tEGgk5rvR0hJMXdYVnlRLWM\n",
      "\n",
      "311,312,313,314,315,316,317,318,320,321,322,323,324,325,326,327,328,329,330,331,332,333,334\n",
      "\n",
      "Spieckermann, Hermann - Juda unter Assur in der Sargonidenzeit, 1982.pdf;0ByQ0tEGgk5rvc052aFRrNzZaa2s\n",
      "\n",
      "102,412,413,414,415,416,418,419,420,421,423,424,425,426,428\n",
      "\n",
      "Babu-aha-iddina.pdf;0B30KweltiOGYazlWWU05VktOUXc\n",
      "\n",
      "3,54,63\n",
      "\n",
      "Müller_2010_AOAT373_Akkadisch aus Ägypten.pdf;0B30KweltiOGYUTVrQkgteE9aWkE\n",
      "\n",
      "103,245,513,561,565,574\n",
      "\n",
      "Jucquios_1966_Phonétique comparée des dialectes moyen-Babyloniens.pdf;0B30KweltiOGYMGVMd0huT2pHN00\n",
      "\n",
      "115,181\n",
      "\n",
      "Öz_2014_Eski Anadolu'da.pdf;0B30KweltiOGYVV9aSUZlNTBZZmc\n",
      "\n",
      "33,35,37,39,41,51,57,67,74,79,86,107,136,137\n",
      "\n",
      "Richter_2016_Hurritischen Namenbuch.pdf;0B30KweltiOGYc0RrTmNoZkFEc2s\n",
      "\n",
      "654,697\n",
      "\n",
      "Bar-am_1935_Studies of business letters.pdf;0B30KweltiOGYbFpQWlJrb2l3RGs\n",
      "\n",
      "47,63,134\n",
      "\n",
      "Aro_1953_StOr19.11_Abnormal plene writings.pdf;0B30KweltiOGYMjZmT3hPWkVZM3M\n",
      "\n",
      "8\n",
      "\n",
      "Textbook of Syrian Semitic Inscriptions, Vol I Hebrew and Moabite Inscriptions. 1971 - Gibson.pdf;0BxXY6-YEk2r-NGZCd203TXZia0E\n",
      "\n",
      "64\n",
      "\n",
      "NKRA.pdf;0B30KweltiOGYTF94VUwybjZiLU0\n",
      "\n",
      "81,159,165,177,184\n",
      "\n",
      "Étude de l'arabe parlé au Tchad.pdf;0BxXY6-YEk2r-RjItNVFkMXRCMGM\n",
      "\n",
      "10,15\n",
      "\n",
      "StAT 5_2014_Assur 21101_(M7).pdf;0B30KweltiOGYWndYU3p0V1Q4Um8\n",
      "\n",
      "27\n",
      "\n"
     ]
    }
   ],
   "source": [
    "#testing\n",
    "\n",
    "os.chdir(resultsDir)\n",
    "dirs = os.listdir(resultsDir)\n",
    "os.chdir(\"Results_716-735\")\n",
    "os.remove(projectDir + \"formatted_smallhits.txt\")\n",
    "os.remove(projectDir + \"formatted_bighits.txt\")\n",
    "dirs = os.listdir()\n",
    "createFormattedHistlist(resultsDir+\"Results_716-735/smallhitlist.txt\", projectDir + \"formatted_bighits.txt\")"
   ]
  },
  {
   "cell_type": "code",
   "execution_count": 84,
   "metadata": {
    "collapsed": false
   },
   "outputs": [
    {
     "data": {
      "text/plain": [
       "{'0B-icdnKLZ3cTYklDS0lrTVhidGM': [('6',\n",
       "   '[[\\'Hahylonia\\', \"\\'tu\\'ilt\\'t\\'\", \"\\'\", \\'a\\', \"\\'Olr\", \\'re\\', \\'mons\\', \\'ilam)”\\', \\'Gül’le\\', \\'weil—[th\\', \\'OfﬂﬂtIC-MTS\\', \\'human\\', \\'labor“.\\', \"P‘Ut\\'\", \\'”\\', \\'Simply.\\', \\'labOT\\'], [\\'ANS-Wm;\\', \\'„ml.;\\', \\'g,?\\', \\'iiılılılıiliffî;\\', \\'Eiliüxvilxlr;‚2133333\\', \\'ll‘Ï’Ûr\\', \\'\"\\\\\\']\\', \\'Neo—\\', \\'.3.\\', \\'that\\', \\'he:\\'], [\\'mi…\\', \\'„\\', \\'‚„\\', \\'.,\\']]'),\n",
       "  ('21',\n",
       "   '[[\\'{im\\', \"Rc‘r\\'ln’rrfn’x\", \".S\\'t\\'it’urﬁqrmr\", \\'m‘\\', \\'lim/f\\', \\'firm/(list\\', \"r/Hr/ıi\\'rm,\", \\'“(\\', \\'Suppl.\\', \\'‘3;\\'], [\\'(your,\\', \"(j\\'m)?\", \\'fir\\', \\'}lntr‘qmn\"\\', \\'(:‘m‘qrm\\', \\'rt\\', \\'Romaine\\', \\'İo\\', \\'Four/orion\\', \"H\\'l/ﬁmwu\\'\"], [\\'.)?”qu\\', \".r\\'mormrtiomr/\", \\'its\\', \\'mars\\', \\'myc‘t‘mmn\\', \\'o:\\']]'),\n",
       "  ('35',\n",
       "   '[[\\'uGt’ihekli\\', \\'near\\', \\'UNIVCFSKY\\', \\'Cl\\', \\'Chicago\\', \\'msg).\\'], [\\'nr\\', \\'timus\\', \\'is\\', \\'difﬁcult\\', \\'comprehend\\', \\'the\\', \\'”am”:\\', \\'(meaning?)\\', \\'Of‘archdmiog—\\', \\'and.\\', \\'[mid\\', \\'Ute\\', \\'Em.\\', \\'îmam!\\', \\'Floodplain\\', \\'Euphrates\\', \"\\'l\\'hï\"], [\\'Heartland\\', \\'afCiries:\\', \\'Surveys\\', \"af\\'/indent\", \\'5”?!me“\\']]'),\n",
       "  ('38',\n",
       "   '[[\\'Bernard\\', \\'(1996).\\', \\'(İml—t\\', \\'Specialization\\', \\'Social\\', \\'Eva/utter]:\\', \"xl-I\\'riimr‘i\\'\", \\'tr\"\\'], [\"izl-i\\'m\", \\'ii’\\', \\'‚Are\\', \\'(.\"Vt\\\\\\'tu\\', \\'Por/(‘:\\', \\'Rooks).\\', \\'.\\'], [\\'Wadi,\\', \\'Nl\\', \\'(20051\\', \\'Oar\\', \\'inner\\', \\'Ape:\\', \\'Prfnmtoquiyt\\', \\'Exp/nim\\', \\'Why\\', \"llnr\\'\", \\'+\":\\']]'),\n",
       "  ('45',\n",
       "   '[[\\'Meyer\\', \\'ﬁlm…”\\', \\'Cll\\', \\'chilar}\\'], [\\'contemporary\\', \\'site\\', \\'or\"!\\', \\'‘ell\\', \\'“??-Ğ:\\', \\'ll‘fmflml\\', \\'il…\\', \\'……th\\', \\'m\\', \\'Ill\\', \\':_r\\', \\'.\\', \"\\'\", \"\\'\", \\'I\\'], [\\'“\\', \\'Suleiman\\', \\'2003;\\', \\'2005:37.L76.\\', \\'„\\', \\',.\\', \\'(“iiy\\', \"ııfâ\\'l\\'çll\", \\'Beril-Ir\\']]'),\n",
       "  ('50',\n",
       "   '[[\\'(…\\', \"Ï£\\'\\\\\\\\]\\'llil\\\\\\\\]]1]-\", \\'‘]\\', \\'u“\\', \"“\\'\", \"l_l\\'l\\'“\", \\'“’“Wı\\', \\'ans…-\\', \\'(ımın\\', \\'forpersons:\\', \\'|css):cıılcıı1ııııııg\\', \\'Lâ\\', \\'(W)/1.8\\', \\'(ei.\\'], [\\'.\\', \\'„um\\', \"uıllc\\'\", \\'.\\', \\'‚_\\', \\'__\\'], [\\'malo:\\', \\'…]\\', \\'„(„/,\\', \\'Ji\\', \\'„.\\', \\'!,\\']]'),\n",
       "  ('116',\n",
       "   '[[\\'mm/a-Ä’HW:\\', \\'(TAI)\\', \\'MD.\\', \\'158\\', \\'„td/MW\\', \\'See\\', \\'dErt—ki-gg-.5_\\', \\'6—7.\\', \\'naj—ka-ğâ\\', \\'couldlıe\\', \\'N|.l:ID.KA-ğe,\\', \\'since-NLEJELlKA\\'], [\"L\\'C\\\\\\\\\\\\\\\\it\\\\\\\\lt:ll\", \\'MSI,\\', \\'Oxford\\', \\'340;\\', \"KLEa\\'LN\\'Bi-\", \\'l’.\\', \\'The\\', \\'Followed\\', \\'41-\\'], [\\'is\\', \\'lie\\', \\'”Id/aka.\\', \\'“passage.\\', \\'example\\', \"\\'l\\'ext\"]]'),\n",
       "  ('140',\n",
       "   '[[\\'“made\\', \\'SiC—great\\', \\'“Elli“?!\\', \\'ES\\', \\'[Eğil\\', \\'year—name,\\', \\'Mpix!\\', \\'of\\', \\'mit-mg.\\', \\'bee\\'], [\\'sec\\', \\'H:\\', \\'lı\\', \\'E_‘_r_t_)_p\\', \\'mounts\\', \\'_\\', \\'entering\\', \\'channel\\'], [\\'Ïlîäïîiilllîîîﬂl\\', \\'îîîğîhîdmhm\\', \\'Harri\\', \\'martian\\', \\'.Fr:\\', \"rifaı\\'unu\", \\'_»l’tma\\', \\'Hint.\\', \\'‘-\"-’\\\\\\\\\\\\\\\\\"right\\', \\'17—18:\\', \\'Filtered\\']]'),\n",
       "  ('146',\n",
       "   '[[\\'i“\\', \\'“=\\', \\'\\\\\\\\\\\\\\\\\\', \\'I)\\', \\'ve.\\', \\'),“)\\', \\'104:1\\', \\'Balmunmnbc\\', \\'5\\', \\'ISI).\\', \\'(A…)\\', \\'IU“),\\', \\'l.)\\', \\'104)\\'], [\\'[tn-:un\\', \\'v,\\', \\'RAÜJImm\\', \\'ﬁni……\"\\', \\'171\\', \\'““I\\', \\',\\', \\'“…“\\', \"Al\\'wi‘md\\'m.1.1/5.”\", \\'“…\\', \\'“(“‘D‘hlm“\\'], [\\'Alnının\\', \\'1\\', \\'.\\']]'),\n",
       "  ('149',\n",
       "   '[[\\'loponÿm\\', \\'largest\\', \\'ininintnw\\', \\'gull“\\', \\'With\\', \\'\"F\\', \"155\\'4\", \\'than\\', \\'OFC-[ll\\', \\'XV\\', \\'HIS\\'], [\\'.\\', \"““\\'\", \\'4\\', \\'15-4-0\\', \\'Famous\\', \\'\"f\\', \\'Abim\"\\', \\'From\\', \\'YUS\\', \\'l75>ﬁWiﬂ5mnCC1äiVC5\\', \\'124-740\\', \\'“fer-‘\\', \\'\"f\\'], [\\'3:\\', \\'l.:irsa\\', \\'“?lean\\', \\'nimm-d\\', \\'sizes\\']]'),\n",
       "  ('246',\n",
       "   '[[\\'foreigners\\', \\'reliefs\\', \\'from\\', \\'causewayol‘the\\', \\'Sahur-.-\\', \\'_.“\\', \\'en…“\\', \\'Works).\\', \\'VHS\\', \\'hy\\', \\'„„.\\', \\'par-.nmhtar}\\', \\'...§;_m.,|m.m‘\\'], [\\'weeps\\', \\'of\\', \\'lird—\\', \\'Steinwerltc\\', \\'illl-H\\', \"\\'..\", \\',\\'], [\\'purposefully\\', \\'food.\\', \\'might\\', \\'le.…\\', \\'nnarrying\\', \\'granite—wetnightconsit\\']]'),\n",
       "  ('252',\n",
       "   '[[\\'state\\', \\'meal\\', \\'imprint?\\', \\'lit/2W.\\', \\'graffiti\\', \\'Front\\', \\'Kingdom\\'], [\\'building\\', \\'pyramids\\', \"nct\\'arstrrily\", \\'inconsistent\\', \\'wit/r\\', \\'the\\', \\'tik/en\\', \\'tritt.!\\', \\'1-.»\\'], [\\'The\\', \":\\'(/m\\'\", \\'İlmî\\', \\'the\\', \\'sfr/te\\', \\'mobilized\\', \"t\\'a/mr\", \\'from\\', \\'the\\', \\'[Hm-Jinks\\', \\'I‘m:\\']]'),\n",
       "  ('276',\n",
       "   '[[\"_87\\'\", \\'Mel…\\', \\'311114.\\', \\'Similar\\', \\'csisted\\', \\'earlier?\\', \\'town\\', \\'ay\\', \\'i\\', \\'.(vp\\'], [\\'H.\\', \\'“JL“\\', \\'lanssen\\', \\'1965\\', \"lt)/Ü\\';\", \\'13er\\', \\')i‘i7a:\\', \\'‘\\', \\'i\\', \\'„\\', \\'L\\', \\'[hu\\', \\'“.“,\"\\', \\'Ur\\'], [\\'prtspnersltïqwîlkﬁäliaritäîkl\\', \\'giggly;\\']]'),\n",
       "  ('283',\n",
       "   '[[\"if*Vt-R\\'\", \"ii\\')\", \\'fii-iu\\', \"ibr/ii\\'\", \\'Icf\"\\', \"?\\'\", \\'bri!\\', \\'In\":\\', \\'sk?\\', \\'(44)\\', \\'Mr\\', \\'rirritant},\\'], [\\'he:(-43)\\', \\'rm;\\', \\'my\\', \\'Mfr\\', \\':}?\\', \\'rm;\\', \\'ıı!)\\', \\'!?\\', \\'[um\\', \"ili\\'n—\"], [\\'ilef\\', \\'“seize\",\\', \\'Jar-r\\', \\'pact,n\\', \\'Mila»)\\', \\'“corvée…\\']]'),\n",
       "  ('292',\n",
       "   '[[\\'.\"un.\\', \\'William\\', \\'li.\\', \"(19/171,\\'l\\'lıe\", \\'Nzıuri\\', \"lîeeı\\'ee\", \\'Ul—\\', \\'&…\\', \\'.1\\', \"\\'l\", \\'kind—nir…\\'], [\\'firma.\\', \\'.‘l\\', \\'Sofia/nnd\\', \\'Historien!\\', \\'Analysis\\', \\'(l’Ä\\', \\'leiden.\\'], [\\'Denise\\', \\'119981.\\', \\'iılqypriım\\', \\'Non—mw!\\', \\'1:/rrrirr*r.\\\\\\\\\\', \\'rire\\', \".)!rrifiir\\'\", \\'\"\\\\\\\\\\', \"Uff—i\\'\"]]'),\n",
       "  ('293',\n",
       "   '[[\\'Hatmﬁli\\', \\'III.”\\', \\'Meir\\', \\'lubetsky,\\', \\'€!\\', \\'sil..\\', \\'eds.,\\', \\'Honig/ffir}?!\\', \\'(gf—Hn“\\', \\'.Mcfi\\'], [\"linı\\'th:\", \\'Ruliginm\\', \\'and\\', \\'Legal\\', \\'Aspects\\', \"nt‘rlic\\'lirenry\", \\'between\\', \\'Rmnexxex\\'], [\\'(luck-ı.\\', \\'Ogden.\\', \\'Baruch\\', \\'Levine\\', \\'(1998).\\', \\'“Mal-(ing\\', \\'Punta.-\\', \\'11cm\\', \\'am\\']]'),\n",
       "  ('295',\n",
       "   '[[\\'...)“.\\', \"Rt‘t\\'mﬂli\", \\'of.)\\', \\'Building\\', \"i’mjr\\'t\\'t\", \\'Reign\\', \\'n.\"\\', \\'“\"-”““\"“\\', \\'(l-\\', \\'H…“…\\'], [\\'*\\', \\'.*\\', \\'(\"*-ln.\\', \\'William\\', \\'K.\\', \\'(1903).\\', \\'i’d/trim\\', \\'Reimer\\', \\'i\\\\\\'t‘rW“\"\"/\"\"””\\', \\'”Hm\\', \\'l\\', \"W\\'lll\\'ltll\\'l\\'l\\'ﬂll\"], [\"\\'\", \\'A,\\', \\'(19%).\\', \\'\"l\\\\\\'xelıclni.\"\\', \\'Isl\\', \\'W\"\\', \"H\\'l\\'l\"]]'),\n",
       "  ('296',\n",
       "   '[[\\'.—\\', \\'<\\', \\'“_\\', \\'.\\', \\'\\\\\\\\\\', \\'‘\\', \\'.\\', \"\\'.\", \\'(\\', \\'|:\\', \"\\'n\", \\'u\\', \\'.]:\\', \\'.\\'], [\"A\\'\", \\'lirnmıı.\\', \\'and\\', \"H\\'\", \\'GmW’W—\\', \\'Cds…\\', \"W\\'ü\\'rmrlmrlr\", \"Hrt\\'!“\", \\'‚?QW’HJMM;\\', \\'Siu…»\\', \\'..\\', \\'_\\', \"\\'.\", \\'_wmä...\\', \\'\\\\\\\\…di\\', \\'?_le-\\', \\'……\\', \\'Wi\\'], []]'),\n",
       "  ('302',\n",
       "   '[[\\';æppcar\\', \\'ncı\\', \\'as\\', \\'unit\\', \\'wınnııındurs,\\', \\'oma-rm\\', \\'und\\', \\'sclugt\\', \\'titan-11\\', \\'gnc\\', \\'..;İİr—İ\\'], [\\'lll)\\', \\'muu\\', \\'identified\\', \\'by\\', \\'lupoııynıics\\', \\'rind\\', \\'ethnics.\\', \"\\'l‘he\", \\'n.…wd\\', \\'indirin:—:l-\\'], [\\'individuals\\', \\'lLlC‘lHlllCLl\\', \\'hy\\', \\'name.\\', \\'who\\', \\'arc\\', \\'lisıcd\\', \\'along\\', \\'group“\\']]'),\n",
       "  ('304',\n",
       "   '[[\\'.scn’itc\\', \\'to\\', \\'tho\\', \\'palacc,\\', \\'sincc\\', \\'(le\\', \\'the\\', \\'233\\', \\'cntnpletc\\', \\'ıııııııeu\\', \\'til\\', \\'sntitln\\', \\'pt.-\\'], [\\'tltc\\', \\'palacc\\', \\'always\\', \\'ııı“\\', \\'cvcıı\\', \\'oltcn\\', \"—-gavc\\'\", \\'lgmd\\', \\'those\\', \\'who\\', \\'gzıw\\', \\':lir-‘t\\'], [\\'li)!“\\', \\'lahm?\"l\\', \\'Oviclcttcc\\', \\'dors\\', \\'Hs\\', \\':trgtlc\\', \\'{l‘\\']]'),\n",
       "  ('306',\n",
       "   '[[\\'NL:-lllﬂgx\\', \\'“high\\', \"rce\\'tn\\'tl\", \\'the\\', \"LttlleL\\'IllHI\", \\'til-tlititlmlk\\', \"mle\\'lilitlnl\", \\'um“.\\', \"I\\'!\"], [\\'hi‘\\', \\'the\\', \"ll]tll\\\\\\\\ltllllll\\\\\\\\\\\\\\\\\\\\\\\\\\'llUlU;i1\\'l.L’tl\", \\'Ilrntn\\', \\'palttee.\\', \\'lll;‘l\"._~\\'], [\\'tnen\\', \\'Were\\', \\'gitett\\', \\'.lexeriptite\\', \\'ımın-c-\\', \\'[ğum—m\\', \"\\'h\", \\'tıthlctş\\', \"]*t\\'ttt\", \"iii\\'\", \\';\\']]'),\n",
       "  ('307',\n",
       "   '[[\\'Nulc\\', \\'un\\', \"l\\'Ilc\", \\'Lrunalmiuns:\\', \\'Nnmcs\\', \\'huve\\', \\'hccn\\', \\'rundum-«|\\', \\'(İrak\\', \\'ulu-rı\\', \":\\'ım—Lrilıcd\", \\'[ext\\'], [\\'Appendix:\\', \"\\'İ\\'cu\", \\'Pylus\\', \\'599\\'], [\\'(504\\', \\'N.Mxvxwx\\', \\'[wm\\', \"{M…‘nn\\'m\", \\'w\\', \\'w\\', \\'l.…\\', \\'Huu—.A\\', \\'Aa\\', \\'.e\\', \\'I’m).\\', \\'(am\\']]'),\n",
       "  ('308',\n",
       "   '[[\\'.-l\"\\\\\\'m\\\\\\':\\\\\\';f\\\\\\'-\"\"mum“\\', \\'(m-\\', \\'Gard-.1\\', \\'Rnıııdn\\', \\'301\\', \\'I:\\', \\'3.13\\', \\'I‘M.\\'], [\\'MAN\\', \\'İ.“.\\', \\'.md\\', \\'with\\', \\'llmn\\', \\'.l{Q(n\"I..h\\', \\'[hu\\', \\'IlnHmu-r.\\'], [\\'%\\', \\'winx—r.:\\', \\'‚u\\', \"(f—Lftr—Jı\\'i—w\", \\'SU\\', \\'and\\', \"ifr—fsğ—f/ı\\'\", \\'…»…\\', \\'..“—ımı;\\', \\'Ä.\\']]'),\n",
       "  ('309',\n",
       "   '[[\\'mg».\\', \\'ııı-fh»:\\', \\'(.\\\\\\'.ııııı’ı»\\\\\\'.\"r.ğ\\\\\\'.-\\\\\\'\\', \"(_ıı/İrıqııı\\'ııw\", \\'WR}\\', \"\\'.ih\\'ixml:\", \"lĞı\\'i—ını\", \\'(ım—î...\\'], [\\'E’cı\\\\\\'iınl.\"\\', \\'U.\\', \\'ﬁrms/1…“\\', \\'J.…\\', \\'.ıiıd\\', \\'Kuda.\\', \\'Nibiru,-ıı\\', \\'fm…\\'], [\"\\'1\", \".11»|e_\\'1\\\\\\\\\", \\'.»x‘\\', \\'LWL-mx-\\', \\'hu-\\', \\'ııı.\\', \"ks\\'ııciııî\", \"Sıı\\'ııcıııı\\'u\", \"ııl\\'â\", \\'‘mu\\', \\'ııı.-\\', \\'..ı.\\']]'),\n",
       "  ('310',\n",
       "   '[[\\'flaw:\\', \\'mm\"\\', \\'Umı-\\', \\'Wnn’rf.\\', \\'Hi./„mu?\\', \\'c.E?.il.l....l.-;.....\\', \\'&…\\', \\'cahiL-ra\\', \\'H.…\"\\'], [\\'Morpmgn\\', \\'Uni.-5\\', \\'(Mx).\\', \\'.\"\\', \"(‚.\\'uin‘fpdﬁfw.‘\", \\'m\\', \\'[İşim-.;-\\', \\'1’1’:\\', \".\\'I\", \".’1.\\'.\\'u.-.\\'.a.\"], [\\'March]\\', \"ILIIIII\\'III.\", \\']….»\\', \\'[Iii\\', \\'[XIII\\', \\'\".\\\\\\\\\\\\\\\\_\\\\\\\\\\\\\\'ccn..._:m\\', \\'U*ınımxıics.“\\', \\'\\\\\\\\.\\', \\'Hahn,“.\\']]'),\n",
       "  ('311',\n",
       "   '[[\\'f\\', \\'ÈI‘J‘M\\', \\'*)Fılı\\', \\'i!‘)‘}\"|‘:‚\\', \\'“13.5\\', \\'[nim\\', \\'.ıın!\\', \\'Qu.;ai—juinx\\', \\'ugun-::|.\\', \\'.:.\\'], [\\'II\\', \"‘I‘I-IIIIL\\'I\\'N\", \\'!……\\', \"I’I\\'Im,“\", \\'.!Hmh\\', \\'l*l—(!!!:\\', \\'“Hn-lt!!!\\'], [\\'_\\', \\'I‘ILII-In—‘FIII\\', \\'mm;}.\\', \\'\"38\\', \\'_Iııiııx\\', \\'QIInII-IOIm\\', \\'III‘\\', \"I‘I\\'IIIruIII\\'IIn\", \\'III:\\']]'),\n",
       "  ('312',\n",
       "   '[[\\'lo\\', \\']“Hsilıiıiııcx\\', \\'.I‘inm\\\\\\'ln.Emiun.\"\\', \"Rubin\\'in\", \\'r/ı’\\', \\'.\"...‘ff‘f/w-‘rrf.n\\\\\\'...-\\'], [\\'Un….\\', \\'yıı\\', \\'li…\".lirc\\', \\'do\\', \\'”minim\\', \\'ıh\\', \"\\']\", \"İıÇ\\'lıL\\'x\", \\'WHIT.\\', \"î\\'uuilh.\", \\'!;x\\', \\'.Ë-….\\'], [\"I\\'M-aux\", \\'(\\', \\'Shri—cım,\\', \\'_|ç.ııı\\', \"l’iwrçUli\\\\\\\\iç|\\'_11|.i_lcmï|mK\", \\'MCIHM\\', \\'3\\', \\'‘Il/“)….\\', \\'.\\', \\'„‘\\', \\'..\\', \\'“\\']]'),\n",
       "  ('313',\n",
       "   '[[\\'\\\\\\\\\\\\\\\\ilii\\', \\'\\\\\\\\;\\', \\'mmm;\\', \\'up\\', \\'INN)\\', \\'[\"K-ı,\\', \\'tııtııı—h-x\\', \\'şıvan—ım\\', \\'ni\\', \\'mm.\\'], [\\'“…\\', \\'tht\\', \\'ml!\\', \\'Miu-man\\', \\'luiznini\\', \"im\\'imi\", \\'E.ippi‘u\\\\\\\\i1n.m-l_\\\\\\\\\\', \\'1\\', \\'NH]\\', \\'Il…)\\'], [\\'Win-ii\\', \\'In\\', \\'\\\\\\\\uxmining\\', \\'aimHv\\', \\'hum……\\', \\'pnpıılııtinm.\\', \\'dining\\', \\'is\\']]'),\n",
       "  ('316',\n",
       "   '[[\\'thingr\\', \\'the\\', \\'apn/:::\\', \":\\'r:::::::::f:.ï_f:”\", \\'“lllt\\', \\'still\\', \\'possible\\', \\'say\\', \\'lor\\', \\'gt:\\'], [\\'Killen\\', \\'has\\', \\'tt)\\', \\'say\\', \\'is\\', \\'suitably\\', \\'cautious\\', \\'represents.\\', \\'lit-lint,\\', \\'w\";\\', \\'t-\\'], [\\'finally\\', \\'as\\', \\'httlistit’\\', \\'territoriex.\"\\', \\'rmi.\\', \\'“it.\"\\']]'),\n",
       "  ('318',\n",
       "   '[[\\'sihle\\', \\'ohligations\\', \\'varied\\', \\'ax\\', \\'function\\', \\'Ul‘ll‘lc\\', \\'condition:\\', \\'of\\', \\'...\\'], [\"lL’I\\'S\", \\'aeeording\\', \\'principlc\\', \"nl\\'ı-mıı/ııı\\'mıııı\\'\", \"n’ııııı\\'r.\", \"ex\\'en\", \\'iş\\', \\':\"\\'], [\\'ol‘thcßu\\', \\'[mu-ls\\', \\'ol‘l-and\\', \\'were\\', \"ptohahh\\'\", \\'diﬁtrihuted\\', \\'hy\\', \\'palatial\\', \\'u\"\\']]'),\n",
       "  ('320',\n",
       "   '[[\\'chamber\\', \\'minibüs.“\\', \"\\\\\\\\\\\\\\\\i\\'c\", \\'lcııw\\', \\'hurt=\\', \\'icluıgmııış\\', \\'für\\', \\'(lifli-ıcın\\', \\'lain—lx\\', \\'«n‘u-\\'], [\"lin\\'tifiuzuinn\", \\'walls.\\', \\'und\\', \\'whııı\\', \":ıı\\'c\", \\'calle-kl\\', \\'{Jim-mt\\', \\'.aı\\'], [\\'wood\\', \\'during\\', \\'building\\', \"pruju\\'ls\", \\'(including\\', \\'pal-Arial\\', \">lî\\'LlL\\'l‘llI‘C\\\\\\\\,\", \"\\\\\\\\\\\\\\\\vi\\'lv—ll‘\"]]'),\n",
       "  ('321',\n",
       "   '[[\\'.ll\\\\\\'.\"\\', \\'pn—lıi—jn\\', \\'liw\\', \\'wir\\', \\'lllU\\', \\'lN/l\\', \\'3\\', \\'he.\\', \"jııı-rrı—ıl\\'rı-ı\\'ı\\'—!r\\'\", \"lllx\\'le/l\", \\'‘\\', \\'\\\\\\\\,\\'], [\\'no\\', \\'at\\', \\'pe-to-nn.\\', \\'mm.»\\', \\'Blum/|“\\', \\'lat.\\', \\'pn—m-(mrw\\', \\'Blum/l\\', \\'‘—\\'], [\\'_(ﬁ\\', \\'Hit-larva\\', \\',\\', \\'latte-re\\', \\'HN\\', \\'.Î\\', \\'lxğl-\\', \"j‘irrræi‘fæ-f‘r-n\\'\", \\'NEOX/l\\', \\'à\\']]'),\n",
       "  ('324',\n",
       "   '[[\\'atttl\\', \\'espetlallt\\', \\'l\"\\', \"lf\\'î.\", \"Uiili\\'\", \\'it…\\', \\'ttl‘tlte\\', \\'itttlititlttah\\', \\'ax\\', \\'whet:\\', \\'\"\\'], [\\'Nal-axa.\\', \\'JJH:\"\\', \\'h’\\', \"liıi\\'i\\'liçı\\'\", \"t\\'eleretttew\", \\'ttttte~\\', \\'\"ı:\\', \\'ıi—R\\', \"luv-\\'\"], [\\'…\\', \\'iiiiagint‘\\', \\'[ht-y\\', \\'ttterely\\', \"etttplttt\\'eex\", \\'iil—\\', \\'pala-gc.\\']]'),\n",
       "  ('325',\n",
       "   '[[\\'c…noinii.\\', \\'inohilizaiion.\\', \\'lithe,\\', \\'For\\', \\'example.\\', \\'[hc\\', \\'simple\\', \\'text\\', \\'from\\', \\'l’tiw\\'], [\\'Nonctltclcsx.\\', \\';urlinns\\', \\'of\\', \\'the\\', \"irı\\'i\\'i\\'i\\'lrri\", \\'rclzucd\\', \\'sonn-\\', \\'nap\\', \"l\\'.‘\"], [\"hn\\'nish\", \"intort\\'nntion\", \\'the\\', \\'cconontit\\', \\'axpuus\\', \\'smh\\', \"Jctit\\'itit\\'x.“\"]]'),\n",
       "  ('327',\n",
       "   '[[\"Hugh-a\\'.\", \\'R......“\\', \\'5.155515}.\\', \"5.1111110111111111][51.111111111\\'1\\'111155111:\", \\'511511111.»\\', \\'......\\', \".\\',\", \"ı-ı.|\\'.\", \\'_.|\\', \"r,.,.,.___r_,—\\',_.,-,.;.\", \\'ff\\', \\'‚H.,-_\\', \\'.“...‚v.\\', \\'f...\\', \\'‚H.-‘n\"\\', \\'.\"\\', \".\\'.\\'ı\\'.-\\'ı\"], [\\'55093.5.\\', \"l):..“..\\'|\\'|.|||.\\'.\\'rm\", \\'|||/(wmv\\', \\'2\\', \\'|N“|‘.|||||||:\\', \\'(L&M\\', \\'X.--_._..—.|\\', \\'m......\\', \\'M..“:\\', \\'Il...-..şu:\\'], [\\'„......\\', \\'....\\', \\'|||\\\\\\\\||||||\\', \"||||__|_‘.||-||.|_‘.\\'…\", \\'.…l-MH\\', \\'“!“-\"”\\']]'),\n",
       "  ('328',\n",
       "   '[[\\'ııı\\', \\'Un“\\', \"Hrumı\\'\", \\'ılgı“\\', \\'Nr!!!\\', \\'[ff.-‘s!\\', \"ııı\\'frl\\'\", \".nfıf\\'gı\\'mı.\", \\'Uııuıımliıı\\', \"111\\'.1111._111\\\\\\\\?.«:\", \"!\\'\"], [\\'cil—clubu\\', \\'ıuleı.\\', \"ıî’ıııı\\'ıı\\'ı\\'\", \\'ını/f\\', \\'‚41‘1\\\\\\'f‚\\\\\\'if1\"1‘111r1‘.\\\\\\'\\', \\'.!hunrwmhff\\', \"f’lı/ıı\\':\", \"\\'lı\", \\'.\",\\'], [\\'111511111“\\', \"llk\\'\", \\'.!ic\\', \"11\\'1‘1111/1-\", \\'Agc\\', \\'Prlııpııııııuxı\\\\\\'.\"\\', \\'“riv—wh\\', \\'..\\']]')],\n",
       " '0B30KweltiOGYMFRLa25ob1VFODQ': [('125',\n",
       "   \"[['wn+', 'ap?', 'hä+', 'UA?', 'a+', 'hae', 'mwg', '623', 'h1+', '+ﬁñ'], ['näimu', 'hat', 'ap?', 'bRn?', 'çxw', 'AE', 'vﬁiwu', 'hü', 'ww'], ['hñ', '+12', 'a+', 'nÂŒx', 'hü', 'HH', 'Fé', 'hÂ+x', 'hîñ', 'on?', 'my?']]\"),\n",
       "  ('127',\n",
       "   '[[\\'W6\\', \\'jön\\', \\'hw\\', \"m\\'0\", \"e\\'r\\'mkiız\", \\'«um\\', \\'am\\'], [\\'sex\\', \\'hë+\\', \\'11\\', \\'9n+\\', \\'Amn+\\', \\'ç+=\\', \\'Aid\\', \\'UA?\\', \\'np?\\', \\'nâfmn\\'], [\\'@@\\', \\'+ïn\\', \\'ng\\', \\'awn\\', \\'na?\\', \\'qœ+\\', \\'amn\\', \\'«nö\\', \\'Aﬁ+\\', \\'mwuc\\']]'),\n",
       "  ('183',\n",
       "   \"[['nwn+', 'mew', 'nwn+', '+ña', 'n}', 'am', 'héT', 'eﬁnnmu'], ['ac', 'hè+', 'hnnñUu', 'Ann', 'æñ+', 'hvïncnt', 'nçë', '11'], ['@:', 'ha', 'me', 'nw;', 'UA?', 'nq+', '12m', 'a+', 'nâân', 'nhu+']]\"),\n",
       "  ('241',\n",
       "   \"[['+h', 'nAœæm+', 'nnœ+nn', 'yæu', 'AH', 'na?', 'nq+', 'nn:¥a'], ['APJe', 'hﬁn+', 'mann', 'nn?', 'wma', 'inn', 'mñ?u', 'inn'], ['nün', 'nın', 'na', 'n?', 'îÖx', 'hü;', 'm4', 'eng', 'PJ', 'Ania']]\"),\n",
       "  ('258',\n",
       "   '[[\\'nA\"\\', \\'hAmn\\', \\'naa\\', \\'ccm?\\', \\'Qñ\\', \\'nAœë\\', \\'hwgnç\\', \\'nnn\\', \\'AAÂ+\\'], [\\'Rem\\', \\'+m5u\\', \\'um;\\', \\'ewe\\', \\'naâu\\', \\'hnâuw\\', \\'hwenq\\', \\'nnA\\'], [\\'nm;\\', \\'pem\\', \\'ch\\', \\'ae\\', \\'w¢+\\', \\'nnn\\', \\'bhu\\', \\'+ncmw\\', \\'we\\']]'),\n",
       "  ('321',\n",
       "   '[[\\'ñëœ—n\\', \\'nniüc\\', \\'%31—\\', \\'nın\\', \\'\\\\\\'ı\".\\', \\'me\\', \\'uq\\', \\'MH\\', \\'Mfﬁmu\\'], [\\'mam\\', \\'hüu\\', \\'+/n+\\', \"\\'ın\", \\'m\\', \\'We\\', \\'qm\\', \"?anfi\\'ac\", \\'”iğ;—\\', \\'M\\'], [\\'wm\\', \\'1n+a>\\', \\'eämäx\\', \\'nâm\\', \\'qm\\', \\'woﬁa}\\', \"mä\\'ëw\"]]'),\n",
       "  ('339',\n",
       "   '[[\\'+ëjäa}\\', \\'(mu-+41-\\', \\'namémgwmmm\\', \\'w\\', \\'œëncë\\', \\'mw\\'], [\\'m:;\\', \\'Vi\\', \\'1119*\\', \"nF\\'LfF\\'\", \\'mm»\\', \\'naa\\', \\'anjin\\', \\'quo\\', \\'‚ur\\', \\'ç‘c\\', \\'??…\\'], [\\'mami\\', \\'mi\"-ic\\', \\'n12\\', \\'mundi-?\\', \"\\':äe\", \\'M::\\', \\'aha}\\', \\'ﬁ\\', \\'MH}:\\']]'),\n",
       "  ('402',\n",
       "   \"[['11', 'war!}', '?…', '%', 'mm', 'zum', 'nom;', 'ncm-Lam'], ['nan', 'aa}', 'summum', 'nm', 'ww', 'mnc', 'WM}', '«1%', '«M'], ['ww', '933', 'nm', 'nus;', '(Deu', 'ncm', 'nçqao-p—', 'nns', '+?']]\")],\n",
       " '0B30KweltiOGYSm9rYUM3M3l1dnM': [('182',\n",
       "   '[[\\'_muao—oâaı\\', \\'„EAN\\', \\'„15%\\', \\'wager\\', \\'EZ\\', \\'HEN\\', \\'==\"?\\', \\'m5„\\', \\'Ho\\', \\'mîna\\', \\'&&&/<\\', \\'wwmucchD\\'], [\\'maasi—u\\', \\'ﬁn:—EE:\\'], [\\'Em:\\', \\'_:m\\', \\'meON\\', \\'::w<\\', \\'wg.—0%\\', \\'ine:\\', \\'mf\\', \\'wo\\', \\'mima\\', \\'___—$$\\', \\'H500\\', \\'wmeHQwEQD\\', \\'www—35535553\\', \\'ÆQEŒ\\', \\'\\\\\\\\m‘HooESO\\\\\\\\H<\\', \\'«HB…\\', \\'coNdN\\']]'),\n",
       "  ('183',\n",
       "   \"[['wait', 'co', 'Emma:', 'EA:', '373.', 'mH:::>H', '2', '2:888', 'bbam', ':ooU', '338::ch', '338::ch', '3:35:ch', '$$$me', 'N', 'cOON'], ['EmH:', '.38::', ':8N'], ['„EMA', '.Em', 'mN\\\\\\\\ON', 'wg.—0%', '„„A', '3.55', ':OOU', ':mmucmEcD', '33:83:83', '33:83:83', '8995me', 'm', 'cOON']]\"),\n",
       "  ('184',\n",
       "   \"[['va……', '«5:', 'so', '%93', '+3', '20', 'E', '„mEmem:', '&&&/<', 'mw', ':mEEmHED', 'Ëu', 'macaw', 'mU\\\\\\\\HHH\\\\\\\\N5.', 'EH:', 'SON'], ['3:32.328', 'da…—È…—', '_Em', 'mEnHm', 'm:“', '…e', '„im:', '„3me', 'Amw2\\\\\\\\mNR\\\\\\\\Nv'], ['_Em', '32:05', '„&:', 'so', 'EE', '„m:/:ma—']]\"),\n",
       "  ('185',\n",
       "   \"[['_abwo_o€an_', 'mın', 'bbaım', 'mo', 'atam', '_Ebmm', 'HwooU', 'wHEmmHEwHED'], ['mwwbabu', 'Hwoo:HwHH:O', '„www', '„EEE', '„„?me', '_Ea'], ['waHmw:', '„HHmH:', '__mm', 'mNéN', '„Hus<', 'wcsoæ', 'B……EEOU', 'HwooU', '„waHEwEmH', 'maz', 'a_mbbm', 'HU\\\\\\\\H.HH\\\\\\\\N<']]\"),\n",
       "  ('193',\n",
       "   \"[['HHw', '89:', 'Bmw', '3583883', '88203', 'd£', 'Haw', 'LD', '„85m', '„383338', ':3::3', '3383', 'Ho', 'É', 'Üqœêœù', 'â', '.:Qo', '„3338', ':3:3', '3383', 'Ho', '‚05', '5838'], ['©2883'], ['ıma—:=:', 'E&S—_u.']]\")],\n",
       " '0B30KweltiOGYT0QtaS1RZU9QdHM': [('221',\n",
       "   \"[['35.111139111aJL...1,.,1.', 'L...', 'du;', '3;.11', '«\\\\\\\\,—\\\\\\\\.-', 'ı;', '&', 'L.,-‚\\\\\\\\...', 'QT', '„..-\\\\\\\\;', 'J.', '..Lin'], ['‚553.', 'JL,-î', 'mw', '(L:—', '...', 'd‘', '3.11', 'bu»:', '3.11.11', '3,55', 'sa…-\\\\\\\\', '.La!', 'J.…-', 'u,:', '1.1,...1'], ['Lab,;']]\"),\n",
       "  ('225',\n",
       "   '[[\\'Jay—\\\\\\\\\\', \\'0\\', \\'J;,\\', \\'„...\\', \\'‚\\\\\\\\„\\', \\'…\\', \\',…\\', \\'Jam\\', \\'oL\\', \\'o,.\\', \\',,.m\\', \\'oLğıı\\', \\'asır\\', \\'.::-...,\\'], [\\'HM\\', \\'Ohh—“&“\\', \\'.?\\', \\'LF)?\\', \\'...,.\\', \\'.bu“\\', \"o\\'\", \\'wv\\', \\'JW\\', \\'&:\\', \\'uj\\', \\'…\\\\\\\\:;\\', \\'aw\\'], [\\'um\\']]'),\n",
       "  ('226',\n",
       "   \"[['„&:', 'J.;n', 'à,,', ';,î', '‚um', '?““)', 'Qui»', '@,', '„\\\\\\\\,:', 'Je…', '\\\\\\\\\\\\\\\\', 'w,.ııı'], ['gwyîgı', 'u:,MVş-ııguğıı,yu.,aıığıgaıs', 'Œ;\\\\\\\\.\\\\\\\\;,', ',,…'], ['……', '\\\\\\\\,»…', ',”)', 'c..-Ss', 'am:', 'J,;î', '…,', 'cif.', '\\\\\\\\\\\\\\\\', 'é“', 'um,', ';wı', '\\\\\\\\‚T']]\"),\n",
       "  ('227',\n",
       "   \"[['Lg,—Jas;', 'g...…', 'tit;', 'agp', 'awards', 'JM“', '‚a.', '=).)', 'uî', '«5W', '(“mıı', 'yıı', '»»'], ['oî', '&;st', '&,', 'www', 'a…»', 'lg,…', 'm', 'm;;', 'Qu..', '„;', 'C„.:', 'miam,'], ['LAL-']]\"),\n",
       "  ('232',\n",
       "   \"[['ﬂ—H', 'œ', '(WA)', '«W', '41%!', '«mu', 'cf', 'abii', 'œ', 'at.»', 'M.:—„8'], ['\\\\\\\\\\\\\\\\VY‘', '©)”.', '(44H', 'Qc.—{\\\\\\\\', 'ĞJU', 'al.:', 'JALE.“', '“L,;', 'A.“;'], ['“ki—Yâd:', '(\\\\\\\\\\\\\\\\V‘ﬂ', 'J95.)', 'CJLÏH', 'ııı“', '3.3;!', 'CAMİ);', '314']]\")],\n",
       " '0B30KweltiOGYZGhPOWNtc3dLUFk': [('32',\n",
       "   '[[\\'“3172;\\', \\'hrn-M“:\\', \\'h-n:\\', \\'ww\\', \\'‚em-=\\', \\'wma-:\\', \\',th\\', \\'{‘.-i\"\\', \\'“M\\'], [\\'nov“:\\', \\':??::\\', \\'vaw-9\":\\', \\'hh:\\', \\'bmw»\\', \\'mıı-=\\', \\'umma\":\\', \\'‚MWH:\\'], [\"L\\'???\", \\'(mah-:\\', \\'‚P.-\"\\\\\\'n\\', \\'van-mı.:\\', \\'‘.‘vnhs\\', \\'WII-:\\', \\'(.Il;\\', \\'(.Il;\\', \\'MW\\']]'),\n",
       "  ('33',\n",
       "   '[[\\'”119“:\\', \"\\'nıhff\\'fî:\", \\'hrhfı“\\', \\'THM)\":\\', \\'9.0\":\\', \\'\\\\\\'\"nh\\\\\\':\\', \"‚aM-\\'n‘\", \\'W731”\\', \\'İl.\\'], [\\'m:\\', \\'M:\\', \"Tır\\'ı\", \"\\'ama-\\'ü:\", \\'h-‘rmm\":\\', \\'Erma-=:\\', \\'a:»:\\', \"\\'ın—:\", \\'rm):\\'], [\\'HW“:\\', \\'hrn:\\', \\'trim:\\', \\'‚em-=\\', \\'b_n-\")“:\\', \\'Tm:\\', \\'M.:\\', \\'’ﬁnﬂ-M“:\\']]'),\n",
       "  ('48',\n",
       "   '[[\\'\\\\\\'n?\"\\', \\'ham—wa\\', \\'$’ın-f:\\', \\'mu\\', \\'?..\"Fı\\', \\'Mü?-.\\', \\'6554:\\', \\'MW“\\', \"ne\\'-\\'s—\"], [\"\\';\", \"an\\'ın\", \\'avım\\', \\'ıcı.“\\', \\'mmm—9“\\', \\'zum\\', \\'mm\\', \"Wﬂ.-\\'n.\", \\'31m\\'], [\\'w\\', \\'Mia..\\', \\'Tm\\', \\':\\', \\'mı\\', \\'mm,-tv\\', \"\\'ım-ıı\", \\'mom\\', \\'am\\']]'),\n",
       "  ('61',\n",
       "   '[[\\'aw-\\', \\'mm:\\', \\'m:\\', \\'M:\\', \\'ama-Pr\\', \\'(um\\', \\'nr.-rm»\\', \\'mar:\\', \\'tım-$\\', \\'zı\\', \\'tum\\'], [\\'mew\\', \\'ıma—\\', \\'mı.?-1:\\', \\'mx\\', \\'acma.\\', \\'hum:-\\', \\'m\":\\', \\'urban—1\\', \\'«nanar!\\'], [\\'mu.\\', \\'nm\\', \\'war\\', \\'Immu—\\', \\'Mu:-\\', \\'amn:\\', \\'.eu\\', \\'ııı-7).\\']]'),\n",
       "  ('62',\n",
       "   '[[\\'gar\\', \"ııı—\\'n\", \\'ıcım-\\', \\'”mumu\\', \\'man:\\', \\'mı\\', \\'um\\', \\'«17m:\\', \\'hmmm\\', \\'nur.\\'], [\\'man»\\', \\'am\\', \\'ımın\\', \\'\"rw,:\\', \\'mm\\', \\'.sı-\\', \"an\\'ın-ız:\", \\'nu-\\'], [\\'zmzn—\\', \\'ınçzz\\', \\'ııı-ı:\\', \\'Atılım.\\', \\'nur\\', \\'“nme\\', \\'nanı\\', \\'am\\']]'),\n",
       "  ('63',\n",
       "   '[[\\'c-n\\', \\'«mm:\\', \\'arna-\\', \\'nanm:-\\', \\'mun-ııı\\', \\'r.“\\', \\'no?!-\\', \\'MI\\', \\'5%\\', \\'308.2-\\'], [\\'mm\\', \\'an\\', \\'nm\\', \\'mx\\', \\'mm\\', \"\\'ım—rı\", \\'paf\\', \\'mai-r\\'], [\\'man\\', \\'man\\', \\'mam-\\', \\'”namur:\\', \\'fm:\\', \\'.ama:\\', \\'mmm\\', \\'rh+:-\\']]'),\n",
       "  ('64',\n",
       "   '[[\\'crx-ı:\\', \\'hıı-£—\\', \\'mad-r\\', \\'çı\\', \"i\\'m-l:\", \\'nona-\\', \\'‚ccm\\', \\'tum:\\', \\'ııı\\'], [\\'cz\\', \\'nam\\', \\'nen—n\\', \\'an\\', \\'ann».\\', \".e-v\\'ı\", \\'dır.—ag\\', \\'tum\\', \\'m;\\'], [\"non-\\'N-\", \\'Ma.\\', \\'arın—a.\\', \\'fon-uur\\', \\'mmm.\\', \\'ammo\\', \\'01an\\', \\'Pc\\']]'),\n",
       "  ('115',\n",
       "   '[[\\'\"ﬁn\\', \\'wiﬁ?\"?\\', \\'mı\\', \\'mrw\\', \\'nan/LA\\', \\'141%\\', \\'Mîna\\', \\'\"\\', \\'qr.\\', \\'«\"-n\\'], [\\'awp\\', \\'mm.\\', \\':\\', \\'mm”:\\', \\'trv!-\\', \"M\\'mn.—:.ı\", \\'MM.\\', \\'wc\\'], [\\'«\\\\\\\\n-‚w.\\', \\'ATM\\', \\'M\\', \\':\\', \\'arz-\"\\\\\\'ı.\\', \"\\'t’—çun\", \\'amma-+\\', \\'m‘ﬂmﬂ-\\', \\'am\\']]'),\n",
       "  ('119',\n",
       "   '[[\\'A!\"\\', \\'\"tif—wife\\', \\'M?\\', \\'«M:\\', \\'mm:\\', \\'f:\"):\\', \\'wma,:\\', \\'mm…:\\', \\'hmm-»\\', \\'?.\\'], [\\'rmx-“r:\\', \\'bis!\\', \\'M?\\', \\'out:\\', \\'.E-‘ﬁ:\\', \\'wml-9\":\\', \\'mıs\\', \\'M?\\', \\'(08:1.\\'], [\\'m:\\', \"\\'nı-”âh:\", \"NH-Tı\\'ı:\", \\'onca/..:\\', \\'M”\\', \\'Mmes\\', \\'Mz:\\', \\'m.:\\']]'),\n",
       "  ('120',\n",
       "   '[[\\'!‘M‘\\', \"”\\'+’!”\", \\'\"(fun-şı\\', \\'„am\\', \\'\"m\\', \\'ıma-ımı\\', \\'bıu-=\\', \\'fsı-a::\\'], [\\'A1:\\', \\'TPM-=\\', \\'M?\\', \\'nın:\\', \\'hım-=\\', \\'lvl-ww\"\\', \\'\"m.:\\', \\'hfﬁﬁ‘e\\', \\'My\\', \\'vn\\'], [\\'‚um\\', \\'vim-aha\\', \\'h+ﬁïAT=\\', \\'‚(\\\\\\'-\"mas\\', \"KNEW-\\'9\\'?“\", \\'hh!\\', \\'Mv\\', \\'m\")\\']]'),\n",
       "  ('125',\n",
       "   '[[\\'nın-Tru\\', \\'Mh.!\\', \\'hz:\\', \\'Anıt-s\\', \\'ııı:\\', \\'çıkmış\\', \\'uv\\', \\'ııı-nı:\\', \"y\\'a-Im\"], [\\'rq\\', \\'august-I::\\', \"HWM-\\'\", \"hıı—\\'ı“:\", \\'Ml.:\\', \\'«IQ-ml.-\\', \\'ııı-aık\":\\', \\'an.\\'], [\\'6\"\\', \\'rah»:\\', \\'hıı—a\\', \\'M?\\', \"nnßnr\\'u\", \\'.:.::-\"n:\\', \\'mv\\', \\'rmx-?.:\\', \\'hıı—ı\\', \"\\'n.\"]]'),\n",
       "  ('136',\n",
       "   \"[['arr-r', '‚em-a.', 'WMA', 'am:', 'v-', 'ews.:', 'art', 'mm'], ['A..:', 'ha', '„-', '“uma', 'am:', '89-', 'gm-', '_en-’ra-'], ['au:', 'ııı.:', '‚en-ra.', 'hm:', 'aır.', 'ııı—', 'b.Bi-', '„zum:', '.es-inf.:', 'mc', 'zum:']]\"),\n",
       "  ('152',\n",
       "   '[[\\'%va\\', \"n\\'in\", \\'vnc—mn\\', \"m.\\'ıî\", \\'n=\\', \\'m.\\', \\'“M.\\', \\'M.;\\', \\'un?)\\', \"\\'m\", \"\\'İ-\"], [\\'mr\"!\\', \\'zum;\\', \\'XL\\', \"“MMM—y\\'a.\", \\'”MM\\', \\'snrm\\', \\'414.1.\\', \\'«MM.!\\', \\'Hu;\\'], [\\'MM\\', \\'arm“!\\', \\'ııı—ımı\\', \\'mr-\\', \\'“Km:-nm,;\\', \\'ım\\', \\'19m.\\', \\'mıı\\', \\'mac\\', \\'no;\\']]'),\n",
       "  ('153',\n",
       "   '[[\\'u\\', \\'«my»\\', \\'«was\\', \\'=”.\\', \\'‚sh—‚b\\', \\'„ßen\\', \\'Haw\\', \\'man;\\', \\'um\\', \\'%41\\'], [\\'.at—30111\\', \\'‚um\\', \\'gan—uva\\', \\'nün;\\', \\'qua-n\\', \\'ııı.\\', \\'u-ıış\\', \"\\'Ev—nı\", \\'ob\\'], [\\'w\\', \\'wt\\', \\'ww.\\', \\'45\\', \\'ııı.—w\\', \\'uam\\', \\'mıı-ıu.\\', \\'aura-mv.\\']]'),\n",
       "  ('154',\n",
       "   '[[\\'mu.\\', \\'w\\', \\'mcm\\', \\'“Mc\\', \\'“::\\', \"\\'ne\", \\'mu\\', \\'«am\\', \\'hıc-m-\\', \\'xii-«3.1\\'], [\\'m.?\\', \"\\'m\", \\'‚oma\\', \\'mv\\', \\'“WMV\\', \\'st.-\"\\\\\\':\\', \\'‚wu\\', \\'muck\\', \\'\"}My\\\\\\'\\', \\'ne…\\'], [\\'5°):\\', \\'au.\\', \\':\\', \\'(miaou\\', \\'um\\', \\'nîa\\', \\'\"un\\', \\'sums.\\', \\'n\\']]')],\n",
       " '0B30KweltiOGYZnpfLXRKQ3JLU0k': [('109',\n",
       "   '[\\'ka-ka4-rù\\', \\'“‘“dﬂka-ak-ka-ri\\', \\'za—ar-lıa\\', \\'\"\"‘“…‘äka-ak-ka-ri\\', \\'“‘\"d“ka—ak-ka-ru\\', \\'““‘da-m“5ka—ak-ka-ru\\', \\'“i“daka-ka—ru\\', \\'“\"“dûma—guS-ru\\', \\'ni“d‘°[blal—Zull-lu\\', \\'\"“‘dﬂka-ka—ru\\', \\'[t.-bread\\', \\'le.-bread”\\', \\'ka-ka4—rl‘1,\\', \\'econ;\\', \\'ka-ka4-rü\\', \\'51—5223),\\', \\'\"‘“daka-abkar—tuQ.\\', \\'kwrkwr\\', \\'I,.DA-an\\', \\'KA-al-BA-tu4\\', \\'I{A—’al‘-BA-tu4\\']'),\n",
       "  ('130',\n",
       "   '[\"li—ra-lıi-ı\\'ş-ğu\", \\'21:9,\\', \\'ü-ra-şi-ip-âu-nu\\', \\'l\"‘-“““‘na-bi-i\\', \\'uq-m]i\\', \\'hi“”sna-bi-i\\', \\'l\"“m\\\\\\'ğna-bi-i,\\', \"\\'d\\'iğ-lıa-ra\", \\'sa-a-su-nu),\\', \\'l\"’na-bi-im“\\', \\'[za-na\\', \\'“*“;\\', \\'hi[la-nam\"\"Haneans,”\\', \\'ndbi),\\', \\'näbîJ,\\', \"““\\'“W—‘mu—na-bi—ia—ti\", \\'\"“\\\\\\'-\"“mu-na-bi-ı\\\\\\'a-tı\\\\\\'\\', \\'muxına-bi—a-ti\\', \\'dië-àa-ra\\', \\'muX-na-bi-a-ti\\', \\'‘\"“~““”5’muX-nab-bi-[a-ti]\\']'),\n",
       "  ('145',\n",
       "   '[\\'““-\"°mu-§in\\', \\'econ:\\', \\'“‘\"ümu-s‘in\\', \\'in.-man”\\', \\'“\"\\\\\\'mu-ğin\\', \\'DIS\\', \"rmıı-ulı-ra-nı\\'7“\", \\'r7nu-ulı-ra-ni7“\\', \\'kwta—pu\\', \\'mu-ub-ra-ni7‘\\', \\'“‘two\\', \\'malırü\\', \\'mux-na-bi-a-ti:\\', \\'muX-nab-bi-[a-ti]:\\', \\'mux—nab-bi-ia-[ti]:\\', \\'max-pa-li-la,\\', \\'mux-pâ—li—la,\\', \\'mux—pal-li-la\\', \\'\"‘”mux—pa-li-la\\', \"\\'“PI-ra-ğa\", \\'l\"‘mux-pa-li-la\\', \\'mux-pa-li—la\\', \\'mux-pd-li-la\\', \"\\'“za-ni-nu”\", \\'mux—pd-li—la\\', \\'mux—pal-li-la\\', \"\\'“PI—ra-äa\", \\'muX-pal-li-la\\']'),\n",
       "  ('154',\n",
       "   '[\\'nu-pu-ba—an-ni,\\', \\'nu-pu-lıa—ni,\\', \\'nu-pu-lıa-nu\\', \"\\'*\\'“Mnu-pu-lıa-an-ni\", \"4233\\';\", \"\\'*’Msnu-pu-Zıa-an—ni\", \\'80.90).\\', \"\\'ü-mnu-pu—lza-nu\", \\'\"i\\\\\\'me—‘nu-pu-ZLa-nu\\', \\'nu-Bu-ba—an—ni,\\', \\'napâhu\\', \\'nuppulıu\\', \\'nu-pu-lıa-ni:\\', \\'nu—pu-ha-an—ni,\\', \\'nu-pu-[ıa-nu:\\', \\'nu-pu-lıa-an-ni,\\', \\'nu-UB-t‘u4\\', \\'nu-UB-ıîu4\\', \\'*nupt-\\', \\'nu-UD-TU-ĞU—ma\\', \\'rü\"\\']'),\n",
       "  ('175',\n",
       "   '[\\'lglebat”\\', \\'ğa\\', \\'dZLé—bat\\', \"\\'““:si-kâ-na7\", \\')\\', \\'\"“si-kâ-na,\\', \\'EİE-ğu\\', \\'m“asi-ka-na\\', \\'“üsi-ka-na\\', \\'““qsi—ka—ni\\', \\'\"%si-ka-ni\\', \\'“ﬂsi-ka-na\\', \\'“ﬂsi-kä-na\\', \\'\"aßi-ik-ka-na-ti\\', \\'““si—ik-ka—na-ti\\', \\'gigMARGÎDDA\\', \\'sa\\', \\'dKUR\\', \\'““isi-ka-na-ti\\', \"i\\'na\", \\'““;‘megsi-ka—na-ti\\', \\'““.‘n‘essi-ka-na—tli]\\', \\'ıZ-ğe-şu-ıi\\', \\'“ax“‘e—‘si-ka-na-ti\\', \\'\"%si-<ka-ne->e-ti\\', \\'““.si—<ka-ne—>e—ti\\', \\'“%si—ka—na-ti\\', \\'\"“ısi-ka-na-ti\\', \\'\"“:..si—ka-na~ti\\', \"\\'“.si-ka-na—ti\", \\'““.si—kà—NAM\\', \\'na?\\', \\'“at-megsi-ka-na-ti,\\', \\'““.si-<ka—ne->e-ti,\\']'),\n",
       "  ('178',\n",
       "   '[\\'”L,\\', \\'su-uZı-ğu\\', \\'_su-pu-tulı,\\', \\'şu—pu—ut-tuv\\', \\'\"M“şa—ap—pu-ta\\', \\'\"i“d“şa-ap-pu-ta\\', \\'“‘\"d°sa-ap-pu-ut-tzl\\', \\'\"‘“dasa-ap-pu-ut-tit\\', \\'ği-na-lıi-lu\\', \\'nindn$a_pu_ta\\', \\'“i“dasa-pu-ta\\', \\'“‘“¢‘sa—pu-ta\\', \\'“i\"‘*\"_sa-pu-u[t]-ta\\', \\'ği—na-bi-lu\\', \\'“\"“‘“$zz-pu—i.‘u4\\', \\'nindaşu-BU-tu4\\', \\'bread\"\\', \\'“““““şu—pu-ut-tulı\\', \\'ni\\\\\\'“\"şu—BU—ut-tu4\\', \\'ninda$ü_pa_[tu]\\', \"““\\'daşıZ-pa-[tu]\", \"4375\\';\"]'),\n",
       "  ('220',\n",
       "   '[\\'L’M\\', \\'ML)\\', \\'ku—Ju-u.\\', \\'kcı-bi-du4\\', \\'ka-bi-du4;\\', \\'“İ“dAka-ka-ru;\\', \\'ka-ka4-rü;\\', \\'\"i“daka—ak—ka-ru\\', \\'“i“ddka-\\', \\'m‘…“kà-ma-ru\\', \\'ıüM’Ğkâ-rna-ri;\\', \\'d“Sliaap-pâr-ra\\', \\'d“skap-pdr-rlu]\\', \\'sze“ki-is-si\\', \\'eze\"ki-is-sâı;\\', \\'d\"““Ëka-s‘a—ra-ti\\', \\'/li°m(u)/;°‘li-iJ-mi\\', \\'/1i°mi/\\', \\'li-iJ-mi.\\', \\'ma-li—tuf\\', \\'mali’tu/\\', \\'ma-ta—Zıu\\', \\'ma-ta~bu.\\', \\'tui—nab-bi\\', \\'mmna—bi-i\\', \\'““\"“€5mu-na—bi-ia-ti,‘\\', \\'mux—na-bi-a—ti;\\', \"‘“‘i\\'me5)mux-nab—bi-[a-ti];\", \\'mı\"\"“eğmux-nalı-bi-ia-[til\\', \\'<<ta!->>\\', \\'na-ab-ğu\\', \\'na-ab-ğu.\\', \\'na—alı-li.\\', \\'ni-kaıri\\']'),\n",
       "  ('221',\n",
       "   '[\\'dugku-3u-u;\\', \\'“‘“ë’ku-Ju-û\\', \\'/ku°û/;\\', \\'ulugkıı-a-ta\\', \\'/ku3âta/\\', \\'OBC\\', \\'QN”\\', \\'SDR\\', \\'SCL\\', \\'pu-ga—ra-tu4\\', \\'pu-ga«ra-tu4.\\', \\'mux-paZ-li-la;\\', \\'mux—pd-li-la;\\', \"h\\'lmux-pa-li—la\", \\'mux-pa-li-la.\\', \\'pi—it-ba\\', \\'qà—bi-lu4;qà-bi4-lu\\', \\'/qubba‘u/\\', \\'qu-ba-bu.\\', \\'“\"““aqa-da\\', \\'nind“qa-d\\', \\'“‘“daqa-du-û\\', \\'ni“d“qd-am-la\\', \\'/qina°i/\\', \\'qà-ti-in-nu;\\', \\'qà-ÿi-nu;\\', \\'qd-ti-nu\\', \\'/qatinnu\\', \\'qâ-ti—\\', \\'/qatinnâti/\\', \\'qd-ÿi-nu.\\', \\'himqc‘z-PI—nu\\', \\'(“““““)ra-ba-tu“ı\\', \\'ra-ba-tuÆ.\\', \\'ni\"“\"ru-qa-nu\\', \\'‘m-m°5)ra-ya-_si\\', \\'\"“mar-za-Zıa-ni\\', \\'manza—bu.\\', \\'lüsiz-kin\\', \\'(B)\"“sti-ka-ni;\\', \\'““si-kawa;\\', \\'mHsi-kc‘z-na;\\', \\'“.si-kà-na7\\', \\'““ßi-ka-na-ti;\\', \\'““.si—ka—na—ti;\\', \\'“asi—ka-\\', \\'““ßi-ik-ka-na-ti\\', \\'““;si-<ka-ne->e-ti\\', \\'su~pa-bu.\\', \\'mwäi-mu\\', \\'ma—éi-mu.\\', \\'m\"““-‘.é‘ar—ru;\\', \\'(“‘-\"“)édrmu\\', \\'gar-ru.\\', \\'/maä°irta/\\', \\'ma—as-ir-ta.\\', \\'dS‘a-ag-ga-ar;sag-gar\\', \\'/§agg5ru/;§[a-a]g—ga-ri\\', \\'/§agg5ri/\\', \\'Ğa-ag-ga—ar.\\', \"dğa—alı-rı\\'\", \\'ğa-alı—ri.\\', \\'.si—iJ-li;\\', \\'/$i°li/\\', \\'şi—iJ-li.\\', \\'ma—as-ba—ra-ta\\']'),\n",
       "  ('267',\n",
       "   '[\"\\'\", \\'a-ba-ağ-ği;\\', \\'a—ZU-lu-uğ-lıu\\', \\'AT(—)TU(—)HI\\', \"\\'“mar-ia—an-nu\", \"\\'“mar—ia-nu—ut-ti\", \\'dĞu-wa—lu\\', \\'“21\\', \\'PI-al-lu-hi\\', \\'m“““‘gf‘a—ra-wa-an-nu\\', \\'duglm—pcir\\', \\'bu-ur—ti-a-lu;\\', \\'dugZm-ur-ti-ia-lu;\\', \\'hur-ti-ia-lu4\\', \\'“““hpu—ni-gu;\\', \\'“i\"\"\"*pu~ni-gu8\\', \\'la-lza-nu;\\', \\'la-Zza-a-nu\\', \\'laß-bu\\', \\'/la1313u-/\\', \\'ğar-pâ-ağ-ği\\', \\'/sarpaSSi-/\\', \\'S‘i—na-bi-lu\\', \\'tar-na-aé\\', \\'ni“‘“tu-ru-be\\', \\'“i“dñtu-ru—bu;\\', \\'“i\"datù-ru-bu\\', \\'\"mm-m.\\']'),\n",
       "  ('288',\n",
       "   \"['BAP-tu,;', 'bu-S‘u-ut-tu“', 'DAM-KAR’—ra!-tu4', 'e?—la—ra—mu', 'gan-mu—ru,', 'ba-am—bu-rü', 'àa-am-äa-û', '[za-BH', '759—60', 'ba-lu—lîu]', '[La-ri', 'I_IAR-BA-ağ-ğu', 'HAR-DI—e-tli]', 'hi-iB—i', 'biim-bd', 'bi-ri-TI', 'bu-BU—S‘u', 'bu-bur-ri', 'bu-la-s‘u', 'hu-lu—UP-PA-ti', '[ıu-rla', 'bu-ri-ZU—tu4', 'bu-ü—ru', 'bu-UB-ri', 'bu-', 'bu-um-ma-Z', 'bu-US-SU-u', 'i-DI-tu', 'i-ia-ğu-B', 'i-ma-ağ—ğa-ğu', 'i-mi-ië—ta/', 'i-PA-h—a-DU,', 'i-ği-lıi', 'KA-[aIn-DA-BI-tu4', '4', 'KI-iä—KUR?', 'KU—um-äi', 'la—aé—na-tu4', 'ma-aZz—ëa-QU', 'ma-lzi-ru', 'ma-riltu4', 'ma—şi-şi—ia-[antuj]']\"),\n",
       "  ('289',\n",
       "   \"['DIS', 'ma§-Kl-ti', 'rmu—uZı-ra-ni71', 'na-aff—ra—BU', 'ni-lıa-ŞI,', 'ni—PI-SI!', 'ni-éa-nla]', 'NİG-GIR-ği-i—ma', 'nu-J-BU,', 'nu-pu-Zıa—anvni,', 'pu-ba-nu', 'nu-UB-tu4136', 'nu—UD-TU—ĞU-ma', 'PA-Ja-a-lu', 'PA-§e-er’-tu4', 'PI—ağ-lıa-ZU', 'qa-äa-mu', 'ri-ZU—tu4:', '[ıu—ri-ZU-tu4,', 'ru-uZı-lıa-te', 'ru-uğvti', 'rSAî-am-ZA-ma-at', 'su-ulz-S‘u', 'S‘a-a-i', '§a§§abittu,', 'ğağğabiânâtu', 'ğa-J-BA', 'ğa-mu—nu', 'ği-ir—lıa-DU', 'äu-PI—DI', 'äu-QA-KU', 'KU8175-76', ']-li-la-”182-83', 'LZ-ÿu', '[-7189', 'uä-DU—TE', 'ZA—dë-KI-tu', 'ZA-ZA-ab-bu-KU', 'ZU’-ul~’-BU']\")],\n",
       " '0B9LXI7PmAEMbc0FycnlwSGNoMG8': [('7',\n",
       "   '[[\\'Ml\"\\', \\'David\\', \\'ﬁng“\\', \\'ÛÏ\\', \\'Nt‘w\\', \"1\\'I\\'WTi\\'t\", \"ll\\'ﬂmlnlt\\'tl\", \\'in};\\', \\'thesis\\', \\'Emil-5h-\\'], [\\'every\\', \\'him\"\\', \\'I\\', \\'requestetL\\', \\'ﬂtltliliun\\', \\'hundreds\\', \\'phuttﬁlau.\\'], [\\'the.\\', \\'Thùülngical\\', \"SELII\\'LÏII\\'AI\\'F\", \\'uf\\', \\'Innern-„„\\', \\'Ne“-\\', \\'York,\\', \\'şarıl.\\', \\'ITIC\\']]'),\n",
       "  ('11',\n",
       "   '[[\"\\'\", \"L\\'eland\", \\'‚Volume;\\', \\'Ält‘nnshn\\', \"\\\\\\\\\\\\\\\\\\'i=\", \\'10-11”.\\', \\'”\\', \"”:HÎH-riîzh\\'\", \"\\'rd.\", \\'by\\', \\'E,\\'], [\\'Ref?\\', \\'of\\', \\'the\\', \"Cannrınih\\'ı\", \\'Stuff…\\', \\'d\\', \\'in\\', \\'Bibff\\', \\'aw\\'], [\\'_\\', \\'lir\\', \\'Hurııry\\', \\'of\\', \\'cum\"\\', \\'Vıa\\', \\'.‘\\']]'),\n",
       "  ('13',\n",
       "   '[[\\'justin“;\\', \\'”]“le\\', \\'Imîﬂ.\\', \\'iin\\', \\'Ruhr—fî\\', \\'1‘1Î17_\\', \"\\'Nruriruck\", \"WiFi,—\\'“\", \\'w!\\'], [\"Ü\\'TI-Scil\\'ler\", \\'Un”…\\', \\'\\\\\\\\\\', \"\\'1‘.)-\", \"„ff-\\'\", \"ugyplin\\'hrn\", \\'!.“er\\', \\'pniaifmrimif-f-\\'], [\"Iir\\'ku.\", \\'Beiheft\\', \\'3g\\', \\'gigi—1371\\', \\'{!\\', \\'{im-f..\\', \\'Hı—ımı\\', \"“mı\\'\", \\'i-v\\', \\'„.;\\']]'),\n",
       "  ('61',\n",
       "   \"[['ii', '[lh', '“EA', '131', 'i', '531', '“aynr', 'south', '(EA', '131.'], ['Ğîîğîlîîğlîî', '.fînd', '?thinıilki', 'fending:', 'reports', 'pnlitiral', 'events', 'ittim'], ['You', 'hear', 'about', 'ihn', 'lit…]', 'Canaan,', '{EA', 'ill—illl-']]\"),\n",
       "  ('206',\n",
       "   '[[\\'îihin’\\', \\'IRAQ?)\\', \\'Sit/54:62;\\', \\'cf\".\\', \\'same\\', \\'Pa”:\\', \\'[ht\\', \\'1\\'], [\\'75\\', \\'1\\', \\'RR“\\', \\'W”\\', \\'230.\\', \\'ve;\\', \\'cri\\', \\'ANF?“\\', \\'”??\\', \\'mil,\\', \\'is\\'], [\\'îğ\\', \\'iii\\', \\'1.a’,\\', \\'sendet,\\', \\'Montgomery,\\', \\'Ki‘flgi,n387.\\', \\'„\\']]')]}"
      ]
     },
     "execution_count": 84,
     "metadata": {},
     "output_type": "execute_result"
    }
   ],
   "source": [
    "hitFiles"
   ]
  },
  {
   "cell_type": "code",
   "execution_count": 114,
   "metadata": {
    "collapsed": false,
    "scrolled": true
   },
   "outputs": [
    {
     "name": "stdout",
     "output_type": "stream",
     "text": [
      "/global/scratch/groups/dh/aanderson/results/Results_636-655/\n"
     ]
    },
    {
     "ename": "FileNotFoundError",
     "evalue": "[Errno 2] No such file or directory: '/global/scratch/groups/dh/aanderson/results/Results_636-655/smallhitlist.txt'",
     "output_type": "error",
     "traceback": [
      "\u001b[0;31m---------------------------------------------------------------------------\u001b[0m",
      "\u001b[0;31mFileNotFoundError\u001b[0m                         Traceback (most recent call last)",
      "\u001b[0;32m<ipython-input-114-71609133420b>\u001b[0m in \u001b[0;36m<module>\u001b[0;34m()\u001b[0m\n\u001b[1;32m     12\u001b[0m     \u001b[0mprint\u001b[0m\u001b[0;34m(\u001b[0m\u001b[0mresultFolderDir\u001b[0m\u001b[0;34m)\u001b[0m\u001b[0;34m\u001b[0m\u001b[0m\n\u001b[1;32m     13\u001b[0m     \u001b[0mfiles\u001b[0m \u001b[0;34m=\u001b[0m \u001b[0mos\u001b[0m\u001b[0;34m.\u001b[0m\u001b[0mlistdir\u001b[0m\u001b[0;34m(\u001b[0m\u001b[0mresultFolderDir\u001b[0m\u001b[0;34m)\u001b[0m\u001b[0;34m\u001b[0m\u001b[0m\n\u001b[0;32m---> 14\u001b[0;31m     \u001b[0mcreateFormattedHistlist\u001b[0m\u001b[0;34m(\u001b[0m\u001b[0mresultFolderDir\u001b[0m \u001b[0;34m+\u001b[0m \u001b[0mSHL\u001b[0m\u001b[0;34m,\u001b[0m \u001b[0mSHLF\u001b[0m\u001b[0;34m)\u001b[0m\u001b[0;34m\u001b[0m\u001b[0m\n\u001b[0m\u001b[1;32m     15\u001b[0m     \u001b[0mcreateFormattedHistlist\u001b[0m\u001b[0;34m(\u001b[0m\u001b[0mresultFolderDir\u001b[0m \u001b[0;34m+\u001b[0m \u001b[0mBHL\u001b[0m\u001b[0;34m,\u001b[0m \u001b[0mBHLF\u001b[0m\u001b[0;34m)\u001b[0m\u001b[0;34m\u001b[0m\u001b[0m\n\u001b[1;32m     16\u001b[0m \u001b[0;34m\u001b[0m\u001b[0m\n",
      "\u001b[0;32m<ipython-input-111-c5309db2eeb4>\u001b[0m in \u001b[0;36mcreateFormattedHistlist\u001b[0;34m(filePath, newFilePath)\u001b[0m\n\u001b[1;32m      1\u001b[0m \u001b[0;32mdef\u001b[0m \u001b[0mcreateFormattedHistlist\u001b[0m\u001b[0;34m(\u001b[0m\u001b[0mfilePath\u001b[0m\u001b[0;34m,\u001b[0m \u001b[0mnewFilePath\u001b[0m\u001b[0;34m)\u001b[0m\u001b[0;34m:\u001b[0m\u001b[0;34m\u001b[0m\u001b[0m\n\u001b[0;32m----> 2\u001b[0;31m     \u001b[0;32mwith\u001b[0m \u001b[0mopen\u001b[0m\u001b[0;34m(\u001b[0m\u001b[0mfilePath\u001b[0m\u001b[0;34m,\u001b[0m \u001b[0;34m'r'\u001b[0m\u001b[0;34m,\u001b[0m \u001b[0mencoding\u001b[0m\u001b[0;34m=\u001b[0m\u001b[0;34m'utf-8'\u001b[0m\u001b[0;34m)\u001b[0m \u001b[0;32mas\u001b[0m \u001b[0mf\u001b[0m\u001b[0;34m:\u001b[0m\u001b[0;34m\u001b[0m\u001b[0m\n\u001b[0m\u001b[1;32m      3\u001b[0m         \u001b[0mcontent\u001b[0m \u001b[0;34m=\u001b[0m \u001b[0mf\u001b[0m\u001b[0;34m.\u001b[0m\u001b[0mreadlines\u001b[0m\u001b[0;34m(\u001b[0m\u001b[0;34m)\u001b[0m\u001b[0;34m\u001b[0m\u001b[0m\n\u001b[1;32m      4\u001b[0m         \u001b[0mf\u001b[0m\u001b[0;34m.\u001b[0m\u001b[0mclose\u001b[0m\u001b[0;34m(\u001b[0m\u001b[0;34m)\u001b[0m\u001b[0;34m\u001b[0m\u001b[0m\n\u001b[1;32m      5\u001b[0m     \u001b[0mlines\u001b[0m \u001b[0;34m=\u001b[0m \u001b[0;34m[\u001b[0m\u001b[0mline\u001b[0m\u001b[0;34m.\u001b[0m\u001b[0mstrip\u001b[0m\u001b[0;34m(\u001b[0m\u001b[0;34m)\u001b[0m \u001b[0;32mfor\u001b[0m \u001b[0mline\u001b[0m \u001b[0;32min\u001b[0m \u001b[0mcontent\u001b[0m\u001b[0;34m]\u001b[0m\u001b[0;34m\u001b[0m\u001b[0m\n",
      "\u001b[0;31mFileNotFoundError\u001b[0m: [Errno 2] No such file or directory: '/global/scratch/groups/dh/aanderson/results/Results_636-655/smallhitlist.txt'"
     ]
    }
   ],
   "source": [
    "SHL, SHLF = \"smallhitlist.txt\", projectDir + \"formatted_smallhits.txt\"\n",
    "BHL, BHLF = \"bighitlist.txt\", projectDir + \"formatted_bighits.txt\"\n",
    "try:\n",
    "    os.remove(projectDir + \"formatted_smallhits.txt\")\n",
    "    os.remove(projectDir + \"formatted_bighits.txt\")\n",
    "except:\n",
    "    pass\n",
    "os.chdir(resultsDir)\n",
    "dirs = os.listdir(resultsDir)\n",
    "for resultFolder in dirs:\n",
    "    resultFolderDir = resultsDir + resultFolder + \"/\"\n",
    "    print(resultFolderDir)\n",
    "    files = os.listdir(resultFolderDir)\n",
    "    createFormattedHistlist(resultFolderDir + SHL, SHLF)\n",
    "    createFormattedHistlist(resultFolderDir + BHL, BHLF)\n",
    "    \n",
    "        \n",
    "    "
   ]
  },
  {
   "cell_type": "code",
   "execution_count": null,
   "metadata": {
    "collapsed": false
   },
   "outputs": [],
   "source": [
    "hitFiles['0B-icdnKLZ3cTYklDS0lrTVhidGM']"
   ]
  },
  {
   "cell_type": "code",
   "execution_count": null,
   "metadata": {
    "collapsed": true
   },
   "outputs": [],
   "source": []
  }
 ],
 "metadata": {
  "kernelspec": {
   "display_name": "Python 3",
   "language": "python",
   "name": "python3"
  },
  "language_info": {
   "codemirror_mode": {
    "name": "ipython",
    "version": 3
   },
   "file_extension": ".py",
   "mimetype": "text/x-python",
   "name": "python",
   "nbconvert_exporter": "python",
   "pygments_lexer": "ipython3",
   "version": "3.5.1"
  }
 },
 "nbformat": 4,
 "nbformat_minor": 1
}
