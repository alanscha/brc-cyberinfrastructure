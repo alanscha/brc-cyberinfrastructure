{
 "cells": [
  {
   "cell_type": "markdown",
   "metadata": {},
   "source": [
    "# Helper notebook\n",
    "#### Henry Ang 10/13/2017\n",
    "\n",
    "Runs the entire AdamAndersonFindSumerianWorkflow notebook to process pdfs to hitlists\n",
    "Results saved at google folder https://drive.google.com/drive/u/1/folders/0B1297pLT9WXLV29iNmlWcTlvakk"
   ]
  },
  {
   "cell_type": "code",
   "execution_count": null,
   "metadata": {
    "collapsed": false
   },
   "outputs": [
    {
     "name": "stdout",
     "output_type": "stream",
     "text": [
      "[NbConvertApp] Converting notebook AdamAndersonFindSumerianWorkflow.ipynb to notebook\n",
      "[NbConvertApp] Executing notebook with kernel: sumerian\n"
     ]
    }
   ],
   "source": [
    "for _ in range(3):\n",
    "    !jupyter nbconvert --ExecutePreprocessor.timeout=-1 --to notebook --execute AdamAndersonFindSumerianWorkflow.ipynb"
   ]
  },
  {
   "cell_type": "code",
   "execution_count": null,
   "metadata": {
    "collapsed": false
   },
   "outputs": [],
   "source": [
    "\"\"\"\n",
    "import nbformat\n",
    "from nbconvert.preprocessors import ExecutePreprocessor\n",
    "\"\"\""
   ]
  },
  {
   "cell_type": "code",
   "execution_count": null,
   "metadata": {
    "collapsed": false,
    "scrolled": true
   },
   "outputs": [],
   "source": [
    "\"\"\"\n",
    "notebook_filename = \"brc-cyberinfrastructure/AdamAndersonFindSumerianWorkflow.ipynb\"\n",
    "with open(notebook_filename) as f:\n",
    "    nb = nbformat.read(f, as_version=4)\n",
    "ep = ExecutePreprocessor(timeout=600, kernel_name='ocrPython36opencv')\n",
    "ep.preprocess(nb, {'metadata': {'path': '/'}})\n",
    "\"\"\""
   ]
  },
  {
   "cell_type": "code",
   "execution_count": null,
   "metadata": {
    "collapsed": false,
    "scrolled": true
   },
   "outputs": [],
   "source": []
  },
  {
   "cell_type": "code",
   "execution_count": null,
   "metadata": {
    "collapsed": true
   },
   "outputs": [],
   "source": []
  }
 ],
 "metadata": {
  "kernelspec": {
   "display_name": "Python 3",
   "language": "python",
   "name": "python3"
  },
  "language_info": {
   "codemirror_mode": {
    "name": "ipython",
    "version": 3
   },
   "file_extension": ".py",
   "mimetype": "text/x-python",
   "name": "python",
   "nbconvert_exporter": "python",
   "pygments_lexer": "ipython3",
   "version": "3.5.1"
  }
 },
 "nbformat": 4,
 "nbformat_minor": 1
}
