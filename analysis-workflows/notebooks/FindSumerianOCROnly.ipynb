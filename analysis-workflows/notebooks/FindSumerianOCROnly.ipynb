{
 "cells": [
  {
   "cell_type": "markdown",
   "metadata": {
    "collapsed": true
   },
   "source": [
    "# Find Sumerian (OCR Part Only)"
   ]
  },
  {
   "cell_type": "markdown",
   "metadata": {},
   "source": [
    "### This notebook is an exemplar which demonstrates transferring zip files between a bDrive folder and Savio scratch to run OCR on images using Tesseract (inside a Singularity container)\n",
    "\n",
    "( tested with boxsdk (2.0.0a2) on python 3.5 kernel)\n",
    "pip install -Iv boxsdk==2.0.0a2 "
   ]
  },
  {
   "cell_type": "markdown",
   "metadata": {},
   "source": [
    "_This software is available under the terms of the Educational Community License, Version 2.0 (ECL 2.0). This software is Copyright 2016 The Regents of the University of California, Berkeley (\"Berkeley\")._\n",
    "\n",
    "The text of the ECL license is reproduced below.\n",
    "\n",
    "Educational Community License, Version 2.0\n",
    "*************************************\n",
    "Copyright 2017 The Regents of the University of California, Berkeley (\"Berkeley\")\n",
    "\n",
    "Educational Community License, Version 2.0, April 2007\n",
    "\n",
    "The Educational Community License version 2.0 (\"ECL\") consists of the\n",
    "Apache 2.0 license, modified to change the scope of the patent grant in\n",
    "section 3 to be specific to the needs of the education communities using\n",
    "this license. The original Apache 2.0 license can be found at:[http://www.apache.org/licenses/LICENSE-2.0]"
   ]
  },
  {
   "cell_type": "markdown",
   "metadata": {},
   "source": [
    "## This notebook is incomplete."
   ]
  },
  {
   "cell_type": "markdown",
   "metadata": {},
   "source": [
    "### Notebook configuration section\n",
    "Set of target and source directories, script file names and other used as parameters in processing below."
   ]
  },
  {
   "cell_type": "code",
   "execution_count": null,
   "metadata": {
    "collapsed": true
   },
   "outputs": [],
   "source": [
    "# Modify variables in this cell\n",
    "username = 'nicolaschan' # Put your savio username here\n",
    "project_name = 'aanderson' # Name of directory in your scratch directory for data\n",
    "number_to_process = 1 # Number of PDFs to process\n",
    "ocr_time = '03:00:00' # String for time for OCR job; e.g., '03:00:00' = 3 hours\n",
    "all_files_list = '/global/scratch/groups/dh/aanderson/all_files.txt'\n",
    "ocr_output_dir = '/global/scratch/groups/dh/aanderson/results/'\n",
    "all_pdfs = '/global/scratch/groups/dh/aanderson/all_pdfs/'\n",
    "process_incomplete = False # ONLY ONE notebook should run with this at a time"
   ]
  },
  {
   "cell_type": "code",
   "execution_count": null,
   "metadata": {
    "collapsed": true
   },
   "outputs": [],
   "source": [
    "# Should not need modification unless tesseract changes\n",
    "run_folder = '/global/scratch/{}/{}/'.format(username, project_name)\n",
    "tesseract_scratch_data_dir = '/scratch/'\n",
    "tesseract_img = '/global/scratch/groups/dh/tesseract2_3.img'"
   ]
  },
  {
   "cell_type": "code",
   "execution_count": null,
   "metadata": {
    "collapsed": false
   },
   "outputs": [],
   "source": [
    "#Make Directories if they do not exist\n",
    "import os\n",
    "import sys\n",
    "import errno\n",
    "\n",
    "def dir_create(path):\n",
    "    try:\n",
    "        os.makedirs(path)\n",
    "    except OSError as exception:\n",
    "        if exception.errno != errno.EEXIST:\n",
    "            raise\n",
    "        else:\n",
    "            print('Folder at: ' + path + ' already exists. Skipping...')"
   ]
  },
  {
   "cell_type": "markdown",
   "metadata": {},
   "source": [
    "### Identify Range to Process"
   ]
  },
  {
   "cell_type": "code",
   "execution_count": null,
   "metadata": {
    "collapsed": false
   },
   "outputs": [],
   "source": [
    "# TODO: Set start_index based on the last completed ones\n",
    "start_index = 0\n",
    "end_index = start_index + number_to_process - 1\n",
    "\n",
    "run_folder = run_folder + 'range_' + str(start_index) + '-' + str(end_index) + '/'\n",
    "scratch_data_dir = run_folder + 'data/'\n",
    "\n",
    "gs_command_script = run_folder + 'gsCommandScript.sh'\n",
    "t4_command_script = run_folder + 't4CommandScipt.sh'\n",
    "slurm_script = run_folder + 'slurmscript.sh'\n",
    "\n",
    "!mkdir -p $scratch_data_dir\n",
    "scratch_data_dir"
   ]
  },
  {
   "cell_type": "code",
   "execution_count": null,
   "metadata": {
    "collapsed": false
   },
   "outputs": [],
   "source": [
    "#Henry Ang 10/13/2017\n",
    "from time import localtime, strftime\n",
    "logMsg = \"{2} Start processing index {0} to index {1}\".format(start_index, end_index, strftime(\"%Y-%m-%d %H:%M:%S\", localtime())\n",
    ")\n",
    "print(logMsg)\n",
    "!echo $logMsg >> /global/scratch/groups/dh/aanderson/process_log.txt"
   ]
  },
  {
   "cell_type": "markdown",
   "metadata": {},
   "source": [
    "### Copy Cached PDFs"
   ]
  },
  {
   "cell_type": "code",
   "execution_count": null,
   "metadata": {
    "collapsed": false
   },
   "outputs": [],
   "source": [
    "def range_to_pdfs(start, end, all_files_list):\n",
    "    pdfs = []\n",
    "    with open(all_files_list, 'rt', encoding='utf-8') as f:\n",
    "        current_line = 0\n",
    "        for line in f:\n",
    "            if current_line > end_index:\n",
    "                break\n",
    "            if current_line >= start_index:\n",
    "                pdfs.append(line.split(';')[-1].strip('\\n'))\n",
    "            current_line += 1\n",
    "    return pdfs\n",
    "\n",
    "pdfs = range_to_pdfs(start_index, end_index, all_files_list)\n",
    "print(len(pdfs), 'PDFs to process')"
   ]
  },
  {
   "cell_type": "code",
   "execution_count": null,
   "metadata": {
    "collapsed": false
   },
   "outputs": [],
   "source": [
    "def copy_pdf(pdf):\n",
    "    pdf_path = '{}/{}.pdf'.format(all_pdfs, pdf)\n",
    "    err = !cp $pdf_path $scratch_data_dir\n",
    "    if len(err):\n",
    "        raise Exception('PDF \"{}\" not copied! (Perhaps not downloaded yet?)'.format(pdf))\n",
    "    print('Copied', pdf)\n",
    "    \n",
    "for pdf in pdfs:\n",
    "    copy_pdf(pdf)"
   ]
  },
  {
   "cell_type": "markdown",
   "metadata": {
    "collapsed": true
   },
   "source": [
    "### Utility Functions"
   ]
  },
  {
   "cell_type": "markdown",
   "metadata": {},
   "source": [
    "__function to return all files in directory tree.__"
   ]
  },
  {
   "cell_type": "code",
   "execution_count": null,
   "metadata": {
    "collapsed": true
   },
   "outputs": [],
   "source": [
    "import os\n",
    "def scantreeForFiles(path):\n",
    "    \"\"\"Recursively yield DirEntry objects for given directory.\"\"\"\n",
    "    for entry in os.scandir(path):\n",
    "        if entry.is_dir(follow_symlinks=False):\n",
    "            yield from scantreeForFiles(entry.path) \n",
    "        else:\n",
    "            yield entry.path"
   ]
  },
  {
   "cell_type": "markdown",
   "metadata": {},
   "source": [
    "__function to return list of all folders in directory tree.__"
   ]
  },
  {
   "cell_type": "code",
   "execution_count": null,
   "metadata": {
    "collapsed": true
   },
   "outputs": [],
   "source": [
    "import os\n",
    "def scandirForFolders(path, dirlist):\n",
    "    \"\"\"Recursively yield DirEntry objects for given directory.\"\"\"\n",
    "    for entry in os.scandir(path):\n",
    "        if entry.is_dir(follow_symlinks=False):\n",
    "            dirlist.append(entry.path)\n",
    "            scandirForFolders(entry.path, dirlist)   "
   ]
  },
  {
   "cell_type": "markdown",
   "metadata": {},
   "source": [
    "__Validate all the task log files produced by ht_helper __"
   ]
  },
  {
   "cell_type": "code",
   "execution_count": null,
   "metadata": {
    "collapsed": true
   },
   "outputs": [],
   "source": [
    "def validateTaskResults(fileroot, totalTasks):\n",
    "    # file root is job-name.jobId.taskNumber.log\n",
    "    errorList = []    \n",
    "    for i in range(0, totalTasks-1):\n",
    "        fn = fileroot + '.' + str(i)\n",
    "        if os.path.exists(fn):\n",
    "            out = !tail -1 {fn}\n",
    "            retval = out[0]\n",
    "            #print ('return code: ', out[0])\n",
    "        else:\n",
    "            print ('warning: log file not available: ', fn)\n",
    "        \n",
    "        if ( retval != '0' ):\n",
    "            errorList.append(i)\n",
    "    return errorList"
   ]
  },
  {
   "cell_type": "markdown",
   "metadata": {},
   "source": [
    "__SLURM job script__ normal"
   ]
  },
  {
   "cell_type": "code",
   "execution_count": null,
   "metadata": {
    "collapsed": false
   },
   "outputs": [],
   "source": [
    "# batch script\n",
    "batchtemplate = '#!/bin/bash -l  \\n\\\n",
    "# Job name: \\n\\\n",
    "#SBATCH --job-name=' + project_name + '\\n\\\n",
    "# \\n\\\n",
    "# Account: \\n\\\n",
    "#SBATCH --account=ac_scsguest \\n\\\n",
    "# \\n\\\n",
    "# Partition: \\n\\\n",
    "#SBATCH --partition=savio2 \\n\\\n",
    "# \\n\\\n",
    "## Scale by increasing the number of nodes \\n\\\n",
    "#SBATCH --nodes=5  \\n\\\n",
    "## DO NOT change ntasks-per-node setting as T4 also distributes across cores \\n\\\n",
    "#SBATCH --ntasks-per-node=6 \\n\\\n",
    "#SBATCH --qos=savio_normal \\n\\\n",
    "# \\n\\\n",
    "# Wall clock limit: \\n\\\n",
    "#SBATCH --time={} \\n\\\n",
    "# \\n\\\n",
    "## Command(s) to run: \\n\\\n",
    "module load gcc openmpi  \\n\\\n",
    "/global/home/groups/allhands/bin/ht_helper.sh  -t {} -n1 -s1 -vL \\n' "
   ]
  },
  {
   "cell_type": "markdown",
   "metadata": {},
   "source": [
    "### Create script to convert all pdf files in working directory to images"
   ]
  },
  {
   "cell_type": "code",
   "execution_count": null,
   "metadata": {
    "collapsed": false
   },
   "outputs": [],
   "source": [
    "import glob, os\n",
    "import shutil \n",
    "\n",
    "# Ghostscript executable is inside the container.\n",
    "# TEMPLATE: gs -dBATCH -dNOPAUSE -dQUIET -sDEVICE=png16m -sOutputFile=/scratch/test/output/test-%d.png \\\n",
    "#   -r300 /scratch/test/germanocr.pdf\n",
    "SINGULARITYCMD = 'singularity exec -B {}:/scratch/ {} ' \n",
    "GHOSTSCRIPTCMD = 'gs -dBATCH -dNOPAUSE -dQUIET -sDEVICE=png16m -sOutputFile=\\\"{}-%d.png\\\" -r300 \\\"{}\\\" ;  echo $?'\n",
    "\n",
    "os.chdir(scratch_data_dir)\n",
    "print ('current working directory: ', os.getcwd())\n",
    "\n",
    "scmd = SINGULARITYCMD.format(scratch_data_dir, tesseract_img)\n",
    "\n",
    "# total number of ghostscript tasks\n",
    "gsCommandTotal = 0\n",
    "\n",
    "with open(gs_command_script, 'w') as f:  \n",
    "    for entry in scantreeForFiles(scratch_data_dir):\n",
    "        filename, file_extension = os.path.splitext(entry)\n",
    "        if ( entry.endswith('.pdf')):\n",
    "            relativepath1 = entry[len(scratch_data_dir):]\n",
    "            relativepath2 = filename[len(scratch_data_dir):]\n",
    "            gcmd = GHOSTSCRIPTCMD.format(tesseract_scratch_data_dir +relativepath2 ,\n",
    "                                         tesseract_scratch_data_dir+relativepath1)\n",
    "            f.write(scmd + gcmd + '\\n')\n",
    "            gsCommandTotal += 1\n",
    "\n",
    "#set time limit for this batch run\n",
    "outputbatchscript = batchtemplate.format('00:30:00',  gs_command_script)\n",
    "with open(slurm_script, 'w') as f:  \n",
    "    f.write(outputbatchscript)"
   ]
  },
  {
   "cell_type": "markdown",
   "metadata": {},
   "source": [
    "__Execute the task script with ht_helper__"
   ]
  },
  {
   "cell_type": "code",
   "execution_count": null,
   "metadata": {
    "collapsed": false
   },
   "outputs": [],
   "source": [
    "os.chdir(run_folder)\n",
    "print ('current working directory: ', os.getcwd())\n",
    "\n",
    "out = !sbatch slurmscript.sh   \n",
    "    \n",
    "print('Execute ghostscript output: ', out ) \n",
    "job_id = out[0].split()[3]\n",
    "print(job_id)"
   ]
  },
  {
   "cell_type": "code",
   "execution_count": null,
   "metadata": {
    "collapsed": false
   },
   "outputs": [],
   "source": [
    "#Henry Ang 10/13/2017\n",
    "logMsg = \"{1} Start converting PDF to PNG, job ID:{0}\".format(job_id, strftime(\"%Y-%m-%d %H:%M:%S\", localtime()))\n",
    "print(logMsg)\n",
    "!echo $logMsg >> /global/scratch/groups/dh/aanderson/process_log.txt"
   ]
  },
  {
   "cell_type": "code",
   "execution_count": null,
   "metadata": {
    "collapsed": false
   },
   "outputs": [],
   "source": [
    "import time\n",
    "# print the users queue and the job status by id\n",
    "!squeue -u $username #possibly do not need\n",
    "print('--------------------------------')\n",
    "print('Savio Job has been submitted. This cell will notify you when the job is done.')\n",
    "jobState = False\n",
    "while not jobState:\n",
    "    out = !scontrol show job $job_id\n",
    "    if any(\"COMPLETED\" in s for s in out):\n",
    "        print('\\n******Savio Job finished******')\n",
    "        jobState = True\n",
    "    else:\n",
    "       print('.', end='')\n",
    "       time.sleep(10) #Can tweak this so that people can see it moving"
   ]
  },
  {
   "cell_type": "markdown",
   "metadata": {
    "collapsed": true
   },
   "source": [
    "__Check all task log files for bad exit code__  \n",
    "task numbers align with lines in the task script  \n",
    "check the log file of tasks in the returned array of failures "
   ]
  },
  {
   "cell_type": "code",
   "execution_count": null,
   "metadata": {
    "collapsed": false
   },
   "outputs": [],
   "source": [
    "import glob, os\n",
    "if (not jobState):\n",
    "    print(\"WARNING: Your SLURM Job has not finished processing! Please wait for the cell above to complete.\")\n",
    "else:\n",
    "    print ('current working directory: ', os.getcwd())\n",
    "    fileroot = project_name + '.' + job_id + '.log'\n",
    "    tasklist = validateTaskResults(fileroot, gsCommandTotal)\n",
    "    print ('these tasks in task script failed: ', tasklist)"
   ]
  },
  {
   "cell_type": "markdown",
   "metadata": {},
   "source": [
    "__Remove task logs after any errors have been resolved__"
   ]
  },
  {
   "cell_type": "code",
   "execution_count": null,
   "metadata": {
    "collapsed": false
   },
   "outputs": [],
   "source": [
    "filter = fileroot + '*'\n",
    "print('filter: ', filter)\n",
    "for f in glob.glob(filter):\n",
    "    os.remove(f)"
   ]
  },
  {
   "cell_type": "markdown",
   "metadata": {},
   "source": [
    "### Create script to ocr all png files in working directory to text"
   ]
  },
  {
   "cell_type": "code",
   "execution_count": null,
   "metadata": {
    "collapsed": false
   },
   "outputs": [],
   "source": [
    "import glob, os\n",
    "os.chdir(scratch_data_dir)\n",
    "print ('current working directory: ', os.getcwd())\n",
    "# template: tesseract --tessdata-dir /opt/tessdata /scratch/germanocr_Page_01.png  germanout  -l deu\n",
    "#TCMD = ' sh -c \\'OMP_NUM_THREADS=1 tesseract --tessdata-dir /opt/tessdata \\\"{}\\\" \\\"{}\\\" \\'  -l deu+eng+tur+fra -c tessedit_create_hocr=1;  echo $?'\n",
    "TCMD = ' sh -c \\'OMP_NUM_THREADS=1 tesseract --tessdata-dir /opt/tessdata  -l deu+eng+tur+fra -c tessedit_create_hocr=1 \\\"{}\\\" \\\"{}\\\" \\';  echo $?'\n",
    "\n",
    "scmd = SINGULARITYCMD.format(scratch_data_dir, tesseract_img)\n",
    "# total number of tesseract tasks\n",
    "t4CommandTotal = 0\n",
    "\n",
    "with open(t4_command_script, 'w') as f:\n",
    "    for entry in scantreeForFiles(scratch_data_dir):\n",
    "        if ( entry.endswith('.png')):\n",
    "            filename, file_extension = os.path.splitext(entry)\n",
    "            relativepath1 = entry[len(scratch_data_dir):]\n",
    "            relativepath2 = filename[len(scratch_data_dir):]\n",
    "            tcmd = TCMD.format(tesseract_scratch_data_dir + relativepath1, \n",
    "                               tesseract_scratch_data_dir + relativepath2)\n",
    "            #print(scmd + tcmd)\n",
    "            f.write(scmd + tcmd + '\\n')\n",
    "            t4CommandTotal += 1\n",
    "\n",
    "#set time limit for this batch run\n",
    "outputbatchscript = batchtemplate.format(ocr_time,  t4_command_script)\n",
    "with open(slurm_script, 'w') as f:  \n",
    "    f.write(outputbatchscript)"
   ]
  },
  {
   "cell_type": "markdown",
   "metadata": {},
   "source": [
    "__Execute the task script with ht_helper__"
   ]
  },
  {
   "cell_type": "code",
   "execution_count": null,
   "metadata": {
    "collapsed": false
   },
   "outputs": [],
   "source": [
    "os.chdir(run_folder)\n",
    "print ('current working directory: ', os.getcwd())\n",
    "\n",
    "out = !sbatch slurmscript.sh   \n",
    "    \n",
    "print('Execute tesseract4 output: ', out ) \n",
    "job_id = out[0].split()[3]\n",
    "print(job_id)"
   ]
  },
  {
   "cell_type": "code",
   "execution_count": null,
   "metadata": {
    "collapsed": false
   },
   "outputs": [],
   "source": [
    "#Henry Ang 10/13/2017\n",
    "logMsg = \"{1} Start converting PNG to text, job ID:{0}\".format(job_id, strftime(\"%Y-%m-%d %H:%M:%S\", localtime()))\n",
    "print(logMsg)\n",
    "!echo $logMsg >> /global/scratch/groups/dh/aanderson/process_log.txt"
   ]
  },
  {
   "cell_type": "code",
   "execution_count": null,
   "metadata": {
    "collapsed": false
   },
   "outputs": [],
   "source": [
    "import time\n",
    "# print the users queue and the job status by id\n",
    "!squeue -u $username #possibly do not need\n",
    "print('--------------------------------')\n",
    "print('Savio Job has been submitted. This cell will notify you when the job is done.')\n",
    "jobState = False\n",
    "while not jobState:\n",
    "    out = !scontrol show job $job_id\n",
    "    if any(\"COMPLETED\" in s for s in out):\n",
    "        print('\\n******Savio Job finished******')\n",
    "        jobState = True\n",
    "    else:\n",
    "       print('.', end='')\n",
    "       time.sleep(10) #Can tweak this so that people can see it moving"
   ]
  },
  {
   "cell_type": "code",
   "execution_count": null,
   "metadata": {
    "collapsed": false
   },
   "outputs": [],
   "source": [
    "os.chdir(run_folder)\n",
    "print ('current working directory: ', os.getcwd())\n",
    "\n",
    "fileroot = project_name + '.' + job_id + '.log'\n",
    "#tasklist = validateTaskResults(fileroot, 10) first check a small subset\n",
    "tasklist = validateTaskResults(fileroot, t4CommandTotal)\n",
    "print ('these tasks in task script failed: ', tasklist)\n",
    "\n",
    "# Remove task logs\n",
    "#filter = fileroot + '*'\n",
    "#for f in glob.glob(filter):\n",
    "#    os.remove(f)"
   ]
  },
  {
   "cell_type": "markdown",
   "metadata": {},
   "source": [
    "### Copy all .hocr files to results directory"
   ]
  },
  {
   "cell_type": "code",
   "execution_count": null,
   "metadata": {
    "collapsed": false
   },
   "outputs": [],
   "source": [
    "chmod 775 $scratch_data_dir/*.hocr\n",
    "!cp $scratch_data_dir/*.hocr $ocr_output_dir"
   ]
  },
  {
   "cell_type": "code",
   "execution_count": null,
   "metadata": {
    "collapsed": true
   },
   "outputs": [],
   "source": []
  },
  {
   "cell_type": "code",
   "execution_count": null,
   "metadata": {
    "collapsed": true
   },
   "outputs": [],
   "source": []
  }
 ],
 "metadata": {
  "kernelspec": {
   "display_name": "sumerian",
   "language": "python",
   "name": "sumerian"
  },
  "language_info": {
   "codemirror_mode": {
    "name": "ipython",
    "version": 3
   },
   "file_extension": ".py",
   "mimetype": "text/x-python",
   "name": "python",
   "nbconvert_exporter": "python",
   "pygments_lexer": "ipython3",
   "version": "3.5.4"
  }
 },
 "nbformat": 4,
 "nbformat_minor": 1
}
