{
 "cells": [
  {
   "cell_type": "markdown",
   "metadata": {
    "collapsed": true
   },
   "source": [
    "### This notebook is an exemplar which demonstrates transferring zip files between a bDrive folder and Savio scratch to run OCR on images using Tesseract (inside a Singularity container)\n",
    "\n",
    "( tested with boxsdk (2.0.0a2) on python 3.5 kernel)\n",
    "pip install -Iv boxsdk==2.0.0a2 "
   ]
  },
  {
   "cell_type": "markdown",
   "metadata": {},
   "source": [
    "\n",
    "_This software is available under the terms of the Educational Community License, Version 2.0 (ECL 2.0). This software is Copyright 2016 The Regents of the University of California, Berkeley (\"Berkeley\")._\n",
    "\n",
    "The text of the ECL license is reproduced below.\n",
    "\n",
    "Educational Community License, Version 2.0\n",
    "*************************************\n",
    "Copyright 2017 The Regents of the University of California, Berkeley (\"Berkeley\")\n",
    "\n",
    "Educational Community License, Version 2.0, April 2007\n",
    "\n",
    "The Educational Community License version 2.0 (\"ECL\") consists of the\n",
    "Apache 2.0 license, modified to change the scope of the patent grant in\n",
    "section 3 to be specific to the needs of the education communities using\n",
    "this license. The original Apache 2.0 license can be found at:[http://www.apache.org/licenses/LICENSE-2.0]"
   ]
  },
  {
   "cell_type": "markdown",
   "metadata": {},
   "source": [
    "### Notebook configuration section\n",
    "Set of target and source directories, script file names and other used as parameters in processing below."
   ]
  },
  {
   "cell_type": "code",
   "execution_count": 50,
   "metadata": {
    "collapsed": true
   },
   "outputs": [],
   "source": [
    "savioUsername = 'mmanning' #Put your savio username here\n",
    "bDriveProjectFolder = 'CShapreau' #Put the name of your Google Drive Folder with data here, ensure that it is NOT nested\n",
    "bDriveResultsFolder = 'CShapreau' #Put the name of the Drive Folder where you would like results placed. \n",
    "projectname = 'cstest1'         #Put the name of the folder in your scratch folder you would like data stored in\n"
   ]
  },
  {
   "cell_type": "code",
   "execution_count": 51,
   "metadata": {
    "collapsed": false
   },
   "outputs": [],
   "source": [
    "runFolder = '/global/scratch/' + savioUsername + '/' + projectname + '/'\n",
    "\n",
    "tesseractimage = '/global/scratch/groups/dh/tesseract4.img'\n",
    "tesseractdatadir = '/opt/tessdata/'\n",
    "pdfnamelist = []\n",
    "\n",
    "scratchDataDirectory = '/global/scratch/' + savioUsername + '/' + projectname + '/data/'\n",
    "tesseractScratchDataDirectory = '/scratch/'\n",
    "\n",
    "SINGULARITYCMD = 'singularity exec -B ' + runFolder + ':/scratch/  ' + tesseractimage"
   ]
  },
  {
   "cell_type": "code",
   "execution_count": 52,
   "metadata": {
    "collapsed": false
   },
   "outputs": [],
   "source": [
    "#Make Directories if they do not exist\n",
    "import os\n",
    "import sys\n",
    "import errno\n",
    "\n",
    "def dir_create(path):\n",
    "    try:\n",
    "        os.makedirs(path)\n",
    "    except OSError as exception:\n",
    "        if exception.errno != errno.EEXIST:\n",
    "            raise\n",
    "        else:\n",
    "            print('Folder at: ' + path + ' already exists. Skipping...')\n",
    "if ( not (os.path.exists(runFolder) and os.path.isdir(runFolder) )  ):\n",
    "    dir_create(runFolder)\n",
    "if ( not (os.path.exists(scratchDataDirectory) and os.path.isdir(scratchDataDirectory) )  ):\n",
    "    dir_create(scratchDataDirectory)"
   ]
  },
  {
   "cell_type": "code",
   "execution_count": 54,
   "metadata": {
    "collapsed": true
   },
   "outputs": [],
   "source": [
    "\n",
    "def find_folder_id(folder_name):\n",
    "    folderlist = client.search(query=folder_name, result_type='folder', limit=50, offset=0)\n",
    "    \n",
    "    if len(folderlist) == 0 or len(folderlist) > 1:\n",
    "        print('folder not found: ', folder_name)\n",
    "        return 0\n",
    "    else:\n",
    "        return folderlist[0]['id']"
   ]
  },
  {
   "cell_type": "markdown",
   "metadata": {},
   "source": [
    "### bDrive Authorization"
   ]
  },
  {
   "cell_type": "code",
   "execution_count": 55,
   "metadata": {
    "collapsed": false
   },
   "outputs": [],
   "source": [
    "import codecs\n",
    "import httplib2\n",
    "from googleapiclient.http import MediaIoBaseDownload\n",
    "from googleapiclient.http import MediaFileUpload\n",
    "from apiclient import discovery, errors\n",
    "from oauth2client import client\n",
    "from oauth2client import tools\n",
    "from oauth2client.file import Storage"
   ]
  },
  {
   "cell_type": "code",
   "execution_count": 56,
   "metadata": {
    "collapsed": true
   },
   "outputs": [],
   "source": [
    "SCOPES = 'https://www.googleapis.com/auth/drive'\n",
    "CLIENT_SECRET_FILE = 'client_secret.json'\n",
    "APPLICATION_NAME = 'gDriveConnect'"
   ]
  },
  {
   "cell_type": "code",
   "execution_count": 57,
   "metadata": {
    "collapsed": false
   },
   "outputs": [],
   "source": [
    "import argparse\n",
    "parser = argparse.ArgumentParser(parents=[tools.argparser])\n",
    "parser.add_argument('-f', help=argparse.SUPPRESS)\n",
    "\n",
    "flags = parser.parse_known_args()[0]\n",
    "flags.noauth_local_webserver = True"
   ]
  },
  {
   "cell_type": "code",
   "execution_count": 58,
   "metadata": {
    "collapsed": true
   },
   "outputs": [],
   "source": [
    "def get_credentials():\n",
    "    \n",
    "    home_dir = os.path.expanduser('~')\n",
    "    credential_dir = os.path.join(home_dir, '.credentials')\n",
    "    if not os.path.exists(credential_dir):\n",
    "        os.makedirs(credential_dir)\n",
    "    credential_path = os.path.join(credential_dir, 'gDriveConnect.json')\n",
    "    \n",
    "    store = Storage(credential_path)    \n",
    "    credentials = store.get()\n",
    "    \n",
    "    if not credentials or credentials.invalid:\n",
    "        flow = client.flow_from_clientsecrets(CLIENT_SECRET_FILE, SCOPES)\n",
    "        flow.user_agent = APPLICATION_NAME\n",
    "        if flags:\n",
    "            credentials = tools.run_flow(flow, store, flags)\n",
    "        else: # Needed only for compatibility with Python 2.6\n",
    "            credentials = tools.run(flow, store)\n",
    "        print('Storing credentials to ' + credential_path)\n",
    "        \n",
    "    return credentials"
   ]
  },
  {
   "cell_type": "code",
   "execution_count": 59,
   "metadata": {
    "collapsed": false
   },
   "outputs": [
    {
     "name": "stdout",
     "output_type": "stream",
     "text": [
      "credential_path: <oauth2client.client.OAuth2Credentials object at 0x2aad8d48a860>\n"
     ]
    }
   ],
   "source": [
    "credentials = get_credentials()\n",
    "print('credential_path:', credentials)\n",
    "http = credentials.authorize(httplib2.Http())\n",
    "service = discovery.build('drive', 'v3', http=http)"
   ]
  },
  {
   "cell_type": "code",
   "execution_count": 83,
   "metadata": {
    "collapsed": false
   },
   "outputs": [
    {
     "name": "stdout",
     "output_type": "stream",
     "text": [
      "target folder id:1F7u35MJvMBkImGUuc1mX_9zj7kEi9x_N\n",
      "results folder id:1F7u35MJvMBkImGUuc1mX_9zj7kEi9x_N\n"
     ]
    }
   ],
   "source": [
    "# loop thru folders to get the target dfolder for the download\n",
    "page_token=None\n",
    "response = service.files().list(q=\"mimeType='application/vnd.google-apps.folder'\",\n",
    "                                     spaces='drive',\n",
    "                                     fields='files(id, name)',\n",
    "                                     pageToken=page_token).execute()\n",
    "targetFolderId = ''\n",
    "resultsFolderId = ''\n",
    "for file in response.get('files', []):\n",
    "    if file.get('name')== bDriveProjectFolder:\n",
    "        targetFolderId = file.get('id')\n",
    "    if file.get('name')== bDriveResultsFolder:\n",
    "        resultsFolderId = file.get('id')\n",
    "print('target folder id:' + targetFolderId)\n",
    "print('results folder id:' + resultsFolderId)\n",
    "\n",
    "\n"
   ]
  },
  {
   "cell_type": "code",
   "execution_count": 61,
   "metadata": {
    "collapsed": false
   },
   "outputs": [],
   "source": [
    "\n",
    "# Get names of all the folders\n",
    "def get_drive_contents(folder_id):\n",
    "    filemap = {}\n",
    "    query=\"'\" + folder_id + \"' in parents and trashed=false\"\n",
    "    \n",
    "    # This implementation is copied from below (commented out)\n",
    "    page_token = None\n",
    "    while True:\n",
    "        response = service.files().list(q=query,\n",
    "                                             spaces='drive',\n",
    "                                             fields='nextPageToken, files(id, name)',\n",
    "                                             pageToken=page_token).execute()\n",
    "        for file in response.get('files', []):\n",
    "            # Process change\n",
    "            print('Found file: %s (%s)' % (file.get('name'), file.get('id')) )\n",
    "            filemap[file.get('id')] = file.get('name')\n",
    "\n",
    "        page_token = response.get('nextPageToken', None)\n",
    "        if page_token is None:\n",
    "            break;\n",
    "    return filemap\n"
   ]
  },
  {
   "cell_type": "code",
   "execution_count": 62,
   "metadata": {
    "collapsed": false
   },
   "outputs": [],
   "source": [
    "\n",
    "gsCommandScript = runFolder + 'gsCommandScript.sh'\n",
    "t4CommandScript = runFolder + 't4CommandScript.sh'\n",
    "slurmScript = runFolder + 'slurmscript.sh'\n"
   ]
  },
  {
   "cell_type": "code",
   "execution_count": 63,
   "metadata": {
    "collapsed": false
   },
   "outputs": [],
   "source": [
    "# Added by Nicolas Chan based on previous code, 10/12/2017\n",
    "import io\n",
    "def download_file(google_id, destination):\n",
    "    \"\"\"Downloads a file from Google Drive\"\"\"\n",
    "    \n",
    "    request = service.files().get_media(fileId=google_id)\n",
    "    fh = io.BytesIO()\n",
    "    downloader = MediaIoBaseDownload(fh, request)\n",
    "    \n",
    "    done = False\n",
    "    while done is False:\n",
    "        try:\n",
    "            status, done = downloader.next_chunk()\n",
    "            sys.stdout.write('.')\n",
    "        except errors.HttpError as error :\n",
    "            print('Error file:', value, '   id:', key)\n",
    "            print('An error occurred pulling the next chunk:', error)\n",
    "            break\n",
    "\n",
    "    fh.seek(0)\n",
    "\n",
    "    print('\\nwriting:', destination)\n",
    "    with open( destination, 'wb',) as f2:\n",
    "        f2.write(fh.getvalue())\n",
    "        f2.close()\n",
    "\n",
    "    fh.close()"
   ]
  },
  {
   "cell_type": "code",
   "execution_count": 65,
   "metadata": {
    "collapsed": false
   },
   "outputs": [
    {
     "name": "stdout",
     "output_type": "stream",
     "text": [
      "Found file: shapreau scan5.jpg (149YlCGjWAySaAPWVqz24mYz24KMAf890)\n",
      "Found file: shapreau scan2.jpg (1eo1-nowSdK_ppWTsj18Yw2yfwGO11u-5)\n",
      "Found file: shapreau scan3.jpg (10tJPlTHs2HgDVnOpad66jVJcMRaCBi8P)\n",
      "Found file: shapreau scan6.jpg (120uJh1a_zfgCcSvODL7cYWnRPynmBzjT)\n",
      "Found file: shapreau scan7.jpg (1ktfVDmMQ6Z8CWTxuKxVsr36ld9Rpd1k3)\n",
      "Found file: shapreau scan1.jpg (1t0wLN71g-mZiSNSvQuad49ppCQdPgBIb)\n",
      "Found file: shapreau scan4.jpg (17Ll7A5qMRz_U5ntIxp-9lBg6aAzLkB0a)\n",
      "files_to_download   {'120uJh1a_zfgCcSvODL7cYWnRPynmBzjT': 'shapreau scan6.jpg', '1t0wLN71g-mZiSNSvQuad49ppCQdPgBIb': 'shapreau scan1.jpg', '10tJPlTHs2HgDVnOpad66jVJcMRaCBi8P': 'shapreau scan3.jpg', '149YlCGjWAySaAPWVqz24mYz24KMAf890': 'shapreau scan5.jpg', '1ktfVDmMQ6Z8CWTxuKxVsr36ld9Rpd1k3': 'shapreau scan7.jpg', '1eo1-nowSdK_ppWTsj18Yw2yfwGO11u-5': 'shapreau scan2.jpg', '17Ll7A5qMRz_U5ntIxp-9lBg6aAzLkB0a': 'shapreau scan4.jpg'}\n",
      "scratchDataDirectory   /global/scratch/mmanning/cstest1/data/\n",
      "file   shapreau scan6.jpg\n",
      "..\n",
      "writing: /global/scratch/mmanning/cstest1/data/120uJh1a_zfgCcSvODL7cYWnRPynmBzjT.jpg\n",
      "file   shapreau scan1.jpg\n",
      "..\n",
      "writing: /global/scratch/mmanning/cstest1/data/1t0wLN71g-mZiSNSvQuad49ppCQdPgBIb.jpg\n",
      "file   shapreau scan3.jpg\n",
      ".\n",
      "writing: /global/scratch/mmanning/cstest1/data/10tJPlTHs2HgDVnOpad66jVJcMRaCBi8P.jpg\n",
      "file   shapreau scan5.jpg\n",
      ".\n",
      "writing: /global/scratch/mmanning/cstest1/data/149YlCGjWAySaAPWVqz24mYz24KMAf890.jpg\n",
      "file   shapreau scan7.jpg\n",
      "..\n",
      "writing: /global/scratch/mmanning/cstest1/data/1ktfVDmMQ6Z8CWTxuKxVsr36ld9Rpd1k3.jpg\n",
      "file   shapreau scan2.jpg\n",
      ".\n",
      "writing: /global/scratch/mmanning/cstest1/data/1eo1-nowSdK_ppWTsj18Yw2yfwGO11u-5.jpg\n",
      "file   shapreau scan4.jpg\n",
      "..\n",
      "writing: /global/scratch/mmanning/cstest1/data/17Ll7A5qMRz_U5ntIxp-9lBg6aAzLkB0a.jpg\n"
     ]
    }
   ],
   "source": [
    "\n",
    "filemap = get_drive_contents(targetFolderId)\n",
    "\n",
    "print('files_to_download   ' + str(filemap) )\n",
    "print('scratchDataDirectory   ' + scratchDataDirectory)\n",
    "\n",
    "# Download specified files\n",
    "for key, val in filemap.items():\n",
    "    print('file   ' + val)\n",
    "    download_file(key, scratchDataDirectory + key + '.jpg')"
   ]
  },
  {
   "cell_type": "markdown",
   "metadata": {},
   "source": [
    "### Utility functions"
   ]
  },
  {
   "cell_type": "markdown",
   "metadata": {},
   "source": [
    "__Validate all the task log files produced by ht_helper __"
   ]
  },
  {
   "cell_type": "code",
   "execution_count": 66,
   "metadata": {
    "collapsed": false
   },
   "outputs": [],
   "source": [
    "def validateTaskResults(fileroot, totalTasks):\n",
    "    # file root is job-name.jobId.taskNumber.log\n",
    "    \n",
    "    errorList = []\n",
    "    \n",
    "    for i in range(0, totalTasks-1):\n",
    "        fn = fileroot + '.' + str(i)\n",
    "        if os.path.exists(fn):\n",
    "            out = !tail -1 {fn}\n",
    "            retval = out[0]\n",
    "            #print ('return code: ', out[0])\n",
    "        else:\n",
    "            print ('warning: log file not available: ', fn)\n",
    "        \n",
    "        if ( retval != '0' ):\n",
    "            errorList.append(i)\n",
    "            \n",
    "    return errorList\n"
   ]
  },
  {
   "cell_type": "markdown",
   "metadata": {},
   "source": [
    "__SLURM job script__ normal"
   ]
  },
  {
   "cell_type": "code",
   "execution_count": 67,
   "metadata": {
    "collapsed": false
   },
   "outputs": [],
   "source": [
    "# batch script\n",
    "batchtemplate = '#!/bin/bash -l  \\n\\\n",
    "# Job name: \\n\\\n",
    "#SBATCH --job-name=' + projectname + '\\n\\\n",
    "# \\n\\\n",
    "# Account: \\n\\\n",
    "#SBATCH --account=ac_scsguest \\n\\\n",
    "# \\n\\\n",
    "# Partition: \\n\\\n",
    "#SBATCH --partition=savio2 \\n\\\n",
    "# \\n\\\n",
    "## Scale by increasing the number of nodes \\n\\\n",
    "#SBATCH --nodes=1  \\n\\\n",
    "## DO NOT change ntasks-per-node setting as T4 also distributes across cores \\n\\\n",
    "#SBATCH --ntasks-per-node=6 \\n\\\n",
    "#SBATCH --qos=savio_normal \\n\\\n",
    "# \\n\\\n",
    "# Wall clock limit: \\n\\\n",
    "#SBATCH --time={} \\n\\\n",
    "# \\n\\\n",
    "## Command(s) to run: \\n\\\n",
    "module load gcc openmpi  \\n\\\n",
    "/global/home/groups/allhands/bin/ht_helper.sh  -t {} -n1 -s1 -vL \\n' \n"
   ]
  },
  {
   "cell_type": "markdown",
   "metadata": {},
   "source": [
    "### Create script to ocr all png files in working directory to text"
   ]
  },
  {
   "cell_type": "code",
   "execution_count": 71,
   "metadata": {
    "collapsed": false
   },
   "outputs": [
    {
     "name": "stdout",
     "output_type": "stream",
     "text": [
      "current working directory:  /global/scratch/mmanning/cstest1/data\n",
      "entry:  1eo1-nowSdK_ppWTsj18Yw2yfwGO11u-5.jpg\n",
      "singularity exec -B /global/scratch/mmanning/cstest1/data/:/scratch/ /global/scratch/groups/dh/tesseract4.img  sh -c 'OMP_NUM_THREADS=1 tesseract --tessdata-dir /opt/tessdata  -l deu \"/scratch/1eo1-nowSdK_ppWTsj18Yw2yfwGO11u-5.jpg\" \"/scratch/1eo1-nowSdK_ppWTsj18Yw2yfwGO11u-5\" ';  echo $?\n",
      "entry:  149YlCGjWAySaAPWVqz24mYz24KMAf890.jpg\n",
      "singularity exec -B /global/scratch/mmanning/cstest1/data/:/scratch/ /global/scratch/groups/dh/tesseract4.img  sh -c 'OMP_NUM_THREADS=1 tesseract --tessdata-dir /opt/tessdata  -l deu \"/scratch/149YlCGjWAySaAPWVqz24mYz24KMAf890.jpg\" \"/scratch/149YlCGjWAySaAPWVqz24mYz24KMAf890\" ';  echo $?\n",
      "entry:  120uJh1a_zfgCcSvODL7cYWnRPynmBzjT.jpg\n",
      "singularity exec -B /global/scratch/mmanning/cstest1/data/:/scratch/ /global/scratch/groups/dh/tesseract4.img  sh -c 'OMP_NUM_THREADS=1 tesseract --tessdata-dir /opt/tessdata  -l deu \"/scratch/120uJh1a_zfgCcSvODL7cYWnRPynmBzjT.jpg\" \"/scratch/120uJh1a_zfgCcSvODL7cYWnRPynmBzjT\" ';  echo $?\n",
      "entry:  10tJPlTHs2HgDVnOpad66jVJcMRaCBi8P.jpg\n",
      "singularity exec -B /global/scratch/mmanning/cstest1/data/:/scratch/ /global/scratch/groups/dh/tesseract4.img  sh -c 'OMP_NUM_THREADS=1 tesseract --tessdata-dir /opt/tessdata  -l deu \"/scratch/10tJPlTHs2HgDVnOpad66jVJcMRaCBi8P.jpg\" \"/scratch/10tJPlTHs2HgDVnOpad66jVJcMRaCBi8P\" ';  echo $?\n",
      "entry:  1ktfVDmMQ6Z8CWTxuKxVsr36ld9Rpd1k3.jpg\n",
      "singularity exec -B /global/scratch/mmanning/cstest1/data/:/scratch/ /global/scratch/groups/dh/tesseract4.img  sh -c 'OMP_NUM_THREADS=1 tesseract --tessdata-dir /opt/tessdata  -l deu \"/scratch/1ktfVDmMQ6Z8CWTxuKxVsr36ld9Rpd1k3.jpg\" \"/scratch/1ktfVDmMQ6Z8CWTxuKxVsr36ld9Rpd1k3\" ';  echo $?\n",
      "entry:  1t0wLN71g-mZiSNSvQuad49ppCQdPgBIb.jpg\n",
      "singularity exec -B /global/scratch/mmanning/cstest1/data/:/scratch/ /global/scratch/groups/dh/tesseract4.img  sh -c 'OMP_NUM_THREADS=1 tesseract --tessdata-dir /opt/tessdata  -l deu \"/scratch/1t0wLN71g-mZiSNSvQuad49ppCQdPgBIb.jpg\" \"/scratch/1t0wLN71g-mZiSNSvQuad49ppCQdPgBIb\" ';  echo $?\n",
      "entry:  17Ll7A5qMRz_U5ntIxp-9lBg6aAzLkB0a.jpg\n",
      "singularity exec -B /global/scratch/mmanning/cstest1/data/:/scratch/ /global/scratch/groups/dh/tesseract4.img  sh -c 'OMP_NUM_THREADS=1 tesseract --tessdata-dir /opt/tessdata  -l deu \"/scratch/17Ll7A5qMRz_U5ntIxp-9lBg6aAzLkB0a.jpg\" \"/scratch/17Ll7A5qMRz_U5ntIxp-9lBg6aAzLkB0a\" ';  echo $?\n"
     ]
    }
   ],
   "source": [
    "import glob, os\n",
    "os.chdir(scratchDataDirectory)\n",
    "print ('current working directory: ', os.getcwd())\n",
    "SINGULARITYCMD = 'singularity exec -B {}:/scratch/ /global/scratch/groups/dh/tesseract4.img ' \n",
    "\n",
    "# template: tesseract --tessdata-dir /opt/tessdata /scratch/germanocr_Page_01.png  germanout  -l deu\n",
    "#TCMD = ' sh -c \\'OMP_NUM_THREADS=1 tesseract --tessdata-dir /opt/tessdata \\\"{}\\\" \\\"{}\\\" \\'  -l deu+eng+tur+fra -c tessedit_create_hocr=1;  echo $?'\n",
    "#TCMD = ' sh -c \\'OMP_NUM_THREADS=1 tesseract --tessdata-dir /opt/tessdata  -l deu+eng+tur+fra -c tessedit_create_hocr=1 \\\"{}\\\" \\\"{}\\\" \\';  echo $?'\n",
    "TCMD = ' sh -c \\'OMP_NUM_THREADS=1 tesseract --tessdata-dir /opt/tessdata  -l deu \\\"{}\\\" \\\"{}\\\" \\';  echo $?'\n",
    "\n",
    "#\n",
    "\n",
    "scmd = SINGULARITYCMD.format(scratchDataDirectory)\n",
    "# total number of tesseract tasks\n",
    "t4CommandTotal = 0\n",
    "\n",
    "with open(t4CommandScript, 'w') as f:\n",
    "\n",
    "    for entry in glob.glob('*.jpg'):\n",
    "        print ('entry: ', entry)\n",
    "        filename, file_extension = os.path.splitext(entry)\n",
    "        tcmd = TCMD.format(tesseractScratchDataDirectory+entry, tesseractScratchDataDirectory+filename )\n",
    "        print(scmd + tcmd)\n",
    "        f.write(scmd + tcmd + '\\n')\n",
    "        t4CommandTotal += 1\n",
    "    \n",
    "    \n",
    "#set time limit for this batch run\n",
    "outputbatchscript = batchtemplate.format('00:15:00',  t4CommandScript)\n",
    "with open(slurmScript, 'w') as f:  \n",
    "    f.write(outputbatchscript)"
   ]
  },
  {
   "cell_type": "markdown",
   "metadata": {},
   "source": [
    "__Execute the task script with ht_helper__"
   ]
  },
  {
   "cell_type": "code",
   "execution_count": 72,
   "metadata": {
    "collapsed": false
   },
   "outputs": [
    {
     "name": "stdout",
     "output_type": "stream",
     "text": [
      "current working directory:  /global/scratch/mmanning/cstest1\n",
      "Execute tesseract4 output:  ['Submitted batch job 2006473']\n",
      "2006473\n"
     ]
    }
   ],
   "source": [
    "os.chdir(runFolder)\n",
    "print ('current working directory: ', os.getcwd())\n",
    "\n",
    "out = !sbatch slurmscript.sh   \n",
    "    \n",
    "print ('Execute tesseract4 output: ', out ) \n",
    "jobId =  out[0].split()[3]\n",
    "print (jobId)"
   ]
  },
  {
   "cell_type": "code",
   "execution_count": 73,
   "metadata": {
    "collapsed": false
   },
   "outputs": [
    {
     "name": "stdout",
     "output_type": "stream",
     "text": [
      "2017-12-05 14:23:50 Start converting PNG to text, job ID:2006473\n"
     ]
    }
   ],
   "source": [
    "#Henry Ang 10/13/2017\n",
    "from time import localtime, strftime\n",
    "logMsg = \"{1} Start converting PNG to text, job ID:{0}\".format(jobId, strftime(\"%Y-%m-%d %H:%M:%S\", localtime()))\n",
    "print(logMsg)\n",
    "!echo $logMsg >> /global/scratch/groups/dh/process_log.txt"
   ]
  },
  {
   "cell_type": "code",
   "execution_count": 75,
   "metadata": {
    "collapsed": false
   },
   "outputs": [
    {
     "name": "stdout",
     "output_type": "stream",
     "text": [
      "             JOBID PARTITION     NAME     USER ST       TIME  NODES NODELIST(REASON)\n",
      "--------------------------------\n",
      "Savio Job has been submitted. This cell will notify you when the job is done.\n",
      "\n",
      "******Savio Job finished******\n"
     ]
    }
   ],
   "source": [
    "import time\n",
    "# print the users queue and the job status by id\n",
    "!squeue -u $savioUsername #possibly do not need\n",
    "print('--------------------------------')\n",
    "print('Savio Job has been submitted. This cell will notify you when the job is done.')\n",
    "jobState = False\n",
    "while not jobState:\n",
    "    out = !scontrol show job $jobId\n",
    "    if any(\"COMPLETED\" in s for s in out):\n",
    "        print('\\n******Savio Job finished******')\n",
    "        jobState = True\n",
    "    else:\n",
    "       print('.', end='')\n",
    "       time.sleep(10) #Can tweak this so that people can see it moving\n",
    "        "
   ]
  },
  {
   "cell_type": "markdown",
   "metadata": {},
   "source": [
    "__Check all task log files for bad exit code__"
   ]
  },
  {
   "cell_type": "code",
   "execution_count": 76,
   "metadata": {
    "collapsed": false
   },
   "outputs": [
    {
     "name": "stdout",
     "output_type": "stream",
     "text": [
      "current working directory:  /global/scratch/mmanning/cstest1\n",
      "these tasks in task script failed:  []\n"
     ]
    }
   ],
   "source": [
    "\n",
    "os.chdir(runFolder)\n",
    "print ('current working directory: ', os.getcwd())\n",
    "\n",
    "fileroot = projectname + '.' + jobId + '.log'\n",
    "#tasklist = validateTaskResults(fileroot, 10) first check a small subset\n",
    "tasklist = validateTaskResults(fileroot, t4CommandTotal)\n",
    "print ('these tasks in task script failed: ', tasklist)\n",
    "\n",
    "# Remove task logs\n",
    "#filter = fileroot + '*'\n",
    "#for f in glob.glob(filter):\n",
    "#    os.remove(f)"
   ]
  },
  {
   "cell_type": "markdown",
   "metadata": {},
   "source": [
    "### Send output text file to Google Translate"
   ]
  },
  {
   "cell_type": "code",
   "execution_count": 82,
   "metadata": {
    "collapsed": false
   },
   "outputs": [
    {
     "name": "stdout",
     "output_type": "stream",
     "text": [
      "filename:  10tJPlTHs2HgDVnOpad66jVJcMRaCBi8P file_extension:  .txt\n",
      "translate:  10tJPlTHs2HgDVnOpad66jVJcMRaCBi8P\n",
      "filename:  149YlCGjWAySaAPWVqz24mYz24KMAf890 file_extension:  .txt\n",
      "translate:  149YlCGjWAySaAPWVqz24mYz24KMAf890\n",
      "filename:  1t0wLN71g-mZiSNSvQuad49ppCQdPgBIb file_extension:  .txt\n",
      "translate:  1t0wLN71g-mZiSNSvQuad49ppCQdPgBIb\n",
      "filename:  17Ll7A5qMRz_U5ntIxp-9lBg6aAzLkB0a file_extension:  .txt\n",
      "translate:  17Ll7A5qMRz_U5ntIxp-9lBg6aAzLkB0a\n",
      "filename:  1ktfVDmMQ6Z8CWTxuKxVsr36ld9Rpd1k3 file_extension:  .txt\n",
      "translate:  1ktfVDmMQ6Z8CWTxuKxVsr36ld9Rpd1k3\n",
      "filename:  120uJh1a_zfgCcSvODL7cYWnRPynmBzjT file_extension:  .txt\n",
      "translate:  120uJh1a_zfgCcSvODL7cYWnRPynmBzjT\n",
      "filename:  1eo1-nowSdK_ppWTsj18Yw2yfwGO11u-5 file_extension:  .txt\n",
      "translate:  1eo1-nowSdK_ppWTsj18Yw2yfwGO11u-5\n"
     ]
    }
   ],
   "source": [
    "from google.cloud import translate\n",
    "os.chdir(scratchDataDirectory)\n",
    "target_language = 'en'\n",
    "\n",
    "# create client from service account json\n",
    "client = translate.Client.from_service_account_json('/global/home/users/mmanning/gdrive_connect_service_account.json')\n",
    "\n",
    "for entry in glob.glob('*.txt'):\n",
    "    filename, file_extension = os.path.splitext(entry)\n",
    "    print ('filename: ', filename, 'file_extension: ', file_extension)\n",
    "    if ( entry.endswith('.txt')):\n",
    "        \n",
    "        print ('translate: ', filename)\n",
    "        \n",
    "        # Read input file contents\n",
    "        input_contents = ''\n",
    "        with open(filename + file_extension, encoding='utf8') as file:\n",
    "            for line in file.readlines():\n",
    "                input_contents += line\n",
    "                \n",
    "        # Translate file contents\n",
    "        translation = client.translate(input_contents, target_language=target_language)\n",
    "        \n",
    "        # Translation contains escaped HTML charcaters such as '&#39;' for an apostrophe.\n",
    "        # To fix this, unescape HTML\n",
    "        from html import unescape\n",
    "        translation_text = unescape(translation['translatedText'])\n",
    "        \n",
    "        \n",
    "        # Write output to output file\n",
    "        output_file = open((filename + '-' + target_language + '.txt'), 'w', encoding='utf8')\n",
    "        output_file.write(translation_text)\n",
    "        output_file.close()\n",
    "        \n",
    "        \n",
    "        "
   ]
  },
  {
   "cell_type": "markdown",
   "metadata": {
    "collapsed": true
   },
   "source": [
    "#### Move the resulting files to bDrive."
   ]
  },
  {
   "cell_type": "code",
   "execution_count": 84,
   "metadata": {
    "collapsed": false
   },
   "outputs": [],
   "source": [
    "def upload_txt_file(name, path, destination_folder=None):\n",
    "    \"\"\"Upload a text file to Google Drive\"\"\"\n",
    "    \n",
    "    file_metadata = { 'name': name }\n",
    "    if destination_folder:\n",
    "        file_metadata['parents'] = [destination_folder]\n",
    "    media = MediaFileUpload(path, mimetype='text/plain')\n",
    "    file = service.files().create(\n",
    "        body=file_metadata,\n",
    "        media_body=media,\n",
    "        fields='id'\n",
    "    ).execute()\n",
    "    print('Uploaded', name, '; ID:', file.get('id'))\n"
   ]
  },
  {
   "cell_type": "code",
   "execution_count": 86,
   "metadata": {
    "collapsed": false
   },
   "outputs": [
    {
     "name": "stdout",
     "output_type": "stream",
     "text": [
      "entry:  149YlCGjWAySaAPWVqz24mYz24KMAf890-en.txt\n",
      "Uploaded 149YlCGjWAySaAPWVqz24mYz24KMAf890-en.txt ; ID: 1CwvpPPXTamR4cqGqRZXHYkhTncF-8kGT\n",
      "entry:  120uJh1a_zfgCcSvODL7cYWnRPynmBzjT-en.txt\n",
      "Uploaded 120uJh1a_zfgCcSvODL7cYWnRPynmBzjT-en.txt ; ID: 1PlAaK0RSiqnOJk2AkzZ3LeApIyoga_13\n",
      "entry:  1t0wLN71g-mZiSNSvQuad49ppCQdPgBIb-en.txt\n",
      "Uploaded 1t0wLN71g-mZiSNSvQuad49ppCQdPgBIb-en.txt ; ID: 17UM0l3qbnsB6-PJTV3kgpYaSP8yuQxEl\n",
      "entry:  1ktfVDmMQ6Z8CWTxuKxVsr36ld9Rpd1k3-en.txt\n",
      "Uploaded 1ktfVDmMQ6Z8CWTxuKxVsr36ld9Rpd1k3-en.txt ; ID: 1ylD_Au_T5qEI2DIHl1Iq1M7Luf2hBoce\n",
      "entry:  17Ll7A5qMRz_U5ntIxp-9lBg6aAzLkB0a-en.txt\n",
      "Uploaded 17Ll7A5qMRz_U5ntIxp-9lBg6aAzLkB0a-en.txt ; ID: 1je9v-Lyce3_FQjmIKTEFIcUBAgXW06A9\n",
      "entry:  10tJPlTHs2HgDVnOpad66jVJcMRaCBi8P-en.txt\n",
      "Uploaded 10tJPlTHs2HgDVnOpad66jVJcMRaCBi8P-en.txt ; ID: 1x23PHQ8MDoaSvj9CAJmI8hGPaTi8PkFa\n",
      "entry:  1eo1-nowSdK_ppWTsj18Yw2yfwGO11u-5-en.txt\n",
      "Uploaded 1eo1-nowSdK_ppWTsj18Yw2yfwGO11u-5-en.txt ; ID: 1dDExQq-NgUcndWuv2WPg6fcHJBoI5L3D\n"
     ]
    }
   ],
   "source": [
    "\n",
    "os.chdir(scratchDataDirectory)\n",
    "for entry in glob.glob('*-' + target_language + '.txt'):\n",
    "    print (\"entry: \", entry )\n",
    "    filename, file_extension = os.path.splitext(entry)\n",
    "    if ( filename.endswith('-' + target_language )):\n",
    "        upload_txt_file( entry, entry, resultsFolderId) \n",
    "\n",
    "        \n",
    "        "
   ]
  },
  {
   "cell_type": "code",
   "execution_count": null,
   "metadata": {
    "collapsed": true
   },
   "outputs": [],
   "source": []
  }
 ],
 "metadata": {
  "kernelspec": {
   "display_name": "py35",
   "language": "python",
   "name": "py35"
  },
  "language_info": {
   "codemirror_mode": {
    "name": "ipython",
    "version": 3
   },
   "file_extension": ".py",
   "mimetype": "text/x-python",
   "name": "python",
   "nbconvert_exporter": "python",
   "pygments_lexer": "ipython3",
   "version": "3.5.3"
  }
 },
 "nbformat": 4,
 "nbformat_minor": 1
}
