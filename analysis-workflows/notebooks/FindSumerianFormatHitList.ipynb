{
 "cells": [
  {
   "cell_type": "markdown",
   "metadata": {},
   "source": [
    "### Format the histlists and add file names (Not completed)\n",
    "Henry Ang 10/23/17\n",
    "\n",
    "The Formatted hitlist should look like this:\n",
    "\n",
    "filename1;GoogleDriveFileId<br/>\n",
    "PageNumber;Evidence<br/>\n",
    "PageNumber;Evidence<br/>\n",
    "PageNumber;Evidence<br/>\n",
    "\n",
    "filename2;GoogleDriveFileId<br/>\n",
    "PageNumber;Evidence<br/>\n",
    "PageNumber;Evidence<br/>\n",
    "PageNumber;Evidence<br/>\n",
    "linebreak\n",
    "\n"
   ]
  },
  {
   "cell_type": "code",
   "execution_count": 21,
   "metadata": {
    "collapsed": true
   },
   "outputs": [],
   "source": [
    "projectDir = \"/global/scratch/groups/dh/aanderson/\"\n",
    "resultsDir = projectDir + \"results/\"\n",
    "archiveDir = projectDir + \"run_archive/\""
   ]
  },
  {
   "cell_type": "code",
   "execution_count": 8,
   "metadata": {
    "collapsed": true
   },
   "outputs": [],
   "source": [
    "import os\n",
    "import codecs\n",
    "import httplib2\n",
    "from googleapiclient.http import MediaIoBaseDownload\n",
    "from googleapiclient.http import MediaFileUpload\n",
    "from apiclient import discovery, errors\n",
    "from oauth2client import client\n",
    "from oauth2client import tools\n",
    "from oauth2client.file import Storage"
   ]
  },
  {
   "cell_type": "code",
   "execution_count": 9,
   "metadata": {
    "collapsed": true
   },
   "outputs": [],
   "source": [
    "SCOPES = 'https://www.googleapis.com/auth/drive'\n",
    "CLIENT_SECRET_FILE = 'client_secret.json'\n",
    "APPLICATION_NAME = 'gDriveConnect'"
   ]
  },
  {
   "cell_type": "code",
   "execution_count": 10,
   "metadata": {
    "collapsed": false
   },
   "outputs": [],
   "source": [
    "import argparse\n",
    "parser = argparse.ArgumentParser(parents=[tools.argparser])\n",
    "parser.add_argument('-f', help=argparse.SUPPRESS)\n",
    "\n",
    "flags = parser.parse_known_args()[0]\n",
    "flags.noauth_local_webserver = True"
   ]
  },
  {
   "cell_type": "code",
   "execution_count": 13,
   "metadata": {
    "collapsed": true
   },
   "outputs": [],
   "source": [
    "def get_credentials():\n",
    "    \n",
    "    home_dir = os.path.expanduser('~')\n",
    "    credential_dir = os.path.join(home_dir, '.credentials')\n",
    "    if not os.path.exists(credential_dir):\n",
    "        os.makedirs(credential_dir)\n",
    "    credential_path = os.path.join(credential_dir, 'gDriveConnect.json')\n",
    "    \n",
    "    store = Storage(credential_path)    \n",
    "    credentials = store.get()\n",
    "    \n",
    "    if not credentials or credentials.invalid:\n",
    "        flow = client.flow_from_clientsecrets(CLIENT_SECRET_FILE, SCOPES)\n",
    "        flow.user_agent = APPLICATION_NAME\n",
    "        if flags:\n",
    "            credentials = tools.run_flow(flow, store, flags)\n",
    "        else: # Needed only for compatibility with Python 2.6\n",
    "            credentials = tools.run(flow, store)\n",
    "        print('Storing credentials to ' + credential_path)\n",
    "        \n",
    "    return credentials"
   ]
  },
  {
   "cell_type": "code",
   "execution_count": 14,
   "metadata": {
    "collapsed": false
   },
   "outputs": [
    {
     "name": "stdout",
     "output_type": "stream",
     "text": [
      "credential_path: <oauth2client.client.OAuth2Credentials object at 0x2aeb98718278>\n"
     ]
    }
   ],
   "source": [
    "credentials = get_credentials()\n",
    "print('credential_path:', credentials)\n",
    "http = credentials.authorize(httplib2.Http())\n",
    "service = discovery.build('drive', 'v3', http=http)"
   ]
  },
  {
   "cell_type": "code",
   "execution_count": 66,
   "metadata": {
    "collapsed": false
   },
   "outputs": [],
   "source": [
    "def createFormattedHistlist(filePath, newFilePath):\n",
    "    with open(filePath, 'r', encoding='utf-8') as f:\n",
    "        content = f.readlines()\n",
    "        f.close()\n",
    "    lines = [line.strip() for line in content]\n",
    "    hitFiles = {}\n",
    "    for line in lines:\n",
    "        googleFileID, rest = line[:line.find(';')], line[line.find(';') + 1:]\n",
    "        pageNumber, rest = rest[:rest.find(';')], rest[rest.find(';') + 1:]\n",
    "        matchList = rest \n",
    "        if googleFileID in hitFiles:\n",
    "            hitFiles[googleFileID].append((pageNumber, matchList))\n",
    "        else:\n",
    "            hitFiles[googleFileID] = [(pageNumber, matchList)]\n",
    "\n",
    "    for hitFileId in hitFiles:\n",
    "        try:\n",
    "            file = service.files().get(fileId=hitFileId).execute()\n",
    "            name = file['name']\n",
    "            print(name)\n",
    "        except Error:\n",
    "            name = 'unable to get file name'\n",
    "        firstLine = \"{0};{1}\".format(name, hitFileId)\n",
    "        with open(newFilePath, 'w+', encoding='utf-8') as f2:\n",
    "            f2.close()\n",
    "        \n",
    "        \n"
   ]
  },
  {
   "cell_type": "code",
   "execution_count": 57,
   "metadata": {
    "collapsed": false,
    "scrolled": true
   },
   "outputs": [
    {
     "name": "stdout",
     "output_type": "stream",
     "text": [
      "/global/scratch/groups/dh/aanderson/results/Results_456-475/\n",
      "Dornauer, A. - Das Archiv des assyrischen Statthalters Mannu-ki-Assur von Guzana Tell Halaf 2014.pdf\n",
      "Dornauer, A. - Das Archiv des assyrischen Statthalters Mannu-ki-Assur von Guzana Tell Halaf 2014.pdf\n",
      "/bin/sh: 0B0SPxF8dXcvVZHoxZ1hHaEVuWjQ: command not found\n",
      "YOS_3\n",
      "YOS_3\n",
      "/bin/sh: 0B10LCNvl7mJdNGNtTngzWXQxbTg: command not found\n",
      "Stein_2012_SILO4.2_Lehrbuch der Sabäischen Sprache.pdf\n"
     ]
    },
    {
     "ename": "UnicodeEncodeError",
     "evalue": "'ascii' codec can't encode character '\\xe4' in position 40: ordinal not in range(128)",
     "output_type": "error",
     "traceback": [
      "\u001b[0;31m---------------------------------------------------------------------------\u001b[0m",
      "\u001b[0;31mUnicodeEncodeError\u001b[0m                        Traceback (most recent call last)",
      "\u001b[0;32m<ipython-input-57-434b56b0f70c>\u001b[0m in \u001b[0;36m<module>\u001b[0;34m()\u001b[0m\n\u001b[1;32m      8\u001b[0m     \u001b[0mfiles\u001b[0m \u001b[0;34m=\u001b[0m \u001b[0mos\u001b[0m\u001b[0;34m.\u001b[0m\u001b[0mlistdir\u001b[0m\u001b[0;34m(\u001b[0m\u001b[0mresultFolderDir\u001b[0m\u001b[0;34m)\u001b[0m\u001b[0;34m\u001b[0m\u001b[0m\n\u001b[1;32m      9\u001b[0m     \u001b[0;32mif\u001b[0m \u001b[0mSHL\u001b[0m \u001b[0;32min\u001b[0m \u001b[0mfiles\u001b[0m \u001b[0;32mand\u001b[0m \u001b[0;32mnot\u001b[0m \u001b[0mSHLF\u001b[0m \u001b[0;32min\u001b[0m \u001b[0mfiles\u001b[0m\u001b[0;34m:\u001b[0m\u001b[0;34m\u001b[0m\u001b[0m\n\u001b[0;32m---> 10\u001b[0;31m         \u001b[0mcreateFormattedHistlist\u001b[0m\u001b[0;34m(\u001b[0m\u001b[0mresultFolderDir\u001b[0m \u001b[0;34m+\u001b[0m \u001b[0mSHL\u001b[0m\u001b[0;34m,\u001b[0m \u001b[0mresultFolderDir\u001b[0m \u001b[0;34m+\u001b[0m \u001b[0mSHLF\u001b[0m\u001b[0;34m)\u001b[0m\u001b[0;34m\u001b[0m\u001b[0m\n\u001b[0m\u001b[1;32m     11\u001b[0m         \u001b[0mprint\u001b[0m \u001b[0;34m(\u001b[0m\u001b[0;34m\"create\"\u001b[0m\u001b[0;34m)\u001b[0m\u001b[0;34m\u001b[0m\u001b[0m\n\u001b[1;32m     12\u001b[0m \u001b[0;34m\u001b[0m\u001b[0m\n",
      "\u001b[0;32m<ipython-input-56-2945481c461d>\u001b[0m in \u001b[0;36mcreateFormattedHistlist\u001b[0;34m(filePath, newFilePath)\u001b[0m\n\u001b[1;32m     21\u001b[0m             \u001b[0mname\u001b[0m \u001b[0;34m=\u001b[0m \u001b[0;34m'unable to get file name'\u001b[0m\u001b[0;34m\u001b[0m\u001b[0m\n\u001b[1;32m     22\u001b[0m         \u001b[0mfirstLine\u001b[0m \u001b[0;34m=\u001b[0m \u001b[0;34m\"{0};{1}\"\u001b[0m\u001b[0;34m.\u001b[0m\u001b[0mformat\u001b[0m\u001b[0;34m(\u001b[0m\u001b[0mname\u001b[0m\u001b[0;34m,\u001b[0m \u001b[0mhitFileId\u001b[0m\u001b[0;34m)\u001b[0m\u001b[0;34m\u001b[0m\u001b[0m\n\u001b[0;32m---> 23\u001b[0;31m         \u001b[0mget_ipython\u001b[0m\u001b[0;34m(\u001b[0m\u001b[0;34m)\u001b[0m\u001b[0;34m.\u001b[0m\u001b[0msystem\u001b[0m\u001b[0;34m(\u001b[0m\u001b[0;34m'echo $firstLine > echo $newFilePath'\u001b[0m\u001b[0;34m)\u001b[0m\u001b[0;34m\u001b[0m\u001b[0m\n\u001b[0m\u001b[1;32m     24\u001b[0m \u001b[0;34m\u001b[0m\u001b[0m\n\u001b[1;32m     25\u001b[0m \u001b[0;34m\u001b[0m\u001b[0m\n",
      "\u001b[0;32m/global/software/sl-6.x86_64/modules/langs/python/3.5.1/lib/python3.5/site-packages/IPython/core/interactiveshell.py\u001b[0m in \u001b[0;36msystem_piped\u001b[0;34m(self, cmd)\u001b[0m\n\u001b[1;32m   2207\u001b[0m         \u001b[0;31m# a non-None value would trigger :func:`sys.displayhook` calls.\u001b[0m\u001b[0;34m\u001b[0m\u001b[0;34m\u001b[0m\u001b[0m\n\u001b[1;32m   2208\u001b[0m         \u001b[0;31m# Instead, we store the exit_code in user_ns.\u001b[0m\u001b[0;34m\u001b[0m\u001b[0;34m\u001b[0m\u001b[0m\n\u001b[0;32m-> 2209\u001b[0;31m         \u001b[0mself\u001b[0m\u001b[0;34m.\u001b[0m\u001b[0muser_ns\u001b[0m\u001b[0;34m[\u001b[0m\u001b[0;34m'_exit_code'\u001b[0m\u001b[0;34m]\u001b[0m \u001b[0;34m=\u001b[0m \u001b[0msystem\u001b[0m\u001b[0;34m(\u001b[0m\u001b[0mself\u001b[0m\u001b[0;34m.\u001b[0m\u001b[0mvar_expand\u001b[0m\u001b[0;34m(\u001b[0m\u001b[0mcmd\u001b[0m\u001b[0;34m,\u001b[0m \u001b[0mdepth\u001b[0m\u001b[0;34m=\u001b[0m\u001b[0;36m1\u001b[0m\u001b[0;34m)\u001b[0m\u001b[0;34m)\u001b[0m\u001b[0;34m\u001b[0m\u001b[0m\n\u001b[0m\u001b[1;32m   2210\u001b[0m \u001b[0;34m\u001b[0m\u001b[0m\n\u001b[1;32m   2211\u001b[0m     \u001b[0;32mdef\u001b[0m \u001b[0msystem_raw\u001b[0m\u001b[0;34m(\u001b[0m\u001b[0mself\u001b[0m\u001b[0;34m,\u001b[0m \u001b[0mcmd\u001b[0m\u001b[0;34m)\u001b[0m\u001b[0;34m:\u001b[0m\u001b[0;34m\u001b[0m\u001b[0m\n",
      "\u001b[0;32m/global/software/sl-6.x86_64/modules/langs/python/3.5.1/lib/python3.5/site-packages/IPython/utils/_process_posix.py\u001b[0m in \u001b[0;36msystem\u001b[0;34m(self, cmd)\u001b[0m\n\u001b[1;32m    155\u001b[0m                 \u001b[0mchild\u001b[0m \u001b[0;34m=\u001b[0m \u001b[0mpexpect\u001b[0m\u001b[0;34m.\u001b[0m\u001b[0mspawnb\u001b[0m\u001b[0;34m(\u001b[0m\u001b[0mself\u001b[0m\u001b[0;34m.\u001b[0m\u001b[0msh\u001b[0m\u001b[0;34m,\u001b[0m \u001b[0margs\u001b[0m\u001b[0;34m=\u001b[0m\u001b[0;34m[\u001b[0m\u001b[0;34m'-c'\u001b[0m\u001b[0;34m,\u001b[0m \u001b[0mcmd\u001b[0m\u001b[0;34m]\u001b[0m\u001b[0;34m)\u001b[0m \u001b[0;31m# Pexpect-U\u001b[0m\u001b[0;34m\u001b[0m\u001b[0m\n\u001b[1;32m    156\u001b[0m             \u001b[0;32melse\u001b[0m\u001b[0;34m:\u001b[0m\u001b[0;34m\u001b[0m\u001b[0m\n\u001b[0;32m--> 157\u001b[0;31m                 \u001b[0mchild\u001b[0m \u001b[0;34m=\u001b[0m \u001b[0mpexpect\u001b[0m\u001b[0;34m.\u001b[0m\u001b[0mspawn\u001b[0m\u001b[0;34m(\u001b[0m\u001b[0mself\u001b[0m\u001b[0;34m.\u001b[0m\u001b[0msh\u001b[0m\u001b[0;34m,\u001b[0m \u001b[0margs\u001b[0m\u001b[0;34m=\u001b[0m\u001b[0;34m[\u001b[0m\u001b[0;34m'-c'\u001b[0m\u001b[0;34m,\u001b[0m \u001b[0mcmd\u001b[0m\u001b[0;34m]\u001b[0m\u001b[0;34m)\u001b[0m  \u001b[0;31m# Vanilla Pexpect\u001b[0m\u001b[0;34m\u001b[0m\u001b[0m\n\u001b[0m\u001b[1;32m    158\u001b[0m             \u001b[0mflush\u001b[0m \u001b[0;34m=\u001b[0m \u001b[0msys\u001b[0m\u001b[0;34m.\u001b[0m\u001b[0mstdout\u001b[0m\u001b[0;34m.\u001b[0m\u001b[0mflush\u001b[0m\u001b[0;34m\u001b[0m\u001b[0m\n\u001b[1;32m    159\u001b[0m             \u001b[0;32mwhile\u001b[0m \u001b[0;32mTrue\u001b[0m\u001b[0;34m:\u001b[0m\u001b[0;34m\u001b[0m\u001b[0m\n",
      "\u001b[0;32m/global/software/sl-6.x86_64/modules/langs/python/3.5.1/lib/python3.5/site-packages/pexpect/pty_spawn.py\u001b[0m in \u001b[0;36m__init__\u001b[0;34m(self, command, args, timeout, maxread, searchwindowsize, logfile, cwd, env, ignore_sighup, echo, preexec_fn, encoding, codec_errors, dimensions)\u001b[0m\n\u001b[1;32m    195\u001b[0m             \u001b[0mself\u001b[0m\u001b[0;34m.\u001b[0m\u001b[0mname\u001b[0m \u001b[0;34m=\u001b[0m \u001b[0;34m'<pexpect factory incomplete>'\u001b[0m\u001b[0;34m\u001b[0m\u001b[0m\n\u001b[1;32m    196\u001b[0m         \u001b[0;32melse\u001b[0m\u001b[0;34m:\u001b[0m\u001b[0;34m\u001b[0m\u001b[0m\n\u001b[0;32m--> 197\u001b[0;31m             \u001b[0mself\u001b[0m\u001b[0;34m.\u001b[0m\u001b[0m_spawn\u001b[0m\u001b[0;34m(\u001b[0m\u001b[0mcommand\u001b[0m\u001b[0;34m,\u001b[0m \u001b[0margs\u001b[0m\u001b[0;34m,\u001b[0m \u001b[0mpreexec_fn\u001b[0m\u001b[0;34m,\u001b[0m \u001b[0mdimensions\u001b[0m\u001b[0;34m)\u001b[0m\u001b[0;34m\u001b[0m\u001b[0m\n\u001b[0m\u001b[1;32m    198\u001b[0m \u001b[0;34m\u001b[0m\u001b[0m\n\u001b[1;32m    199\u001b[0m     \u001b[0;32mdef\u001b[0m \u001b[0m__str__\u001b[0m\u001b[0;34m(\u001b[0m\u001b[0mself\u001b[0m\u001b[0;34m)\u001b[0m\u001b[0;34m:\u001b[0m\u001b[0;34m\u001b[0m\u001b[0m\n",
      "\u001b[0;32m/global/software/sl-6.x86_64/modules/langs/python/3.5.1/lib/python3.5/site-packages/pexpect/pty_spawn.py\u001b[0m in \u001b[0;36m_spawn\u001b[0;34m(self, command, args, preexec_fn, dimensions)\u001b[0m\n\u001b[1;32m    295\u001b[0m \u001b[0;34m\u001b[0m\u001b[0m\n\u001b[1;32m    296\u001b[0m         self.ptyproc = self._spawnpty(self.args, env=self.env,\n\u001b[0;32m--> 297\u001b[0;31m                                      cwd=self.cwd, **kwargs)\n\u001b[0m\u001b[1;32m    298\u001b[0m \u001b[0;34m\u001b[0m\u001b[0m\n\u001b[1;32m    299\u001b[0m         \u001b[0mself\u001b[0m\u001b[0;34m.\u001b[0m\u001b[0mpid\u001b[0m \u001b[0;34m=\u001b[0m \u001b[0mself\u001b[0m\u001b[0;34m.\u001b[0m\u001b[0mptyproc\u001b[0m\u001b[0;34m.\u001b[0m\u001b[0mpid\u001b[0m\u001b[0;34m\u001b[0m\u001b[0m\n",
      "\u001b[0;32m/global/software/sl-6.x86_64/modules/langs/python/3.5.1/lib/python3.5/site-packages/pexpect/pty_spawn.py\u001b[0m in \u001b[0;36m_spawnpty\u001b[0;34m(self, args, **kwargs)\u001b[0m\n\u001b[1;32m    306\u001b[0m     \u001b[0;32mdef\u001b[0m \u001b[0m_spawnpty\u001b[0m\u001b[0;34m(\u001b[0m\u001b[0mself\u001b[0m\u001b[0;34m,\u001b[0m \u001b[0margs\u001b[0m\u001b[0;34m,\u001b[0m \u001b[0;34m**\u001b[0m\u001b[0mkwargs\u001b[0m\u001b[0;34m)\u001b[0m\u001b[0;34m:\u001b[0m\u001b[0;34m\u001b[0m\u001b[0m\n\u001b[1;32m    307\u001b[0m         \u001b[0;34m'''Spawn a pty and return an instance of PtyProcess.'''\u001b[0m\u001b[0;34m\u001b[0m\u001b[0m\n\u001b[0;32m--> 308\u001b[0;31m         \u001b[0;32mreturn\u001b[0m \u001b[0mptyprocess\u001b[0m\u001b[0;34m.\u001b[0m\u001b[0mPtyProcess\u001b[0m\u001b[0;34m.\u001b[0m\u001b[0mspawn\u001b[0m\u001b[0;34m(\u001b[0m\u001b[0margs\u001b[0m\u001b[0;34m,\u001b[0m \u001b[0;34m**\u001b[0m\u001b[0mkwargs\u001b[0m\u001b[0;34m)\u001b[0m\u001b[0;34m\u001b[0m\u001b[0m\n\u001b[0m\u001b[1;32m    309\u001b[0m \u001b[0;34m\u001b[0m\u001b[0m\n\u001b[1;32m    310\u001b[0m     \u001b[0;32mdef\u001b[0m \u001b[0mclose\u001b[0m\u001b[0;34m(\u001b[0m\u001b[0mself\u001b[0m\u001b[0;34m,\u001b[0m \u001b[0mforce\u001b[0m\u001b[0;34m=\u001b[0m\u001b[0;32mTrue\u001b[0m\u001b[0;34m)\u001b[0m\u001b[0;34m:\u001b[0m\u001b[0;34m\u001b[0m\u001b[0m\n",
      "\u001b[0;32m/global/software/sl-6.x86_64/modules/langs/python/3.5.1/lib/python3.5/site-packages/ptyprocess/ptyprocess.py\u001b[0m in \u001b[0;36mspawn\u001b[0;34m(cls, argv, cwd, env, echo, preexec_fn, dimensions)\u001b[0m\n\u001b[1;32m    272\u001b[0m             \u001b[0;32mtry\u001b[0m\u001b[0;34m:\u001b[0m\u001b[0;34m\u001b[0m\u001b[0m\n\u001b[1;32m    273\u001b[0m                 \u001b[0;32mif\u001b[0m \u001b[0menv\u001b[0m \u001b[0;32mis\u001b[0m \u001b[0;32mNone\u001b[0m\u001b[0;34m:\u001b[0m\u001b[0;34m\u001b[0m\u001b[0m\n\u001b[0;32m--> 274\u001b[0;31m                     \u001b[0mos\u001b[0m\u001b[0;34m.\u001b[0m\u001b[0mexecv\u001b[0m\u001b[0;34m(\u001b[0m\u001b[0mcommand\u001b[0m\u001b[0;34m,\u001b[0m \u001b[0margv\u001b[0m\u001b[0;34m)\u001b[0m\u001b[0;34m\u001b[0m\u001b[0m\n\u001b[0m\u001b[1;32m    275\u001b[0m                 \u001b[0;32melse\u001b[0m\u001b[0;34m:\u001b[0m\u001b[0;34m\u001b[0m\u001b[0m\n\u001b[1;32m    276\u001b[0m                     \u001b[0mos\u001b[0m\u001b[0;34m.\u001b[0m\u001b[0mexecvpe\u001b[0m\u001b[0;34m(\u001b[0m\u001b[0mcommand\u001b[0m\u001b[0;34m,\u001b[0m \u001b[0margv\u001b[0m\u001b[0;34m,\u001b[0m \u001b[0menv\u001b[0m\u001b[0;34m)\u001b[0m\u001b[0;34m\u001b[0m\u001b[0m\n",
      "\u001b[0;31mUnicodeEncodeError\u001b[0m: 'ascii' codec can't encode character '\\xe4' in position 40: ordinal not in range(128)"
     ]
    },
    {
     "name": "stdout",
     "output_type": "stream",
     "text": [
      "Stein_2012_SILO4.2_Lehrbuch der Sabäischen Sprache.pdf\n"
     ]
    },
    {
     "ename": "UnboundLocalError",
     "evalue": "local variable 'child' referenced before assignment",
     "output_type": "error",
     "traceback": [
      "\u001b[0;31m---------------------------------------------------------------------------\u001b[0m",
      "\u001b[0;31mKeyboardInterrupt\u001b[0m                         Traceback (most recent call last)",
      "\u001b[0;32m/global/software/sl-6.x86_64/modules/langs/python/3.5.1/lib/python3.5/site-packages/IPython/utils/_process_posix.py\u001b[0m in \u001b[0;36msystem\u001b[0;34m(self, cmd)\u001b[0m\n\u001b[1;32m    156\u001b[0m             \u001b[0;32melse\u001b[0m\u001b[0;34m:\u001b[0m\u001b[0;34m\u001b[0m\u001b[0m\n\u001b[0;32m--> 157\u001b[0;31m                 \u001b[0mchild\u001b[0m \u001b[0;34m=\u001b[0m \u001b[0mpexpect\u001b[0m\u001b[0;34m.\u001b[0m\u001b[0mspawn\u001b[0m\u001b[0;34m(\u001b[0m\u001b[0mself\u001b[0m\u001b[0;34m.\u001b[0m\u001b[0msh\u001b[0m\u001b[0;34m,\u001b[0m \u001b[0margs\u001b[0m\u001b[0;34m=\u001b[0m\u001b[0;34m[\u001b[0m\u001b[0;34m'-c'\u001b[0m\u001b[0;34m,\u001b[0m \u001b[0mcmd\u001b[0m\u001b[0;34m]\u001b[0m\u001b[0;34m)\u001b[0m  \u001b[0;31m# Vanilla Pexpect\u001b[0m\u001b[0;34m\u001b[0m\u001b[0m\n\u001b[0m\u001b[1;32m    158\u001b[0m             \u001b[0mflush\u001b[0m \u001b[0;34m=\u001b[0m \u001b[0msys\u001b[0m\u001b[0;34m.\u001b[0m\u001b[0mstdout\u001b[0m\u001b[0;34m.\u001b[0m\u001b[0mflush\u001b[0m\u001b[0;34m\u001b[0m\u001b[0m\n",
      "\u001b[0;32m/global/software/sl-6.x86_64/modules/langs/python/3.5.1/lib/python3.5/site-packages/pexpect/pty_spawn.py\u001b[0m in \u001b[0;36m__init__\u001b[0;34m(self, command, args, timeout, maxread, searchwindowsize, logfile, cwd, env, ignore_sighup, echo, preexec_fn, encoding, codec_errors, dimensions)\u001b[0m\n\u001b[1;32m    196\u001b[0m         \u001b[0;32melse\u001b[0m\u001b[0;34m:\u001b[0m\u001b[0;34m\u001b[0m\u001b[0m\n\u001b[0;32m--> 197\u001b[0;31m             \u001b[0mself\u001b[0m\u001b[0;34m.\u001b[0m\u001b[0m_spawn\u001b[0m\u001b[0;34m(\u001b[0m\u001b[0mcommand\u001b[0m\u001b[0;34m,\u001b[0m \u001b[0margs\u001b[0m\u001b[0;34m,\u001b[0m \u001b[0mpreexec_fn\u001b[0m\u001b[0;34m,\u001b[0m \u001b[0mdimensions\u001b[0m\u001b[0;34m)\u001b[0m\u001b[0;34m\u001b[0m\u001b[0m\n\u001b[0m\u001b[1;32m    198\u001b[0m \u001b[0;34m\u001b[0m\u001b[0m\n",
      "\u001b[0;32m/global/software/sl-6.x86_64/modules/langs/python/3.5.1/lib/python3.5/site-packages/pexpect/pty_spawn.py\u001b[0m in \u001b[0;36m_spawn\u001b[0;34m(self, command, args, preexec_fn, dimensions)\u001b[0m\n\u001b[1;32m    296\u001b[0m         self.ptyproc = self._spawnpty(self.args, env=self.env,\n\u001b[0;32m--> 297\u001b[0;31m                                      cwd=self.cwd, **kwargs)\n\u001b[0m\u001b[1;32m    298\u001b[0m \u001b[0;34m\u001b[0m\u001b[0m\n",
      "\u001b[0;32m/global/software/sl-6.x86_64/modules/langs/python/3.5.1/lib/python3.5/site-packages/pexpect/pty_spawn.py\u001b[0m in \u001b[0;36m_spawnpty\u001b[0;34m(self, args, **kwargs)\u001b[0m\n\u001b[1;32m    307\u001b[0m         \u001b[0;34m'''Spawn a pty and return an instance of PtyProcess.'''\u001b[0m\u001b[0;34m\u001b[0m\u001b[0m\n\u001b[0;32m--> 308\u001b[0;31m         \u001b[0;32mreturn\u001b[0m \u001b[0mptyprocess\u001b[0m\u001b[0;34m.\u001b[0m\u001b[0mPtyProcess\u001b[0m\u001b[0;34m.\u001b[0m\u001b[0mspawn\u001b[0m\u001b[0;34m(\u001b[0m\u001b[0margs\u001b[0m\u001b[0;34m,\u001b[0m \u001b[0;34m**\u001b[0m\u001b[0mkwargs\u001b[0m\u001b[0;34m)\u001b[0m\u001b[0;34m\u001b[0m\u001b[0m\n\u001b[0m\u001b[1;32m    309\u001b[0m \u001b[0;34m\u001b[0m\u001b[0m\n",
      "\u001b[0;32m/global/software/sl-6.x86_64/modules/langs/python/3.5.1/lib/python3.5/site-packages/ptyprocess/ptyprocess.py\u001b[0m in \u001b[0;36mspawn\u001b[0;34m(cls, argv, cwd, env, echo, preexec_fn, dimensions)\u001b[0m\n\u001b[1;32m    299\u001b[0m         \u001b[0mos\u001b[0m\u001b[0;34m.\u001b[0m\u001b[0mclose\u001b[0m\u001b[0;34m(\u001b[0m\u001b[0mexec_err_pipe_write\u001b[0m\u001b[0;34m)\u001b[0m\u001b[0;34m\u001b[0m\u001b[0m\n\u001b[0;32m--> 300\u001b[0;31m         \u001b[0mexec_err_data\u001b[0m \u001b[0;34m=\u001b[0m \u001b[0mos\u001b[0m\u001b[0;34m.\u001b[0m\u001b[0mread\u001b[0m\u001b[0;34m(\u001b[0m\u001b[0mexec_err_pipe_read\u001b[0m\u001b[0;34m,\u001b[0m \u001b[0;36m4096\u001b[0m\u001b[0;34m)\u001b[0m\u001b[0;34m\u001b[0m\u001b[0m\n\u001b[0m\u001b[1;32m    301\u001b[0m         \u001b[0mos\u001b[0m\u001b[0;34m.\u001b[0m\u001b[0mclose\u001b[0m\u001b[0;34m(\u001b[0m\u001b[0mexec_err_pipe_read\u001b[0m\u001b[0;34m)\u001b[0m\u001b[0;34m\u001b[0m\u001b[0m\n",
      "\u001b[0;31mKeyboardInterrupt\u001b[0m: ",
      "\nDuring handling of the above exception, another exception occurred:\n",
      "\u001b[0;31mUnboundLocalError\u001b[0m                         Traceback (most recent call last)",
      "\u001b[0;32m<ipython-input-57-434b56b0f70c>\u001b[0m in \u001b[0;36m<module>\u001b[0;34m()\u001b[0m\n\u001b[1;32m      8\u001b[0m     \u001b[0mfiles\u001b[0m \u001b[0;34m=\u001b[0m \u001b[0mos\u001b[0m\u001b[0;34m.\u001b[0m\u001b[0mlistdir\u001b[0m\u001b[0;34m(\u001b[0m\u001b[0mresultFolderDir\u001b[0m\u001b[0;34m)\u001b[0m\u001b[0;34m\u001b[0m\u001b[0m\n\u001b[1;32m      9\u001b[0m     \u001b[0;32mif\u001b[0m \u001b[0mSHL\u001b[0m \u001b[0;32min\u001b[0m \u001b[0mfiles\u001b[0m \u001b[0;32mand\u001b[0m \u001b[0;32mnot\u001b[0m \u001b[0mSHLF\u001b[0m \u001b[0;32min\u001b[0m \u001b[0mfiles\u001b[0m\u001b[0;34m:\u001b[0m\u001b[0;34m\u001b[0m\u001b[0m\n\u001b[0;32m---> 10\u001b[0;31m         \u001b[0mcreateFormattedHistlist\u001b[0m\u001b[0;34m(\u001b[0m\u001b[0mresultFolderDir\u001b[0m \u001b[0;34m+\u001b[0m \u001b[0mSHL\u001b[0m\u001b[0;34m,\u001b[0m \u001b[0mresultFolderDir\u001b[0m \u001b[0;34m+\u001b[0m \u001b[0mSHLF\u001b[0m\u001b[0;34m)\u001b[0m\u001b[0;34m\u001b[0m\u001b[0m\n\u001b[0m\u001b[1;32m     11\u001b[0m         \u001b[0mprint\u001b[0m \u001b[0;34m(\u001b[0m\u001b[0;34m\"create\"\u001b[0m\u001b[0;34m)\u001b[0m\u001b[0;34m\u001b[0m\u001b[0m\n\u001b[1;32m     12\u001b[0m \u001b[0;34m\u001b[0m\u001b[0m\n",
      "\u001b[0;32m<ipython-input-56-2945481c461d>\u001b[0m in \u001b[0;36mcreateFormattedHistlist\u001b[0;34m(filePath, newFilePath)\u001b[0m\n\u001b[1;32m     21\u001b[0m             \u001b[0mname\u001b[0m \u001b[0;34m=\u001b[0m \u001b[0;34m'unable to get file name'\u001b[0m\u001b[0;34m\u001b[0m\u001b[0m\n\u001b[1;32m     22\u001b[0m         \u001b[0mfirstLine\u001b[0m \u001b[0;34m=\u001b[0m \u001b[0;34m\"{0};{1}\"\u001b[0m\u001b[0;34m.\u001b[0m\u001b[0mformat\u001b[0m\u001b[0;34m(\u001b[0m\u001b[0mname\u001b[0m\u001b[0;34m,\u001b[0m \u001b[0mhitFileId\u001b[0m\u001b[0;34m)\u001b[0m\u001b[0;34m\u001b[0m\u001b[0m\n\u001b[0;32m---> 23\u001b[0;31m         \u001b[0mget_ipython\u001b[0m\u001b[0;34m(\u001b[0m\u001b[0;34m)\u001b[0m\u001b[0;34m.\u001b[0m\u001b[0msystem\u001b[0m\u001b[0;34m(\u001b[0m\u001b[0;34m'echo $firstLine > echo $newFilePath'\u001b[0m\u001b[0;34m)\u001b[0m\u001b[0;34m\u001b[0m\u001b[0m\n\u001b[0m\u001b[1;32m     24\u001b[0m \u001b[0;34m\u001b[0m\u001b[0m\n\u001b[1;32m     25\u001b[0m \u001b[0;34m\u001b[0m\u001b[0m\n",
      "\u001b[0;32m/global/software/sl-6.x86_64/modules/langs/python/3.5.1/lib/python3.5/site-packages/IPython/core/interactiveshell.py\u001b[0m in \u001b[0;36msystem_piped\u001b[0;34m(self, cmd)\u001b[0m\n\u001b[1;32m   2207\u001b[0m         \u001b[0;31m# a non-None value would trigger :func:`sys.displayhook` calls.\u001b[0m\u001b[0;34m\u001b[0m\u001b[0;34m\u001b[0m\u001b[0m\n\u001b[1;32m   2208\u001b[0m         \u001b[0;31m# Instead, we store the exit_code in user_ns.\u001b[0m\u001b[0;34m\u001b[0m\u001b[0;34m\u001b[0m\u001b[0m\n\u001b[0;32m-> 2209\u001b[0;31m         \u001b[0mself\u001b[0m\u001b[0;34m.\u001b[0m\u001b[0muser_ns\u001b[0m\u001b[0;34m[\u001b[0m\u001b[0;34m'_exit_code'\u001b[0m\u001b[0;34m]\u001b[0m \u001b[0;34m=\u001b[0m \u001b[0msystem\u001b[0m\u001b[0;34m(\u001b[0m\u001b[0mself\u001b[0m\u001b[0;34m.\u001b[0m\u001b[0mvar_expand\u001b[0m\u001b[0;34m(\u001b[0m\u001b[0mcmd\u001b[0m\u001b[0;34m,\u001b[0m \u001b[0mdepth\u001b[0m\u001b[0;34m=\u001b[0m\u001b[0;36m1\u001b[0m\u001b[0;34m)\u001b[0m\u001b[0;34m)\u001b[0m\u001b[0;34m\u001b[0m\u001b[0m\n\u001b[0m\u001b[1;32m   2210\u001b[0m \u001b[0;34m\u001b[0m\u001b[0m\n\u001b[1;32m   2211\u001b[0m     \u001b[0;32mdef\u001b[0m \u001b[0msystem_raw\u001b[0m\u001b[0;34m(\u001b[0m\u001b[0mself\u001b[0m\u001b[0;34m,\u001b[0m \u001b[0mcmd\u001b[0m\u001b[0;34m)\u001b[0m\u001b[0;34m:\u001b[0m\u001b[0;34m\u001b[0m\u001b[0m\n",
      "\u001b[0;32m/global/software/sl-6.x86_64/modules/langs/python/3.5.1/lib/python3.5/site-packages/IPython/utils/_process_posix.py\u001b[0m in \u001b[0;36msystem\u001b[0;34m(self, cmd)\u001b[0m\n\u001b[1;32m    171\u001b[0m             \u001b[0;31m# (the character is known as ETX for 'End of Text', see\u001b[0m\u001b[0;34m\u001b[0m\u001b[0;34m\u001b[0m\u001b[0m\n\u001b[1;32m    172\u001b[0m             \u001b[0;31m# curses.ascii.ETX).\u001b[0m\u001b[0;34m\u001b[0m\u001b[0;34m\u001b[0m\u001b[0m\n\u001b[0;32m--> 173\u001b[0;31m             \u001b[0mchild\u001b[0m\u001b[0;34m.\u001b[0m\u001b[0msendline\u001b[0m\u001b[0;34m(\u001b[0m\u001b[0mchr\u001b[0m\u001b[0;34m(\u001b[0m\u001b[0;36m3\u001b[0m\u001b[0;34m)\u001b[0m\u001b[0;34m)\u001b[0m\u001b[0;34m\u001b[0m\u001b[0m\n\u001b[0m\u001b[1;32m    174\u001b[0m             \u001b[0;31m# Read and print any more output the program might produce on its\u001b[0m\u001b[0;34m\u001b[0m\u001b[0;34m\u001b[0m\u001b[0m\n\u001b[1;32m    175\u001b[0m             \u001b[0;31m# way out.\u001b[0m\u001b[0;34m\u001b[0m\u001b[0;34m\u001b[0m\u001b[0m\n",
      "\u001b[0;31mUnboundLocalError\u001b[0m: local variable 'child' referenced before assignment"
     ]
    }
   ],
   "source": [
    "SHL, SHLF = \"smallhitlist.txt\", \"smallhitlist_formatted.txt\"\n",
    "BHL, BHLF = \"bighitlist.txt\", \"bighitlist_formatted.txt\"\n",
    "os.chdir(resultsDir)\n",
    "dirs = os.listdir(resultsDir)\n",
    "for resultFolder in dirs:\n",
    "    resultFolderDir = resultsDir + resultFolder + \"/\"\n",
    "    print(resultFolderDir)\n",
    "    files = os.listdir(resultFolderDir)\n",
    "    if SHL in files and not SHLF in files:\n",
    "        createFormattedHistlist(resultFolderDir + SHL, resultFolderDir + SHLF)\n",
    "        print (\"create\")\n",
    "        \n",
    "    "
   ]
  },
  {
   "cell_type": "code",
   "execution_count": 67,
   "metadata": {
    "collapsed": false
   },
   "outputs": [
    {
     "name": "stdout",
     "output_type": "stream",
     "text": [
      "Dornauer, A. - Das Archiv des assyrischen Statthalters Mannu-ki-Assur von Guzana Tell Halaf 2014.pdf\n"
     ]
    },
    {
     "ename": "PermissionError",
     "evalue": "[Errno 13] Permission denied: '/global/scratch/groups/dh/aanderson/results/Results_456-475/smallhitlist_formatted.txt'",
     "output_type": "error",
     "traceback": [
      "\u001b[0;31m---------------------------------------------------------------------------\u001b[0m",
      "\u001b[0;31mPermissionError\u001b[0m                           Traceback (most recent call last)",
      "\u001b[0;32m<ipython-input-67-7a29a941a12d>\u001b[0m in \u001b[0;36m<module>\u001b[0;34m()\u001b[0m\n\u001b[1;32m      3\u001b[0m \u001b[0mos\u001b[0m\u001b[0;34m.\u001b[0m\u001b[0mchdir\u001b[0m\u001b[0;34m(\u001b[0m\u001b[0;34m\"Results_456-475\"\u001b[0m\u001b[0;34m)\u001b[0m\u001b[0;34m\u001b[0m\u001b[0m\n\u001b[1;32m      4\u001b[0m \u001b[0mdirs\u001b[0m \u001b[0;34m=\u001b[0m \u001b[0mos\u001b[0m\u001b[0;34m.\u001b[0m\u001b[0mlistdir\u001b[0m\u001b[0;34m(\u001b[0m\u001b[0;34m)\u001b[0m\u001b[0;34m\u001b[0m\u001b[0m\n\u001b[0;32m----> 5\u001b[0;31m \u001b[0mcreateFormattedHistlist\u001b[0m\u001b[0;34m(\u001b[0m\u001b[0mresultsDir\u001b[0m\u001b[0;34m+\u001b[0m\u001b[0;34m\"Results_456-475/smallhitlist.txt\"\u001b[0m\u001b[0;34m,\u001b[0m \u001b[0mresultsDir\u001b[0m\u001b[0;34m+\u001b[0m\u001b[0;34m\"Results_456-475/smallhitlist_formatted.txt\"\u001b[0m\u001b[0;34m)\u001b[0m\u001b[0;34m\u001b[0m\u001b[0m\n\u001b[0m",
      "\u001b[0;32m<ipython-input-66-298d0286fd75>\u001b[0m in \u001b[0;36mcreateFormattedHistlist\u001b[0;34m(filePath, newFilePath)\u001b[0m\n\u001b[1;32m     22\u001b[0m             \u001b[0mname\u001b[0m \u001b[0;34m=\u001b[0m \u001b[0;34m'unable to get file name'\u001b[0m\u001b[0;34m\u001b[0m\u001b[0m\n\u001b[1;32m     23\u001b[0m         \u001b[0mfirstLine\u001b[0m \u001b[0;34m=\u001b[0m \u001b[0;34m\"{0};{1}\"\u001b[0m\u001b[0;34m.\u001b[0m\u001b[0mformat\u001b[0m\u001b[0;34m(\u001b[0m\u001b[0mname\u001b[0m\u001b[0;34m,\u001b[0m \u001b[0mhitFileId\u001b[0m\u001b[0;34m)\u001b[0m\u001b[0;34m\u001b[0m\u001b[0m\n\u001b[0;32m---> 24\u001b[0;31m         \u001b[0;32mwith\u001b[0m \u001b[0mopen\u001b[0m\u001b[0;34m(\u001b[0m\u001b[0mnewFilePath\u001b[0m\u001b[0;34m,\u001b[0m \u001b[0;34m'w+'\u001b[0m\u001b[0;34m,\u001b[0m \u001b[0mencoding\u001b[0m\u001b[0;34m=\u001b[0m\u001b[0;34m'utf-8'\u001b[0m\u001b[0;34m)\u001b[0m \u001b[0;32mas\u001b[0m \u001b[0mf2\u001b[0m\u001b[0;34m:\u001b[0m\u001b[0;34m\u001b[0m\u001b[0m\n\u001b[0m\u001b[1;32m     25\u001b[0m             \u001b[0mf2\u001b[0m\u001b[0;34m.\u001b[0m\u001b[0mclose\u001b[0m\u001b[0;34m(\u001b[0m\u001b[0;34m)\u001b[0m\u001b[0;34m\u001b[0m\u001b[0m\n\u001b[1;32m     26\u001b[0m \u001b[0;34m\u001b[0m\u001b[0m\n",
      "\u001b[0;31mPermissionError\u001b[0m: [Errno 13] Permission denied: '/global/scratch/groups/dh/aanderson/results/Results_456-475/smallhitlist_formatted.txt'"
     ]
    }
   ],
   "source": [
    "os.chdir(resultsDir)\n",
    "dirs = os.listdir(resultsDir)\n",
    "os.chdir(\"Results_456-475\")\n",
    "dirs = os.listdir()\n",
    "createFormattedHistlist(resultsDir+\"Results_456-475/smallhitlist.txt\", resultsDir+\"Results_456-475/smallhitlist_formatted.txt\")"
   ]
  },
  {
   "cell_type": "code",
   "execution_count": 43,
   "metadata": {
    "collapsed": false
   },
   "outputs": [
    {
     "data": {
      "text/plain": [
       "[('6',\n",
       "  '[[\\'Hahylonia\\', \"\\'tu\\'ilt\\'t\\'\", \"\\'\", \\'a\\', \"\\'Olr\", \\'re\\', \\'mons\\', \\'ilam)”\\', \\'Gül’le\\', \\'weil—[th\\', \\'OfﬂﬂtIC-MTS\\', \\'human\\', \\'labor“.\\', \"P‘Ut\\'\", \\'”\\', \\'Simply.\\', \\'labOT\\'], [\\'ANS-Wm;\\', \\'„ml.;\\', \\'g,?\\', \\'iiılılılıiliffî;\\', \\'Eiliüxvilxlr;‚2133333\\', \\'ll‘Ï’Ûr\\', \\'\"\\\\\\']\\', \\'Neo—\\', \\'.3.\\', \\'that\\', \\'he:\\'], [\\'mi…\\', \\'„\\', \\'‚„\\', \\'.,\\']]'),\n",
       " ('21',\n",
       "  '[[\\'{im\\', \"Rc‘r\\'ln’rrfn’x\", \".S\\'t\\'it’urﬁqrmr\", \\'m‘\\', \\'lim/f\\', \\'firm/(list\\', \"r/Hr/ıi\\'rm,\", \\'“(\\', \\'Suppl.\\', \\'‘3;\\'], [\\'(your,\\', \"(j\\'m)?\", \\'fir\\', \\'}lntr‘qmn\"\\', \\'(:‘m‘qrm\\', \\'rt\\', \\'Romaine\\', \\'İo\\', \\'Four/orion\\', \"H\\'l/ﬁmwu\\'\"], [\\'.)?”qu\\', \".r\\'mormrtiomr/\", \\'its\\', \\'mars\\', \\'myc‘t‘mmn\\', \\'o:\\']]'),\n",
       " ('35',\n",
       "  '[[\\'uGt’ihekli\\', \\'near\\', \\'UNIVCFSKY\\', \\'Cl\\', \\'Chicago\\', \\'msg).\\'], [\\'nr\\', \\'timus\\', \\'is\\', \\'difﬁcult\\', \\'comprehend\\', \\'the\\', \\'”am”:\\', \\'(meaning?)\\', \\'Of‘archdmiog—\\', \\'and.\\', \\'[mid\\', \\'Ute\\', \\'Em.\\', \\'îmam!\\', \\'Floodplain\\', \\'Euphrates\\', \"\\'l\\'hï\"], [\\'Heartland\\', \\'afCiries:\\', \\'Surveys\\', \"af\\'/indent\", \\'5”?!me“\\']]'),\n",
       " ('38',\n",
       "  '[[\\'Bernard\\', \\'(1996).\\', \\'(İml—t\\', \\'Specialization\\', \\'Social\\', \\'Eva/utter]:\\', \"xl-I\\'riimr‘i\\'\", \\'tr\"\\'], [\"izl-i\\'m\", \\'ii’\\', \\'‚Are\\', \\'(.\"Vt\\\\\\'tu\\', \\'Por/(‘:\\', \\'Rooks).\\', \\'.\\'], [\\'Wadi,\\', \\'Nl\\', \\'(20051\\', \\'Oar\\', \\'inner\\', \\'Ape:\\', \\'Prfnmtoquiyt\\', \\'Exp/nim\\', \\'Why\\', \"llnr\\'\", \\'+\":\\']]'),\n",
       " ('45',\n",
       "  '[[\\'Meyer\\', \\'ﬁlm…”\\', \\'Cll\\', \\'chilar}\\'], [\\'contemporary\\', \\'site\\', \\'or\"!\\', \\'‘ell\\', \\'“??-Ğ:\\', \\'ll‘fmflml\\', \\'il…\\', \\'……th\\', \\'m\\', \\'Ill\\', \\':_r\\', \\'.\\', \"\\'\", \"\\'\", \\'I\\'], [\\'“\\', \\'Suleiman\\', \\'2003;\\', \\'2005:37.L76.\\', \\'„\\', \\',.\\', \\'(“iiy\\', \"ııfâ\\'l\\'çll\", \\'Beril-Ir\\']]'),\n",
       " ('50',\n",
       "  '[[\\'(…\\', \"Ï£\\'\\\\\\\\]\\'llil\\\\\\\\]]1]-\", \\'‘]\\', \\'u“\\', \"“\\'\", \"l_l\\'l\\'“\", \\'“’“Wı\\', \\'ans…-\\', \\'(ımın\\', \\'forpersons:\\', \\'|css):cıılcıı1ııııııg\\', \\'Lâ\\', \\'(W)/1.8\\', \\'(ei.\\'], [\\'.\\', \\'„um\\', \"uıllc\\'\", \\'.\\', \\'‚_\\', \\'__\\'], [\\'malo:\\', \\'…]\\', \\'„(„/,\\', \\'Ji\\', \\'„.\\', \\'!,\\']]'),\n",
       " ('116',\n",
       "  '[[\\'mm/a-Ä’HW:\\', \\'(TAI)\\', \\'MD.\\', \\'158\\', \\'„td/MW\\', \\'See\\', \\'dErt—ki-gg-.5_\\', \\'6—7.\\', \\'naj—ka-ğâ\\', \\'couldlıe\\', \\'N|.l:ID.KA-ğe,\\', \\'since-NLEJELlKA\\'], [\"L\\'C\\\\\\\\\\\\\\\\it\\\\\\\\lt:ll\", \\'MSI,\\', \\'Oxford\\', \\'340;\\', \"KLEa\\'LN\\'Bi-\", \\'l’.\\', \\'The\\', \\'Followed\\', \\'41-\\'], [\\'is\\', \\'lie\\', \\'”Id/aka.\\', \\'“passage.\\', \\'example\\', \"\\'l\\'ext\"]]'),\n",
       " ('140',\n",
       "  '[[\\'“made\\', \\'SiC—great\\', \\'“Elli“?!\\', \\'ES\\', \\'[Eğil\\', \\'year—name,\\', \\'Mpix!\\', \\'of\\', \\'mit-mg.\\', \\'bee\\'], [\\'sec\\', \\'H:\\', \\'lı\\', \\'E_‘_r_t_)_p\\', \\'mounts\\', \\'_\\', \\'entering\\', \\'channel\\'], [\\'Ïlîäïîiilllîîîﬂl\\', \\'îîîğîhîdmhm\\', \\'Harri\\', \\'martian\\', \\'.Fr:\\', \"rifaı\\'unu\", \\'_»l’tma\\', \\'Hint.\\', \\'‘-\"-’\\\\\\\\\\\\\\\\\"right\\', \\'17—18:\\', \\'Filtered\\']]'),\n",
       " ('146',\n",
       "  '[[\\'i“\\', \\'“=\\', \\'\\\\\\\\\\\\\\\\\\', \\'I)\\', \\'ve.\\', \\'),“)\\', \\'104:1\\', \\'Balmunmnbc\\', \\'5\\', \\'ISI).\\', \\'(A…)\\', \\'IU“),\\', \\'l.)\\', \\'104)\\'], [\\'[tn-:un\\', \\'v,\\', \\'RAÜJImm\\', \\'ﬁni……\"\\', \\'171\\', \\'““I\\', \\',\\', \\'“…“\\', \"Al\\'wi‘md\\'m.1.1/5.”\", \\'“…\\', \\'“(“‘D‘hlm“\\'], [\\'Alnının\\', \\'1\\', \\'.\\']]'),\n",
       " ('149',\n",
       "  '[[\\'loponÿm\\', \\'largest\\', \\'ininintnw\\', \\'gull“\\', \\'With\\', \\'\"F\\', \"155\\'4\", \\'than\\', \\'OFC-[ll\\', \\'XV\\', \\'HIS\\'], [\\'.\\', \"““\\'\", \\'4\\', \\'15-4-0\\', \\'Famous\\', \\'\"f\\', \\'Abim\"\\', \\'From\\', \\'YUS\\', \\'l75>ﬁWiﬂ5mnCC1äiVC5\\', \\'124-740\\', \\'“fer-‘\\', \\'\"f\\'], [\\'3:\\', \\'l.:irsa\\', \\'“?lean\\', \\'nimm-d\\', \\'sizes\\']]'),\n",
       " ('246',\n",
       "  '[[\\'foreigners\\', \\'reliefs\\', \\'from\\', \\'causewayol‘the\\', \\'Sahur-.-\\', \\'_.“\\', \\'en…“\\', \\'Works).\\', \\'VHS\\', \\'hy\\', \\'„„.\\', \\'par-.nmhtar}\\', \\'...§;_m.,|m.m‘\\'], [\\'weeps\\', \\'of\\', \\'lird—\\', \\'Steinwerltc\\', \\'illl-H\\', \"\\'..\", \\',\\'], [\\'purposefully\\', \\'food.\\', \\'might\\', \\'le.…\\', \\'nnarrying\\', \\'granite—wetnightconsit\\']]'),\n",
       " ('252',\n",
       "  '[[\\'state\\', \\'meal\\', \\'imprint?\\', \\'lit/2W.\\', \\'graffiti\\', \\'Front\\', \\'Kingdom\\'], [\\'building\\', \\'pyramids\\', \"nct\\'arstrrily\", \\'inconsistent\\', \\'wit/r\\', \\'the\\', \\'tik/en\\', \\'tritt.!\\', \\'1-.»\\'], [\\'The\\', \":\\'(/m\\'\", \\'İlmî\\', \\'the\\', \\'sfr/te\\', \\'mobilized\\', \"t\\'a/mr\", \\'from\\', \\'the\\', \\'[Hm-Jinks\\', \\'I‘m:\\']]'),\n",
       " ('276',\n",
       "  '[[\"_87\\'\", \\'Mel…\\', \\'311114.\\', \\'Similar\\', \\'csisted\\', \\'earlier?\\', \\'town\\', \\'ay\\', \\'i\\', \\'.(vp\\'], [\\'H.\\', \\'“JL“\\', \\'lanssen\\', \\'1965\\', \"lt)/Ü\\';\", \\'13er\\', \\')i‘i7a:\\', \\'‘\\', \\'i\\', \\'„\\', \\'L\\', \\'[hu\\', \\'“.“,\"\\', \\'Ur\\'], [\\'prtspnersltïqwîlkﬁäliaritäîkl\\', \\'giggly;\\']]'),\n",
       " ('283',\n",
       "  '[[\"if*Vt-R\\'\", \"ii\\')\", \\'fii-iu\\', \"ibr/ii\\'\", \\'Icf\"\\', \"?\\'\", \\'bri!\\', \\'In\":\\', \\'sk?\\', \\'(44)\\', \\'Mr\\', \\'rirritant},\\'], [\\'he:(-43)\\', \\'rm;\\', \\'my\\', \\'Mfr\\', \\':}?\\', \\'rm;\\', \\'ıı!)\\', \\'!?\\', \\'[um\\', \"ili\\'n—\"], [\\'ilef\\', \\'“seize\",\\', \\'Jar-r\\', \\'pact,n\\', \\'Mila»)\\', \\'“corvée…\\']]'),\n",
       " ('292',\n",
       "  '[[\\'.\"un.\\', \\'William\\', \\'li.\\', \"(19/171,\\'l\\'lıe\", \\'Nzıuri\\', \"lîeeı\\'ee\", \\'Ul—\\', \\'&…\\', \\'.1\\', \"\\'l\", \\'kind—nir…\\'], [\\'firma.\\', \\'.‘l\\', \\'Sofia/nnd\\', \\'Historien!\\', \\'Analysis\\', \\'(l’Ä\\', \\'leiden.\\'], [\\'Denise\\', \\'119981.\\', \\'iılqypriım\\', \\'Non—mw!\\', \\'1:/rrrirr*r.\\\\\\\\\\', \\'rire\\', \".)!rrifiir\\'\", \\'\"\\\\\\\\\\', \"Uff—i\\'\"]]'),\n",
       " ('293',\n",
       "  '[[\\'Hatmﬁli\\', \\'III.”\\', \\'Meir\\', \\'lubetsky,\\', \\'€!\\', \\'sil..\\', \\'eds.,\\', \\'Honig/ffir}?!\\', \\'(gf—Hn“\\', \\'.Mcfi\\'], [\"linı\\'th:\", \\'Ruliginm\\', \\'and\\', \\'Legal\\', \\'Aspects\\', \"nt‘rlic\\'lirenry\", \\'between\\', \\'Rmnexxex\\'], [\\'(luck-ı.\\', \\'Ogden.\\', \\'Baruch\\', \\'Levine\\', \\'(1998).\\', \\'“Mal-(ing\\', \\'Punta.-\\', \\'11cm\\', \\'am\\']]'),\n",
       " ('295',\n",
       "  '[[\\'...)“.\\', \"Rt‘t\\'mﬂli\", \\'of.)\\', \\'Building\\', \"i’mjr\\'t\\'t\", \\'Reign\\', \\'n.\"\\', \\'“\"-”““\"“\\', \\'(l-\\', \\'H…“…\\'], [\\'*\\', \\'.*\\', \\'(\"*-ln.\\', \\'William\\', \\'K.\\', \\'(1903).\\', \\'i’d/trim\\', \\'Reimer\\', \\'i\\\\\\'t‘rW“\"\"/\"\"””\\', \\'”Hm\\', \\'l\\', \"W\\'lll\\'ltll\\'l\\'l\\'ﬂll\"], [\"\\'\", \\'A,\\', \\'(19%).\\', \\'\"l\\\\\\'xelıclni.\"\\', \\'Isl\\', \\'W\"\\', \"H\\'l\\'l\"]]'),\n",
       " ('296',\n",
       "  '[[\\'.—\\', \\'<\\', \\'“_\\', \\'.\\', \\'\\\\\\\\\\', \\'‘\\', \\'.\\', \"\\'.\", \\'(\\', \\'|:\\', \"\\'n\", \\'u\\', \\'.]:\\', \\'.\\'], [\"A\\'\", \\'lirnmıı.\\', \\'and\\', \"H\\'\", \\'GmW’W—\\', \\'Cds…\\', \"W\\'ü\\'rmrlmrlr\", \"Hrt\\'!“\", \\'‚?QW’HJMM;\\', \\'Siu…»\\', \\'..\\', \\'_\\', \"\\'.\", \\'_wmä...\\', \\'\\\\\\\\…di\\', \\'?_le-\\', \\'……\\', \\'Wi\\'], []]'),\n",
       " ('302',\n",
       "  '[[\\';æppcar\\', \\'ncı\\', \\'as\\', \\'unit\\', \\'wınnııındurs,\\', \\'oma-rm\\', \\'und\\', \\'sclugt\\', \\'titan-11\\', \\'gnc\\', \\'..;İİr—İ\\'], [\\'lll)\\', \\'muu\\', \\'identified\\', \\'by\\', \\'lupoııynıics\\', \\'rind\\', \\'ethnics.\\', \"\\'l‘he\", \\'n.…wd\\', \\'indirin:—:l-\\'], [\\'individuals\\', \\'lLlC‘lHlllCLl\\', \\'hy\\', \\'name.\\', \\'who\\', \\'arc\\', \\'lisıcd\\', \\'along\\', \\'group“\\']]'),\n",
       " ('304',\n",
       "  '[[\\'.scn’itc\\', \\'to\\', \\'tho\\', \\'palacc,\\', \\'sincc\\', \\'(le\\', \\'the\\', \\'233\\', \\'cntnpletc\\', \\'ıııııııeu\\', \\'til\\', \\'sntitln\\', \\'pt.-\\'], [\\'tltc\\', \\'palacc\\', \\'always\\', \\'ııı“\\', \\'cvcıı\\', \\'oltcn\\', \"—-gavc\\'\", \\'lgmd\\', \\'those\\', \\'who\\', \\'gzıw\\', \\':lir-‘t\\'], [\\'li)!“\\', \\'lahm?\"l\\', \\'Oviclcttcc\\', \\'dors\\', \\'Hs\\', \\':trgtlc\\', \\'{l‘\\']]'),\n",
       " ('306',\n",
       "  '[[\\'NL:-lllﬂgx\\', \\'“high\\', \"rce\\'tn\\'tl\", \\'the\\', \"LttlleL\\'IllHI\", \\'til-tlititlmlk\\', \"mle\\'lilitlnl\", \\'um“.\\', \"I\\'!\"], [\\'hi‘\\', \\'the\\', \"ll]tll\\\\\\\\ltllllll\\\\\\\\\\\\\\\\\\\\\\\\\\'llUlU;i1\\'l.L’tl\", \\'Ilrntn\\', \\'palttee.\\', \\'lll;‘l\"._~\\'], [\\'tnen\\', \\'Were\\', \\'gitett\\', \\'.lexeriptite\\', \\'ımın-c-\\', \\'[ğum—m\\', \"\\'h\", \\'tıthlctş\\', \"]*t\\'ttt\", \"iii\\'\", \\';\\']]'),\n",
       " ('307',\n",
       "  '[[\\'Nulc\\', \\'un\\', \"l\\'Ilc\", \\'Lrunalmiuns:\\', \\'Nnmcs\\', \\'huve\\', \\'hccn\\', \\'rundum-«|\\', \\'(İrak\\', \\'ulu-rı\\', \":\\'ım—Lrilıcd\", \\'[ext\\'], [\\'Appendix:\\', \"\\'İ\\'cu\", \\'Pylus\\', \\'599\\'], [\\'(504\\', \\'N.Mxvxwx\\', \\'[wm\\', \"{M…‘nn\\'m\", \\'w\\', \\'w\\', \\'l.…\\', \\'Huu—.A\\', \\'Aa\\', \\'.e\\', \\'I’m).\\', \\'(am\\']]'),\n",
       " ('308',\n",
       "  '[[\\'.-l\"\\\\\\'m\\\\\\':\\\\\\';f\\\\\\'-\"\"mum“\\', \\'(m-\\', \\'Gard-.1\\', \\'Rnıııdn\\', \\'301\\', \\'I:\\', \\'3.13\\', \\'I‘M.\\'], [\\'MAN\\', \\'İ.“.\\', \\'.md\\', \\'with\\', \\'llmn\\', \\'.l{Q(n\"I..h\\', \\'[hu\\', \\'IlnHmu-r.\\'], [\\'%\\', \\'winx—r.:\\', \\'‚u\\', \"(f—Lftr—Jı\\'i—w\", \\'SU\\', \\'and\\', \"ifr—fsğ—f/ı\\'\", \\'…»…\\', \\'..“—ımı;\\', \\'Ä.\\']]'),\n",
       " ('309',\n",
       "  '[[\\'mg».\\', \\'ııı-fh»:\\', \\'(.\\\\\\'.ııııı’ı»\\\\\\'.\"r.ğ\\\\\\'.-\\\\\\'\\', \"(_ıı/İrıqııı\\'ııw\", \\'WR}\\', \"\\'.ih\\'ixml:\", \"lĞı\\'i—ını\", \\'(ım—î...\\'], [\\'E’cı\\\\\\'iınl.\"\\', \\'U.\\', \\'ﬁrms/1…“\\', \\'J.…\\', \\'.ıiıd\\', \\'Kuda.\\', \\'Nibiru,-ıı\\', \\'fm…\\'], [\"\\'1\", \".11»|e_\\'1\\\\\\\\\", \\'.»x‘\\', \\'LWL-mx-\\', \\'hu-\\', \\'ııı.\\', \"ks\\'ııciııî\", \"Sıı\\'ııcıııı\\'u\", \"ııl\\'â\", \\'‘mu\\', \\'ııı.-\\', \\'..ı.\\']]'),\n",
       " ('310',\n",
       "  '[[\\'flaw:\\', \\'mm\"\\', \\'Umı-\\', \\'Wnn’rf.\\', \\'Hi./„mu?\\', \\'c.E?.il.l....l.-;.....\\', \\'&…\\', \\'cahiL-ra\\', \\'H.…\"\\'], [\\'Morpmgn\\', \\'Uni.-5\\', \\'(Mx).\\', \\'.\"\\', \"(‚.\\'uin‘fpdﬁfw.‘\", \\'m\\', \\'[İşim-.;-\\', \\'1’1’:\\', \".\\'I\", \".’1.\\'.\\'u.-.\\'.a.\"], [\\'March]\\', \"ILIIIII\\'III.\", \\']….»\\', \\'[Iii\\', \\'[XIII\\', \\'\".\\\\\\\\\\\\\\\\_\\\\\\\\\\\\\\'ccn..._:m\\', \\'U*ınımxıics.“\\', \\'\\\\\\\\.\\', \\'Hahn,“.\\']]'),\n",
       " ('311',\n",
       "  '[[\\'f\\', \\'ÈI‘J‘M\\', \\'*)Fılı\\', \\'i!‘)‘}\"|‘:‚\\', \\'“13.5\\', \\'[nim\\', \\'.ıın!\\', \\'Qu.;ai—juinx\\', \\'ugun-::|.\\', \\'.:.\\'], [\\'II\\', \"‘I‘I-IIIIL\\'I\\'N\", \\'!……\\', \"I’I\\'Im,“\", \\'.!Hmh\\', \\'l*l—(!!!:\\', \\'“Hn-lt!!!\\'], [\\'_\\', \\'I‘ILII-In—‘FIII\\', \\'mm;}.\\', \\'\"38\\', \\'_Iııiııx\\', \\'QIInII-IOIm\\', \\'III‘\\', \"I‘I\\'IIIruIII\\'IIn\", \\'III:\\']]'),\n",
       " ('312',\n",
       "  '[[\\'lo\\', \\']“Hsilıiıiııcx\\', \\'.I‘inm\\\\\\'ln.Emiun.\"\\', \"Rubin\\'in\", \\'r/ı’\\', \\'.\"...‘ff‘f/w-‘rrf.n\\\\\\'...-\\'], [\\'Un….\\', \\'yıı\\', \\'li…\".lirc\\', \\'do\\', \\'”minim\\', \\'ıh\\', \"\\']\", \"İıÇ\\'lıL\\'x\", \\'WHIT.\\', \"î\\'uuilh.\", \\'!;x\\', \\'.Ë-….\\'], [\"I\\'M-aux\", \\'(\\', \\'Shri—cım,\\', \\'_|ç.ııı\\', \"l’iwrçUli\\\\\\\\iç|\\'_11|.i_lcmï|mK\", \\'MCIHM\\', \\'3\\', \\'‘Il/“)….\\', \\'.\\', \\'„‘\\', \\'..\\', \\'“\\']]'),\n",
       " ('313',\n",
       "  '[[\\'\\\\\\\\\\\\\\\\ilii\\', \\'\\\\\\\\;\\', \\'mmm;\\', \\'up\\', \\'INN)\\', \\'[\"K-ı,\\', \\'tııtııı—h-x\\', \\'şıvan—ım\\', \\'ni\\', \\'mm.\\'], [\\'“…\\', \\'tht\\', \\'ml!\\', \\'Miu-man\\', \\'luiznini\\', \"im\\'imi\", \\'E.ippi‘u\\\\\\\\i1n.m-l_\\\\\\\\\\', \\'1\\', \\'NH]\\', \\'Il…)\\'], [\\'Win-ii\\', \\'In\\', \\'\\\\\\\\uxmining\\', \\'aimHv\\', \\'hum……\\', \\'pnpıılııtinm.\\', \\'dining\\', \\'is\\']]'),\n",
       " ('316',\n",
       "  '[[\\'thingr\\', \\'the\\', \\'apn/:::\\', \":\\'r:::::::::f:.ï_f:”\", \\'“lllt\\', \\'still\\', \\'possible\\', \\'say\\', \\'lor\\', \\'gt:\\'], [\\'Killen\\', \\'has\\', \\'tt)\\', \\'say\\', \\'is\\', \\'suitably\\', \\'cautious\\', \\'represents.\\', \\'lit-lint,\\', \\'w\";\\', \\'t-\\'], [\\'finally\\', \\'as\\', \\'httlistit’\\', \\'territoriex.\"\\', \\'rmi.\\', \\'“it.\"\\']]'),\n",
       " ('318',\n",
       "  '[[\\'sihle\\', \\'ohligations\\', \\'varied\\', \\'ax\\', \\'function\\', \\'Ul‘ll‘lc\\', \\'condition:\\', \\'of\\', \\'...\\'], [\"lL’I\\'S\", \\'aeeording\\', \\'principlc\\', \"nl\\'ı-mıı/ııı\\'mıııı\\'\", \"n’ııııı\\'r.\", \"ex\\'en\", \\'iş\\', \\':\"\\'], [\\'ol‘thcßu\\', \\'[mu-ls\\', \\'ol‘l-and\\', \\'were\\', \"ptohahh\\'\", \\'diﬁtrihuted\\', \\'hy\\', \\'palatial\\', \\'u\"\\']]'),\n",
       " ('320',\n",
       "  '[[\\'chamber\\', \\'minibüs.“\\', \"\\\\\\\\\\\\\\\\i\\'c\", \\'lcııw\\', \\'hurt=\\', \\'icluıgmııış\\', \\'für\\', \\'(lifli-ıcın\\', \\'lain—lx\\', \\'«n‘u-\\'], [\"lin\\'tifiuzuinn\", \\'walls.\\', \\'und\\', \\'whııı\\', \":ıı\\'c\", \\'calle-kl\\', \\'{Jim-mt\\', \\'.aı\\'], [\\'wood\\', \\'during\\', \\'building\\', \"pruju\\'ls\", \\'(including\\', \\'pal-Arial\\', \">lî\\'LlL\\'l‘llI‘C\\\\\\\\,\", \"\\\\\\\\\\\\\\\\vi\\'lv—ll‘\"]]'),\n",
       " ('321',\n",
       "  '[[\\'.ll\\\\\\'.\"\\', \\'pn—lıi—jn\\', \\'liw\\', \\'wir\\', \\'lllU\\', \\'lN/l\\', \\'3\\', \\'he.\\', \"jııı-rrı—ıl\\'rı-ı\\'ı\\'—!r\\'\", \"lllx\\'le/l\", \\'‘\\', \\'\\\\\\\\,\\'], [\\'no\\', \\'at\\', \\'pe-to-nn.\\', \\'mm.»\\', \\'Blum/|“\\', \\'lat.\\', \\'pn—m-(mrw\\', \\'Blum/l\\', \\'‘—\\'], [\\'_(ﬁ\\', \\'Hit-larva\\', \\',\\', \\'latte-re\\', \\'HN\\', \\'.Î\\', \\'lxğl-\\', \"j‘irrræi‘fæ-f‘r-n\\'\", \\'NEOX/l\\', \\'à\\']]'),\n",
       " ('324',\n",
       "  '[[\\'atttl\\', \\'espetlallt\\', \\'l\"\\', \"lf\\'î.\", \"Uiili\\'\", \\'it…\\', \\'ttl‘tlte\\', \\'itttlititlttah\\', \\'ax\\', \\'whet:\\', \\'\"\\'], [\\'Nal-axa.\\', \\'JJH:\"\\', \\'h’\\', \"liıi\\'i\\'liçı\\'\", \"t\\'eleretttew\", \\'ttttte~\\', \\'\"ı:\\', \\'ıi—R\\', \"luv-\\'\"], [\\'…\\', \\'iiiiagint‘\\', \\'[ht-y\\', \\'ttterely\\', \"etttplttt\\'eex\", \\'iil—\\', \\'pala-gc.\\']]'),\n",
       " ('325',\n",
       "  '[[\\'c…noinii.\\', \\'inohilizaiion.\\', \\'lithe,\\', \\'For\\', \\'example.\\', \\'[hc\\', \\'simple\\', \\'text\\', \\'from\\', \\'l’tiw\\'], [\\'Nonctltclcsx.\\', \\';urlinns\\', \\'of\\', \\'the\\', \"irı\\'i\\'i\\'i\\'lrri\", \\'rclzucd\\', \\'sonn-\\', \\'nap\\', \"l\\'.‘\"], [\"hn\\'nish\", \"intort\\'nntion\", \\'the\\', \\'cconontit\\', \\'axpuus\\', \\'smh\\', \"Jctit\\'itit\\'x.“\"]]'),\n",
       " ('327',\n",
       "  '[[\"Hugh-a\\'.\", \\'R......“\\', \\'5.155515}.\\', \"5.1111110111111111][51.111111111\\'1\\'111155111:\", \\'511511111.»\\', \\'......\\', \".\\',\", \"ı-ı.|\\'.\", \\'_.|\\', \"r,.,.,.___r_,—\\',_.,-,.;.\", \\'ff\\', \\'‚H.,-_\\', \\'.“...‚v.\\', \\'f...\\', \\'‚H.-‘n\"\\', \\'.\"\\', \".\\'.\\'ı\\'.-\\'ı\"], [\\'55093.5.\\', \"l):..“..\\'|\\'|.|||.\\'.\\'rm\", \\'|||/(wmv\\', \\'2\\', \\'|N“|‘.|||||||:\\', \\'(L&M\\', \\'X.--_._..—.|\\', \\'m......\\', \\'M..“:\\', \\'Il...-..şu:\\'], [\\'„......\\', \\'....\\', \\'|||\\\\\\\\||||||\\', \"||||__|_‘.||-||.|_‘.\\'…\", \\'.…l-MH\\', \\'“!“-\"”\\']]'),\n",
       " ('328',\n",
       "  '[[\\'ııı\\', \\'Un“\\', \"Hrumı\\'\", \\'ılgı“\\', \\'Nr!!!\\', \\'[ff.-‘s!\\', \"ııı\\'frl\\'\", \".nfıf\\'gı\\'mı.\", \\'Uııuıımliıı\\', \"111\\'.1111._111\\\\\\\\?.«:\", \"!\\'\"], [\\'cil—clubu\\', \\'ıuleı.\\', \"ıî’ıııı\\'ıı\\'ı\\'\", \\'ını/f\\', \\'‚41‘1\\\\\\'f‚\\\\\\'if1\"1‘111r1‘.\\\\\\'\\', \\'.!hunrwmhff\\', \"f’lı/ıı\\':\", \"\\'lı\", \\'.\",\\'], [\\'111511111“\\', \"llk\\'\", \\'.!ic\\', \"11\\'1‘1111/1-\", \\'Agc\\', \\'Prlııpııııııuxı\\\\\\'.\"\\', \\'“riv—wh\\', \\'..\\']]')]"
      ]
     },
     "execution_count": 43,
     "metadata": {},
     "output_type": "execute_result"
    }
   ],
   "source": [
    "hitFiles['0B-icdnKLZ3cTYklDS0lrTVhidGM']"
   ]
  },
  {
   "cell_type": "code",
   "execution_count": null,
   "metadata": {
    "collapsed": true
   },
   "outputs": [],
   "source": []
  }
 ],
 "metadata": {
  "kernelspec": {
   "display_name": "Python 3",
   "language": "python",
   "name": "python3"
  },
  "language_info": {
   "codemirror_mode": {
    "name": "ipython",
    "version": 3
   },
   "file_extension": ".py",
   "mimetype": "text/x-python",
   "name": "python",
   "nbconvert_exporter": "python",
   "pygments_lexer": "ipython3",
   "version": "3.5.1"
  }
 },
 "nbformat": 4,
 "nbformat_minor": 1
}
