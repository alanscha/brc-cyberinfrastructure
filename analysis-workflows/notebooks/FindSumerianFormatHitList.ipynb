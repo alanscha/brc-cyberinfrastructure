{
 "cells": [
  {
   "cell_type": "markdown",
   "metadata": {},
   "source": [
    "### Format the histlists and add file names\n",
    "Henry Ang 10/23/17 /global/scratch/groups/dh/aanderson/\n",
    "\n",
    "Hitlists' directory:<br/>\n",
    "/global/scratch/groups/dh/aanderson/formatted_bighits.txt<br/>\n",
    "/global/scratch/groups/dh/aanderson/formatted_smallhits.txt\n",
    "\n",
    "A Formatted hitlist looks like this:\n",
    "\n",
    "filename1;GoogleDriveFileId<br/>\n",
    "1,3,4<br/>\n",
    "\n",
    "filename2;GoogleDriveFileId<br/>\n",
    "1,2,3<br/>"
   ]
  },
  {
   "cell_type": "code",
   "execution_count": null,
   "metadata": {
    "collapsed": true
   },
   "outputs": [],
   "source": [
    "projectDir = \"/global/scratch/groups/dh/aanderson/\"\n",
    "resultsDir = projectDir + \"results/\"\n",
    "archiveDir = projectDir + \"run_archive/\""
   ]
  },
  {
   "cell_type": "markdown",
   "metadata": {},
   "source": [
    "#### Authentication from main notebook"
   ]
  },
  {
   "cell_type": "code",
   "execution_count": null,
   "metadata": {
    "collapsed": true
   },
   "outputs": [],
   "source": [
    "import os\n",
    "import codecs\n",
    "import httplib2\n",
    "from googleapiclient.http import MediaIoBaseDownload\n",
    "from googleapiclient.http import MediaFileUpload\n",
    "from apiclient import discovery, errors\n",
    "from oauth2client import client\n",
    "from oauth2client import tools\n",
    "from oauth2client.file import Storage"
   ]
  },
  {
   "cell_type": "code",
   "execution_count": null,
   "metadata": {
    "collapsed": true
   },
   "outputs": [],
   "source": [
    "SCOPES = 'https://www.googleapis.com/auth/drive'\n",
    "CLIENT_SECRET_FILE = 'client_secret.json'\n",
    "APPLICATION_NAME = 'gDriveConnect'"
   ]
  },
  {
   "cell_type": "code",
   "execution_count": null,
   "metadata": {
    "collapsed": false
   },
   "outputs": [],
   "source": [
    "import argparse\n",
    "parser = argparse.ArgumentParser(parents=[tools.argparser])\n",
    "parser.add_argument('-f', help=argparse.SUPPRESS)\n",
    "\n",
    "flags = parser.parse_known_args()[0]\n",
    "flags.noauth_local_webserver = True"
   ]
  },
  {
   "cell_type": "code",
   "execution_count": null,
   "metadata": {
    "collapsed": true
   },
   "outputs": [],
   "source": [
    "def get_credentials():\n",
    "    \n",
    "    home_dir = os.path.expanduser('~')\n",
    "    credential_dir = os.path.join(home_dir, '.credentials')\n",
    "    if not os.path.exists(credential_dir):\n",
    "        os.makedirs(credential_dir)\n",
    "    credential_path = os.path.join(credential_dir, 'gDriveConnect.json')\n",
    "    \n",
    "    store = Storage(credential_path)    \n",
    "    credentials = store.get()\n",
    "    \n",
    "    if not credentials or credentials.invalid:\n",
    "        flow = client.flow_from_clientsecrets(CLIENT_SECRET_FILE, SCOPES)\n",
    "        flow.user_agent = APPLICATION_NAME\n",
    "        if flags:\n",
    "            credentials = tools.run_flow(flow, store, flags)\n",
    "        else: # Needed only for compatibility with Python 2.6\n",
    "            credentials = tools.run(flow, store)\n",
    "        print('Storing credentials to ' + credential_path)\n",
    "        \n",
    "    return credentials"
   ]
  },
  {
   "cell_type": "code",
   "execution_count": null,
   "metadata": {
    "collapsed": false
   },
   "outputs": [],
   "source": [
    "credentials = get_credentials()\n",
    "print('credential_path:', credentials)\n",
    "http = credentials.authorize(httplib2.Http())\n",
    "service = discovery.build('drive', 'v3', http=http)"
   ]
  },
  {
   "cell_type": "code",
   "execution_count": null,
   "metadata": {
    "collapsed": false
   },
   "outputs": [],
   "source": [
    "def createFormattedHistlist(filePath, newFilePath):\n",
    "    try:\n",
    "        with open(filePath, 'r', encoding='utf-8') as f:\n",
    "            content = f.readlines()\n",
    "            f.close()\n",
    "    except:\n",
    "        return\n",
    "    lines = [line.strip() for line in content]\n",
    "    hitFiles = {}\n",
    "    for line in lines:\n",
    "        googleFileID, rest = line[:line.find(';')], line[line.find(';') + 1:]\n",
    "        pageNumber, rest = rest[:rest.find(';')], rest[rest.find(';') + 1:]\n",
    "        matchList = rest \n",
    "        if googleFileID in hitFiles:\n",
    "            hitFiles[googleFileID].append((pageNumber, matchList))\n",
    "        else:\n",
    "            hitFiles[googleFileID] = [(pageNumber, matchList)]\n",
    "\n",
    "    for hitFileId in hitFiles:\n",
    "        try:\n",
    "            file = service.files().get(fileId=hitFileId).execute()\n",
    "            name = file['name']\n",
    "        except Error:\n",
    "            name = 'unable to get file name'\n",
    "        \n",
    "        pageNumbers = [file[0] for file in hitFiles[hitFileId]]\n",
    "        firstLine = \"{0};{1}\".format(name, hitFileId) + '\\n'\n",
    "        secondLine = \",\".join(pageNumbers) + '\\n'\n",
    "        #print(firstLine)\n",
    "        #print (secondLine)\n",
    "        with open(newFilePath, 'a', encoding='utf-8') as f2:\n",
    "            f2.writelines([firstLine, secondLine, '\\n'])\n",
    "            f2.close()\n",
    "        \n",
    "        \n"
   ]
  },
  {
   "cell_type": "code",
   "execution_count": null,
   "metadata": {
    "collapsed": false,
    "scrolled": true
   },
   "outputs": [],
   "source": [
    "SHL, SHLF = \"smallhitlist.txt\", projectDir + \"formatted_smallhits.txt\"\n",
    "BHL, BHLF = \"bighitlist.txt\", projectDir + \"formatted_bighits.txt\"\n",
    "try:\n",
    "    os.remove(projectDir + \"formatted_smallhits.txt\")\n",
    "    os.remove(projectDir + \"formatted_bighits.txt\")\n",
    "except:\n",
    "    pass\n",
    "os.chdir(resultsDir)\n",
    "dirs = os.listdir(resultsDir)\n",
    "for resultFolder in dirs:\n",
    "    resultFolderDir = resultsDir + resultFolder + \"/\"\n",
    "    print(resultFolderDir)\n",
    "    files = os.listdir(resultFolderDir)\n",
    "    createFormattedHistlist(resultFolderDir + SHL, SHLF)\n",
    "    createFormattedHistlist(resultFolderDir + BHL, BHLF)\n",
    "print(\"Completed.\")\n",
    "        \n",
    "    "
   ]
  },
  {
   "cell_type": "code",
   "execution_count": null,
   "metadata": {
    "collapsed": false
   },
   "outputs": [],
   "source": [
    "#testing\n",
    "\n",
    "os.chdir(resultsDir)\n",
    "dirs = os.listdir(resultsDir)\n",
    "os.chdir(\"Results_716-735\")\n",
    "dirs = os.listdir()\n",
    "createFormattedHistlist(resultsDir+\"Results_716-735/smallhitlist.txt\", projectDir + \"formatted_bighits.txt\")"
   ]
  },
  {
   "cell_type": "code",
   "execution_count": null,
   "metadata": {
    "collapsed": false
   },
   "outputs": [],
   "source": [
    "#how many pdfs with bighits\n",
    "with open(projectDir + \"formatted_bighits.txt\", 'r', encoding='utf-8') as f:\n",
    "    content = f.readlines()\n",
    "    f.close()\n",
    "lines = [line.strip() for line in content]\n",
    "len(lines)/3"
   ]
  },
  {
   "cell_type": "code",
   "execution_count": null,
   "metadata": {
    "collapsed": false
   },
   "outputs": [],
   "source": [
    "#how many pdfs with smallhits\n",
    "with open(projectDir + \"formatted_smallhits.txt\", 'r', encoding='utf-8') as f:\n",
    "    content = f.readlines()\n",
    "    f.close()\n",
    "lines = [line.strip() for line in content]\n",
    "len(lines)/3"
   ]
  },
  {
   "cell_type": "code",
   "execution_count": null,
   "metadata": {
    "collapsed": true
   },
   "outputs": [],
   "source": []
  }
 ],
 "metadata": {
  "kernelspec": {
   "display_name": "Python 3",
   "language": "python",
   "name": "python3"
  },
  "language_info": {
   "codemirror_mode": {
    "name": "ipython",
    "version": 3
   },
   "file_extension": ".py",
   "mimetype": "text/x-python",
   "name": "python",
   "nbconvert_exporter": "python",
   "pygments_lexer": "ipython3",
   "version": "3.5.1"
  }
 },
 "nbformat": 4,
 "nbformat_minor": 1
}
