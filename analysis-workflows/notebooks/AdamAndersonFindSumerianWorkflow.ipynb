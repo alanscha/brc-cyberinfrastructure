{
 "cells": [
  {
   "cell_type": "markdown",
   "metadata": {},
   "source": [
    "### This notebook is an exemplar which demonstrates transferring zip files between a bDrive folder and Savio scratch to run OCR on images using Tesseract (inside a Singularity container)\n",
    "\n",
    "( tested with boxsdk (2.0.0a2) on python 3.5 kernel)\n",
    "pip install -Iv boxsdk==2.0.0a2 "
   ]
  },
  {
   "cell_type": "markdown",
   "metadata": {},
   "source": [
    "\n",
    "_This software is available under the terms of the Educational Community License, Version 2.0 (ECL 2.0). This software is Copyright 2016 The Regents of the University of California, Berkeley (\"Berkeley\")._\n",
    "\n",
    "The text of the ECL license is reproduced below.\n",
    "\n",
    "Educational Community License, Version 2.0\n",
    "*************************************\n",
    "Copyright 2017 The Regents of the University of California, Berkeley (\"Berkeley\")\n",
    "\n",
    "Educational Community License, Version 2.0, April 2007\n",
    "\n",
    "The Educational Community License version 2.0 (\"ECL\") consists of the\n",
    "Apache 2.0 license, modified to change the scope of the patent grant in\n",
    "section 3 to be specific to the needs of the education communities using\n",
    "this license. The original Apache 2.0 license can be found at:[http://www.apache.org/licenses/LICENSE-2.0]"
   ]
  },
  {
   "cell_type": "markdown",
   "metadata": {},
   "source": [
    "### Notebook configuration section\n",
    "Set of target and source directories, script file names and other used as parameters in processing below."
   ]
  },
  {
   "cell_type": "code",
   "execution_count": 1,
   "metadata": {
    "collapsed": true
   },
   "outputs": [],
   "source": [
    "savioUsername = 'sahilhasan' #Put your savio username here\n",
    "boxProjectFolder = 'aatest' #Put the name of your Google Drive Folder with data here, ensure that it is NOT nested\n",
    "boxResultsFolder = 'aatest' #Put the name of the Drive Folder where you would like results placed. \n",
    "projectname = 'test'         #Put the name of the folder in your scratch folder you would like data stored in\n",
    "\n"
   ]
  },
  {
   "cell_type": "code",
   "execution_count": 2,
   "metadata": {
    "collapsed": false
   },
   "outputs": [],
   "source": [
    "\n",
    "runFolder = '/global/scratch/' + savioUsername + '/' + projectname + '/'\n",
    "\n",
    "tesseractimage = '/global/scratch/groups/dh/tesseract2_3.img'\n",
    "tesseractdatadir = '/opt/tessdata/'\n",
    "pdfnamelist = []\n",
    "\n",
    "scratchDataDirectory = '/global/scratch/' + savioUsername + '/' + projectname + '/data/'\n",
    "tesseractScratchDataDirectory = '/scratch/'\n",
    "\n",
    "SINGULARITYCMD = 'singularity exec -B ' + runFolder + ':/scratch/  ' + tesseractimage\n",
    "\n",
    "gsCommandScript = runFolder + 'gsCommandScript.sh'\n",
    "t4CommandScript = runFolder + 't4CommandScript.sh'\n",
    "slurmScript = runFolder + 'slurmscript.sh'\n",
    "\n"
   ]
  },
  {
   "cell_type": "code",
   "execution_count": 3,
   "metadata": {
    "collapsed": false
   },
   "outputs": [],
   "source": [
    "#Make Directories if they do not exist\n",
    "import os\n",
    "import sys\n",
    "import errno\n",
    "\n",
    "def dir_create(path):\n",
    "    try:\n",
    "        os.makedirs(path)\n",
    "    except OSError as exception:\n",
    "        if exception.errno != errno.EEXIST:\n",
    "            raise\n",
    "        else:\n",
    "            print('Folder at: ' + path + ' already exists. Skipping...')\n",
    "dir_create(runFolder)\n",
    "dir_create(scratchDataDirectory)"
   ]
  },
  {
   "cell_type": "markdown",
   "metadata": {},
   "source": [
    "### bDrive Authorization"
   ]
  },
  {
   "cell_type": "code",
   "execution_count": 4,
   "metadata": {
    "collapsed": false
   },
   "outputs": [],
   "source": [
    "import codecs\n",
    "import httplib2\n",
    "from googleapiclient.http import MediaIoBaseDownload\n",
    "from googleapiclient.http import MediaFileUpload\n",
    "from apiclient import discovery, errors\n",
    "from oauth2client import client\n",
    "from oauth2client import tools\n",
    "from oauth2client.file import Storage"
   ]
  },
  {
   "cell_type": "code",
   "execution_count": 5,
   "metadata": {
    "collapsed": true
   },
   "outputs": [],
   "source": [
    "SCOPES = 'https://www.googleapis.com/auth/drive'\n",
    "CLIENT_SECRET_FILE = 'client_secret.json'\n",
    "APPLICATION_NAME = 'gDriveConnect'"
   ]
  },
  {
   "cell_type": "code",
   "execution_count": 6,
   "metadata": {
    "collapsed": true
   },
   "outputs": [],
   "source": [
    "def get_credentials():\n",
    "    \n",
    "    home_dir = os.path.expanduser('~')\n",
    "    credential_dir = os.path.join(home_dir, '.credentials')\n",
    "    if not os.path.exists(credential_dir):\n",
    "        os.makedirs(credential_dir)\n",
    "    credential_path = os.path.join(credential_dir, 'gDriveConnect.json')\n",
    "    \n",
    "    store = Storage(credential_path)    \n",
    "    credentials = store.get()\n",
    "    \n",
    "    if not credentials or credentials.invalid:\n",
    "        flow = client.flow_from_clientsecrets(CLIENT_SECRET_FILE, SCOPES)\n",
    "        flow.user_agent = APPLICATION_NAME\n",
    "        if flags:\n",
    "            credentials = tools.run_flow(flow, store, flags)\n",
    "        else: # Needed only for compatibility with Python 2.6\n",
    "            credentials = tools.run(flow, store)\n",
    "        print('Storing credentials to ' + credential_path)\n",
    "        \n",
    "    return credentials"
   ]
  },
  {
   "cell_type": "code",
   "execution_count": 7,
   "metadata": {
    "collapsed": false
   },
   "outputs": [
    {
     "name": "stdout",
     "output_type": "stream",
     "text": [
      "credential_path: <oauth2client.client.OAuth2Credentials object at 0x2b2f485e5d30>\n"
     ]
    }
   ],
   "source": [
    "credentials = get_credentials()\n",
    "print('credential_path:', credentials)\n",
    "http = credentials.authorize(httplib2.Http())\n",
    "service = discovery.build('drive', 'v3', http=http)"
   ]
  },
  {
   "cell_type": "code",
   "execution_count": 8,
   "metadata": {
    "collapsed": false
   },
   "outputs": [
    {
     "name": "stdout",
     "output_type": "stream",
     "text": [
      "target folder id:0B3QqxeoUcqoAaHV4X1hPYmZNUVE\n"
     ]
    }
   ],
   "source": [
    "# loop thru folders to get the target dfolder for the download\n",
    "page_token=None\n",
    "response = service.files().list(q=\"mimeType='application/vnd.google-apps.folder'\",\n",
    "                                     spaces='drive',\n",
    "                                     fields='files(id, name)',\n",
    "                                     pageToken=page_token).execute()\n",
    "targetFolderId = ''\n",
    "for file in response.get('files', []):\n",
    "    if file.get('name')== boxProjectFolder:\n",
    "        targetFolderId = file.get('id')\n",
    "print('target folder id:' + targetFolderId)"
   ]
  },
  {
   "cell_type": "code",
   "execution_count": 9,
   "metadata": {
    "collapsed": false
   },
   "outputs": [
    {
     "name": "stdout",
     "output_type": "stream",
     "text": [
      "Found file: CNIP 38.pdf (0B3QqxeoUcqoAOFdncU5jTUlyeFE)\n",
      "Found file: AKT 7a.pdf (0B3QqxeoUcqoAdmc5cF9VU0dWSFU)\n"
     ]
    }
   ],
   "source": [
    "\n",
    "downloadMap = {}\n",
    "\n",
    "page_token = None\n",
    "while True:\n",
    "    response = service.files().list(q=\"mimeType='application/pdf' and '0B3QqxeoUcqoAaHV4X1hPYmZNUVE' in parents\",\n",
    "                                         spaces='drive',\n",
    "                                         fields='nextPageToken, files(id, name)',\n",
    "                                         pageToken=page_token).execute()\n",
    "    for file in response.get('files', []):\n",
    "        # Process change\n",
    "        print('Found file: %s (%s)' % (file.get('name'), file.get('id')) )\n",
    "        tup = (file.get('name'), file.get('id'))\n",
    "        downloadMap[file.get('id')]=file.get('name')\n",
    "    page_token = response.get('nextPageToken', None)\n",
    "    if page_token is None:\n",
    "        break;"
   ]
  },
  {
   "cell_type": "code",
   "execution_count": 10,
   "metadata": {
    "collapsed": false
   },
   "outputs": [
    {
     "name": "stdout",
     "output_type": "stream",
     "text": [
      "2 more items to download\n"
     ]
    }
   ],
   "source": [
    "os.chdir(scratchDataDirectory)\n",
    "out = !find -name \"*.pdf\"\n",
    "safeDict = dict()\n",
    "for s in out:\n",
    "    temp = s[2:][:-4]\n",
    "    if temp in list(downloadMap):\n",
    "        downloadMap.pop(temp)\n",
    "print(str(len(list(downloadMap))) + \" more items to download\")\n",
    "    \n"
   ]
  },
  {
   "cell_type": "code",
   "execution_count": 11,
   "metadata": {
    "collapsed": false
   },
   "outputs": [
    {
     "name": "stdout",
     "output_type": "stream",
     "text": [
      "downloading: AKT 7a.pdf\n",
      "..............................................................................................................\n",
      "writing: /global/scratch/sahilhasan/test/data/0B3QqxeoUcqoAdmc5cF9VU0dWSFU.pdf\n",
      "downloading: CNIP 38.pdf\n",
      ".................................................................................\n",
      "writing: /global/scratch/sahilhasan/test/data/0B3QqxeoUcqoAOFdncU5jTUlyeFE.pdf\n",
      "downloads completed.\n"
     ]
    }
   ],
   "source": [
    "import io\n",
    "\n",
    "for key, value in downloadMap.items():\n",
    "    print('downloading:', value)\n",
    "    request = service.files().get_media(fileId=key)\n",
    "    fh = io.BytesIO()\n",
    "    downloader = MediaIoBaseDownload(fh, request)\n",
    "    done = False\n",
    "    while done is False:\n",
    "        try:\n",
    "            status, done = downloader.next_chunk()\n",
    "            sys.stdout.write('.')\n",
    "        except errors.HttpError as error :\n",
    "            print('Error file:', value, '   id:', key)\n",
    "            print('An error occurred pulling the next chunk:', error)\n",
    "            break\n",
    "\n",
    "    # failed during download?\n",
    "    if done is False:\n",
    "        continue\n",
    "\n",
    "    outfile = scratchDataDirectory + key + '.pdf'\n",
    "    fh.seek(0)\n",
    "\n",
    "    print('\\nwriting:', outfile)\n",
    "    with open( outfile, 'wb',) as f2:\n",
    "        f2.write(fh.getvalue())\n",
    "        f2.close()\n",
    "\n",
    "    fh.close()\n",
    "print( 'downloads completed.')\n"
   ]
  },
  {
   "cell_type": "markdown",
   "metadata": {},
   "source": [
    "### Utility functions"
   ]
  },
  {
   "cell_type": "code",
   "execution_count": 12,
   "metadata": {
    "collapsed": true
   },
   "outputs": [],
   "source": [
    "import re\n",
    "\n",
    "def natural_sort_key(s, _nsre=re.compile('([0-9]+)')):\n",
    "    return [int(text) if text.isdigit() else text.lower()\n",
    "            for text in re.split(_nsre, s)]  "
   ]
  },
  {
   "cell_type": "markdown",
   "metadata": {},
   "source": [
    "__function to return all files in directory tree.__"
   ]
  },
  {
   "cell_type": "code",
   "execution_count": 13,
   "metadata": {
    "collapsed": false
   },
   "outputs": [],
   "source": [
    "import os\n",
    "def scantreeForFiles(path):\n",
    "    \"\"\"Recursively yield DirEntry objects for given directory.\"\"\"\n",
    "    for entry in os.scandir(path):\n",
    "        if entry.is_dir(follow_symlinks=False):\n",
    "            yield from scantreeForFiles(entry.path) \n",
    "        else:\n",
    "            yield entry.path\n"
   ]
  },
  {
   "cell_type": "markdown",
   "metadata": {},
   "source": [
    "__function to return list of all folders in directory tree.__"
   ]
  },
  {
   "cell_type": "code",
   "execution_count": 14,
   "metadata": {
    "collapsed": false
   },
   "outputs": [],
   "source": [
    "import os\n",
    "def scandirForFolders(path, dirlist):\n",
    "    \"\"\"Recursively yield DirEntry objects for given directory.\"\"\"\n",
    "    for entry in os.scandir(path):\n",
    "        if entry.is_dir(follow_symlinks=False):\n",
    "            dirlist.append(entry.path)\n",
    "            scandirForFolders(entry.path, dirlist)    \n"
   ]
  },
  {
   "cell_type": "markdown",
   "metadata": {},
   "source": [
    "__Validate all the task log files produced by ht_helper __"
   ]
  },
  {
   "cell_type": "code",
   "execution_count": 15,
   "metadata": {
    "collapsed": false
   },
   "outputs": [],
   "source": [
    "def validateTaskResults(fileroot, totalTasks):\n",
    "    # file root is job-name.jobId.taskNumber.log\n",
    "    \n",
    "    errorList = []\n",
    "    \n",
    "    for i in range(0, totalTasks-1):\n",
    "        fn = fileroot + '.' + str(i)\n",
    "        if os.path.exists(fn):\n",
    "            out = !tail -1 {fn}\n",
    "            retval = out[0]\n",
    "            #print ('return code: ', out[0])\n",
    "        else:\n",
    "            print ('warning: log file not available: ', fn)\n",
    "        \n",
    "        if ( retval != '0' ):\n",
    "            errorList.append(i)\n",
    "            \n",
    "    return errorList\n"
   ]
  },
  {
   "cell_type": "markdown",
   "metadata": {},
   "source": [
    "__SLURM job script__ normal"
   ]
  },
  {
   "cell_type": "code",
   "execution_count": 16,
   "metadata": {
    "collapsed": false
   },
   "outputs": [],
   "source": [
    "# batch script\n",
    "batchtemplate = '#!/bin/bash -l  \\n\\\n",
    "# Job name: \\n\\\n",
    "#SBATCH --job-name=' + projectname + '\\n\\\n",
    "# \\n\\\n",
    "# Account: \\n\\\n",
    "#SBATCH --account=ac_scsguest \\n\\\n",
    "# \\n\\\n",
    "# Partition: \\n\\\n",
    "#SBATCH --partition=savio2 \\n\\\n",
    "# \\n\\\n",
    "## Scale by increasing the number of nodes \\n\\\n",
    "#SBATCH --nodes=5  \\n\\\n",
    "## DO NOT change ntasks-per-node setting as T4 also distributes across cores \\n\\\n",
    "#SBATCH --ntasks-per-node=6 \\n\\\n",
    "#SBATCH --qos=savio_normal \\n\\\n",
    "# \\n\\\n",
    "# Wall clock limit: \\n\\\n",
    "#SBATCH --time={} \\n\\\n",
    "# \\n\\\n",
    "## Command(s) to run: \\n\\\n",
    "module load gcc openmpi  \\n\\\n",
    "/global/home/groups/allhands/bin/ht_helper.sh  -t {} -n1 -s1 -vL \\n' \n"
   ]
  },
  {
   "cell_type": "markdown",
   "metadata": {},
   "source": [
    "### Create script to convert all pdf files in working directory to images\n"
   ]
  },
  {
   "cell_type": "code",
   "execution_count": 17,
   "metadata": {
    "collapsed": false
   },
   "outputs": [
    {
     "name": "stdout",
     "output_type": "stream",
     "text": [
      "current working directory:  /global/scratch/sahilhasan/test/data\n"
     ]
    }
   ],
   "source": [
    "import glob, os\n",
    "import shutil \n",
    "\n",
    "# Ghostscript executable is inside the container.\n",
    "# TEMPLATE: gs -dBATCH -dNOPAUSE -dQUIET -sDEVICE=png16m -sOutputFile=/scratch/test/output/test-%d.png -r300 /scratch/test/germanocr.pdf\n",
    "SINGULARITYCMD = 'singularity exec -B {}:/scratch/ /global/scratch/groups/dh/tesseract2_3.img ' \n",
    "GHOSTSCRIPTCMD = 'gs -dBATCH -dNOPAUSE -dQUIET -sDEVICE=png16m -sOutputFile=\\\"{}-%d.png\\\" -r300 \\\"{}\\\" ;  echo $?'\n",
    "\n",
    "os.chdir(scratchDataDirectory)\n",
    "print ('current working directory: ', os.getcwd())\n",
    "\n",
    "scmd = SINGULARITYCMD.format(scratchDataDirectory)\n",
    "\n",
    "# total number of ghostscript tasks\n",
    "gsCommandTotal = 0\n",
    "\n",
    "with open(gsCommandScript, 'w') as f:  \n",
    "\n",
    "    for entry in scantreeForFiles(scratchDataDirectory):\n",
    "        filename, file_extension = os.path.splitext(entry)\n",
    "        if ( entry.endswith('.pdf')):\n",
    "            relativepath1 = entry[len(scratchDataDirectory):]\n",
    "            relativepath2 = filename[len(scratchDataDirectory):]\n",
    "            gcmd = GHOSTSCRIPTCMD.format(tesseractScratchDataDirectory+relativepath2, tesseractScratchDataDirectory+relativepath1 )\n",
    "            f.write(scmd + gcmd + '\\n')\n",
    "            gsCommandTotal += 1\n",
    "    \n",
    "    \n",
    "#set time limit for this batch run\n",
    "outputbatchscript = batchtemplate.format('00:30:00',  gsCommandScript)\n",
    "with open(slurmScript, 'w') as f:  \n",
    "    f.write(outputbatchscript)"
   ]
  },
  {
   "cell_type": "markdown",
   "metadata": {},
   "source": [
    "__Execute the task script with ht_helper__"
   ]
  },
  {
   "cell_type": "code",
   "execution_count": 18,
   "metadata": {
    "collapsed": false
   },
   "outputs": [
    {
     "name": "stdout",
     "output_type": "stream",
     "text": [
      "current working directory:  /global/scratch/sahilhasan/test\n",
      "Execute ghostscript output:  ['Submitted batch job 1552824']\n",
      "1552824\n"
     ]
    }
   ],
   "source": [
    "os.chdir(runFolder)\n",
    "print ('current working directory: ', os.getcwd())\n",
    "\n",
    "out = !sbatch slurmscript.sh   \n",
    "    \n",
    "print ('Execute ghostscript output: ', out ) \n",
    "jobId =  out[0].split()[3]\n",
    "print (jobId)"
   ]
  },
  {
   "cell_type": "code",
   "execution_count": 19,
   "metadata": {
    "collapsed": false
   },
   "outputs": [
    {
     "name": "stdout",
     "output_type": "stream",
     "text": [
      "             JOBID PARTITION     NAME     USER ST       TIME  NODES NODELIST(REASON)\n",
      "           1552824    savio2     test sahilhas PD       0:00      5 (Priority)\n",
      "--------------------------------\n",
      "Savio Job has been submitted. This cell will notify you when the job is done.\n",
      "................\n",
      "******Savio Job finished******\n"
     ]
    }
   ],
   "source": [
    "import time\n",
    "# print the users queue and the job status by id\n",
    "!squeue -u $savioUsername #possibly do not need\n",
    "print('--------------------------------')\n",
    "print('Savio Job has been submitted. This cell will notify you when the job is done.')\n",
    "jobState = False\n",
    "while not jobState:\n",
    "    out = !scontrol show job $jobId\n",
    "    if any(\"COMPLETED\" in s for s in out):\n",
    "        print('\\n******Savio Job finished******')\n",
    "        jobState = True\n",
    "    else:\n",
    "       print('.', end='')\n",
    "       time.sleep(30) #Can tweak this so that people can see it moving\n",
    "        \n"
   ]
  },
  {
   "cell_type": "markdown",
   "metadata": {},
   "source": [
    "__Check all task log files for bad exit code__  \n",
    "task numbers align with lines in the task script  \n",
    "check the log file of tasks in the returned array of failures  "
   ]
  },
  {
   "cell_type": "code",
   "execution_count": 20,
   "metadata": {
    "collapsed": false
   },
   "outputs": [
    {
     "name": "stdout",
     "output_type": "stream",
     "text": [
      "current working directory:  /global/scratch/sahilhasan/test\n",
      "these tasks in task script failed:  []\n"
     ]
    }
   ],
   "source": [
    "import glob, os\n",
    "if (not jobState):\n",
    "    print(\"WARNING: Your SLURM Job has not finished processing! Please wait for the cell above to complete.\")\n",
    "else:\n",
    "    print ('current working directory: ', os.getcwd())\n",
    "    fileroot = projectname + '.' + jobId + '.log'\n",
    "    tasklist = validateTaskResults(fileroot, gsCommandTotal)\n",
    "    print ('these tasks in task script failed: ', tasklist)\n"
   ]
  },
  {
   "cell_type": "markdown",
   "metadata": {},
   "source": [
    "__Remove task logs after any errors have been resolved__"
   ]
  },
  {
   "cell_type": "code",
   "execution_count": 21,
   "metadata": {
    "collapsed": false
   },
   "outputs": [
    {
     "name": "stdout",
     "output_type": "stream",
     "text": [
      "filter:  test.1552824.log*\n"
     ]
    }
   ],
   "source": [
    " \n",
    "filter = fileroot + '*'\n",
    "print ('filter: ', filter)\n",
    "for f in glob.glob(filter):\n",
    "    os.remove(f)"
   ]
  },
  {
   "cell_type": "markdown",
   "metadata": {},
   "source": [
    "### Create script to ocr all png files in working directory to text"
   ]
  },
  {
   "cell_type": "code",
   "execution_count": 22,
   "metadata": {
    "collapsed": false
   },
   "outputs": [
    {
     "name": "stdout",
     "output_type": "stream",
     "text": [
      "current working directory:  /global/scratch/sahilhasan/test/data\n"
     ]
    }
   ],
   "source": [
    "import glob, os\n",
    "os.chdir(scratchDataDirectory)\n",
    "print ('current working directory: ', os.getcwd())\n",
    "# template: tesseract --tessdata-dir /opt/tessdata /scratch/germanocr_Page_01.png  germanout  -l deu\n",
    "#TCMD = ' sh -c \\'OMP_NUM_THREADS=1 tesseract --tessdata-dir /opt/tessdata \\\"{}\\\" \\\"{}\\\" \\'  -l deu+eng+tur+fra -c tessedit_create_hocr=1;  echo $?'\n",
    "TCMD = ' sh -c \\'OMP_NUM_THREADS=1 tesseract --tessdata-dir /opt/tessdata  -l deu+eng+tur+fra -c tessedit_create_hocr=1 \\\"{}\\\" \\\"{}\\\" \\';  echo $?'\n",
    "\n",
    "#\n",
    "\n",
    "scmd = SINGULARITYCMD.format(scratchDataDirectory)\n",
    "# total number of tesseract tasks\n",
    "t4CommandTotal = 0\n",
    "\n",
    "with open(t4CommandScript, 'w') as f:\n",
    "\n",
    "    for entry in scantreeForFiles(scratchDataDirectory):\n",
    "        if ( entry.endswith('.png')):\n",
    "            filename, file_extension = os.path.splitext(entry)\n",
    "            relativepath1 = entry[len(scratchDataDirectory):]\n",
    "            relativepath2 = filename[len(scratchDataDirectory):]\n",
    "            tcmd = TCMD.format(tesseractScratchDataDirectory+relativepath1, tesseractScratchDataDirectory+relativepath2 )\n",
    "            #print(scmd + tcmd)\n",
    "            f.write(scmd + tcmd + '\\n')\n",
    "            t4CommandTotal += 1\n",
    "    \n",
    "    \n",
    "#set time limit for this batch run\n",
    "outputbatchscript = batchtemplate.format('03:00:00',  t4CommandScript)\n",
    "with open(slurmScript, 'w') as f:  \n",
    "    f.write(outputbatchscript)"
   ]
  },
  {
   "cell_type": "markdown",
   "metadata": {},
   "source": [
    "__Execute the task script with ht_helper__"
   ]
  },
  {
   "cell_type": "code",
   "execution_count": 23,
   "metadata": {
    "collapsed": false
   },
   "outputs": [
    {
     "name": "stdout",
     "output_type": "stream",
     "text": [
      "current working directory:  /global/scratch/sahilhasan/test\n",
      "Execute tesseract4 output:  ['Submitted batch job 1552829']\n",
      "1552829\n"
     ]
    }
   ],
   "source": [
    "os.chdir(runFolder)\n",
    "print ('current working directory: ', os.getcwd())\n",
    "\n",
    "out = !sbatch slurmscript.sh   \n",
    "    \n",
    "print ('Execute tesseract4 output: ', out ) \n",
    "jobId =  out[0].split()[3]\n",
    "print (jobId)"
   ]
  },
  {
   "cell_type": "code",
   "execution_count": 24,
   "metadata": {
    "collapsed": false
   },
   "outputs": [
    {
     "name": "stdout",
     "output_type": "stream",
     "text": [
      "             JOBID PARTITION     NAME     USER ST       TIME  NODES NODELIST(REASON)\n",
      "           1552829    savio2     test sahilhas PD       0:00      5 (Priority)\n",
      "--------------------------------\n",
      "Savio Job has been submitted. This cell will notify you when the job is done.\n",
      "...................................\n",
      "******Savio Job finished******\n"
     ]
    }
   ],
   "source": [
    "import time\n",
    "# print the users queue and the job status by id\n",
    "!squeue -u $savioUsername #possibly do not need\n",
    "print('--------------------------------')\n",
    "print('Savio Job has been submitted. This cell will notify you when the job is done.')\n",
    "jobState = False\n",
    "while not jobState:\n",
    "    out = !scontrol show job $jobId\n",
    "    if any(\"COMPLETED\" in s for s in out):\n",
    "        print('\\n******Savio Job finished******')\n",
    "        jobState = True\n",
    "    else:\n",
    "       print('.', end='')\n",
    "       time.sleep(30) #Can tweak this so that people can see it moving\n",
    "        "
   ]
  },
  {
   "cell_type": "markdown",
   "metadata": {},
   "source": [
    "__Check all task log files for bad exit code__"
   ]
  },
  {
   "cell_type": "code",
   "execution_count": 25,
   "metadata": {
    "collapsed": false
   },
   "outputs": [
    {
     "name": "stdout",
     "output_type": "stream",
     "text": [
      "current working directory:  /global/scratch/sahilhasan/test\n",
      "these tasks in task script failed:  []\n"
     ]
    }
   ],
   "source": [
    "\n",
    "os.chdir(runFolder)\n",
    "print ('current working directory: ', os.getcwd())\n",
    "\n",
    "fileroot = projectname + '.' + jobId + '.log'\n",
    "#tasklist = validateTaskResults(fileroot, 10) first check a small subset\n",
    "tasklist = validateTaskResults(fileroot, t4CommandTotal)\n",
    "print ('these tasks in task script failed: ', tasklist)\n",
    "\n",
    "# Remove task logs\n",
    "#filter = fileroot + '*'\n",
    "#for f in glob.glob(filter):\n",
    "#    os.remove(f)"
   ]
  },
  {
   "cell_type": "markdown",
   "metadata": {},
   "source": [
    "### Merge text files and upload to Box"
   ]
  },
  {
   "cell_type": "code",
   "execution_count": 26,
   "metadata": {
    "collapsed": false
   },
   "outputs": [
    {
     "name": "stdout",
     "output_type": "stream",
     "text": [
      "num dirs:  0\n"
     ]
    }
   ],
   "source": [
    "from scandir import scandir\n",
    "dirlist = []\n",
    "\n",
    "scandirForFolders(scratchDataDirectory, dirlist)\n",
    "\n",
    "print(\"num dirs: \", len(dirlist) ) \n"
   ]
  },
  {
   "cell_type": "markdown",
   "metadata": {},
   "source": [
    "__check that for every .png there is a .hocr in each directory__"
   ]
  },
  {
   "cell_type": "code",
   "execution_count": 27,
   "metadata": {
    "collapsed": false
   },
   "outputs": [
    {
     "name": "stdout",
     "output_type": "stream",
     "text": [
      "missingResultList size:  0\n"
     ]
    }
   ],
   "source": [
    "missingResultList = []\n",
    "for currentdir in dirlist:\n",
    "    os.chdir(currentdir)\n",
    "    #print ('current working directory: ', os.getcwd())\n",
    "    \n",
    "    \n",
    "    # get a list of all pdf names\n",
    "    for filename in os.listdir(os.getcwd()):\n",
    "        if  os.path.isfile(filename)  and filename.endswith('.png'):\n",
    "            fn, fe = os.path.splitext(filename)\n",
    "            if not os.path.exists(fn + '.hocr'):\n",
    "                missingResultList.append(currentdir + '/' + filename)\n",
    "                print ('missing result: ', currentdir + '/' + filename )\n",
    "print(\"missingResultList size: \", len(missingResultList) ) "
   ]
  },
  {
   "cell_type": "markdown",
   "metadata": {
    "collapsed": false
   },
   "source": [
    "__process hocr files__"
   ]
  },
  {
   "cell_type": "markdown",
   "metadata": {},
   "source": [
    "Current scoring approach:\n",
    "- To be counted, the score for a word must be between 25 and 70, this removes some garbage characters at the low end.\n",
    "- If a line contains between 6 and 9 scoring words it registers as a small hit, if it contains 10 or more then the line registers as a big hit.\n",
    "- If the total score for the last three lines (a rolling window) is > 15 then that is a small hit and > 25 is a big hit.\n",
    "- if a \"paragraph\" (currently using the dev tag in the hocr xml) has > 25 scoring words that is a small hit and > 40 is a bit hit.\n",
    "This scoring approach seems to be doing a good job of finding target text. However, it also includes a number of false positives that I \n",
    "have not been able to reduce significantly. Table and figures are usually tagged as hits. The Teissier_Sealings doc has a number of tables, \n",
    "rotated to landscape, which show up in the big hits list. I have not found a way to identify a table or figure from the xml results. \n",
    "There are a couple papers online with complex detection algorithms but nothing I could implement without significant development time."
   ]
  },
  {
   "cell_type": "code",
   "execution_count": 28,
   "metadata": {
    "collapsed": false
   },
   "outputs": [],
   "source": [
    "import sys\n",
    "\n",
    "srch = re.compile(r'.*[-—]+.*[-—]+[.-—]*')\n",
    "\n",
    "def vetHitList(hitlist):\n",
    "\n",
    "    #logging.info('vetHitList  hitlist: %s ', hitlist )\n",
    "    totalHits= len(hitlist)\n",
    "    count = 0\n",
    "    for hit in hitlist:\n",
    "        found = srch.search(hit)\n",
    "        if found:\n",
    "            #logging.info('good hit: %s ', hit )\n",
    "            count = count + 1\n",
    "        #else:\n",
    "            #logging.info('BAD hit:  %s ', hit )\n",
    "\n",
    "    percent = count / totalHits\n",
    "    #logging.info('vetHitList percent: %s ', percent)\n",
    "    if percent > .666:\n",
    "        return True\n",
    "    else:\n",
    "        return False\n"
   ]
  },
  {
   "cell_type": "code",
   "execution_count": 29,
   "metadata": {
    "collapsed": false
   },
   "outputs": [],
   "source": [
    "import collections\n",
    "from bs4 import BeautifulSoup\n",
    "import logging\n",
    "import lxml\n",
    "import lxml.etree\n",
    "import bs4.builder._lxml\n",
    "import bs4.builder._html5lib\n",
    "\n",
    "\n",
    "\n",
    "def parseHocrFiles(filenameroot, fileList):\n",
    "\n",
    "    logging.basicConfig(handlers=[logging.FileHandler('ocrparse.log', 'w', 'utf-8')], level=logging.INFO, format='%(message)s',  datefmt='%Y-%m-%d %H:%M:%S')\n",
    "\n",
    "    last_three_lines = collections.deque(3*[0], 3)\n",
    "    last_three_line_words = collections.deque(3*[''], 3)\n",
    "    div_count=0\n",
    "    avg_low_score = 0\n",
    "    low_score_ctr = 0\n",
    "    low_score_words = []\n",
    "    div_words = []\n",
    "    line_id = ''\n",
    "    bighits = []\n",
    "    smallhits = []\n",
    "\n",
    "    for filename in fileList :\n",
    "\n",
    "        if not filename.endswith(\".hocr\"):\n",
    "            continue\n",
    "\n",
    "        #print (' filename: ', filename)\n",
    "\n",
    "        # split out the file name and the page (image) number\n",
    "        splittokens = re.split(r\"-|\\.\", filename)\n",
    "        tot = len(splittokens)\n",
    "        image_number = splittokens[tot - 2]\n",
    "        image_number_decimal = int(image_number.strip())\n",
    "        #doc_name = splittokens[0]\n",
    "        #print (' doc name: ', filenameroot)\n",
    "        #print (' image number: ', image_number)\n",
    "        soup = BeautifulSoup(open(filename, encoding='utf-8'), \"lxml\")\n",
    "        #print ('==========>', filename )\n",
    "        logging.info(\"==========> %s\", filename )\n",
    "\n",
    "        last_three_lines.clear()\n",
    "        last_three_line_words.clear()\n",
    "\n",
    "        for div_tag in soup.find_all('div'):\n",
    "\n",
    "\n",
    "            div_id = div_tag['id']\n",
    "            if div_id is None:\n",
    "                div_id = 'None'\n",
    "            else:\n",
    "                div_id = div_id.strip()\n",
    "\n",
    "\n",
    "            div_count = len(div_words)\n",
    "            #check words in hit list for hypens\n",
    "            #logging.info(\"div words: %s \", div_words)\n",
    "\n",
    "            if div_count > 0 :\n",
    "                gooddivwords = vetHitList( div_words )\n",
    "            else:\n",
    "                gooddivwords = False\n",
    "\n",
    "            if gooddivwords :\n",
    "                logging.info(\"good div words: %s \", div_words)\n",
    "\n",
    "            # if more than 25 words in this dev section then add to hit list\n",
    "            if div_count > 20 and gooddivwords:\n",
    "                bighits.append([filenameroot, image_number_decimal, \"div count: \" + str(div_count), div_words] )\n",
    "                logging.info(\"file: %s  div count: %d tag: %s \", filename, div_count, div_id )\n",
    "            elif div_count > 10 and gooddivwords:\n",
    "                smallhits.append([filenameroot, image_number_decimal, \"div count: \" + str(div_count), div_words] )\n",
    "                logging.info(\"file: %s  div count: %d tag: %s \", filename, div_count, div_id )\n",
    "\n",
    "            div_count = 0\n",
    "            div_words = []\n",
    "\n",
    "\n",
    "            #print 'tag initial: ', tag\n",
    "            #print ('tag class: ', div_tag['class'] )\n",
    "            if 'ocr_page' in div_tag['class']:\n",
    "                #logging.info(\"ocr_page: %s\" % tag['title'])\n",
    "                #print 'tag filtered: ', tag\n",
    "                for span_tag in div_tag.find_all('span'):\n",
    "                    #print spantag\n",
    "\n",
    "                    if 'ocr_line' in span_tag['class']:\n",
    "                        line_id = span_tag['id'].strip().encode('utf-8')\n",
    "                        #print ('new line :', line_id,  ' process prev set then reset counters')\n",
    "\n",
    "                        #check words in hit list for hypens\n",
    "                        if len(low_score_words) > 0:\n",
    "                            goodwords = vetHitList( low_score_words )\n",
    "                        else:\n",
    "                            goodwords = False\n",
    "                        #print(\"goodwords: \", goodwords)\n",
    "                        lsw = [x.encode('utf-8') for x in low_score_words]\n",
    "                        if low_score_ctr > 6 and low_score_ctr <= 9 and goodwords :\n",
    "                            \n",
    "                            print ('mid range hit: ',  lsw  )\n",
    "                            logging.info(\"line:  %s   score: %d   avg low score: %f  words:  %s\",  line_id, low_score_ctr, (avg_low_score/low_score_ctr) , low_score_words  )\n",
    "                            #smallhits.append( [filenameroot, image_number_decimal, low_score_ctr, low_score_words] )\n",
    "                            smallhits.append( [filenameroot, image_number_decimal, low_score_ctr, lsw] )\n",
    "\n",
    "                        if low_score_ctr >= 10 and goodwords :\n",
    "                            \n",
    "                            print ('high range hit', lsw  )\n",
    "                            logging.info(\"line:  %s   score: %d    avg low score: %f  words:  %s\",  line_id, low_score_ctr, (avg_low_score/low_score_ctr),   low_score_words )\n",
    "                            #bighits.append( [filenameroot, image_number_decimal, low_score_ctr, low_score_words] )\n",
    "                            bighits.append( [filenameroot, image_number_decimal, low_score_ctr, lsw] )\n",
    "\n",
    "                        div_words.extend(low_score_words)\n",
    "\n",
    "\n",
    "                        # add to the counter of the last three lines and if total is over the threahold then log\n",
    "                        last_three_lines.appendleft(low_score_ctr)\n",
    "                        last_three_line_words.appendleft(low_score_words)\n",
    "                        total_last_three_lines = sum(last_three_lines)\n",
    "                        if total_last_three_lines > 25 :\n",
    "                            logging.info(\"line:  %s   last three lines:  %s\",  line_id, last_three_lines )\n",
    "                            bighits.append( [filenameroot, image_number_decimal, \"three line total:\" + str(total_last_three_lines) , list(last_three_line_words) ] )\n",
    "                        elif total_last_three_lines > 15 :\n",
    "                            logging.info(\"line:  %s   last three lines:  %s\",  line_id, last_three_lines )\n",
    "                            smallhits.append( [filenameroot, image_number_decimal, \"three line total:\" + str(total_last_three_lines), list(last_three_line_words) ] )\n",
    "\n",
    "\n",
    "                        low_score_words = []\n",
    "                        avg_low_score = 0\n",
    "                        low_score_ctr = 0\n",
    "\n",
    "                        # that is all the processing when a new line is reached\n",
    "                        continue\n",
    "\n",
    "                    if span_tag.string is None:\n",
    "                        continue\n",
    "\n",
    "                    spantagword = span_tag.string.strip()\n",
    "                    #print ('span tag: ', spantagword.encode(\"utf-8\")  )\n",
    "                    span_title_split = span_tag['title'].split(';')\n",
    "                    for span_title_element in span_title_split:\n",
    "                        if 'x_wconf' in span_title_element:\n",
    "                            #label, score = title_element.split(' ')\n",
    "                            score = span_title_element.replace('x_wconf', '').strip()\n",
    "                            #print( 'word: ', spantagword.encode(\"utf-8\"), 'score: ', int(score.strip()) )\n",
    "\n",
    "                            # if score less than 25 the could be table. diagram, or figure\n",
    "                            if int(score.strip())  < 70 and int(score.strip()) > 25 :\n",
    "                                #logging.info('word:  %s score: %s ',  spantagconverted, score.strip() )\n",
    "                                low_score_ctr = low_score_ctr + 1\n",
    "                                low_score_words.append( spantagword )\n",
    "                                avg_low_score = avg_low_score + int(score.strip())\n",
    "\n",
    "\n",
    "\n",
    "\n",
    "    #files to hold totalsi\n",
    "    #print(\"create results files for: \", filenameroot)\n",
    "    bighitssorted = open( scratchDataDirectory + filenameroot + '_bighits.txt', 'w', encoding=\"utf-8\")\n",
    "    smallhitssorted = open( scratchDataDirectory + filenameroot + '_smallhits.txt', 'w', encoding=\"utf-8\")\n",
    "\n",
    "    bigsortedlist =  sorted(bighits, key=lambda row: row[1], reverse=False)\n",
    "    logging.info('bigsortedlist: %s ', bigsortedlist)\n",
    "    smallsortedlist =  sorted(smallhits, key=lambda row: row[1], reverse=False)\n",
    "    logging.info('smallsortedlist: %s ', smallsortedlist)\n",
    "\n",
    "    unique = []\n",
    "    for hit in bigsortedlist:\n",
    "        if hit[1] not in unique :\n",
    "            unique.append( hit[1] )\n",
    "            print(\"big hit:\", hit)\n",
    "            #bighitssorted.write(hit[0] + ';' + hit[1] + ';' + hit[3]  + \"\\n\"  )\n",
    "            thehit = str(hit[3])\n",
    "            #bighitssorted.write( str(hit[3])   )\n",
    "            bighitssorted.write(str(hit[0]) + ';' + str(hit[1]) + ';' + str(hit[3])  + \"\\n\" )\n",
    "    bighitssorted.close()\n",
    "\n",
    "    for hit in smallsortedlist:\n",
    "        if hit[1] not in unique :\n",
    "            unique.append( hit[1] )\n",
    "            print(\"small hit:\", hit)\n",
    "            smallhitssorted.write(str(hit[0]) + ';' + str(hit[1]) + ';' + str(hit[3])  + \"\\n\"  )\n",
    "            #smallhitssorted.write(str(hit[0]).encode('utf-8') + ';' + str(hit[1]).encode('utf-8') + ';' + str(hit[3]).encode('utf-8') + \"\\n\"  )\n",
    "    smallhitssorted.close()\n",
    "\n"
   ]
  },
  {
   "cell_type": "code",
   "execution_count": 30,
   "metadata": {
    "collapsed": false
   },
   "outputs": [
    {
     "name": "stdout",
     "output_type": "stream",
     "text": [
      "big hit: ['0B3QqxeoUcqoAdmc5cF9VU0dWSFU', 101, 'div count: 28', ['l—di—Sü-enö', 'Puzum-A-ğur', 'Sü-enö-na-da', 'Êu-da-ad', 'Puzum-A—ğur', 'l—di-Sü-enâ', 'sa', '1/3', 'i-sé-er', 'Puzum-A-ğur', 'Sü-enÖ—na-da', 'Êu-da-ad', 'A—ğur-SIPA', 'i-ğu-ü', 'is‘-li:', \"ha—muğ-lı'm\", 'sa', \"Êu-A-nl'm\", 'Kur-ub-lğlar', '61-116!', \"ha-am-ğa-lı'm\", 'i-ğa—qü-lu', 'sıt—ma', 'u4-mi-ğu—nu', 'iğ-qü—lu', 'ğdl-mi—ğu-nu', 'sa', 'Puzum-A-ğur']]\n",
      "big hit: ['0B3QqxeoUcqoAdmc5cF9VU0dWSFU', 202, 'div count: 24', [\"Su-Ku-bı'4-ı'm\", 'Ğu-Sü-eng', 'En-um-A-ğur', 'i-sé-er', 'A-§ur-SIPA', 'i—§u', 'iğ-liı', \"ha—muğ-lı'm\", 'sa', 'U-Şü-ur-ğa-A—ğur', 'Àb—ÿa-ra-ni', 'ğa-na-al', 'i-ğa-qal', \"ğa-ni-lı'm\", 'sel—lim', 'i-ğa-qal', \"ğa-li-ı'ğ-lı'm\", 'sel—lim', 'i-ğa-qal', 'sıt—ma', 'u4-mi-ğu', 'iğ-qü-ul', '61-716!', 'sa']]\n",
      "big hit: ['0B3QqxeoUcqoAdmc5cF9VU0dWSFU', 344, 'div count: 21', ['Ld-ma-Ëa', 'Kur—ub—lğlar', \"Ğu-Be-lı'm\", 'sa', 'A-ğur-SIPA', 'um—me-a-ni-ğu', \"i-kc'ı-Şü-ru-ğu-nı'\", \"iğ-lı'\", 'um—me-a-ni-ğu', '_lup-pu-ğu', 'sıt—ma', 'selma-ma', 'Cl-di?', 'm', 'i-ğa-kdn-ma', 'ği—ma-am', 'i-ğa-ü-mu-ma', 'üP-Şi-a-ma', 'ği—a-ma-sü', 'm', 'A—ğur-SIPA']]\n",
      "big hit: ['0B3QqxeoUcqoAdmc5cF9VU0dWSFU', 483, 'div count: 25', ['Puzur4-A-§itr', 'Ğa-lim-A-ğiır', 'A-§itr—SIPA-ma', \"A-ğiır-re-Şı'\", \"e-li-ı'ğ\", 'sa', 'am-li—ğu', \"iğ—lâ-ni—ı'ğ\", 'A-mur-A-Ëùr', 'DUMU?', \"i?[-dı'?-]nı'\", 'lei-ma', 'pu-ru-ğu', \"i-ği-ı'k-nu\", 'ği—bu—a', 'wa-cîğ-bu', 'sa', 'ili?-dalma', 'ği-a—ma-li-ğu', 'A-mur-A-ğur', 'ğa-di—na', 'sıt—ma', \"mı'-ma\", 'di-na-ğum', 'ma?']]\n",
      "big hit: ['0B3QqxeoUcqoAdmc5cF9VU0dWSFU', 510, 'div count: 27', ['66', 'A-mur—I§lar-ma', '§a—nu-um', 'ep-ğa-al', 'iË-Zé-nu-ma', 'ep-ğa-al', 'ğu-qü—ul—lcîm', 'ÿu—ma', \"lu-ub-lu-ni-ku-ğl'\", 'a-ğar', 'la-ği-im-li-a', \"lu-pcî-ni-ğı'\", 'ğa', \"la-dğ-pu-ra-nı'\", 'a-§u-mi', 'ğu-mi', 'û-Ëé-ba-ld-kum', 'ğa', 'Êu-Bé-lim', 'ü-ğa-dğ-qal-ma', 'a-ğa—pd-ra-kum', \"ğu-ma-mi—ı'n\", 'A—ğiır', 'na-pd-dğ-liı-ğu', \"a-qi—ı'ğ6\", 'a-sé-er', 'lé-ﬂ-ru-ÿu']]\n",
      "big hit: ['0B3QqxeoUcqoAdmc5cF9VU0dWSFU', 512, 'div count: 23', ['Assur-muttabbil’in', '-ğu’nun', 'lâ-ji—ru-ğu', 'A—ğur-SIPA', 'A-mur-I§lar—ma', 'Êu-Be-lim', '_lup-pu-ğu', 'a-di—ğu-ma', 'iğ-liı', 'ha-mu-u[§]-lim', 'sa', 'A-bi-al?', '61-116!', \"ha-am-ğa-lı'm\", '_lup-pu-ğu', 'al7-pu-ul-ma', 'is‘-li', \"i-ba-ğı'\", 'wa-d§-bu', 'a-sé-ri-a', 'ü-äé-bi-lam', 'ah—ğa-ah-ğu-ma', '>“Met:']]\n",
      "big hit: ['0B3QqxeoUcqoAdmc5cF9VU0dWSFU', 529, 'div count: 25', ['Ici-Zum', 'ik—ğu-dam', \"uğ-la-zi-ı'z-ku—nu\", 'ii—lé-enö', 'ü-ğa—zi-sü-nu—ma', 'ni-kà-si—Ëu-nu', '§u-nu-ma', 'a-ğar', \"tit-uğ-lâ-bı'4—ld-ni-nı'\", '„fi-bu', '§u-nu-ma', '§a', 'i§-lé-en6', 'Ici-tdm', 'ğu-qü-ul—ma', 'ğa', \"ğa-ni-ı'm\", 'KÙBABBAR-pi—Ëu', \"ğa-ki-ı'n\", \"a-ği-a-lı'\", 'li-ba-cîğ—nu', 'allah—du', \"l'p-jù-ru-ni-ku-nu-li/\", \"ü-ğa-dğ-qi-ı'lş-ku-nu\", 'la-dğ—ku-na']]\n",
      "small hit: ['0B3QqxeoUcqoAdmc5cF9VU0dWSFU', 102, 'three line total:17', [['8Ğu-dIM', '9i-ğa-qal', '11A-§ur-SIPA', 'sıt-ma'], ['ËÀBA', 'mıı-na', 'Puzum-A-ğur', 'i-ğa-qal'], ['1', 'mıı-na', '2', 'sa', 'Puzum-A-ğur', '3', 'ü', 'Ğu-dIM', '4A—äur-']]]\n",
      "small hit: ['0B3QqxeoUcqoAdmc5cF9VU0dWSFU', 111, 'div count: 17', [\"A-ha-na-ar-ğı'\", 'A-§itr—ld-ma-si', 'Êu-Ku-bu-im', 'a-di-ğu', 'MAN-A-ğur', 'Sü-enö-na-da', 'Sü-enÖ-da-mi-iq', 'a-di-ğu', \"l—ri—ği-ı'm\", \"A-ğur-i-dı'\", 'Sü-enö-na-da', 'a-LUGAL-Sü-enö', 'a-di-ğu', \"1'5\", \"8'10\", \"“'14\", 'w']]\n",
      "small hit: ['0B3QqxeoUcqoAdmc5cF9VU0dWSFU', 113, 'div count: 15', ['Sd-end-na-da]', 'a-na-pu-uğ', 'a-ğa-qd-ld-ku—um', 'A-guş-a', 'MAN-A-ğiır', \"1'3\", 'Larsen-Müller', '-§ur', 'Puzur4-A-§ur', 'En-um-A-§ur', 'Êu-IË-lar', 'En-um-A-ğur', 'Pi—ld—ah-lğlar-ma', 'sa', 'A—ğur-SIPA']]\n",
      "small hit: ['0B3QqxeoUcqoAdmc5cF9VU0dWSFU', 120, 'three line total:19', [['15', 'Pi-ld-ah-I§tar', '16', 'ü-kâ-li-im-ma', '17', '18'], ['e-ku-us”', 'kd-ld-mm]7', '12', 'sa', '13', '14', '511'], ['§a-qi-il5-ma', '9e-Şü-um', '10', '§u-ku-§u-ma', 'ü?', 'ÿa—qi—il5—ma']]]\n",
      "small hit: ['0B3QqxeoUcqoAdmc5cF9VU0dWSFU', 254, 'div count: 19', ['kuramı-kumaşı', \"A-ğur-i-dı'\", 'Puzum-A-na', 'Kur-ub-lğlar', \"Puzum—i—lı'\", '5‘6!', 'e-ld—i-ğu—ma', \"A-ğur-i-dı'\", 'A-ğur-SIPA', 'i-da-ğu-ma', 'ha-am-ğa-lum', 'A-ğur-SIPA', \"A-ğur-i-dı'\", 'i-ğa-qal', '„fu-ma', 'u4-mi-ğu', 'iğ-qü-ul', '1/2', '61-1161']]\n",
      "small hit: ['0B3QqxeoUcqoAdmc5cF9VU0dWSFU', 430, 'div count: 18', ['1/3', \"A-lcî7-hi-ı'm\", 'A-ğur-DUlo', 'Am7-ri-a', 'Êu-Be-lim', 'Puzum-A-ğur', '1/3?', 'A-mur-A-ğur', \"A-bu-ğa-lı'm\", '[Pﬂ-ld-ah-A-äur', 'Şİ-[ba-S]ü', 'A-mur-A-ğur', 'Del-da', \"A-ğur-ı'ğ-li-kdl\", 'A-ğur-SIPA', 'I—]ri-§z’-im', 'A-§ur-na-d]a', 'Êu-dEn-[liﬂ']]\n",
      "small hit: ['0B3QqxeoUcqoAdmc5cF9VU0dWSFU', 434, 'div count: 19', ['61-1161', 'ha-am-§a—Zim', \"1'2\", \"3'4\", \"5'6\", \"9'10\", 'Pi—ld—ah-A-ğur', 'A-ğur—la-ak-ld-ku', \"A-ğur-be-el-a-wa-lı'm\", 'En-um-A-ğur', 'Êu-Be-lim', '<KI>A-§ur-e-mu-qz’', 'Puzum-A-ğur', 'Şi—ba-li-ğu', 'Şi—ba-li-ğu', '61-716!', \"pd-ğa-lı'm\", 'A-ğur-na-da', \"Sa-lı'm-A-ğiır\"]]\n",
      "small hit: ['0B3QqxeoUcqoAdmc5cF9VU0dWSFU', 436, 'div count: 19', ['a-ku-uğ', 'Ü—Şur-ğa-İğlar', '[DUMU7]', '1/3', 'A-ğur-na-da', '2/3', 'A-ğur-DUw', '1/2', 'A-[bu-§]a-[ﬂim', 'A-mur-A-ğur', '1/2', 'A-mur-A-ğur', 'Del-da', 'Puzum-A—ğur', 'Sü-enÖ-na-da', \"A-ğur-ı'ğ-li-kdl\", '[sü-ba-sü', \"A-ğur-dUTU-ğı'\", 'A—ğur-SIPA']]\n",
      "small hit: ['0B3QqxeoUcqoAdmc5cF9VU0dWSFU', 463, 'div count: 14', ['Êdl—ma-A-Ëur', 'Puzum-lğlar', \"A-ğur-ba-nı'\", 'Ğu-Hu-bur', 'A-ğur-SlPA-ma', 'KI-ğa-am', 'i§-qzi-ld-ku-nu-li', 'A-ğur-SIPA', '2/3', 'iğ-liı', 'ü-éé-bu-lu-ni-ku-nu-ll’', \"ü-ğe'-bı'-lu-nı'-ku-nu-lı'—nı'\", '§u]—up-ra-nim', 'Ëé-ni-Ëu']]\n",
      "small hit: ['0B3QqxeoUcqoAdmc5cF9VU0dWSFU', 514, 'three line total:18', [['hu-ru-ü', \"7ği-tı'\", '8', 'maÿ—ku—nu', 'mıı-na'], ['A-ğur-be-el-a-wa-tim', '4', 'i§-tit', \"mıı-ta'\", 'ü', 'sa', 'a-ku-lu-ü'], ['1', 'A-§ur—SIPA—ma', '2Ill-mur-Isvtar', '3', '1-111)', 'sa']]]\n",
      "small hit: ['0B3QqxeoUcqoAdmc5cF9VU0dWSFU', 518, 'div count: 11', [\"17'22\", 'A-§ur-SIPA', 'mı“-ğum', 'la-dğ-pu-ra-am', \"ma—dğ-ha-ku-nı'\", 'la-dğ-la-na-me', 'Kà-né-eÿ', 'û-fa-cib-kà', 'da-ni-iğ', \"la-dğ-la—ak-na—nı'\", \"la-dı'7-nam\"]]\n",
      "small hit: ['0B3QqxeoUcqoAdmc5cF9VU0dWSFU', 524, 'div count: 20', ['A—ğiır-SIPA', 'sa', 'sa', 'ü-ğâ-Şi—ü-ma', '61-1161', 'ü-ğâ-bi-lu', 'ü-éé-sz’', 'I—§a-<ar—>ha-ri<-im>', 'i-sé-er', \"ğa-ki-ı'n\", 'ği—mi—im', 'sa', 'li-bi-ğu', 'a—ği-liı', 'Ëé-bi4-lam', \"na-cîğ-pi-ı'r-lum\", \"ni-iğ-pi-ı'r-lı'm\", 'na—dğ-pdr-lum', 'a-ni—§a-am', 'u§-ba-al—ki-sz’']]\n",
      "mid range hit:  [b'r\\xc3\\xbfal\\xe2\\x80\\x94al\\xe2\\x80\\x94ma\\xe2\\x80\\x94a\\xe2\\x80\\x94ku', b'am-rmil-ni', b\"s'u-lu\\xe2\\x80\\x94um-fki\", b'hal-ra-na-tu\\xe2\\x80\\x94ki', b'ka-a-a\\xe2\\x80\\x94fna', b'\\xc3\\xbc-\\xc3\\xbcl', b'a\\xe2\\x80\\x94ha-rat-ki1']\n",
      "mid range hit:  [b'fa', b'A-\\xc4\\x9fu-ur', b'as\\xe2\\x80\\x9c\\xe2\\x80\\x94ba-a\\xe2\\x80\\x94ku', b'a\\xe2\\x80\\x94nu-um\\xe2\\x80\\x94fma1', b'rgE\\xe2\\x80\\x9c\"\\xe2\\x80\\x9c\\xe2\\x80\\x98ka\\xe2\\x80\\x94ar\\xe2\\x80\\x94rs\\'u\\xe2\\x80\\x98', b';i\\xc4\\xb1\\xe2\\x80\\x94ur\\xe2\\x80\\x94di-i\\xc4\\x9f-\\xc4\\x9fi', b'gadaral\\xe2\\x80\\x94la\\xe2\\x80\\x94fn\\xc4\\xb1\\xc4\\xb1l-um', b'sa', b\"Ka\\xe2\\x80\\x94fni-\\xc4\\xb1's'kn\"]\n",
      "mid range hit:  [b'n\\xc3\\xa2-na-\\xc4\\x9fa\\xe2\\x80\\x94i-um', b's\\xc3\\xa9z-n\\xc3\\xa9-iq', b'l\\xc3\\xa2na\\xe2\\x80\\x94\\xc3\\xa7\\xc3\\xb9\\xe2\\x80\\x94ma', b'fd', b\"i-p\\xc3\\xa2-a'\\xc4\\x9f\", b'Silky-um', b'na\\xe2\\x80\\x94\\xc4\\x9fit\\xe2\\x80\\x94ma', b\"\\xc3\\x8ba'\", b\"i-n\\xc3\\xa9\\xe2\\x80\\x94pd\\xe2\\x80\\x94a'\\xc3\\xa4);\"]\n",
      "high range hit [b'zi-za-bu-ti-ma', b'ak?m-l\\xc3\\xa2m', b'\\xc3\\xb9\\xe2\\x80\\x94\\xc3\\xaeqa-lu-q\\xc3\\xa2\\xc3\\xae\\xe2\\x80\\x94ni', b'i\\xe2\\x80\\x94li\\xe2\\x80\\x94pu-um', b'li-i\\xc4\\x9f-bU-mja', b'i\\xe2\\x80\\x94na', b'na-ri-im', b'S\\xc3\\x84TU\\xe2\\x80\\x94e-ku-fzu', b'ma-tf\\xe2\\x80\\x94ku\\xe2\\x80\\x94nu', b'[m\\xc3\\xa2]-']\n",
      "mid range hit:  [b\"s'i-kti-um\", b'(um', b'ra\\xe2\\x80\\x94bi4-si-im', b'mu-\\xc5\\x9f\\xc4\\xb1\\xc3\\xae\\xe2\\x80\\x94\\xc4\\x9fu', b'i\\xe2\\x80\\x94naA\\xe2\\x80\\x94li-a\\xe2\\x80\\x94\\xc4\\x9fa', b'Da-\\xc4\\x9fa-a', b'ub-ri-\\xc4\\x9fz\\xc4\\xb1']\n",
      "mid range hit:  [b'\\xc3\\xbfu-ul-mu-um', b'Pu-m-u\\xc4\\x9f-ha-dim', b'\\xc3\\x9c\\xe2\\x80\\x94s\\xe2\\x80\\x99\\xc3\\xa0-ma', b'ma-m\\xc3\\xae-t\\xc3\\xa2m', b\"is'\\xe2\\x80\\x94ti\", b'Pu-m\\xe2\\x80\\x94u\\xc3\\x8b-ha-dim', b'115-!\\xc3\\xa9-q\\xc3\\xa9.']\n",
      "mid range hit:  [b'sa', b'wa-\\xc3\\xa9ar-tim', b'ku-na-ki-a', b'k\\xc3\\xa2\\xe2\\x80\\x94ri\\xe2\\x80\\x94im', b'i\\xe2\\x80\\x94ni-i\\xc3\\x8b\\xe2\\x80\\x94\\xc3\\xbb', b'T\\xc3\\xbc-\\xc3\\xbch\\xe2\\x80\\x94pi\\xe2\\x80\\x94a', b'A\\xe2\\x80\\x94\\xc4\\x9fiir-ma\\xe2\\x80\\x94lif\\xe2\\x80\\x99t']\n",
      "mid range hit:  [b'1er', b'i\\xc3\\x8b-ra\\xe2\\x80\\x94\\xc3\\xaeim', b'\\xc3\\x8au\\xe2\\x80\\x94ma\\xe2\\x80\\x94bi4\\xe2\\x80\\x94a', b'A-\\xc4\\x9fifr\\xe2\\x80\\x94e\\xe2\\x80\\x94li\\xe2\\x80\\x94\\xc3\\xaei', b'nu-S\\xe2\\x80\\x98a-di\\xe2\\x80\\x94ma', b'ku-na-ke-e', b\"s'a\"]\n",
      "mid range hit:  [b'Du-ur\\xe2\\x80\\x94ku\\xe2\\x80\\x94mi\\xe2\\x80\\x94if', b'Si\\xe2\\x80\\x94na-fw-lim', b'wa-bar\\xe2\\x80\\x94fim', b'a-na', b'\\xc4\\x9eu-A-\\xc4\\xb1zim', b'\\xc3\\xa0!', b'Ma\\xe2\\x80\\x94mtm-ki-dlM']\n",
      "mid range hit:  [b'\\xc3\\xa2p-qi\\xe2\\x80\\x94id\\xe2\\x80\\x94ma', b'k\\xc3\\xa0\\xe2\\x80\\x94ri\\xe2\\x80\\x94im', b'man-a', b'\\xc3\\xbfa\\xe2\\x80\\x94du-a\\xe2\\x80\\x94z\\xe2\\x80\\x98\\xc3\\xa2m', b'Baf\\xe2\\x80\\x94s\\xc4\\xb1la', b'K\\xc4\\xb1z\\xe2\\x80\\x94bu-ur\\xe2\\x80\\x94na\\xe2\\x80\\x94at', b'Tis-ith-']\n",
      "mid range hit:  [b'\\xc4\\x9fi\\xe2\\x80\\x94ma-am', b'\\xc4\\x9fa', b'GUN]', b'e-li\\xe2\\x80\\x94a-m\\xe2\\x80\\x98', b'\\xc4\\x9fa\\xe2\\x80\\x94ma\\xe2\\x80\\x94ma', b'\\xc3\\x8b\\xc3\\xa9-bi\\xe2\\x80\\x94[am', b'Ha\\xe2\\x80\\x94t\\xc3\\xb9\\xe2\\x80\\x94\\xc3\\xa6zs\"', b'Ta-am-']\n",
      "mid range hit:  [b'Ta-w\\xc3\\xa2-ni\\xe2\\x80\\x94a\\xe2\\x80\\x94ma', b'Wh\\xe2\\x80\\x94ah\\xe2\\x80\\x94[su]-\\xc2\\xa7a-[na]', b'\\xc3\\xa2b-k\\xc3\\xa2-\\xc4\\x9fu-nu', b'a-[na-kcrm]', b'E.GAL\\xe2\\x80\\x94Eam5', b'ni-i\\xc4\\x9f-al-ma', b'urn-ma']\n",
      "mid range hit:  [b'a-\\xc3\\x8bu-mi', b\"S'a-a'p-tim\", b'\\xc3\\x8ba', b'is-bu\\xe2\\x80\\x94t\\xc3\\xb9\\xe2\\x80\\x94[ni]', b'\\xc3\\x89.GAL\\xe2\\x80\\x94l\\xc3\\xb9m-ma', b'su-ma', b\"m\\xc4\\xb1'\\xe2\\x80\\x94i\\xc4\\x9f-\"]\n",
      "mid range hit:  [b\"\\xc4\\xb1'\\xc4\\x9f-t\\xc4\\xb1'A\\xe2\\x80\\x94zu\", b'e\\xe2\\x80\\x94rf\\xe2\\x80\\x94i\\xc4\\x9f-ma', b'a-s\\xc3\\xa9-er', b'r[ll-[aq-biA-im', b'[\\xc3\\xbc-ru-s\\xc3\\xbc-ma', b\"u'\", b'Sa-ld\\xe2\\x80\\x94ah-\\xc4\\x9fu-a-']\n",
      "mid range hit:  [b\"br\\xc4\\xb1-m'\", b'wma-kam', b'wa\\xe2\\x80\\x94\\xc4\\x9fa-\\xc3\\xa2b', b'Si\\xe2\\x80\\x94fa\\xe2\\x80\\x94lci\\xe2\\x80\\x94ma', b'a-s\\xc3\\xa9-er', b'[u-qzi-fi\\xe2\\x80\\x94a', b'Ti-me-el-ki\\xe2\\x80\\x94a', b'le-ti-q\\xc4\\xb1i-ma', b's\\xc4\\xb1t-ma']\n",
      "mid range hit:  [b'.idi\\xe2\\x80\\x94ma-ar', b's\\xc3\\xbc-qd-nim\\xe2\\x80\\x94ma', b'T\\xc3\\x9cGHI-ti\\xe2\\x80\\x94a', b'rna-l\\xc3\\xa2', b'z\\xc3\\x8f\\xe2\\x80\\x94\\xc3\\x8b\\xc3\\xa9\\xe2\\x80\\x94Ii-q\\xc3\\xa2\\xe2\\x80\\x94n\\xc3\\xa2', b\"\\xc4\\xb1'\\xc4\\x9f-ti\", b\"!e\\xe2\\x80\\x94i'i-ka\\xe2\\x80\\x94nim\"]\n",
      "mid range hit:  [b'Rim', b\"la\\xe2\\x80\\x94s'a-li\\xe2\\x80\\x94mu-nim-ma\", b'!i-\\xc3\\xae\\xc3\\xb9-m-ma', b\"lu-s'\\xc3\\xa9-ri\\xe2\\x80\\x94bu\\xe2\\x80\\x94n\\xc3\\xa9m\", b'p\\xc3\\xa2-ni-um\\xe2\\x80\\x94ma', b'5a', b'\\xc3\\xa9-\\xc3\\xa4a\\xe2\\x80\\x94li\\xe2\\x80\\x94ma-ni']\n",
      "high range hit [b'fi\\xe2\\x80\\x94[i\\xe2\\x80\\x94ka-m\\xe2\\x80\\x98m', b'\\xc5\\x9f\\xc3\\xbc-ha\\xe2\\x80\\x94ri', b'\\xe2\\x80\\x9e(\\xc3\\xa9-na', b'Pu\\xe2\\x80\\x94m\\xe2\\x80\\x94u\\xc3\\xa4\\xe2\\x80\\x94ha-dim', b'{m,-da', b\"!a-qz\\xc3\\xae\\xe2\\x80\\x94\\xc3\\xa4z'\", b\"$'a\", b'T\\xc4\\xb0\\xe2\\x80\\x94me\\xe2\\x80\\x94ef\\xe2\\x80\\x94ki\\xe2\\x80\\x94a', b'a-ba-\\xc4\\xb1\\xc3\\xa2-a', b'be-lu-a']\n",
      "mid range hit:  [b'pi\\xe2\\x80\\x94if\\xe2\\x80\\x94ra\\xe2\\x80\\x94i-um', b'a\\xe2\\x80\\x94wa\\xe2\\x80\\x94szIr-nu', b'i\\xc4\\x9f-t\\xc3\\xa2-et', b'i\\xc4\\x9f-ku-nu-ma', b'Ha\\xe2\\x80\\x94\\xc3\\xae\\xc3\\xb9-\\xc3\\x8ba-i\\xe2\\x80\\x94a[m]', b'i\\xe2\\x80\\x94\\xc3\\xae\\xc3\\xa2k-ru', b'[cz-\\xc3\\xa4h', b'K\\xc3\\xa4-ni\\xe2\\x80\\x94ii\\xe2\\x80\\x94ril-[im]', b'[x-tla-m:']\n",
      "mid range hit:  [b\"Za-al\\xe2\\x80\\x94t'Jaki\", b\"l'i-[fi\\xe2\\x80\\x94ffam-ma]\", b'ia', b'Ur\\xe2\\x80\\x94sik\\xe2\\x80\\x98;', b'ik\\xe2\\x80\\x94fa\\xe2\\x80\\x94fa\\xe2\\x80\\x94\\xc3\\xa4u', b'um\\xe2\\x80\\x94ma\\xe2\\x80\\x94a\\xe2\\x80\\x94mi', b'GISM\\xc3\\x80GE\\xc3\\x8bTINNA', b'lu\\xe2\\x80\\x94ma-li\\xe2\\x80\\x94kum\\xe2\\x80\\x94ma', b\"a-l'i-\"]\n",
      "mid range hit:  [b'[\\xc3\\xa9-c\\xef\\xac\\x82i\\xe2\\x80\\x94im', b'fif-ud\\xe2\\x80\\x94di-na-ak-kum', b'a\\xe2\\x80\\x94l[i\\xe2\\x80\\x94i]k', b'Karr-ka\\xe2\\x80\\x94mi-is\\xe2\\x80\\x9ci', b'Fil\\xe2\\x80\\x94fi\\xe2\\x80\\x94kaml-ma', b'hmm\\xe2\\x80\\x94ibm', b'in-na\\xe2\\x80\\x94me-er', b\"ut\\xe2\\x80\\x94[tk-er\\xe2\\x80\\x94s'u\"]\n",
      "high range hit [b'Ur\\xe2\\x80\\x94s\\xc3\\xa9\\xe2\\x80\\x94imkl\\xe2\\x80\\x94ma', b'Lim-ma', b'fa\\xe2\\x80\\x94iia-k\\xc4\\xb1f\\xe2\\x80\\x94\\xc4\\xb1mi1', b'a\\xe2\\x80\\x94li\\xe2\\x80\\x94ik', b'!m-wn-j\\xc3\\xa2\\xe2\\x80\\x94am', b'i:', b'al\\xe2\\x80\\x94[li-ik', b'i\\xe2\\x80\\x94d\\xc3\\xbf\\xe2\\x80\\x94\\xc3\\xbfu', b'Z\\xc3\\xbchal-baki', b'Xa[r\\xe2\\x80\\x94ka\\xe2\\x80\\x94mi\\xe2\\x80\\x94']\n",
      "mid range hit:  [b'ku\\xe2\\x80\\x99-\\xc2\\xa7i-im', b'nu\\xe2\\x80\\x94k\\xc3\\xa2-\\xc3\\xa2\\xc4\\x9f-ma', b'i\\xe2\\x80\\x94r\\xc3\\xa6a', b'm\\xc4\\xb1:-at', b'Hi\\xe2\\x80\\x94ru\\xe2\\x80\\x94\\xc3\\xa0h', b'ms\\xe2\\x80\\x94k\\xc3\\xa4-an-ma', b'is-t\\xc3\\xa9-ni-is', b'na\\xe2\\x80\\x94ma\\xe2\\x80\\x94l\\xc3\\xa2\\xe2\\x80\\x94ma', b'nu\\xe2\\x80\\x94\\xc3\\x8ba-\\xe2\\x80\\x9cbar\\xe2\\x80\\x94ma']\n",
      "mid range hit:  [b\"S'a-bi-<\", b'\\xe2\\x80\\x94as\\xe2\\x80\\x9c\\xe2\\x80\\x94\\xc4\\x9fu-\\xc4\\xb1m-ri', b'a-wa\\xe2\\x80\\x94Ii', b'\\xc4\\x9fa\\xe2\\x80\\x94ra-ti', b'5a', b'\\xc3\\xa4a\\xe2\\x80\\x94\\xc3\\x8ba-m\\xc3\\xa9', b'ri\\xe2\\x80\\x94mz\\xe2\\x80\\x98', b'til-stir', b'\\xc4\\x9fi\\xe2\\x80\\x94bd\\xe2\\x80\\x94a\\xc4\\x9f']\n",
      "high range hit [b'\\xc4\\x9fi-br\\xc3\\xae\\xe2\\x80\\x94ag', b'\\xc4\\x9fe-la\\xe2\\x80\\x94bi\\xe2\\x80\\x94i', b'fa\\xe2\\x80\\x94a\\xc5\\x9f\\xe2\\x80\\x94ba\\xe2\\x80\\x94at', b'\\xc2\\xa3a', b'\\xc4\\x9fa-ra-ti', b'i\\xe2\\x80\\x94te-n\\xc3\\xa9\\xe2\\x80\\x94pu-as', b'I\\xc3\\xa7i\\xe2\\x80\\x94ma', b'\\xe2\\x80\\x9c\\xe2\\x80\\x98\\xe2\\x80\\x9cZa-al\\xe2\\x80\\x94pa-ar\\xe2\\x80\\x94ma', b'e\\xe2\\x80\\x94pu-s\\xe2\\x80\\x98u', b'sax-mm']\n",
      "high range hit [b'\\xc3\\xbfa-\\xc3\\xa2p-tum', b'fu', b'ANSEHLA', b'i-rsa', b'p\\xc3\\xa2\\xe2\\x80\\x94ni-\\xc4\\x9fu', b'e\\xe2\\x80\\x94fa-ba-ak', b'a-wi-e\\xe2\\x80\\x99u-um', b'Eu\\xe2\\x80\\x94q\\xc4\\xb1\\xc3\\xae\\xe2\\x80\\x94sai', b'ba-\\xc3\\xaei\\xe2\\x80\\x94iq', b'wa\\xe2\\x80\\x94t\\xe2\\x80\\x98ai-ttr']\n",
      "mid range hit:  [b'\\xc3\\xa9\\xe2\\x80\\x94df-in', b'i-\\xc3\\xae\\xc3\\xb9-ra\\xe2\\x80\\x94ma', b'Hu-ra-ma', b'L\\xc3\\xaa-nu-k\\xc3\\xa0', b'a\\xe2\\x80\\x94Wi-lu\\xe2\\x80\\x94um', b'a\\xe2\\x80\\x94na', b'_t\\xc3\\xa2-hi-i', b'nu-wa-L\\xc3\\x8a\\xe2\\x80\\x94\\xc3\\xaeam\\xe2\\x80\\x94ma', b\"e-fa-na-p\\xc3\\xa2-a'i\\xc3\\xa7\"]\n",
      "mid range hit:  [b'sat-ma', b'a-na-fcu', b'f_s-ti:', b'Ti\\xe2\\x80\\x94me-el-ki-a', b\"a-tir-ra-m'\", b'na\\xe2\\x80\\x94\\xc3\\xa0\\xc3\\xa4-p\\xc3\\xa8-er\\xe2\\x80\\x94ia-k\\xc3\\xa0', b'da-nu-tum']\n",
      "mid range hit:  [b's\\xe2\\x80\\x98y-ma', b'Ha\\xe2\\x80\\x94hi-im', b'fa-pd\\xe2\\x80\\x94l\\xc3\\xa2-ah', b'Ur\\xe2\\x80\\x94\\xc3\\x8bu-ma', b'a-\\xc4\\xb0i\\xe2\\x80\\x94ik', b'a-pu\\xe2\\x80\\x94tum', b'a\\xe2\\x80\\x94pu-tum', b'we-a\\xe2\\x80\\x98f\\xe2\\x80\\x94k\\xc3\\xa0\\xe2\\x80\\x94ma']\n",
      "high range hit [b'p\\xc3\\xa2-ni\\xe2\\x80\\x94z\\xc3\\xa4-um\\xe2\\x80\\x94ma', b'!a-\\xc5\\x9fi\\xe2\\x80\\x94ma', b'a-na-ma', b'K\\xc3\\xa2-ni\\xe2\\x80\\x94i\\xc4\\x9f', b'ik\\xe2\\x80\\x94\\xc3\\x8bu-du', b'\\xc3\\xbfa\\xe2\\x80\\x94ni-um', b'i\\xe2\\x80\\x94na', b'(fr\\xe2\\x80\\x94su', b'fee\\xe2\\x80\\x94\\xc5\\x9fi', b'\\xc2\\xa3:', b'\\xc4\\x9fa\\xe2\\x80\\x94Ii-i\\xc4\\x9f-ts\\xc4\\xb1m', b\"ki'-a\\xe2\\x80\\x94\"]\n",
      "mid range hit:  [b'8-11)1\\xc2\\xa7i-ma-am', b\"s'a-ra\\xe2\\x80\\x94am\", b'sa', b'i\\xe2\\x80\\x94di-zi', b'\\xc3\\xa2\\xe2\\x80\\x94\\xc4\\xb0i-bid-i', b'ma-\\xc3\\xaei\\xe2\\x80\\x94im', b'Sa', b'Ha-f\\xc3\\xa4m', b'\\xc3\\xbf\\xc3\\xa9\\xe2\\x80\\x94\\xc3\\xa0i\\xe2\\x80\\x94I\\xc3\\xa2-ma']\n",
      "mid range hit:  [b'Tf-me-el\\xe2\\x80\\x94ki\\xe2\\x80\\x94a', b'ir\\xe2\\x80\\x94deg-e', b'AN\\xc3\\x8bEHLA', b'Za-af-p\\xc3\\xa2', b'me\\xe2\\x80\\x94t\\xc3\\xb9-z\\xc3\\xa2', b'K\\xc3\\xa4-ui-ii\\xe2\\x80\\x98', b'\\xc3\\xb9\\xe2\\x80\\x94\\xc3\\xbf\\xc3\\xa9\\xe2\\x80\\x94\\xc3\\xaf\\xc3\\x86-ba-am.']\n",
      "mid range hit:  [b'ha-m-an', b'su\\xe2\\x80\\x94q\\xc3\\xa4-nim', b'Pu-m-ui\\xe2\\x80\\x94ha\\xe2\\x80\\x94dim', b'e\\xe2\\x80\\x94ta-ra-\\xc3\\xa2b', b'ANNA-ak-\\xc4\\x9f\\xc4\\xb1s', b\"k\\xc3\\xa2-l\\xc3\\xa2-s'il\", b'fra\\xe2\\x80\\x9450.', b'mik']\n",
      "mid range hit:  [b\"ra-a'sV-pzt-ra-am\", b'yrn\\xe2\\x80\\x94ma', b'a\\xe2\\x80\\x94ta-ma', b'a-z\\xe2\\x80\\x99im\\xe2\\x80\\x98k\"', b'ef-q\\xc3\\xa4\\xe2\\x80\\x94ni\\xe2\\x80\\x94ma', b'[a\\xe2\\x80\\x94wja\\xe2\\x80\\x94as\\xe2\\x80\\x94ku-nu', b'[da-nja-a']\n",
      "mid range hit:  [b'lz\\xc4\\xb1\\xe2\\x80\\x94q\\xc4\\xb1\\xc3\\xae\\xe2\\x80\\x94tym', b\"$'a\", b'ha\\xe2\\x80\\x94ra-an', b's\\xc4\\xb1\\xc4\\x9f\\xe2\\x80\\x94qi-nim', b'i\\xe2\\x80\\x94s\\xc3\\xae\\xe2\\x80\\x94ib\\xe2\\x80\\x94\\xc3\\xaf\\xc3\\xb9\\xe2\\x80\\x94ni', b'a-\\xc3\\xbff\\xe2\\x80\\x94a-t\\xc3\\xa4', b'da-ni\\xe2\\x80\\x94\\xc3\\x8ba-ma', b'e\\xe2\\x80\\x94ra\\xe2\\x80\\x94biq\\xe2\\x80\\x94im', b'a\\xe2\\x80\\x94bu-m\\xe2\\x80\\x98']\n",
      "mid range hit:  [b'k\\xc3\\xa4\\xe2\\x80\\x94ru-um', b'K\\xc3\\xa2\\xe2\\x80\\x94ni\\xe2\\x80\\x94i\\xc4\\x9f\\xe2\\x80\\x94ma', b'\\xc3\\xbfa-qi\\xe2\\x80\\x94J\\xe2\\x80\\x98l5', b'cfa\\xe2\\x80\\x94{im', b'\\xc4\\x9fi\\xe2\\x80\\x94Ep-ri-ni', b'wa\\xe2\\x80\\x94bar\\xe2\\x80\\x94i\\xe2\\x80\\x98im', b'fa', b'K\\xc4\\xb1r-bunna-']\n",
      "mid range hit:  [b'ti-s\\xc3\\xa9-ri-ba-ni-ma', b'u\\xc3\\xbf-t\\xc3\\xa9\\xe2\\x80\\x94bu\\xe2\\x80\\x94\\xc3\\x86u-n\\xc3\\xa4', b'wa\\xe2\\x80\\x94\\xc4\\x9fi\\xe2\\x80\\x94ib', b'k\\xc3\\xa0-ri-im', b'\\xc4\\xb1\\xc3\\xa2\\xe2\\x80\\x94\\xc4\\x9f\\xc4\\x9f\\xe2\\x80\\x94li\\xe2\\x80\\x94a\\xe2\\x80\\x94am', b\"$'a\", b'A\\xe2\\x80\\x94\\xc4\\x9far', b'\\xc4\\x9f\\xc3\\xa2\\xe2\\x80\\x94\\xc5\\x9fi\\xe2\\x80\\x94a-ma']\n",
      "mid range hit:  [b'a-i\\xe2\\x80\\x99i', b'wa-\\xc3\\xa2\\xc3\\x8b\\xe2\\x80\\x94b\\xc3\\xa6\\xe2\\x80\\x94ni', b'qd-at\\xe2\\x80\\x94ku-rra', b'li\\xe2\\x80\\x94i\\xc5\\x9f\\xe2\\x80\\x94ba-s\\xc4\\xb1\\xc3\\xae-nu', b\"s'y\\xe2\\x80\\x94ma\", b'a-Ma-a-ma', b'\\xc5\\x9ei\\xe2\\x80\\x94f\\xc3\\xa2-dlM', b\"fa-k\\xc3\\xa0\\xe2\\x80\\x94s'\\xc3\\xa4-SI\\xc3\\x86K\"]\n",
      "high range hit [b'sj\\xe2\\x80\\x94ku\\xe2\\x80\\x94ul\\xe2\\x80\\x94t\\xc3\\xa2m', b'ig\\xe2\\x80\\x94fi', b's\\xc3\\xa0-ri\\xe2\\x80\\x94d\\xc3\\xa2m', b'\\xc4\\x9f\\xc4\\xb1', b'ga\\xe2\\x80\\x94ma\\xe2\\x80\\x94ar\\xe2\\x80\\x94\\xc4\\x9fu-nu', b'A-\\xc4\\x9fi\\xc4\\xb1r-GAL', b\"M'a-rti-a\", b'\\xc4\\x9fa\\xe2\\x80\\x94bu\\xe2\\x80\\x94LZ', b\"{s'-fit\", b'Ha\\xe2\\x80\\x94hi-im', b\"Ka\\xe2\\x80\\x94nf\\xe2\\x80\\x94is'\"]\n",
      "mid range hit:  [b'nc\\xc4\\xb1\\xe2\\x80\\x94g\\xc3\\xbc', b'\\xc3\\xb9-{a\\xe2\\x80\\x94tim', b'5a', b'S\\xe2\\x80\\x98a-na-at', b'\\xc3\\x8bu\\xe2\\x80\\x94up-k\\xc3\\xa0-S\\xe2\\x80\\x98i\\xe2\\x80\\x94im', b'\\xc5\\x9f\\xc3\\xbc-ha-ru', b'li-ik-\\xc4\\x9fu-du-']\n",
      "mid range hit:  [b'a\\xe2\\x80\\x94\\xc4\\x9ea', b'\\xc3\\xa2\\xc4\\x9f\\xe2\\x80\\x94ps\\xc4\\xb1\\xe2\\x80\\x94ra-ki-ni', b'urn\\xe2\\x80\\x94ma', b'a\\xe2\\x80\\x94na-ku-ma', b'ar-re-e\\xe2\\x80\\x98s\\xe2\\x80\\x99i', b'da-c\\xc3\\xa2\\xc3\\xab-e', b'a-\\xc3\\x8ba\\xe2\\x80\\x94p\\xc3\\xa2\\xe2\\x80\\x94ra-ki-ma', b':a-[f\\xe2\\x80\\x94ki\\xe2\\x80\\x94im', b'l\\xe2\\x80\\x98\\xc3\\xa9\\xe2\\x80\\x94Miki']\n",
      "mid range hit:  [b'ku-\\xc5\\x9f\\xc4\\xb1\\xc3\\xae\\xe2\\x80\\x94um', b'a\\xe2\\x80\\x94la\\xe2\\x80\\x99r-ki-im', b'ld', b'na-g\\xe2\\x80\\x98\\xc3\\xb9\\xe2\\x80\\x94\\xc3\\xa0', b'i\\xe2\\x80\\x94na', b'fza-ra-nim', b'i\\xc3\\xa4\\xe2\\x80\\x94t\\xc3\\xa9\\xe2\\x80\\x94en']\n",
      "mid range hit:  [b'a\\xe2\\x80\\x94na\\xe2\\x80\\x94f\\xe2\\x80\\x99cam', b'ku\\xe2\\x80\\x94sz\\xc3\\x8b-um', b'ik\\xe2\\x80\\x94\\xc3\\xaba-\\xc3\\xa2\\xc3\\x8b\\xe2\\x80\\x94da\\xe2\\x80\\x94ni', b'id', b'1\"s\\xe2\\x80\\x9c\\xe2\\x80\\x94\\xc2\\xa3\\xc3\\xa9-erz6', b'\\xc3\\x8b\\xc3\\xa2', b'e-\\xc5\\x9f\\xc4\\xb1E\\xe2\\x80\\x94\\xc4\\xb1\\xc3\\xa2', b'a-lu\\xe2\\x80\\x94bu-u\\xc4\\x9f-\\xc4\\xb1i-']\n",
      "mid range hit:  [b'.\\xc5\\x9f\\xc4\\xb1\\xc3\\xaef\\xe2\\x80\\x94ha-ri', b\"i\\xe2\\x80\\x94deg-u'r\", b'\\xc3\\xa4\\xc3\\xa6-up\\xe2\\x80\\x94ra\\xe2\\x80\\x94ma', b'\\xc3\\xaa\\xc3\\x8b-ti-in', b'AN\\xc3\\x8aE.HI.A', b\"luf\\xe2\\x80\\x94S'a\\xe2\\x80\\x94k\\xc3\\xa2-il5\", b'i\\xc3\\xbf\\xe2\\x80\\x94ti\\xe2\\x80\\x94in', b\"i\\xe2\\x80\\x94\\xc4\\x9f[a-iz]a-fz'\\xe2\\x80\\x94a\", b\"fi\\xe2\\x80\\x94Zi-\\xc4\\xb1'z-ma\"]\n",
      "mid range hit:  [b'lei-ma', b'k\\xc4\\xb1\\xc4\\xb1\\xe2\\x80\\x94\\xc5\\x9fi\\xe2\\x80\\x94im', b'\\xe2\\x80\\x9acz\\xe2\\x80\\x94na', b'Pu-m\\xe2\\x80\\x94u\\xc4\\x9f-f\\xc3\\xaea\\xe2\\x80\\x94dim', b\"!e\\xe2\\x80\\x94ru-uz')\", b'na\\xe2\\x80\\x94\\xc3\\xa9b-ri-fum', b'l\\xc3\\xa2', b'i-k\\xc3\\xa2\\xe2\\x80\\x94<\\xc4\\x9fa>', b'\\xc4\\xb1\\xc3\\xa2\\xe2\\x80\\x94ku\\xe2\\x80\\x94uf\\xe2\\x80\\x94ti']\n",
      "mid range hit:  [b'e\\xe2\\x80\\x94\\xc3\\x8fi-ma', b'urn-ma', b'k\\xc3\\xa2\\xe2\\x80\\x94m-um-ma', b'A-S\\xe2\\x80\\x98\\xc3\\xb9r\\xe2\\x80\\x94\\xc3\\xae\\xc3\\xa2k\\xe2\\x80\\x94f\\xc3\\xa2\\xe2\\x80\\x94ku', b'wa\\xe2\\x80\\x94\\xc4\\x9fi\\xe2\\x80\\x94ra', b\"al'-nam\", b'i:', b\"\\xc4\\x9fi\\xe2\\x80\\x94l\\xc3\\xa2-\\xc3\\xaea'm\", b\"\\xc3\\xa4r-\\xc3\\xbfi-a-ku-nu-\\xc3\\xaei'\"]\n",
      "mid range hit:  [b'\\xc3\\x8ba\\xe2\\x80\\x94l\\xc3\\xa2-t\\xc3\\xb9-wa-ar', b':\\xc3\\xa9\\xe2\\x80\\x94er\\xe2\\x80\\x94ti\\xe2\\x80\\x94a', b'e-ta\\xe2\\x80\\x94ra\\xe2\\x80\\x94cib', b'ma\\xe2\\x80\\x94ki-ru\\xe2\\x80\\x94zi', b'Sd', b'e-ru-btt\\xe2\\x80\\x94nim\\xe2\\x80\\x94ma', b'arm-ma']\n",
      "mid range hit:  [b'q\\xc3\\xa4\\xe2\\x80\\x94di-n\\xc3\\xa4-ma', b'a-li\\xe2\\x80\\x94ku\\xe2\\x80\\x94nu', b'\\xc3\\x89-b\\xc3\\xa9-\\xc3\\xae\\xc3\\xa2m', b'i-\\xc3\\x8bu', b'e\\xe2\\x80\\x94ri-i\\xc3\\xbf\\xe2\\x80\\x94ti-ku-nu', b'Lim-ma', b'ru\\xe2\\x80\\x94ba-um', b'ru-ba-']\n",
      "mid range hit:  [b'ti\\xe2\\x80\\x94k\\xc4\\xb1\\xc4\\xb1\\xe2\\x80\\x94m;', b\"ne'-3321726\", b\"na\\xe2\\x80\\x94\\xc3\\xa2\\xc3\\xa4-p\\xc3\\xa2\\xe2\\x80\\x94ar\\xe2\\x80\\x94\\xc3\\xafa'm\", b'e\\xe2\\x80\\x94mu-ur\\xe2\\x80\\x94ma', b\"$'a\", b'Q\\xc3\\xa2\\xe2\\x80\\x94tf-mu-um', b'a-naA-\\xc3\\xbf\\xc3\\xa6zr-']\n",
      "mid range hit:  [b'na-\\xc3\\xa4S\\xe2\\x80\\x94p\\xc3\\xa9-ar\\xe2\\x80\\x94fam', b'\\xc3\\xbc-\\xc3\\xa4\\xc3\\xa9-er\\xe2\\x80\\x94ni\\xe2\\x80\\x94a-\\xef\\xac\\x81', b\"a\\xe2\\x80\\x94be-ff\\xe2\\x80\\x94s'u\", b'Ka\\xe2\\x80\\x94n\\xc3\\xa9-e\\xef\\xac\\x81', b'ie:', b\"nu\\xe2\\x80\\x94\\xe2\\x80\\x9as\\xe2\\x80\\x98\\xc3\\xa9-bid-iIS\\xe2\\x80\\x94s'u\", b\"s'u\\xe2\\x80\\x94u\\xc3\\xae\\xe2\\x80\\x94ma\", b'a\\xe2\\x80\\x94na']\n",
      "mid range hit:  [b'zrt-trr\\xe2\\x80\\x94tfm', b'la-\\xc3\\xa2\\xc3\\xbf\\xe2\\x80\\x94pur-ma', b'na\\xe2\\x80\\x94ad\\xe2\\x80\\x94a', b'[&', b's\\xc3\\xb9-p\\xc3\\xa2\\xe2\\x80\\x94za-ar', b'S\\xe2\\x80\\x98y\\xe2\\x80\\x94mc;', b'\\xc3\\x8a\\xe2\\x80\\x94me\\xe2\\x80\\x94el\\xe2\\x80\\x94ki\\xe2\\x80\\x94a']\n",
      "mid range hit:  [b\"i\\xe2\\x80\\x94s'a\\xe2\\x80\\x94am-\\xc4\\x9fi\", b'Sa', b'gup-pi\\xe2\\x80\\x94ni', b'ta\\xe2\\x80\\x94\\xc3\\x8ba-me\\xe2\\x80\\x94z\\xc3\\xaa', b'\\xe2\\x80\\x9afu-ma', b'na\\xe2\\x80\\x94{\\xc3\\xb9-ma', b'a-na', b'\\xc3\\x8ba-mu\\xe2\\x80\\x94ha', b'Ku-S\\xe2\\x80\\x98a\\xe2\\x80\\x94ra']\n",
      "mid range hit:  [b'fa\\xe2\\x80\\x99', b'm\\xe2\\x80\\x94Sa-hts\\xe2\\x80\\x94ut-ma', b'ta-I\\xc3\\xa2-ak', b\"3-[5']1'\\xe2\\x80\\x94s\\xe2\\x80\\x9d'u\", b'ma-ka-a\\xc5\\x9f-ma', b'iT-na', b'p\\xc3\\xa9-ni\\xe2\\x80\\x94k\\xc3\\xa4', b'lu\\xe2\\x80\\x94S\\xc3\\xa9-ti\\xe2\\x80\\x94q\\xc3\\xbc-ma', b\"ar\\xe2\\x80\\x99-kc\\xe2\\x80\\x98:\\xe2\\x80\\x94ta'm\"]\n",
      "mid range hit:  [b'[at]-ba-at\\xe2\\x80\\x94ma', b'i\\xe2\\x80\\x94na', b'e\\xe2\\x80\\x94mu-qf', b'\\xc4\\xb1i-bar\\xe2\\x80\\x94ta-am', b'e-pu\\xe2\\x80\\x94u\\xc4\\x9f-ma', b'sti-ha-ra-am', b'E.GAL-lim', b'u\\xc3\\xbf-t\\xc3\\xa9\\xe2\\x80\\x94\\xc3\\xaei']\n",
      "mid range hit:  [b'Ku-bu\\xe2\\x80\\x94ur\\xe2\\x80\\x94na-a!', b'\\xc4\\x9fi\\xe2\\x80\\x94ip-ru\\xe2\\x80\\x94Iim', b'i\\xe2\\x80\\x94Zi-ik', b\"URUDU\\xe2\\x80\\x94zi\\xe2\\x80\\x94s'u\", b'Wb\\xe2\\x80\\x94ahv\\xc3\\x8bu\\xe2\\x80\\x94\\xc3\\x8ba\\xe2\\x80\\x94na', b'na-df\\xe2\\x80\\x94ma', b'ma\\xe2\\x80\\x94Ium']\n",
      "mid range hit:  [b\"\\xc4\\x9fu-a-f\\xc4\\xb1'\", b'a\\xe2\\x80\\x94pd\\xe2\\x80\\x94qi\\xe2\\x80\\x94id\\xe2\\x80\\x94ma', b'a\\xe2\\x80\\x94ta\\xe2\\x80\\x94b\\xc3\\xa9\\xe2\\x80\\x94a-ma', b'a-la\\xe2\\x80\\x94i\\xc3\\xa2-kam', b'sa', b'u4\\xe2\\x80\\x94mi-im', b'a-nim', b'as-hu\\xe2\\x80\\x94ru', b'ma-na-ah-z\\xc3\\xa9m']\n",
      "mid range hit:  [b'zi\\xe2\\x80\\x94Ia-ni-hu', b'ta-\\xc3\\xa2\\xc4\\x9f-la-na-me\\xe2\\x80\\x94e', b'fai-ma', b'iii-ft}', b'u4-nzi-im', b'Dun\\xe2\\x80\\x94hu-mi\\xe2\\x80\\x94\\xc3\\xa4l', b'ma-ar\\xe2\\x80\\x94\\xc5\\x9fa-ku-ni.']\n",
      "mid range hit:  [b'\\xc3\\x8ba\\xe2\\x80\\x94zu-za\\xe2\\x80\\x94ti\\xe2\\x80\\x94k\\xc3\\xa0', b\"[a'-pi-tg-ma\", b'Ha\\xe2\\x80\\x94tim}K\\xc3\\x99\\xe2\\x80\\x94dp-k\\xc3\\xa0', b'nu\\xe2\\x80\\x94\\xc3\\xa4a\\xe2\\x80\\x94dsv-qi-il5', b\"ii'-ti\", b'\\xc4\\x9fa', b'na-d\\xc4\\x9f-p\\xc3\\xa2\\xe2\\x80\\x94ra\\xe2\\x80\\x94ti-']\n",
      "mid range hit:  [b'E283.', b'\\xe2\\x80\\x9aum-ma', b'\\xc3\\x9c\\xe2\\x80\\x94\\xc5\\x9fur\\xe2\\x80\\x94\\xc4\\x9f\\xc3\\xae\\xe2\\x80\\x94I\\xc4\\x9ftar-ma', b'I\\xe2\\x80\\x94fcu\\xe2\\x80\\x94pi\\xe2\\x80\\x94a', b':?', b'S\\xc3\\xbb-en\\xc3\\xb4\\xe2\\x80\\x94SIPA', b'qi\\xe2\\x80\\x94bg-ma', b'a-na-kam', b'I\\xe2\\x80\\x94ku\\xe2\\x80\\x94p\\xc3\\xa2\\xe2\\x80\\x94a-']\n",
      "mid range hit:  [b'u\\xc4\\x9f\\xe2\\x80\\x94k\\xc3\\xa2\\xe2\\x80\\x94in-ma', b'cz\\xe2\\x80\\x94ma\\xe2\\x80\\x94l\\xc3\\xae\\xe2\\x80\\x94\\xc4\\x9fu', b'ur\\xe2\\x80\\x94di\\xe2\\x80\\x94ju', b'\\xef\\xac\\x81a', b'A-am\\xe2\\x80\\x94ku-w\\xc5\\x93-a', b'i\\xc5\\x9f-bu-tiz\\xe2\\x80\\x94ma', b'\\xc3\\xbc\\xe2\\x80\\x94a-al', b'Hi\\xe2\\x80\\x94da\\xe2\\x80\\x94\\xc3\\xa2\\xc3\\xbf\\xe2\\x80\\x94p\\xc3\\xa2', b\"si-s'p-ru-\"]\n",
      "mid range hit:  [b'\\xc3\\xbc-l\\xc3\\xa4-pi\\xe2\\x80\\x94ta\\xe2\\x80\\x94\\xc3\\x84fu-ni', b'\\xc3\\x8ba-k\\xc3\\xa0-na\\xe2\\x80\\x94kam', b'A\\xe2\\x80\\x94am\\xe2\\x80\\x94ku-wa-a', b\"\\xc4\\x9f\\xc4\\x9f-za-pa'f\", b'\\xc3\\xbfu-ut-ma', b'ra\\xe2\\x80\\x94d\\xc3\\xae\\xe2\\x80\\x94k\\xc3\\xa0', b'\\xc3\\xa2i\\xe2\\x80\\x94\\xc3\\x8ai-kam-ma', b'r\\xc3\\xa2m-k\\xc3\\xa2-']\n",
      "mid range hit:  [b'ip-Sf\\xe2\\x80\\x94im', b's\\xc4\\xb1\\xc4\\x9f-i\\xc4\\xb1h\\xe2\\x80\\x94ri-im', b'aima-kd!', b'Ha-am\\xe2\\x80\\x94ha-am-t\\xef\\xac\\x81m}', b'i-p\\xc3\\xa4-n\\xc3\\xa4-ni', b'a\\xe2\\x80\\x94na', b'AIa-a-ma']\n",
      "mid range hit:  [b'a-\\xc4\\x9far', b'ha-ra\\xe2\\x80\\x94\\xc4\\x9fu-ni', b'i\\xc4\\x9f\\xe2\\x80\\x94ti-\\xc4\\x9fu', b\"i-ra-deS-\\xc4\\x9f\\xc4\\xb1'\", b'q\\xc3\\xa2\\xe2\\x80\\x94di\\xe2\\x80\\x94S\\xe2\\x80\\x98u-ma', b'K\\xc3\\xa0-ni-is\\xe2\\x80\\x9c', b'\\xc3\\xbc-ta\\xe2\\x80\\x94ra\\xe2\\x80\\x94s\\xe2\\x80\\x9c!', b'\\xc4\\x9fu\\xe2\\x80\\x94ma', b\"e-zi\\xe2\\x80\\x94ib-S'l'\"]\n",
      "mid range hit:  [b'{dm', b'ifs-qi-zi-rii-ma', b'iia\\xe2\\x80\\x94ra\\xe2\\x80\\x94nam', b'k\\xc3\\xa0-\\xc3\\x8bu-da\\xe2\\x80\\x94am', b'q\\xc3\\xa9\\xe2\\x80\\x94bi4-zi\\xe2\\x80\\x94ni', b'\\xc3\\x8bu-nu\\xe2\\x80\\x94ma', b'ha\\xe2\\x80\\x94ra-nam', b'ni-l\\xc3\\xa4\\xe2\\x80\\x94ak', b'dIM\\xe2\\x80\\x94\\xc3\\xa0a-h\\xe2\\x80\\x98i']\n",
      "mid range hit:  [b'{\\xc3\\xa0-\\xc3\\xbfzr\\xe2\\x80\\x94\\xc3\\xb9-n\\xc3\\xaa', b'if\\xe2\\x80\\x94ti\\xe2\\x80\\x94s\\xe2\\x80\\x99u-nu', b'\\xc3\\xbc-\\xc5\\x9fd-hi\\xe2\\x80\\x94\\xc3\\xa2', b'a-na\\xe2\\x80\\x94ku-ma', b'a-s\\xc4\\xb1E\\xe2\\x80\\x94ri', b'rna\\xe2\\x80\\x94at', b'Za-ai-pd', b'@', b'wma-kam']\n",
      "mid range hit:  [b'i\\xe2\\x80\\x94s\\xc3\\xa9\\xe2\\x80\\x94\\xc3\\xafi-\\xc3\\xbfuK', b'li\\xe2\\x80\\x94li\\xe2\\x80\\x94ik', b\"K\\xc3\\xa0-ni\\xe2\\x80\\x94\\xc3\\xa2s'\", b'q\\xc3\\xa9\\xe2\\x80\\x94bi4-z3', b'a-s\\xc3\\xa0\\xe2\\x80\\x94ri', b'ma-ar', b'Za\\xe2\\x80\\x94a\\xc3\\x8b-p\\xc3\\xa2', b'i\\xe2\\x80\\x94li-ku-\\xc3\\xbc.']\n",
      "mid range hit:  [b'\\xc3\\xa9s-e\\xe2\\x80\\x94ma', b'Li\\xe2\\x80\\x94to\\xe2\\x80\\x94er', b'a-b\\xc4\\x9f4', b'\\xc4\\x9fa', b'a\\xe2\\x80\\x94wa-t\\xc3\\xa2m', b'S\\xe2\\x80\\x98a-na\\xe2\\x80\\x94am', b\"l\\xc4\\xb1\\xc4\\xb1-\\xc4\\x9f\\xc3\\xa2-bi-\\xc4\\xb1'u-nim.\"]\n",
      "mid range hit:  [b'([t]a-d\\xc2\\xa7-pu-ra-am', b'tun-ma', b'fcu\\xe2\\x80\\x94ta-n\\xc3\\xa9', b'il', b'm\\xe2\\x80\\x94qi-t\\xc3\\xa9\\xe2\\x80\\x94en6', b'a\\xe2\\x80\\x94s\\xc3\\xa9\\xe2\\x80\\x94er', b'\\xc3\\xa6\\xc3\\xaa-\\xc3\\x8b\\xc3\\xa9-bi-z\\xe2\\x80\\x98ls']\n",
      "mid range hit:  [b'k\\xc3\\xa0-na', b'apu\\xe2\\x80\\x94tum', b'a\\xe2\\x80\\x99a\\xe2\\x80\\x94na\\xe2\\x80\\x94rai1', b's\\xc3\\xa9\\xe2\\x80\\x94bi4\\xe2\\x80\\x94l\\xc3\\xa9\\xe2\\x80\\x94ma', b'im\\xe2\\x80\\x94m\\xe2\\x80\\x94a\\xc5\\x9f', b';up\\xe2\\x80\\x94p\\xc3\\xa4\\xe2\\x80\\x94am', b'\\xc4\\x9fi\\xe2\\x80\\x94ta-me-\\xc4\\x9fu-ma']\n",
      "mid range hit:  [b'HlA\\xe2\\x80\\x94ti\\xe2\\x80\\x94k\\xc3\\xa4', b'Hu-ra-ma', b'\\xc3\\xbc-s\\xe2\\x80\\x98\\xc3\\xa9-t\\xc3\\xa9\\xe2\\x80\\x94q\\xc3\\xa9m\\xe2\\x80\\x94ma', b'\\xc3\\xa0a-ra\\xe2\\x80\\x94an', b'sz\\xc3\\x8b\\xe2\\x80\\x94qi\\xe2\\x80\\x94ni', b'ar-dex-a-ma', b'\\xc4\\x9f\\xc3\\xa2l\\xe2\\x80\\x94ma-ku', b'i\\xe2\\x80\\x94Ku\\xe2\\x80\\x94bu\\xe2\\x80\\x94ur\\xe2\\x80\\x94na-at']\n",
      "mid range hit:  [b'a\\xe2\\x80\\x94di-\\xc4\\x9fu\\xe2\\x80\\x94um', b\"er\\xe2\\x80\\x94b\\xc4\\xb1'4\\xe2\\x80\\x94\\xc4\\xb1'm\", b'ia', b\"[f-ma\\xe2\\x80\\x94A-s'ur\", b'erl-ba-am', b'sa', b'\\xc4\\x9fa\\xe2\\x80\\x94bu-a-ti']\n",
      "big hit: ['0B3QqxeoUcqoAOFdncU5jTUlyeFE', 34, 'div count: 64', ['karsum-linens,', 'rKa-nil-iğkI', 'ağ-ğum-ia', 'li-rba-all-li-', 'rÿal—al—ma—a—ku', 'am-rmil-ni', \"s'u-lu—um-fki\", 'hal-ra-na-tu—ki', 'ka-a-a—fna', 'ü-ül', 'a—ha-rat-ki1', 'fa', 'A-ğu-ur', 'as“—ba-a—ku', 'a—nu-um—fma1', 'rgE“\"“‘ka—ar—rs\\'u‘', ';iı—ur—di-iğ-ği', 'gadaral—la—fnııl-um', 'sa', \"Ka—fni-ı's'kn\", 'Î-li-ba-aË-ti', 'rusv-tal-bi-la-ki)’.', 'ğdl—ma—at', 'ni—ti—şı).', \"ğa'l-ma—ku\", \"is'-til\", 'miti-şı);', 'Ëdl—ma—ni', 'ni-ti—şı);', 'ia’l-ma—ni', 'isin)', \"ni—tz'—._sz);\", 'na—âä—pè-er—ti-kà', 'I-ri-ğu-um', '4-hu-mi-it', 'A-ma—am', \"dğ-pu-ra-ku-nu-Iı'\", 's’a', 'li-ği-ü-nim', 'a-ğa-me-ma', 'Wa-dğ-ha-ni-a', 'ü—ğu—ru', 'ğa-na—i—im', 'sa', 'lup-pi', \"ik-ta-a'Ë-dam\", 'li-ği-ü-nim);', \"s'u-qu'l—ta-si-\", \"kâ-ni-ği—u'\", 'ig-ri—ğu-nu', 'ğa—hi-za—ma', 'lu-ğa-ki-lu-ğu-nu', 'ğu-ma', \"li-ği-ü-m'm\", \"a'i—na—ÿu—nu-ti\", 'iä-ti—ÿu-nu', '“Dear', 'i—hiV-id-ma', 'sé-bi4-lam', 'Ni—na—s”a-i-u[m]', 'e-pd—ğa—am-ma', 'li—iz—bi4-lu-nim);', 'Wa-âğ-ha-ni—a', 'le-pu-ğa-am']]\n",
      "big hit: ['0B3QqxeoUcqoAOFdncU5jTUlyeFE', 45, 'three line total:31', [['HLA', 'da-na-af', 'i—hi—fd—ma', 'sû—ba—rê', ',turA—da-ma', 'kzı-şığ—um', '[&', 'f—kà—ÿa-da—ni', 'le—pu—uÿ', 'i—na', 'dUTU-ği', 'sa', '{up-pi'], ['lei-ma', 'kıı—şi—im', '‚cz—na', 'Pu-m—uğ-fîa—dim', \"!e—ru-uz')\", 'na—éb-ri-fum', 'lâ', 'i-kâ—<ğa>', 'ıâ—ku—uf—ti'], ['.şıîf—ha-ri', \"i—deg-u'r\", 'äæ-up—ra—ma', 'êË-ti-in', 'ANÊE.HI.A', \"luf—S'a—kâ-il5\", 'iÿ—ti—in', \"i—ğ[a-iz]a-fz'—a\", \"fi—Zi-ı'z-ma\"]]]\n",
      "big hit: ['0B3QqxeoUcqoAOFdncU5jTUlyeFE', 46, 'div count: 51', [\"S'u-ma\", 'u4—mu-ü', 'kil—su', 'A-bu-Ëa-lim', 'û—ÿa—lâ-ma-ÿu-ni', 'ğu—ma', 'u4—mu-ü', 'ü-szla-am', 'ni—ğa—me-ma', 'ğa-ri-ku—nu', 'ni—iğ-pu-ra-am', \"a-s'i-a-tı'\", \"svi-n'\", \"ü-s'é-ba-lä—kum.\", \"ni-s'l'-a\", 'ba-lu—ÿim', 'ia', \"isîtı'\", 'A-mur—Iğtar', 'a-kâ-ğa—di—ğu—nu', \"i-ta-db-<ğı'>\", \"dUTU-sﬁ'\", '{up—pi', 'ta-ğa-me-ü', 'EGAL-limm—ku-nu', 'ğu-ul-ha-a);', \"ğa-ta'm\", 'iğ-tğ-et', 'i-ği-ki-in-ma', 'A-Ëùr', 'su-um-s’u', \"[d'-’\", '[mı?-w?', 'e—ta—pd-dğ-ma', 'ku-si-ğu', 'ği—ik—na-tum', 'ba-ri-ğu-nu', 'i-ta—[ù—lu);', \"s'a\", 'tù-usV-té-ça—a', 'fa', 'dğ-me-ma', 'da-ni-ğa-ma', 'a-bi4-ku-nu', 'na-pâ—âğ-ta—ku—nu', \"Ea'I-ma-at\", 'i-ğa—li-mu', 'iğ—tiı', 'a-bi4-', 'e-pu—uğ-ma', 'u']]\n",
      "big hit: ['0B3QqxeoUcqoAOFdncU5jTUlyeFE', 49, 'three line total:28', [['âğ—ha-a', 'uni-ma', 'swim-ma', 'ma-a:', 'Wa-ah-Ëu-Ëa-rîa', 'i—ma-qlê—tù', 'ıl', \"$'a\", 'i—mu-æ?', 'ud-me-e'], ['fbi-lam', 'ÿu-ma', '[&', 'za-ka—a-at', 'dilin—ği', \"er—st't-t'z-ni-ma\", 'lâ', 'ü—Ğâ—biA—îu', 'si—kâ-tü-ğu-nu'], ['nik', 'Ü—şur—ğa—Iğtar', 'qibi-ma', 'arm-ma', \"$'a—ma\", 'ğa—âp-tum', 'za—ku-a-a!', 'ÿa—âp—tâm', '‚fé-']]]\n",
      "big hit: ['0B3QqxeoUcqoAOFdncU5jTUlyeFE', 75, 'three line total:26', [['O', 'umt', \"'\", '\\\\', ';\"', ',,', '.\"”'], ['°°', '°', 'Ok', '\\\\', ',,', 'OKU/w;', 'Mega', \"'\", '‚\\\\', '‚l', 'i', '„.)'], ['lw;', ',,', ';(»,', 'ff“', 'www', ',/', '[\\\\']]]\n",
      "big hit: ['0B3QqxeoUcqoAOFdncU5jTUlyeFE', 105, 'three line total:26', [['mê-ma', 'a-niæîi', 'a-ra—deS-cz-knm', 'lu-qü-ut-kä', \"ğa'l—mcz—af\", \"s'âi—mu—zê\", 'mı?-ma', 'li-baîkâ', 'fa‘i—pâ-ri—äd', '£-'], ['na-âÿ—a—Ëcum', \"me'-at\", '316,', 'SIGS', 'sa', 'ik—ri-bi—kà', 'e-ma-m'], ['1—25):', 'a-na', 'A—ğür—e-mu—qi', 'qi-bi—ma', 'uns—ma', \"M'a-sÏ-Ï-li-ma\", 'à', \"$'a\", 'Jim“']]]\n",
      "big hit: ['0B3QqxeoUcqoAOFdncU5jTUlyeFE', 117, 10, [b'zi-za-bu-ti-ma', b'ak?m-l\\xc3\\xa2m', b'\\xc3\\xb9\\xe2\\x80\\x94\\xc3\\xaeqa-lu-q\\xc3\\xa2\\xc3\\xae\\xe2\\x80\\x94ni', b'i\\xe2\\x80\\x94li\\xe2\\x80\\x94pu-um', b'li-i\\xc4\\x9f-bU-mja', b'i\\xe2\\x80\\x94na', b'na-ri-im', b'S\\xc3\\x84TU\\xe2\\x80\\x94e-ku-fzu', b'ma-tf\\xe2\\x80\\x94ku\\xe2\\x80\\x94nu', b'[m\\xc3\\xa2]-']]\n",
      "big hit: ['0B3QqxeoUcqoAOFdncU5jTUlyeFE', 121, 'three line total:31', [['U8.UDU.HI.A', '£a', '[Lt-Li', 'kn-tZ—ma', 'mu—hi-Ğu', 's’y-12', '2\"', 'a-na—ku', 'iii-{u', 'an—na—na-um', 'aI—t‘a'], ['pi—te-et', '£;', 'ir—Ii', '“’“Ha-hi—ia—zi', '[Li-Ll', 'SEBA-ğu', 'ltf-ma', 'a—kze-ul—ğu', 'ğu', ':a-ia-qè', '[ıı—ü', 'kıı-ü'], ['ria-kn', 'br>,', '“’“Tig-ku—na-an', \"URU—t'z‘m\", 'it', 'KUR-al-ka', 'KUR-fi', 'lu—ü-şur—ka']]]\n",
      "big hit: ['0B3QqxeoUcqoAOFdncU5jTUlyeFE', 131, 10, [b'Ur\\xe2\\x80\\x94s\\xc3\\xa9\\xe2\\x80\\x94imkl\\xe2\\x80\\x94ma', b'Lim-ma', b'fa\\xe2\\x80\\x94iia-k\\xc4\\xb1f\\xe2\\x80\\x94\\xc4\\xb1mi1', b'a\\xe2\\x80\\x94li\\xe2\\x80\\x94ik', b'!m-wn-j\\xc3\\xa2\\xe2\\x80\\x94am', b'i:', b'al\\xe2\\x80\\x94[li-ik', b'i\\xe2\\x80\\x94d\\xc3\\xbf\\xe2\\x80\\x94\\xc3\\xbfu', b'Z\\xc3\\xbchal-baki', b'Xa[r\\xe2\\x80\\x94ka\\xe2\\x80\\x94mi\\xe2\\x80\\x94']]\n",
      "big hit: ['0B3QqxeoUcqoAOFdncU5jTUlyeFE', 163, 'three line total:28', [['S‘il—ma', 'ria-çikma', 'Sa-mu-ha', 'ü', 'Ku-syavra', 'ta-âd—ak', 'gup-pi—kâ', '3—57-51;', 'a-na', 'Ti—if-im-'], ['fa’', 'm—Sa-hts—ut-ma', 'ta-Iâ-ak', \"3-[5']1'—s”'u\", 'ma-ka-aş-ma', 'iT-na', 'pé-ni—kä', 'lu—Sé-ti—qü-ma', \"ar’-kc‘:—ta'm\"], [\"i—s'a—am-ği\", 'Sa', 'gup-pi—ni', 'ta—Ëa-me—zê', '‚fu-ma', 'na—{ù-ma', 'a-na', 'Ëa-mu—ha', 'Ku-S‘a—ra']]]\n",
      "big hit: ['0B3QqxeoUcqoAOFdncU5jTUlyeFE', 174, 'div count: 57', ['kutdnum-textiles', '538', '(to?)', 'Pu—ru—uğ-ha-dim', '[à', 'a—ğa-me-ma', 'ği—mu—um', 'Kâ-ni-iğ', 'i—ba—ğiği-ta—ld-ma', 'is“ki', '[it-ld]', 'tù—sé—lâ—a—nim', 'Kà]-ni—iË—ma', 'tù—ÿa-ra', 'Pu-ru-u.Ë]—ha—dim', 'tù-sé-lâ—a-ma', 'Pu-ru-uğ-ha—dim.', '[Wa-dﬁ-ha—na—[i’]—um', 'Pu-ru-uË—ha-dim', '{up-pd-kà', 'a-su-mi', 'sa', 'Dan-A—ÿur', 'i-Kâ-ni-iğ', 'mi—ma—ğa—ma', 'sa', 'ra—giS—im', 'kâ-ku-ğu', 'ilS-qé-ü-ma', 'ta-[dlğ-pu-', 'a-ğu—mi—ğu—ma', '[siti-a', \"Pu-ru—[u]s'—ha-dim\", 'a—zd—ra—da-Ëu.', 'Iilar—lä—ma-si', 'A-S‘ür—na-da', 'PuzurA-Isvtar', 'Pu-ru-us-', 'a-ğar', 'ha-ra—ğu-ni', 'iğ—ti-ğu', \"i-ra-deS-ğı'\", 'qâ—di—S‘u-ma', 'Kà-ni-is“', 'ü-ta—ra—s“!', 'ğu—ma', \"e-zi—ib-S'l'\", 'i—ğa—qal.', '“Assur—malik', '—', 'A-Ëùr—ma—lik', \"a—s'a—ta'm\", 'Kà-ni-is”', 'DurA-hu-mi—it', 'Wa-ah—ğu—ğa—na', 'qadistum-wife', \"(qd-di—ı'ğ—ta'm\"]]\n",
      "big hit: ['0B3QqxeoUcqoAOFdncU5jTUlyeFE', 175, 'three line total:26', [['ma', 'HZ', 'mcx-na', \"12'-\", 'KUBABBAR-22314113r', 'al—qé—e?', '12—1112', 'a-m—di—e'], ['l‘a—ma', 'sé-er', '125-', '-1-‘t2', '„bu', 'er-su-', 'um', 'za-kà-', 'aff—911', \"-121'-\"], ['s‘é-', '{a}', '23-3é-b1-Iu-n1—', 'kâr-ma', '&', '1-1271', \"$'a\", 'is‘-n}']]]\n",
      "big hit: ['0B3QqxeoUcqoAOFdncU5jTUlyeFE', 177, 'three line total:26', [['ri-kc‘z', 'û—Ëé-bi-lâ-kum', ';}', 'ma-Ëâ', 's’i-ni—su', \"Ha-hi—z'm\", 'a’s-pu-ra-ka-ma', 'a-ta', '{ä', '!à—uÿ-té-bi—lam', 'i-nu—m}', '‘'], ['a-rdf‘', \"ta-s'a-Zâ—ha—ni\", 'ù', \"{'s-fs}\", 'il', 'mız—na'], [\"ğa—[ni—ta'm\", 'lâ]', 'ta-di—na-ni', 'arm—ma', 'a-na-kii-[ma]', \"$'a\", 'hmm-nim', 'dä-nœ-am']]]\n",
      "big hit: ['0B3QqxeoUcqoAOFdncU5jTUlyeFE', 178, 'div count: 34', ['“The', 'Ëa—zu-za—ti—kà', \"[a'-pi-tg-ma\", 'Ha—tim}KÙ—dp-kà', 'nu—äa—dsv-qi-il5', \"ii'-ti\", 'ğa', 'na-dğ-pâ—ra—ti-', 'i—na-ği-a-ni', 'sa', '.fé-bi4—lä—ma', 'ld—ak—ğu—ud.', 'ğu—ma', 'ni-ğa—hu—ut-ma', 'a-sé-er', 'A-bu-ğa—lim', 'iË—té—en6', 'lu-sé-ti—iq', \"S'a—ni-um\", 'lu-ié-ri-ib', \"na—âÿ—pè-er—tt'\", 'ğe-bid-iİS-ği.', \"ği—tı'\", '.Ÿu—ma', 'ü—ğu—ra—at).', 'PuzurA-A-sitr', 'Ma-num—ki-dIM', \"PuzurA-A-s'ür\", 'ri—deg—e', 'Kâ-ni—iğ', \"ni—is'\", \"ta—da-an—ğı'\", 'Pd-pd-an—dal—ah-e-ma', 'û—ÿé—ba-ar-si.']]\n",
      "big hit: ['0B3QqxeoUcqoAOFdncU5jTUlyeFE', 187, 'three line total:26', [['Liv-ld', 'Dun-ku—mi—it', 'a-Si—mi-ém', 'e—ri—Ğu-ku-mi', 'lf2', 'i-ta-ar-lim', \"de'-na\"], ['Fia-rana”', 'sığ—qi—ni—ma', 'a-ğar', 'ÿa—lams', 'lu—qsê—tê—a', 'et\"—ba', \"s'y—ma\", 'i—‘na', 'Ku—bu-ur—[æa—aë]', 'Ha—na—ak—na-afc'], ['94f’k', 'sıt—ma', 'I—di—Ku-bié-im', 'la-ak—ÿu-da', 'a-na', \"rna—[a'\", 'na—dğ—pâ—er—ti-a', '{$”-là', \"Î1'-me-ei—ki—a\"]]]\n",
      "big hit: ['0B3QqxeoUcqoAOFdncU5jTUlyeFE', 189, 'three line total:27', [['sts-mia', 'pct-um', '—ir—mm', \"[a'\", 'i-Ïa-ak', 'sa', 'Jai—fim', \"15'—\", 'gu', 'aşk—ma'], ['zır-[tim]', '{ras', ')ni-', 'is-', 'ha—', 'Sa-', \"fa'—ah—\", '[ğu—a—', 'Hu-ra]-ma-i-', '—qé-u.'], ['me—az‘', \"$'a]\", 'fil-na', \"Ïf—me—el—l'cif-la!1\", 'e—zli—bu', '.Şrî-âa-tiı', 'i-izapé-zu-']]]\n",
      "big hit: ['0B3QqxeoUcqoAOFdncU5jTUlyeFE', 191, 'three line total:26', [['.idi—ma-ar', 'sü-qd-nim—ma', 'TÜGHI-ti—a', 'rna-lâ', 'zÏ—Ëé—Ii-qâ—nâ', \"ı'ğ-ti\", \"!e—i'i-ka—nim\"], [\"brı-m'\", 'wma-kam', 'wa—ğa-âb', 'Si—fa—lci—ma', 'a-sé-er', '[u-qzi-fi—a', 'Ti-me-el-ki—a', 'le-ti-qıi-ma', 'sıt-ma'], ['za-zu—ma', 'mila-kam', \"ii'-Ii\", 'URUDU—i—ni', '{Li—iu', 'i-na', '_îup-pi-i', \"fa—S'a—me-a—ni\", 'sir-ma', 'A-ğur-']]]\n",
      "big hit: ['0B3QqxeoUcqoAOFdncU5jTUlyeFE', 193, 'three line total:28', [['HlA—ti—kä', 'Hu-ra-ma', 'ü-s‘é-té—qém—ma', 'àa-ra—an', 'szË—qi—ni', 'ar-dex-a-ma', 'ğâl—ma-ku', 'i—Ku—bu—ur—na-at'], ['S‘y—a', 'e—zf—ma', 'ğu-ut—ma', 'a-na', 'kâ—ği—im', 'sa', 'ku—nu—kä-a', 'is‘—ff', 'ü—nu—îi—ğu', 'ifâ—ği—im', 'ip—qi—sü-nu'], ['694', 'a—ğu—mî', 'sa', 'na—âÿ—pé-er-z‘é-kà', 'a’p—zazah—ma', 'SABA', 'A-ma-ri-im', 'i—na', 'Éa-lâ—ah—']]]\n",
      "big hit: ['0B3QqxeoUcqoAOFdncU5jTUlyeFE', 196, 'div count: 27', ['ğaddu', 'ğaddu', 'ğaddu', 'Kà—ni—iÿ-ma', \"s“a-ql'—il5\", 'uvli—a', 'ği—ip—ri—ni', 'tù-us”', 'Ni—na-ğa—a.', \"Kà—ni-is'\", 'Wa-ah-ÿu-Ëa-na—ma', 'a—Ëu—mi', \"ğa—du—a—tı'm\", 'ğa', \"ta-a'ğ-pu-ra—ni—nı'\", 'Puzun-A-S‘ùr', 'su-a-am', \"$'a\", 'A—s’iır-DÜG', \"ncı—ciğ—a—ku-nu-tı'.\", 'Kä-ni-is“', '[su-nu-ma]', 'Dur4-h[u-mi—it', '§]a-du-i-ti', \"$'a\", 'Kà-ni—is\"', \"ü-ğa—dı']-rü1—ni.\"]]\n",
      "big hit: ['0B3QqxeoUcqoAOFdncU5jTUlyeFE', 208, 'div count: 38', ['Ğalahsuwa', 'Salahsuwa,', '4', 'TÜG.SIG5', 'ia', 'iğ-tü', 'ù—Ëé—ra-da—ni', 'Ğa-la-ah-ğu—wa', 'û—ÿé—tù-qû', '4—hu—mi-id', 'lu—Ëé—ti—qû.', 'Na-biA-dENLlL', 'E-na—A—ğür-ma', '9-25):a-§u—mi', 'sa', 'Su', 'Sa—ld—ah—ğu-wa', '5a', 'ki—ä[é-er-s“i—im', 'wa]—ds”-bu-ni', 'si—[mi—iIS-tim', 's”!—t]a—a—al—ma', 'si—mî—ilS—tim]', 'ü-ta—ruîsvu-nu', 'snd-ma', 'ü-ta—ru-ğu-nu', \"Ëu—nu-tlpu—tù—u[r-s'u-nu-ma]\", 'ip-[é-ri—ÿu-nu', 'sci', 'e—ri-ğu-kâ—ni', 'na-dä—pè—er—[ti—kà]', 'lu-éé-bi4-lä-ku—um', 'ğu—nu-ti', 'a-ğu-mi', 'ğu-nu-ti', \"na—a'ÿ-pè-er-ti—kà\", 'ip—t‘é—ri', 'i-ğu-ü.']]\n",
      "big hit: ['0B3QqxeoUcqoAOFdncU5jTUlyeFE', 213, 12, [b'p\\xc3\\xa2-ni\\xe2\\x80\\x94z\\xc3\\xa4-um\\xe2\\x80\\x94ma', b'!a-\\xc5\\x9fi\\xe2\\x80\\x94ma', b'a-na-ma', b'K\\xc3\\xa2-ni\\xe2\\x80\\x94i\\xc4\\x9f', b'ik\\xe2\\x80\\x94\\xc3\\x8bu-du', b'\\xc3\\xbfa\\xe2\\x80\\x94ni-um', b'i\\xe2\\x80\\x94na', b'(fr\\xe2\\x80\\x94su', b'fee\\xe2\\x80\\x94\\xc5\\x9fi', b'\\xc2\\xa3:', b'\\xc4\\x9fa\\xe2\\x80\\x94Ii-i\\xc4\\x9f-ts\\xc4\\xb1m', b\"ki'-a\\xe2\\x80\\x94\"]]\n",
      "big hit: ['0B3QqxeoUcqoAOFdncU5jTUlyeFE', 223, 'div count: 48', ['KANES', 'Wa—ar—äa-ma', 'Kà—ni-Ëi—im', 'ta-ds-pu-ra-am', 'Ta-i-S‘a-ma-<', 'û-Ëa—ba-Ëu', \"s'a—bi—s’u\", \"Ta-i-s'a—ma-i-ü—um\", 'sa-ra-né-e', 'ğa-ni-ü-tim', \"isV-tı'\", 'ğa-ni—ü—tim', 'Ta-i-ğ[', \"s’a-al-s'i-ni\", 'Ta-i-sa-ma-i—zi-um', 'al—pi—ğu-nu', 'sé-ni—s’u-nu', 'ilS—té-qé', 'iğ—ta-ra—âp', 'ub—ta-i-iÿ', 'MU.9.SE', 'ilS-wi—ü', 'ta-ds-pu-ra-am', 'tù—äa-ra—am', 'lu—ği—ir', 'ğa—ma-e-ma', 'li-rli-a-ku-ma1', 'iÿ—[té—et', 'lu-[ﬁ-ir', '[ta-ds“-pu—ra]-am', 'ği—ip-ri-kâ', 'sé-ri-a', \"ğı'—<ip>\", 'a-şef-ri—kâ', 'ikl-nu-uk-ma', 's’a-ma-e-ma', 'lu-wa-si-ir),', 'sapc‘l’um', 'Peruwahğu);', \"Hağs'u\", \"Halkı'as'ğu);\", '(s’a', 'samm‘m);', 'samm‘m);', \"Sumiawa'a);\", 'müşi', 's”a', 'OfHalkiağğu);']]\n",
      "big hit: ['0B3QqxeoUcqoAOFdncU5jTUlyeFE', 291, 'three line total:26', [['{dm', 'ifs-qi-zi-rii-ma', 'iia—ra—nam', 'kà-Ëu-da—am', 'qé—bi4-zi—ni', 'Ëu-nu—ma', 'ha—ra-nam', 'ni-lä—ak', 'dIM—àa-h‘i'], ['ma-ti-ku-nu', 'nu—uä-té-<', 'b£>', 'ici-ma', \"ı'ı-ma-sıî—hu—ğu-nu—ni\", 'a-na', 'e_t-lıf-Ium', \"Ëa—a'p-\"], ['sat-m:', 'tım-ma', 'dIM-ub-ié-mar', 'x-x-i-tdm', 'ğa—lâ—ma', 'id', 'a-na-kam', 'nu-uä-ré-bi4—iz’5', 'la?']]]\n",
      "big hit: ['0B3QqxeoUcqoAOFdncU5jTUlyeFE', 294, 'div count: 25', ['Tiğmurna.', 'Sinahuttum', 'there’.‘°8°', '[Li-là', \"Ti—is'-m]u-ur—na\", 'qd-bi4-a-ku—ni-ti-ni', 'rmı“-ma1', \"is'—ti\", 'En-um—AJSVùr1', 'Pu-ru-u[s“-ha-dim]', 'Di—ir—hu-mi—rit', 'i—iS-mu-ur—na)', 'Dum—hu-', 'as”—me-ü-ni', 'Tis-mur-na', 'la—ag—mi—ilS).', 'ni—iğ—mu-u]r-na', \"[a'-ğu\", \"sé-ni-s'u\", 'a-sé-erA-mur-Istar', 'Pu—su-ke-en6', 'i—iğ—mur-na', 'su', 'Dur4—hu-mi-it', 'lu-sé-ri-ba-ma']]\n",
      "big hit: ['0B3QqxeoUcqoAOFdncU5jTUlyeFE', 300, 'div count: 51', ['um-maAh-ğa—lim-ma', 'qi—bi4-ma', 'i-tiı—a-ri-ğu', 'i-ba—tılsvu', 'me-er—i—ğu', 'a—Ëi—i—ma', 'a-ğu—', \"i—s'a-am—51'\", '{up—pâ-am', 'i-ğa-nim', 'u4—mi-im', '[up-pi—i', \"iğ-me-u'\", 'té-er—ta-ds—nu', 'ğa—lâ-hi-im', 'lu-bu-ğa-am', 'il', 'té-ri—ÿa-ni', 'ÿé-biA-ld—nim', 'su-ma', 'i—ğa—lu-hu', 'er—äa-ma', 'ÿé-bi4—ld-nim', 'iğ-tâ—en6', 'ğa', 'iğ-ti-a', 'wa-dğ-bu.', 'a-sé-er', 'sVi-bid-im', 'ÿa', 'ni-iğ-qü—ul;', \"aÿ—qu'l.\", 'sa', '[Ah—s”]a—lim-ma', 'iÿ—ti', 'û-{â—hi—ma', 'iu-ut-ma', '5a', 'Ha-tù—ÿa-um', 'i-qd-bi4-Li-su-ni', 'ğa-lâ—mî-ğu', 'Su-pi-lu-li-a', 'ğu—ul-ma', 'ğu-pi-lu-li-a-um', \"ği—a-tı'\", \"a-s'ar\", 'li—bi-Ëu-ma', \"Ha-tù-s'a-um—ma\", 'mi-Ëu—ba', 'a—ÿar', \"aq—bi4—ı2-5'u—ni\"]]\n",
      "big hit: ['0B3QqxeoUcqoAOFdncU5jTUlyeFE', 321, 'three line total:29', [['a—li—Ëcu—nu', 'aır-na', '!i-fi—ik', 'tî-lâ', 'a-pu—hi—ğu', \"s'a\", \"A—ğı'ır\", 'ni-it-ma', 'Lim—ma', 'm—ba-âum-'], ['iä-ma', 'ği—ma—am', 'lâ', 'iğ-zZ—mu-ma', 'û—ÿé-bä-lu', 'a-na', \"e—ri-isîâı'\", 'Ta-wi-ni—a-i-im', 'i-za—zu', \"zZ-êa'\", 'Ici—ma'], ['gd—qd~ad-ni', 'a-hu—ku—nu', 'lu-sVé-er', 'urn—ma', 'kâ-m-wn-ma', '!i-zi-iz', '5a', 'A-Ëùr']]]\n",
      "big hit: ['0B3QqxeoUcqoAOFdncU5jTUlyeFE', 324, 'div count: 30', ['Durhumit.1243', '1246', 'datum-payers,', 'Pu-ru-uğ—ha—dim', 'iË-tù', 'msv—hadim', 'S‘a—lâ-tù—a-ar', 'i-S‘a-lâ-tù-a-ar', 'Wa—ah—ğu-ğa-na', 'Tuhx-', '(TUR4)-pi-a', \"ik-ğu—dı'\", 'iÿ-tù', 'a-mi-ğa-am', '[ilf-ti—ni', 'uğ—ta—me-er', 'iğ—tiı', '[K]a-ni—iğ', 'ni-iğ-a-al—ma', 'im—hu-ru-ğu.', 'Kâ—ni—iğ—ma', 'Kà—ni—iË-ma', \"s'i-ip-ri-ni\", 'qi—bi4-ma', 'rt‘up—pél—am', 'Kà-ni-iÿ—ma', 'ği—ip—ri—ni', \"DurA-hu-mi-ı't\", 'Ha-tü—uğ', 'datum-payers,']]\n",
      "big hit: ['0B3QqxeoUcqoAOFdncU5jTUlyeFE', 331, 'three line total:28', [['sa', 'A—am—ku—wa—a', ':?', 'sa', \"ru—ba-ı'm\", 'urn-mar', '-am-ku—wa—i-zî-ma', 'be—e!', '!i—li-kam-ma', 'i—Lâ—'], ['uğ—kâ—in-ma', 'cz—ma—lî—ğu', 'ur—di—ju', 'ﬁa', 'A-am—ku-wœ-a', 'iş-bu-tiz—ma', 'ü—a-al', 'Hi—da—âÿ—pâ', \"si-s'p-ru-\"], ['E283.', '‚um-ma', 'Ü—şur—ğî—Iğtar-ma', 'I—fcu—pi—a', ':?', 'Sû-enô—SIPA', 'qi—bg-ma', 'a-na-kam', 'I—ku—pâ—a-']]]\n",
      "big hit: ['0B3QqxeoUcqoAOFdncU5jTUlyeFE', 335, 'three line total:27', [['ma-na', 'ra-', 'no', '—pâ-da—lu', 'lu', '!:', '1111-15-1', '1‘s-', 'Nf-na-sa-'], ['göe—el', 'cır-lim“', '5—qé', '11’2', '‘}cu-', 'uml-ru-', '«mm', 'il', 'be-e!', 'ha-ﬁ—', 'sim', 'if', \"5—qe'-\"], [\"'ù‘\", 'ti', '411', 'fm-', 'Jul-']]]\n",
      "big hit: ['0B3QqxeoUcqoAOFdncU5jTUlyeFE', 349, 'div count: 44', ['order}381', '[zi—ld]—ma', 'Ninassa:', 'Tismurna:', 'Uğğa:', 'Wahsusana:', 'Kà—ni—is“', 'si-ip-ru-ku-nu', 'Wa—ah—äu—S‘a-na-ma', 'fa', 'Êa-lâ-tù—ar', 'û—sVé—biflu-nirn-ma', 'ni—isïta-me—ma', 'na-dğ-ü—ni—ku-', \"i-ğa-am-s'z'\", \"ni—iğ-ta-me—u'\", 'ği—ip-ri', \"ğı'—ı'p—ri\", 'Pu-rıı-uğ—ha-dim', '(Puzur4-A-na', 'ak—ta—âË—dam', 'Êa—lâ-ti-wa-ar', 'na-t‘il', 'ğu', 'Pu-ru—us-ha-dim', \"sa-a'p-ru\", 'Pu-ru—uğ-', 'ha—‘ra-num1', 'Ğa-ld-tiı-ar', 'Ğa-ba—a', 'a-ğar', \"i-ba-ğı'\", 'sé-ri—kà', 'ü-ta-e-ra-iu', \"is-tl'\", \"-u§'-ha-tim\", 'rx—(x)‘.', \"Wa-ah-su-s'a-na\", 'a-sé-er', 'S‘a—lim—wa-ar-dl', \"Wa—ah-s'u-Ëa-na\", 'su-ma', 'Ëa-ba-na-tum', 'Wa-ah-ğu-ğa-']]\n",
      "big hit: ['0B3QqxeoUcqoAOFdncU5jTUlyeFE', 393, 'div count: 26', ['Salim—Assur', '*', 'Pu—ru-uğ—ha-dim.', \"na-pâ—a'ğ-tı'\", 'Pu-ru—uğ-ha-dim', 'a—ği—im', 'sa', 'a-ği—am', 'tù-Ëé-bi4-', 'ti—dex-e', 'U-şur—ğa—A-ğur', 'ü—na-hi-du—ğu-ni', 'a-ğu-mi', 'sa', 'Ëu—lu—a-at', \"Wa—ah—s‘u-<s'a>\", 'a-äa-pd—ar', \"Wa-ah-ğu—s'a-na\", 'sé—ep-kà', 'Pu-ru-uğ-ha—di-am', 'Ù—Ëu—na-la-am', \"Wa-ah-s'u—S'a-na-i-am\", 'Li-ta-mu-Li', 'S‘a—ar—la', 'ü-kà—i-lu—ni—a-li—ma', \"i—şa-a'b-tiı—ni-a-ti.\"]]\n",
      "small hit: ['0B3QqxeoUcqoAOFdncU5jTUlyeFE', 25, 'div count: 13', ['tit-sé—[d-ni', 'ğu—ma', 'na-ru—a-z‘m', 'A-ÿùr', 'Ëu—um—ÿu', 'a-mu—ri—z‘m', \"ğu-bi-ri-ı'rn\", '5a', 'i—ba—la-aç).', 'i-.§i—qi—i15-su-nu-ti-ma', 'u4-me', 'a-sa—a-', 'ü-äe—ba—lam.']]\n",
      "small hit: ['0B3QqxeoUcqoAOFdncU5jTUlyeFE', 35, 9, [b'n\\xc3\\xa2-na-\\xc4\\x9fa\\xe2\\x80\\x94i-um', b's\\xc3\\xa9z-n\\xc3\\xa9-iq', b'l\\xc3\\xa2na\\xe2\\x80\\x94\\xc3\\xa7\\xc3\\xb9\\xe2\\x80\\x94ma', b'fd', b\"i-p\\xc3\\xa2-a'\\xc4\\x9f\", b'Silky-um', b'na\\xe2\\x80\\x94\\xc4\\x9fit\\xe2\\x80\\x94ma', b\"\\xc3\\x8ba'\", b\"i-n\\xc3\\xa9\\xe2\\x80\\x94pd\\xe2\\x80\\x94a'\\xc3\\xa4);\"]]\n",
      "small hit: ['0B3QqxeoUcqoAOFdncU5jTUlyeFE', 43, 'div count: 16', ['sa', \"şa-bı'A—ğu\", \"s'a\", 'ÇİN', 'mu—qâ—ri-biA—ni', 'ia', 'x-ni-ğu', 'i—pä—nU', 'A-ğür—ma-lik', \"şü-ba-ar-kc'ı\", 'Na-Ëi—ld—an', \"a'ğ-qıil-ma\", 'kà-sa-ru-um', 'Ü—şü—ur—ğa—Iğtar', 'l—liS—mi-ti', 'a-guS-ur).']]\n",
      "small hit: ['0B3QqxeoUcqoAOFdncU5jTUlyeFE', 48, 'div count: 19', [\"sâ'-ti\", 'ANNA-kd', 'ANNA—kd', \"kà—ni-ä1'—im\", 'sa-sé-er', 'kâ—ni—ği-im', 'kâ—ni-ği-ü)', \"ta—a'ğ-ta—na-me\", 'KUBAISBAR', 'is“-té-en6', 'sé-na', 'uğ-ta-as-hi-ru-ni', 'iğ-ti-ku-nu', 'ù-ma-am', 'iË-tù', \"$'a-[a'—\", 'ü—ğa-', 'ak-na-ğu-nu', 'is“-té—en6']]\n",
      "small hit: ['0B3QqxeoUcqoAOFdncU5jTUlyeFE', 111, 'three line total:19', [['.:,', '___,,_____', '....', '„_', '__._.,_,_', '.;', '….', '.', ',.....HHMW.', '…', ',', '……', '_', \"..…_4..'__……\", '„www.', '__', '_', 'V', '”__”;'], [], []]]\n",
      "small hit: ['0B3QqxeoUcqoAOFdncU5jTUlyeFE', 113, 'three line total:21', [['rum', 'ik—ğu—ud-kâ', \"sâ'—ti\", 'a-wi—ti-kâ', 'ii-liı', 'Ha—mê—za—nim', \"a—di'\", 'ği—ma—la', '2i3', 'mct-na'], ['zâ-ğe-Şi-[am]', 'a—wf—ti—kâ', 'Ina—na', '{$*—ta}', 'a—av', 'Ha-mi-za—nim', 'ma-na'], ['mar-na', 'ka-nu—ki', '([à—tim', 'Ğzı-Ku—bu—zım']]]\n",
      "small hit: ['0B3QqxeoUcqoAOFdncU5jTUlyeFE', 129, 'three line total:18', [['{ti-a]', 'Q—guS—m—kc‘t-ni', 'ig-ri-[ka‘}', \"s'a-bn-a-tf.\"], ['Puzur4-Ëtar—ma', 'caf—na', 'A—Ëur—tâfc—lâ-ku-ma', 'a-mc:', 'Sa', 'iğ-tiı', 'Kâ—ni-[âğ]', 'Za—aI-pé', 'à', 'i—me—[ef—'], ['Fig.', 'and', 'Hahhum', 'clusters.']]]\n",
      "small hit: ['0B3QqxeoUcqoAOFdncU5jTUlyeFE', 133, 8, [b'a-i\\xe2\\x80\\x99i', b'wa-\\xc3\\xa2\\xc3\\x8b\\xe2\\x80\\x94b\\xc3\\xa6\\xe2\\x80\\x94ni', b'qd-at\\xe2\\x80\\x94ku-rra', b'li\\xe2\\x80\\x94i\\xc5\\x9f\\xe2\\x80\\x94ba-s\\xc4\\xb1\\xc3\\xae-nu', b\"s'y\\xe2\\x80\\x94ma\", b'a-Ma-a-ma', b'\\xc5\\x9ei\\xe2\\x80\\x94f\\xc3\\xa2-dlM', b\"fa-k\\xc3\\xa0\\xe2\\x80\\x94s'\\xc3\\xa4-SI\\xc3\\x86K\"]]\n",
      "small hit: ['0B3QqxeoUcqoAOFdncU5jTUlyeFE', 143, 7, [b'nc\\xc4\\xb1\\xe2\\x80\\x94g\\xc3\\xbc', b'\\xc3\\xb9-{a\\xe2\\x80\\x94tim', b'5a', b'S\\xe2\\x80\\x98a-na-at', b'\\xc3\\x8bu\\xe2\\x80\\x94up-k\\xc3\\xa0-S\\xe2\\x80\\x98i\\xe2\\x80\\x94im', b'\\xc5\\x9f\\xc3\\xbc-ha-ru', b'li-ik-\\xc4\\x9fu-du-']]\n",
      "small hit: ['0B3QqxeoUcqoAOFdncU5jTUlyeFE', 152, 7, [b\"\\xc4\\xb1'\\xc4\\x9f-t\\xc4\\xb1'A\\xe2\\x80\\x94zu\", b'e\\xe2\\x80\\x94rf\\xe2\\x80\\x94i\\xc4\\x9f-ma', b'a-s\\xc3\\xa9-er', b'r[ll-[aq-biA-im', b'[\\xc3\\xbc-ru-s\\xc3\\xbc-ma', b\"u'\", b'Sa-ld\\xe2\\x80\\x94ah-\\xc4\\x9fu-a-']]\n",
      "small hit: ['0B3QqxeoUcqoAOFdncU5jTUlyeFE', 155, 'three line total:16', [['dr—nu—', '-k3£-', '411', 'ê-da—', \"-é-m'\", 'u', '-bi', 'J£:'], ['fan-dı', 'Pulur!', 'ùA-', 'sim'], ['1,1:(1.1-2):A-§izr—re-si', '-e}26', '‚nu-131', 'ä-mz']]]\n",
      "small hit: ['0B3QqxeoUcqoAOFdncU5jTUlyeFE', 169, 'three line total:21', [['i—ii—tà-ri-êm', 'AN.]NA', 'ii:', '[%]—aw;', '‚!\"-na', '‘Êal—mu-ha', 'Miam'], ['Lu—hu—za-fi—a', 'I-ku-pi-a', 'a—di—m', '[(:—na', 'ANĞEJHLA', 'wa—bar—ğu', \"[s'—m2\"], ['122', 'ä-naf', 'Hwa-ma', 'Ma', 'ub-ri', \"a—di—ı'n\", 'pd—zu—ur—ti']]]\n",
      "small hit: ['0B3QqxeoUcqoAOFdncU5jTUlyeFE', 170, 7, [b'a-\\xc3\\x8bu-mi', b\"S'a-a'p-tim\", b'\\xc3\\x8ba', b'is-bu\\xe2\\x80\\x94t\\xc3\\xb9\\xe2\\x80\\x94[ni]', b'\\xc3\\x89.GAL\\xe2\\x80\\x94l\\xc3\\xb9m-ma', b'su-ma', b\"m\\xc4\\xb1'\\xe2\\x80\\x94i\\xc4\\x9f-\"]]\n",
      "small hit: ['0B3QqxeoUcqoAOFdncU5jTUlyeFE', 173, 'three line total:20', [['hfk', 'is‘-til', 'Hat-tim', 'i-na', 'Wa-ah-ğu-ğa-na', \"wa-s'a-ab.\"], ['!im', 'etamin/152?', 'Ëâl—mah', 'l—di-a-bid—ém', 'i-ğa—qai.'], ['ËUNIGIN', 'KU.BA[BBAR]', \"is'-{it\", 'a-îimk‘', '‚“-na', \"e-lä-i—s'u\", '[u', 'i—na', 'Kà-ni—is”']]]\n",
      "small hit: ['0B3QqxeoUcqoAOFdncU5jTUlyeFE', 179, 9, [b'8-11)1\\xc2\\xa7i-ma-am', b\"s'a-ra\\xe2\\x80\\x94am\", b'sa', b'i\\xe2\\x80\\x94di-zi', b'\\xc3\\xa2\\xe2\\x80\\x94\\xc4\\xb0i-bid-i', b'ma-\\xc3\\xaei\\xe2\\x80\\x94im', b'Sa', b'Ha-f\\xc3\\xa4m', b'\\xc3\\xbf\\xc3\\xa9\\xe2\\x80\\x94\\xc3\\xa0i\\xe2\\x80\\x94I\\xc3\\xa2-ma']]\n",
      "small hit: ['0B3QqxeoUcqoAOFdncU5jTUlyeFE', 183, 'three line total:16', [['Ëa', 'Hız-nu', 'I-z‘uq-DINGIR', 'ğa', \"[s'—[[à]\"], ['nâ-eğ', 'a—df', \"a—s'im“\", 'a-na', 'ıE—ku-ul-ti—a', 'a-ag—mu—ım'], ['Ma', 'wa-ab-Fi', ':…', 'a-na', 'f_s-m']]]\n",
      "small hit: ['0B3QqxeoUcqoAOFdncU5jTUlyeFE', 185, 'three line total:18', [['iS-Iit', \"$'a—dikim\", 'mu-Ii—tä-in', 'âğ-qıâi', 'is‘—33}'], ['nâm-ma', 'sé-bi4-Zd-nt’m).'], ['éas‘i‘am—oﬁicial', '{ii-{£1', 'Ti—me—el—kâ—<', \"ü—şı'\", 'a—[d-m‘', '32:', \"kdvsi-z'm\", \"s'a\", 'Kıf—pi-tâ', 'ğı;', 'pd-ni—ğu']]]\n",
      "small hit: ['0B3QqxeoUcqoAOFdncU5jTUlyeFE', 195, 7, [b\"ra-a'sV-pzt-ra-am\", b'yrn\\xe2\\x80\\x94ma', b'a\\xe2\\x80\\x94ta-ma', b'a-z\\xe2\\x80\\x99im\\xe2\\x80\\x98k\"', b'ef-q\\xc3\\xa4\\xe2\\x80\\x94ni\\xe2\\x80\\x94ma', b'[a\\xe2\\x80\\x94wja\\xe2\\x80\\x94as\\xe2\\x80\\x94ku-nu', b'[da-nja-a']]\n",
      "small hit: ['0B3QqxeoUcqoAOFdncU5jTUlyeFE', 199, 'three line total:17', [['631.', '92k', '1/2', 'ğğ-tâA-al', 'Kd-ni—.§i—i', 'Ti—me—el—ki—a', '&'], ['wbb—ri]', 'i—Hu—m-ma', 'kà—Si—z‘m', 'i-H[u—r}a—ma', 'irz', 'man-1am.'], ['ub—ri', 'iman;—rp', 'Ğa—İâ—ah-ğa-a', 'KUBABBAR']]]\n",
      "small hit: ['0B3QqxeoUcqoAOFdncU5jTUlyeFE', 201, 'three line total:20', [['TÜG.H[I.A.-ti—ka]-n[u}', 'i-lé—qé', 'na-ru-qâ-tim', 'â-na-da-du', '-hu', 'arm-ma', \"de'-numa]\", 'a-li-kam'], ['â—di—i[n-ma]', 'tam-ma', 'S‘u—uf—ma', 'ANSEJ-HA', 'it', '):', 'i—na'], ['kà-ri—im', \"fKâ-ni-is']\", 'qi—èi—ma', 'arm—ma', 'k[a‘-m-um]']]]\n",
      "small hit: ['0B3QqxeoUcqoAOFdncU5jTUlyeFE', 210, 'three line total:16', [['ğu', 'Ğa—ld—ah-ğu-wa', 'A—ÿùr—ni-ÿu', 'me-er—i-ğu'], ['tù-äa-ar', \"sâ'—bi\", 'ğa', \"A-ÿùr-ni-s'u\", 'me-er—i—S‘u', 'â.s\"—ku-nu-ni', 's“i-bi4', 'dğ—ku-un.'], ['ni-ğu', 'ÿa-ak—na—at', \"A-s'ür-ma—lik\", 'ğu-um—s’u']]]\n",
      "small hit: ['0B3QqxeoUcqoAOFdncU5jTUlyeFE', 215, 7, [b'ip-Sf\\xe2\\x80\\x94im', b's\\xc4\\xb1\\xc4\\x9f-i\\xc4\\xb1h\\xe2\\x80\\x94ri-im', b'aima-kd!', b'Ha-am\\xe2\\x80\\x94ha-am-t\\xef\\xac\\x81m}', b'i-p\\xc3\\xa4-n\\xc3\\xa4-ni', b'a\\xe2\\x80\\x94na', b'AIa-a-ma']]\n",
      "small hit: ['0B3QqxeoUcqoAOFdncU5jTUlyeFE', 249, 'three line total:16', [['ba-te’', 'is-pu—ro-ma', 'Wa—ah—ğu—ğa-na', 'a-tü—ar,', 'paid?'], ['guide', \"ki'—ma\", 'ğf-lâ-tâm', '[d', \"i-s'u-u’r\", 'EGAL-Itim', 'ra-di-äu'], ['£a', 'E—lu—ha', 'a-na', 'e—lä—fé']]]\n",
      "small hit: ['0B3QqxeoUcqoAOFdncU5jTUlyeFE', 262, 'div count: 18', ['f', 'Jorgensen', 'URUGa-ağ-ga-ağ—ma', \"[ki—iğ—s'a-an\", 'me-mi—iğ-ta', 'ki—äa-at', 'SA', 'har—ni]-ni-in—ki-eğ-ki—u—wa-an', 'URUHa-ak-piË—ÿa—za', 'Ga-ağ-ga—ma', 'S‘u-hu-ri-ja', 'Hur—ğa—am-ma', 'ËÀ', 'URUDur—mi—it—ta', '[URUGa-ağ-ga-ma', \"I'DDa-ha—ra\", \"[URUAt-hu-lı'ğ—ğa\", 'a-pa-a—ağ-ğa']]\n",
      "small hit: ['0B3QqxeoUcqoAOFdncU5jTUlyeFE', 276, 'div count: 15', ['Colony.”ı', 'datum—payers,', 'datum-payers,', 'ağium:', 'Kà-ni-iÿ—ma', 'sa-qi-ils', \"ği-ı'p—ri-ni\", '5a', 'Ti-iğ—mur-na', 'Kà—ni—iË—ma', 'ÿa—qi—il5', 'Ëi-ip-ri-ni', 'Dur4-hu-mi-it', \"Ha-tù—us'\", 'Ni-na-ğa—a.']]\n",
      "small hit: ['0B3QqxeoUcqoAOFdncU5jTUlyeFE', 278, 'div count: 12', ['i-Zi-mi’-is-hu-n[a]', 'Bu-i—rta1—a[k?]', 'sa', 'i-iğ-mu-ur—na', 'wa—‘sﬂ-tum', 'i-ANSEHLA', \"kâ—ği-ı'm\", 'Wa-ah-ğu-ğa-na', 'Pu-ru-uğ-ha-dim', 'ik—ğu—ud.', '~it', 'suﬁix']]\n",
      "small hit: ['0B3QqxeoUcqoAOFdncU5jTUlyeFE', 295, 9, [b'ku\\xe2\\x80\\x99-\\xc2\\xa7i-im', b'nu\\xe2\\x80\\x94k\\xc3\\xa2-\\xc3\\xa2\\xc4\\x9f-ma', b'i\\xe2\\x80\\x94r\\xc3\\xa6a', b'm\\xc4\\xb1:-at', b'Hi\\xe2\\x80\\x94ru\\xe2\\x80\\x94\\xc3\\xa0h', b'ms\\xe2\\x80\\x94k\\xc3\\xa4-an-ma', b'is-t\\xc3\\xa9-ni-is', b'na\\xe2\\x80\\x94ma\\xe2\\x80\\x94l\\xc3\\xa2\\xe2\\x80\\x94ma', b'nu\\xe2\\x80\\x94\\xc3\\x8ba-\\xe2\\x80\\x9cbar\\xe2\\x80\\x94ma']]\n",
      "small hit: ['0B3QqxeoUcqoAOFdncU5jTUlyeFE', 296, 'div count: 20', ['kaüum-ofﬁcial', 'Puruéhaddum.‘093', \"kas’s'um-\", 'fa-a’u—a—ta’m', 'i-Zi-mi!-is-hu-n[a]', 'Bu-i-‘ta‘-a[k7]', '\"a', 'Ti—iğ-mu—ur—na', 'wa-rsﬂ-tum', 'kâ-ği-im', 'i-Wa—ah—ğu-ğa-na', 'Pu—ru—uğ-ha—dim', \"ik—s'u—ud.\", 'iÿ—tù', 'tü—uğ—bi4-td-ğu—nu', 'a—sé-erAm-ri—a', 'a—Ti—iğ—mur-na', ';ü-ur—da—ğu—nu).', 'Ti—iğ-mar—na', 'i-iğ-pur-na:']]\n",
      "small hit: ['0B3QqxeoUcqoAOFdncU5jTUlyeFE', 301, 'div count: 14', ['<i>-dUTU-§i', 'ü-ld—pi—ta-ku—nu-ti—ni', 'e-ra-âb-ğu', \"mı'-ma\", \"tĞ—er—ta-a'ğ—nu\", 'Ha-tiı-uğ', 'li—ik-ğu—di', 'Êa-lim—A-äùr', \"a-sé-erA-mur—Is'tar\", 'u—rd-hi-ni-a-ti-ma).', 'kassum—ofﬁcial', 'na-di-pé-er-tdk-nu', 'Êu-pu-lu-li—a', 'Wahsusana:']]\n",
      "small hit: ['0B3QqxeoUcqoAOFdncU5jTUlyeFE', 307, 'three line total:20', [['):', 'ÎUJRUTu-u—pa-az-zi-ia', 'URULs-h]u-u-wa—za-an-ti—ia', \"UR'JI-sVu-wa\", 'L‘\"…', '(x)}x-ia', '[Hu-[i]!'], ['URUIr—au-pi-ir—sa', '…', \"“U“]AGS'a-ka[d]-dıe-nu—wa\", 'URUSa-na-ku-it-ta', '……'], ['15’-22’):', 'ERiNMESW', 'ni-ni—in-ku-wa-an-ZU', 'pa-a-i-ﬂi', '[ERiNMES', '(S‘A)', 'KURKURw—îS', 'KUR.UGUW']]]\n",
      "small hit: ['0B3QqxeoUcqoAOFdncU5jTUlyeFE', 311, 'three line total:18', [['Ha—{ù—{yÿ', 'qi—bi-ma],', 'kâ-m-um', 'HIa—îic-uä].'], ['KIËÏB', ':%[â—ri—im', 'Kà—ﬂä-iÿ', 'a—na]', 'kà-râ—i', 'Ha—tù—us”', 'ha—[Fa—an', 'A—liml‘i]', \"fot—qi—[iı'5\", 'cfa—tim', 'z}', 'uä—bu-tim', 'fa]'], ['datum-payers']]]\n",
      "small hit: ['0B3QqxeoUcqoAOFdncU5jTUlyeFE', 312, 'div count: 15', ['Sinahuttum,', 'Samsi—Adad', 'Ha-tù-us”', '[sa', 'i§]-t[u]', 'Ka-ni-is“ki', 'lﬂa-tu—ÿa“.', 'kağğum—offıcial', 'Ga-pi—i[t7-x]', 'i-Zi-mi-is‘G-hu-na', 'a-da-ğu-nu-ti—ma', 'a—ta-biA-a-ma', 'Ha-tù-Ëa-i-um', 'Kà-ni-iä', 'û-kà-lu.']]\n",
      "small hit: ['0B3QqxeoUcqoAOFdncU5jTUlyeFE', 313, 'three line total:19', [['feeding', 'northwest', 'in', 'the', 'direction', 'Sungurlu', 'impfied', '{he', 'fine', 'Qfsiles,'], ['rl/i’ap', 'Showing', 'the', 'surrounding', 'Boğazköy.', 'addition', 'identiﬁed', 'road'], ['‘']]]\n",
      "small hit: ['0B3QqxeoUcqoAOFdncU5jTUlyeFE', 315, 8, [b'\\xc4\\x9fi\\xe2\\x80\\x94ma-am', b'\\xc4\\x9fa', b'GUN]', b'e-li\\xe2\\x80\\x94a-m\\xe2\\x80\\x98', b'\\xc4\\x9fa\\xe2\\x80\\x94ma\\xe2\\x80\\x94ma', b'\\xc3\\x8b\\xc3\\xa9-bi\\xe2\\x80\\x94[am', b'Ha\\xe2\\x80\\x94t\\xc3\\xb9\\xe2\\x80\\x94\\xc3\\xa6zs\"', b'Ta-am-']]\n",
      "small hit: ['0B3QqxeoUcqoAOFdncU5jTUlyeFE', 316, 'div count: 17', ['datum-payers,', 'Kà-ni-iä—ma', 'Dur4-hu-mi-it', 'Ha-tù-uÿ', \"Ni-na-s'a-a.\", '§a', '5a', 'Ti—iğ—mur-na', 'Kà-ni-is”', '4-hu-mi-it', 'fa', 'ub-lu—ni—ğu-ma', 'Ëu—ut-ma', \"s'y-nu\", 'iğ—ti-ğu—nu', \"e—pâ—a'ÿ\", 'ni-ği—ğu—um']]\n",
      "small hit: ['0B3QqxeoUcqoAOFdncU5jTUlyeFE', 317, 'three line total:20', [['aime', 'im—ta—la', 'A—li-a-ÿa-ma', 'û—nu—ut-kà', 'aaal-kam.'], ['fé-eb-a-ma', 'a-tal-kam', ':}', '&', '1414—1718', 'fsı—ma', 'A-Iâ—a-s’a', \"kâ—s'a-di—kâ\"], ['um-maA—S‘ur—i-mi-tr’', 'a—rza', 'Hu-m—şa-nim', 'i—na', 'yimi-im', 'sa', 'râm—bı;']]]\n",
      "small hit: ['0B3QqxeoUcqoAOFdncU5jTUlyeFE', 325, 7, [b'sa', b'wa-\\xc3\\xa9ar-tim', b'ku-na-ki-a', b'k\\xc3\\xa2\\xe2\\x80\\x94ri\\xe2\\x80\\x94im', b'i\\xe2\\x80\\x94ni-i\\xc3\\x8b\\xe2\\x80\\x94\\xc3\\xbb', b'T\\xc3\\xbc-\\xc3\\xbch\\xe2\\x80\\x94pi\\xe2\\x80\\x94a', b'A\\xe2\\x80\\x94\\xc4\\x9fiir-ma\\xe2\\x80\\x94lif\\xe2\\x80\\x99t']]\n",
      "small hit: ['0B3QqxeoUcqoAOFdncU5jTUlyeFE', 327, 7, [b'a\\xe2\\x80\\x94di-\\xc4\\x9fu\\xe2\\x80\\x94um', b\"er\\xe2\\x80\\x94b\\xc4\\xb1'4\\xe2\\x80\\x94\\xc4\\xb1'm\", b'ia', b\"[f-ma\\xe2\\x80\\x94A-s'ur\", b'erl-ba-am', b'sa', b'\\xc4\\x9fa\\xe2\\x80\\x94bu-a-ti']]\n",
      "small hit: ['0B3QqxeoUcqoAOFdncU5jTUlyeFE', 341, 8, [b'q\\xc3\\xa4\\xe2\\x80\\x94di-n\\xc3\\xa4-ma', b'a-li\\xe2\\x80\\x94ku\\xe2\\x80\\x94nu', b'\\xc3\\x89-b\\xc3\\xa9-\\xc3\\xae\\xc3\\xa2m', b'i-\\xc3\\x8bu', b'e\\xe2\\x80\\x94ri-i\\xc3\\xbf\\xe2\\x80\\x94ti-ku-nu', b'Lim-ma', b'ru\\xe2\\x80\\x94ba-um', b'ru-ba-']]\n",
      "small hit: ['0B3QqxeoUcqoAOFdncU5jTUlyeFE', 352, 7, [b'\\xc3\\xbfu-ul-mu-um', b'Pu-m-u\\xc4\\x9f-ha-dim', b'\\xc3\\x9c\\xe2\\x80\\x94s\\xe2\\x80\\x99\\xc3\\xa0-ma', b'ma-m\\xc3\\xae-t\\xc3\\xa2m', b\"is'\\xe2\\x80\\x94ti\", b'Pu-m\\xe2\\x80\\x94u\\xc3\\x8b-ha-dim', b'115-!\\xc3\\xa9-q\\xc3\\xa9.']]\n",
      "small hit: ['0B3QqxeoUcqoAOFdncU5jTUlyeFE', 361, 'three line total:18', [['ü—ka-ul—xf', 'i-na', 'Êa—la-tif-a—ar.', 'mik'], ['ub-ri—im', 'ëk—S‘u—ud—ni-a-tia-ha—ma', '153', 'ma-naTA', 'ti—tz‘z-ri-im', 'i-mz', 'i—Szi—hu', 'miz-na'], ['1430.', 'its—tie', \"Wa-ah-Sya-S'a-na\", 'Êa-la—tù-a-ar', 'Ina-m1', 'da—a—rum']]]\n",
      "small hit: ['0B3QqxeoUcqoAOFdncU5jTUlyeFE', 363, 'three line total:17', [['na-âğ-a-kum', \"ği—tı'\", 'URUDU-i—kä', 'mıı-na', 'şü-ka—ri—kâ', \"là:-S'é—biA-la—Îcum\"], ['Avsur-ma-lii’t', ':é-er—îî—kà', 'â-sà-ni-iq', 'maf-na', 'à-ma—am', 'ku-nu—ki—a'], ['i-na', 'ğe:', 'PVa—ah-Ëu-Ëa-na', 'a—s‘a—mi-a', 'i—ğa-qü—lu-ni']]]\n",
      "small hit: ['0B3QqxeoUcqoAOFdncU5jTUlyeFE', 364, 7, [b\"s'i-kti-um\", b'(um', b'ra\\xe2\\x80\\x94bi4-si-im', b'mu-\\xc5\\x9f\\xc4\\xb1\\xc3\\xae\\xe2\\x80\\x94\\xc4\\x9fu', b'i\\xe2\\x80\\x94naA\\xe2\\x80\\x94li-a\\xe2\\x80\\x94\\xc4\\x9fa', b'Da-\\xc4\\x9fa-a', b'ub-ri-\\xc4\\x9fz\\xc4\\xb1']]\n",
      "small hit: ['0B3QqxeoUcqoAOFdncU5jTUlyeFE', 367, 'three line total:16', [['_tu[p-pé-e-svu-nu]', '-s”ùr', \"tù-Ëa-[qa']-lâ—ni\", ';up-pé-e'], ['ğu-u[m-ğu]', \"s'a\", '[Ea', 'iË-tù]', \"Wa-ah-ğu-s'a-na\", \"û-sVé-[çi-u']\", 'li-isïû—mu-ma'], ['iğ-ta—na—ü—mu', '{mi-im', '[ia]', 'ta-ÿa-me-a-ni', 'lup-pd-']]]\n",
      "small hit: ['0B3QqxeoUcqoAOFdncU5jTUlyeFE', 374, 7, [b'\\xc3\\x8ba\\xe2\\x80\\x94l\\xc3\\xa2-t\\xc3\\xb9-wa-ar', b':\\xc3\\xa9\\xe2\\x80\\x94er\\xe2\\x80\\x94ti\\xe2\\x80\\x94a', b'e-ta\\xe2\\x80\\x94ra\\xe2\\x80\\x94cib', b'ma\\xe2\\x80\\x94ki-ru\\xe2\\x80\\x94zi', b'Sd', b'e-ru-btt\\xe2\\x80\\x94nim\\xe2\\x80\\x94ma', b'arm-ma']]\n",
      "small hit: ['0B3QqxeoUcqoAOFdncU5jTUlyeFE', 381, 'three line total:16', [['i—pâ—rsim—ma', 'a—Pu-ru-Irs—ha—[ﬂim'], ['e—ru-bu-ëä', 'guS-mu—ur-ma', 'Ia!', 'i-ira', 'si—sä-im', \"i—îa—S'ä\"], ['(l.', 'Wh—ah—Ëu-ÿa-na', '(aml-batımı', 'lui-x—ak', '&', 'fâ-flfkl', '\")', \"Pu—i'u-uË—ha-dim\"]]]\n",
      "small hit: ['0B3QqxeoUcqoAOFdncU5jTUlyeFE', 382, 'three line total:20', [['’', 'ﬂ:', '”(…', 'ggg?”', \"K's“\", 'I', '‘', '‘'], ['ex', '\\\\', '.', 'f', '…', '/'], ['!', 'vıı-mıı', '„man', '&', 'sğgğıı—f', 'L“']]]\n",
      "small hit: ['0B3QqxeoUcqoAOFdncU5jTUlyeFE', 389, 'three line total:19', [['WJ?', 'WW', 'ä', ',', 'A'], ['\\\\', '„', 'f,', 'mes/”', '»'], [\"'er-4:-\", '“\\\\', '„', '*\":', '‘;”', '\\\\', '“c', '‚f', ',']]]\n",
      "small hit: ['0B3QqxeoUcqoAOFdncU5jTUlyeFE', 407, 'three line total:16', [[':', '_/', 'ya,', '\\\\'], ['l.', '‚', '’', '.', 'ı', ',', 'Jar', '„\"-?“', '\"\\'', '‚', '%.', '\"\\'ı'], []]]\n",
      "small hit: ['0B3QqxeoUcqoAOFdncU5jTUlyeFE', 427, 'three line total:18', [['particular', 'archive', 'can', 'the', 'overall', 'iMore', 'than', 'ofafl', 'aîîesîations', 'oquöz/ımat'], ['archival?', 'distribution', 'ioponyms.', 'hree', 'been', 'to', 'iz’i’ustrate', 'the'], []]]\n",
      "small hit: ['0B3QqxeoUcqoAOFdncU5jTUlyeFE', 429, 'three line total:18', [['S', ';?', '€', '%?', '$', 's$', ';', 'We?'], ['~(:7', 'q-', '?“', '::.—', 'e,', '‚e', '('], ['all.', '‚ll', ',']]]\n",
      "\n",
      "\n",
      "Finished Processing OCR Files.\n"
     ]
    }
   ],
   "source": [
    "filenameList = []\n",
    "\n",
    "import fnmatch\n",
    "#for filename in os.listdir(scratchDataDirectory):\n",
    "    #print(\"filename: \", filename)\n",
    "#    if filename.endswith(\".pdf\") :\n",
    "\n",
    "        # split out the file name and the page (image) number\n",
    "#        splittokens = re.split(r\"-|\\.\", filename)\n",
    "#        tot = len(splittokens)\n",
    "#        filenameList.append( splittokens[0] )\n",
    "#print(\"filenameList: \", filenameList )\n",
    "            \n",
    "pattern = '*.hocr'\n",
    "#for filenameroot in filenameList:\n",
    "for key, value in downloadMap.items():\n",
    "    #print('processing: ' + value)\n",
    "    hocrfileList = []\n",
    "    for hocrname in os.listdir(scratchDataDirectory):\n",
    "        if (fnmatch.fnmatch(hocrname, pattern) and hocrname.startswith(key) ):\n",
    "            hocrfileList.append(scratchDataDirectory+hocrname)\n",
    "\n",
    "    #print(\"\\n\\nparseOcrOutputForFileset list: \", hocrfileList)\n",
    "    parseHocrFiles(key, hocrfileList)\n",
    "    #print(\"parseOcrOutputForFileset completed file set parse: \", key)\n",
    "print('\\n\\nFinished Processing OCR Files.')"
   ]
  },
  {
   "cell_type": "markdown",
   "metadata": {},
   "source": [
    "__merge all the big hit and small hit result files__"
   ]
  },
  {
   "cell_type": "code",
   "execution_count": 31,
   "metadata": {
    "collapsed": true
   },
   "outputs": [],
   "source": [
    "big_hit_list = runFolder + 'bighitlist.txt'\n",
    "small_hit_list = runFolder + 'smallhitlist.txt'\n",
    "completedSet = set()\n",
    "\n",
    "fbigout = open (big_hit_list, 'a')\n",
    "fsmallout = open (small_hit_list, 'a')\n",
    "\n",
    "\n",
    "smallfiles = glob.glob('*smallhits*')\n",
    "\n",
    "for fs in smallfiles:\n",
    "    hitid, *rest  = fs.split('_')\n",
    "    completedSet.add(hitid)\n",
    "\n",
    "    idname = ''\n",
    "    if hitid in totalMap:\n",
    "       idname = totalMap[hitid]\n",
    "       print(' ******name: ', idname)\n",
    "\n",
    "   \n",
    "    for line in open(fs):\n",
    "        print('line1: ', line)\n",
    "        out = line.strip('\\n') + ';' + idname + '\\n'\n",
    "        sys.stdout.write('out1: '+ out)\n",
    "        fsmallout.write(out)\n",
    "    \n",
    "\n",
    "fsmallout.close()\n",
    "\n",
    "\n",
    "bigfiles = glob.glob('*bighits*')\n",
    "\n",
    "for fb in bigfiles:\n",
    "    hitid, *rest  = fb.split('_')\n",
    "    completedSet.add(hitid)\n",
    "\n",
    "    name = ''\n",
    "    if hitid in totalMap:\n",
    "       name = totalMap[hitid]\n",
    "       #print(' ******name: ', idname)\n",
    "\n",
    "   \n",
    "    for line in open(fb):\n",
    "        #print('line2: ', line)\n",
    "        out = line.strip('\\n') + ';' + idname + '\\n'\n",
    "        sys.stdout.write('out2: ' + out)\n",
    "        fbigout.write(out)\n",
    "     \n",
    "\n",
    "fbigout.close()"
   ]
  },
  {
   "cell_type": "code",
   "execution_count": null,
   "metadata": {
    "collapsed": true
   },
   "outputs": [],
   "source": []
  },
  {
   "cell_type": "code",
   "execution_count": null,
   "metadata": {
    "collapsed": true
   },
   "outputs": [],
   "source": []
  },
  {
   "cell_type": "markdown",
   "metadata": {},
   "source": [
    "__cleanup__"
   ]
  },
  {
   "cell_type": "code",
   "execution_count": 32,
   "metadata": {
    "collapsed": false
   },
   "outputs": [
    {
     "name": "stdout",
     "output_type": "stream",
     "text": [
      "num dirs:  0\n"
     ]
    }
   ],
   "source": [
    "print(\"num dirs: \", len(dirlist) ) \n",
    "\n",
    "for currentdir in dirlist:\n",
    "    os.chdir(currentdir)\n",
    "    print ('current working directory: ', os.getcwd())\n",
    "    \n",
    "    # remove all pdf and png files\n",
    "    for currentFile in os.listdir(os.getcwd()):\n",
    "        if os.path.isfile(currentFile) and not currentFile.endswith('hits.txt'):\n",
    "                os.remove(os.path.join(currentdir, currentFile))\n",
    "    "
   ]
  },
  {
   "cell_type": "markdown",
   "metadata": {
    "collapsed": true
   },
   "source": [
    "#### Move the resulting zip file to bDrive."
   ]
  },
  {
   "cell_type": "code",
   "execution_count": null,
   "metadata": {
    "collapsed": false
   },
   "outputs": [],
   "source": [
    "file_metadata = { 'name' : 'hitlist.txt' }\n",
    "media = MediaFileUpload(runFolder + 'hitlist.txt',\n",
    "                        mimetype='text/plain')\n",
    "file = drive_service.files().create(body=file_metadata,\n",
    "                                    media_body=media,\n",
    "                                    fields='id').execute()\n",
    "print ('File ID: ' +  str(file.get('id')))"
   ]
  },
  {
   "cell_type": "code",
   "execution_count": null,
   "metadata": {
    "collapsed": true
   },
   "outputs": [],
   "source": []
  }
 ],
 "metadata": {
  "kernelspec": {
   "display_name": "py35_REAL",
   "language": "python",
   "name": "py35_real"
  },
  "language_info": {
   "codemirror_mode": {
    "name": "ipython",
    "version": 3
   },
   "file_extension": ".py",
   "mimetype": "text/x-python",
   "name": "python",
   "nbconvert_exporter": "python",
   "pygments_lexer": "ipython3",
   "version": "3.5.3"
  }
 },
 "nbformat": 4,
 "nbformat_minor": 1
}
