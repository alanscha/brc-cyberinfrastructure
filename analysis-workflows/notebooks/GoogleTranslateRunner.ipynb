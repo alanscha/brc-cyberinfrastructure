{
 "cells": [
  {
   "cell_type": "markdown",
   "metadata": {},
   "source": [
    "# Google Translate API Runner\n",
    "Continually run Google Translate notebook. Nicolas Chan (Based on `FindSumerianHelper.ipynb`)"
   ]
  },
  {
   "cell_type": "code",
   "execution_count": null,
   "metadata": {
    "collapsed": true
   },
   "outputs": [],
   "source": [
    "# Configuration (shared fields should match GoogleTranslateAPI.ipynb)\n",
    "input_folder = '1dIVXCpexYecYUWj4NdL-4IhGzDMvOakN'\n",
    "completed_folder = '1b9yvvDsm2lH6bLT8wRJnErFSdcMnfwYa'\n",
    "results_folder = '1lVJoATSlYFyb6I_N8EwGVyhSn_AM6vuX'\n",
    "credentials = 'client_secret.json'\n",
    "\n",
    "error_folder = '1cJLvNpyD6pnoXdPicMgx3Jm7KBGzXAuF'"
   ]
  },
  {
   "cell_type": "code",
   "execution_count": null,
   "metadata": {
    "collapsed": false
   },
   "outputs": [],
   "source": [
    "# Based on https://stackoverflow.com/a/4256153\n",
    "import subprocess\n",
    "def run_bash(cmd):\n",
    "    process = subprocess.Popen(cmd.split(), stdout=subprocess.PIPE)\n",
    "    return process.communicate()"
   ]
  },
  {
   "cell_type": "code",
   "execution_count": null,
   "metadata": {
    "collapsed": false
   },
   "outputs": [],
   "source": [
    "from gdrive import GDrive\n",
    "gdrive = GDrive(credentials)"
   ]
  },
  {
   "cell_type": "code",
   "execution_count": null,
   "metadata": {
    "collapsed": true
   },
   "outputs": [],
   "source": [
    "def run_notebook():\n",
    "    files = gdrive.list_files(input_folder, extension='txt')\n",
    "    print(files)\n",
    "    if len(files):\n",
    "        file = files[0]\n",
    "        print('Processing', file['name'])\n",
    "        output, error = run_bash('jupyter nbconvert --ExecutePreprocessor.timeout=-1 --to notebook --execute GoogleTranslateAPI.ipynb')\n",
    "        if error:\n",
    "            print('Error processing', file['name'])\n",
    "            gdrive.move_file(file['id'], error_folder, old_folder=input_folder)\n",
    "        else:\n",
    "            print('Processed', file['name'])"
   ]
  },
  {
   "cell_type": "code",
   "execution_count": null,
   "metadata": {
    "collapsed": false
   },
   "outputs": [],
   "source": [
    "import time\n",
    "run = True\n",
    "while (run):\n",
    "    run_notebook()\n",
    "    time.sleep(10)"
   ]
  },
  {
   "cell_type": "code",
   "execution_count": null,
   "metadata": {
    "collapsed": true
   },
   "outputs": [],
   "source": []
  }
 ],
 "metadata": {
  "kernelspec": {
   "display_name": "translate",
   "language": "python",
   "name": "translate"
  },
  "language_info": {
   "codemirror_mode": {
    "name": "ipython",
    "version": 3
   },
   "file_extension": ".py",
   "mimetype": "text/x-python",
   "name": "python",
   "nbconvert_exporter": "python",
   "pygments_lexer": "ipython3",
   "version": "3.6.3"
  }
 },
 "nbformat": 4,
 "nbformat_minor": 1
}
