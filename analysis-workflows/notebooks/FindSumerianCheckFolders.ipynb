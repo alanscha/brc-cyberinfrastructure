{
 "cells": [
  {
   "cell_type": "markdown",
   "metadata": {},
   "source": [
    "# Check Folders\n",
    "Check whether folders are complete. Also create a list of which ranges are incomplete.\n",
    "\n",
    "Nicolas Chan, 10/19/2017"
   ]
  },
  {
   "cell_type": "code",
   "execution_count": 11,
   "metadata": {
    "collapsed": true
   },
   "outputs": [],
   "source": [
    "# Configuration\n",
    "results_folder = '/global/scratch/groups/dh/aanderson/results/'\n",
    "results_archive_folder = '/global/scratch/groups/dh/aanderson/run_archive/'\n",
    "incomplete_list_path = '/global/scratch/groups/dh/aanderson/incomplete.txt'\n",
    "complete_list_path = '/global/scratch/groups/dh/aanderson/complete.txt'\n",
    "\n",
    "upload_threshold = 10"
   ]
  },
  {
   "cell_type": "code",
   "execution_count": 12,
   "metadata": {
    "collapsed": false
   },
   "outputs": [
    {
     "name": "stdout",
     "output_type": "stream",
     "text": [
      "Results_141-153 Complete\n",
      "Results_154-158 INCOMPLETE\n",
      "Results_159-163 Complete\n",
      "Results_164-168 INCOMPLETE\n",
      "Results_169-173 Complete\n",
      "Results_174-183 INCOMPLETE\n",
      "Results_179-183 Complete\n",
      "Results_184-203 INCOMPLETE\n",
      "[]\n"
     ]
    }
   ],
   "source": [
    "from os import listdir\n",
    "\n",
    "incomplete = []\n",
    "completed = []\n",
    "consecutive_completed_ranges = [[]]\n",
    "\n",
    "results_folders = sorted(listdir(results_folder))\n",
    "for subfolder in results_folders:\n",
    "    contents = listdir(results_folder + '/' + subfolder)\n",
    "    # A folder is considered complete if it contains a bighitlist.txt and a smallhitlist.txt\n",
    "    complete = 'bighitlist.txt' in contents and 'smallhitlist.txt' in contents\n",
    "    \n",
    "    if complete:\n",
    "        completed.append(subfolder)\n",
    "    else:\n",
    "        incomplete.append(subfolder)\n",
    "    \n",
    "    if complete:\n",
    "        consecutive_completed_ranges[-1].append(subfolder)\n",
    "    elif len(consecutive_completed_ranges[-1]) > 0:\n",
    "        consecutive_completed_ranges.append([])\n",
    "        \n",
    "    print(subfolder, 'Complete' if complete else 'INCOMPLETE')\n",
    "\n",
    "consecutive_completed_ranges = [ r for r in consecutive_completed_ranges if len(r) > 1 ]\n",
    "print(consecutive_completed_ranges)"
   ]
  },
  {
   "cell_type": "code",
   "execution_count": 13,
   "metadata": {
    "collapsed": false
   },
   "outputs": [],
   "source": [
    "# Write list of incomplete ranges\n",
    "import datetime\n",
    "\n",
    "incomplete_list = open(incomplete_list_path, 'w')\n",
    "incomplete_list.write('# Generated ' + str(datetime.datetime.now()) + '\\n')\n",
    "for inc in incomplete:\n",
    "    incomplete_list.write(inc + '\\n')\n",
    "incomplete_list.close()"
   ]
  },
  {
   "cell_type": "code",
   "execution_count": 14,
   "metadata": {
    "collapsed": false
   },
   "outputs": [],
   "source": [
    "# Write list of complete ranges\n",
    "complete_list = open(complete_list_path, 'w')\n",
    "complete_list.write('# Generated ' + str(datetime.datetime.now()) + '\\n')\n",
    "for c in completed:\n",
    "    complete_list.write(c + '\\n')\n",
    "complete_list.close()"
   ]
  },
  {
   "cell_type": "code",
   "execution_count": 15,
   "metadata": {
    "collapsed": false
   },
   "outputs": [],
   "source": [
    "# concatenate_files based on https://stackoverflow.com/a/13613375/8706910\n",
    "def concatenate_files(files, output_file):\n",
    "    with open(output_file, 'w', encoding='utf-8') as output:\n",
    "        for file in files:\n",
    "            with open(file, encoding='utf-8') as input_file:\n",
    "                for line in input_file:\n",
    "                    output.write(line)\n",
    "                    \n",
    "def results_folder_to_range(folder_name):\n",
    "    start, end = folder_name.split('_')[1].split('-')\n",
    "    return int(start), int(end)\n",
    "\n",
    "import os\n",
    "import sys\n",
    "import errno\n",
    "\n",
    "# dir-create copied from AdamAndersonFindSumerianWorkflow\n",
    "def dir_create(path):\n",
    "    try:\n",
    "        os.makedirs(path)\n",
    "    except OSError as exception:\n",
    "        if exception.errno != errno.EEXIST:\n",
    "            raise\n",
    "        else:\n",
    "            print('Folder at: ' + path + ' already exists. Skipping...')\n",
    "\n",
    "import shutil\n",
    "# Merge all consecutive completed ranges into a single range\n",
    "for completed_range in consecutive_completed_ranges:\n",
    "    start_index = None\n",
    "    end_index = None\n",
    "    for folder in completed_range:\n",
    "        start, end = results_folder_to_range(folder)\n",
    "        start_index = start if start_index == None else min(start_index, start)\n",
    "        end_index = end if end_index == None else max(end_index, end)\n",
    "    \n",
    "    smallhits_paths = [ results_folder + folder + '/smallhitlist.txt' for folder in completed_range ]\n",
    "    bighits_paths = [ results_folder + folder + '/bighitlist.txt' for folder in completed_range ]\n",
    "    \n",
    "    merge_folder = results_folder + 'Results_' + str(start_index) + '-' + str(end_index)\n",
    "    dir_create(merge_folder)\n",
    "    concatenate_files(smallhits_paths, merge_folder + '/smallhitlist.txt')\n",
    "    concatenate_files(bighits_paths, merge_folder + '/bighitlist.txt')\n",
    "    print('Merged Range', start_index, end_index)\n",
    "    \n",
    "    # Move old folders to achive\n",
    "    for folder in completed_range:\n",
    "        shutil.move(results_folder + folder, results_archive_folder)\n",
    "    \n",
    "    "
   ]
  },
  {
   "cell_type": "code",
   "execution_count": 16,
   "metadata": {
    "collapsed": true
   },
   "outputs": [],
   "source": [
    "# If a range is large enough, upload Google drive\n",
    "# Added by Nicolas Chan based on previous code, 10/12/2017\n",
    "def upload_txt_file(name, path, destination_folder=None):\n",
    "    \"\"\"Upload a text file to Google Drive\"\"\"\n",
    "    \n",
    "    file_metadata = { 'name': name }\n",
    "    if destination_folder:\n",
    "        file_metadata['parents'] = [destination_folder]\n",
    "    media = MediaFileUpload(path, mimetype='text/plain')\n",
    "    file = service.files().create(\n",
    "        body=file_metadata,\n",
    "        media_body=media,\n",
    "        fields='id'\n",
    "    ).execute()\n",
    "    print('Uploaded', name, '; ID:', file.get('id'))\n",
    "\n",
    "results_folders = sorted(listdir(results_folder))\n",
    "for folder in results_folders:\n",
    "    contents = listdir(results_folder + '/' + subfolder)\n",
    "    # A folder is considered complete if it contains a bighitlist.txt and a smallhitlist.txt\n",
    "    complete = 'bighitlist.txt' in contents and 'smallhitlist.txt' in contents\n",
    "    if not complete:\n",
    "        continue\n",
    "    start, end = results_folder_to_range(folder)\n",
    "    size = start - end + 1\n",
    "    if size >= upload_threshold:\n",
    "        upload_txt_file('smallhitlist.txt', runFolder + 'smallhitlist.txt', google_folder)\n",
    "        upload_txt_file('bighitlist.txt', runFolder + 'bighitlist.txt', google_folder)"
   ]
  },
  {
   "cell_type": "code",
   "execution_count": null,
   "metadata": {
    "collapsed": true
   },
   "outputs": [],
   "source": []
  }
 ],
 "metadata": {
  "kernelspec": {
   "display_name": "Python 3",
   "language": "python",
   "name": "python3"
  },
  "language_info": {
   "codemirror_mode": {
    "name": "ipython",
    "version": 3
   },
   "file_extension": ".py",
   "mimetype": "text/x-python",
   "name": "python",
   "nbconvert_exporter": "python",
   "pygments_lexer": "ipython3",
   "version": "3.5.1"
  }
 },
 "nbformat": 4,
 "nbformat_minor": 1
}
