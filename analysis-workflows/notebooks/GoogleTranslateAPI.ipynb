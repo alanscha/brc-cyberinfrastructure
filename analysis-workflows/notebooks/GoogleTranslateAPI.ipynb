{
 "cells": [
  {
   "cell_type": "markdown",
   "metadata": {},
   "source": [
    "# Google Translate API\n",
    "\n",
    "This notebook demonstrates reading from a text file, sending it to the Google translate API, receiving the translation, and writing the output to file. (Nicolas Chan, 11/16/2017)\n",
    "\n",
    "### Kernal Setup\n",
    "```bash\n",
    "conda create --name=translate python=3.6 ipykernel\n",
    "source activate translate\n",
    "ipython kernel install --user --name translate\n",
    "pip install --upgrade google-cloud-translate\n",
    "```\n",
    "### Credentials\n",
    "IMPORTANT: Store your service account JSON credentials in `client_secret.json`."
   ]
  },
  {
   "cell_type": "code",
   "execution_count": 44,
   "metadata": {
    "collapsed": true
   },
   "outputs": [],
   "source": [
    "# Configuration\n",
    "input_filename = 'input.txt'\n",
    "output_filename = 'output.txt'\n",
    "target_language = 'en'"
   ]
  },
  {
   "cell_type": "code",
   "execution_count": 45,
   "metadata": {
    "collapsed": false
   },
   "outputs": [],
   "source": [
    "# Read input file contents\n",
    "input_contents = ''\n",
    "with open(input_filename, encoding='utf8') as file:\n",
    "    for line in file.readlines():\n",
    "        input_contents += line"
   ]
  },
  {
   "cell_type": "code",
   "execution_count": 46,
   "metadata": {
    "collapsed": false
   },
   "outputs": [],
   "source": [
    "# Translate file contents\n",
    "from google.cloud import translate\n",
    "client = translate.Client.from_service_account_json('client_secret.json')\n",
    "translation = client.translate(input_contents, target_language=target_language)"
   ]
  },
  {
   "cell_type": "code",
   "execution_count": 50,
   "metadata": {
    "collapsed": false
   },
   "outputs": [],
   "source": [
    "# Translation contains escaped HTML charcaters such as '&#39;' for an apostrophe.\n",
    "# To fix this, unescape HTML\n",
    "from html import unescape\n",
    "translation_text = unescape(translation['translatedText'])"
   ]
  },
  {
   "cell_type": "code",
   "execution_count": 52,
   "metadata": {
    "collapsed": false
   },
   "outputs": [],
   "source": [
    "# Write output to output file\n",
    "output_file = open(output_filename, 'w')\n",
    "output_file.write(translation_text)\n",
    "output_file.close()"
   ]
  },
  {
   "cell_type": "code",
   "execution_count": null,
   "metadata": {
    "collapsed": true
   },
   "outputs": [],
   "source": []
  }
 ],
 "metadata": {
  "kernelspec": {
   "display_name": "translate",
   "language": "python",
   "name": "translate"
  },
  "language_info": {
   "codemirror_mode": {
    "name": "ipython",
    "version": 3
   },
   "file_extension": ".py",
   "mimetype": "text/x-python",
   "name": "python",
   "nbconvert_exporter": "python",
   "pygments_lexer": "ipython3",
   "version": "3.6.3"
  }
 },
 "nbformat": 4,
 "nbformat_minor": 1
}
