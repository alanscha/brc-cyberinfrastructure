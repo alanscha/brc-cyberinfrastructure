{
 "cells": [
  {
   "cell_type": "markdown",
   "metadata": {},
   "source": [
    "# Download All PDFs\n",
    "Nicolas Chan, 11/2/2017"
   ]
  },
  {
   "cell_type": "code",
   "execution_count": null,
   "metadata": {
    "collapsed": true
   },
   "outputs": [],
   "source": [
    "# Configuration\n",
    "all_files_list = '/global/scratch/groups/dh/aanderson/all_files.txt'\n",
    "destination = '/global/scratch/groups/dh/aanderson/all_pdfs/'\n",
    "start_index, end_index = 0, 100"
   ]
  },
  {
   "cell_type": "code",
   "execution_count": null,
   "metadata": {
    "collapsed": false
   },
   "outputs": [],
   "source": [
    "# bDrive Authorization\n",
    "import os\n",
    "import sys\n",
    "import codecs\n",
    "import httplib2\n",
    "from googleapiclient.http import MediaIoBaseDownload\n",
    "from googleapiclient.http import MediaFileUpload\n",
    "from apiclient import discovery, errors\n",
    "from oauth2client import client\n",
    "from oauth2client import tools\n",
    "from oauth2client.file import Storage\n",
    "\n",
    "SCOPES = 'https://www.googleapis.com/auth/drive'\n",
    "CLIENT_SECRET_FILE = 'client_secret.json'\n",
    "APPLICATION_NAME = 'gDriveConnect'\n",
    "\n",
    "import argparse\n",
    "parser = argparse.ArgumentParser(parents=[tools.argparser])\n",
    "parser.add_argument('-f', help=argparse.SUPPRESS)\n",
    "\n",
    "flags = parser.parse_known_args()[0]\n",
    "flags.noauth_local_webserver = True\n",
    "\n",
    "def get_credentials():\n",
    "    \n",
    "    home_dir = os.path.expanduser('~')\n",
    "    credential_dir = os.path.join(home_dir, '.credentials')\n",
    "    if not os.path.exists(credential_dir):\n",
    "        os.makedirs(credential_dir)\n",
    "    credential_path = os.path.join(credential_dir, 'gDriveConnect.json')\n",
    "    \n",
    "    store = Storage(credential_path)    \n",
    "    credentials = store.get()\n",
    "    \n",
    "    if not credentials or credentials.invalid:\n",
    "        flow = client.flow_from_clientsecrets(CLIENT_SECRET_FILE, SCOPES)\n",
    "        flow.user_agent = APPLICATION_NAME\n",
    "        if flags:\n",
    "            credentials = tools.run_flow(flow, store, flags)\n",
    "        else: # Needed only for compatibility with Python 2.6\n",
    "            credentials = tools.run(flow, store)\n",
    "        print('Storing credentials to ' + credential_path)\n",
    "        \n",
    "    return credentials\n",
    "\n",
    "credentials = get_credentials()\n",
    "print('credential_path:', credentials)\n",
    "http = credentials.authorize(httplib2.Http())\n",
    "service = discovery.build('drive', 'v3', http=http)"
   ]
  },
  {
   "cell_type": "code",
   "execution_count": null,
   "metadata": {
    "collapsed": true
   },
   "outputs": [],
   "source": [
    "import io\n",
    "def download_file(google_id, destination):\n",
    "    \"\"\"Downloads a file from Google Drive\"\"\"\n",
    "    \n",
    "    request = service.files().get_media(fileId=google_id)\n",
    "    fh = io.BytesIO()\n",
    "    downloader = MediaIoBaseDownload(fh, request)\n",
    "    \n",
    "    done = False\n",
    "    while done is False:\n",
    "        try:\n",
    "            status, done = downloader.next_chunk()\n",
    "            sys.stdout.write('.')\n",
    "        except errors.HttpError as error :\n",
    "            print('Error file:', value, '   id:', key)\n",
    "            print('An error occurred pulling the next chunk:', error)\n",
    "            break\n",
    "\n",
    "    fh.seek(0)\n",
    "\n",
    "    print('\\nwriting:', destination)\n",
    "    with open( destination, 'wb',) as f2:\n",
    "        f2.write(fh.getvalue())\n",
    "        f2.close()\n",
    "\n",
    "    fh.close()"
   ]
  },
  {
   "cell_type": "code",
   "execution_count": null,
   "metadata": {
    "collapsed": false
   },
   "outputs": [],
   "source": [
    "with open(all_files_list, 'rt', encoding='utf-8') as f:\n",
    "    line_number = 0\n",
    "    for line in f:\n",
    "        if line_number > end_index:\n",
    "            break\n",
    "        if line_number >= start_index:\n",
    "            file = line.split(';')[-1].strip('\\n')\n",
    "            file_path = destination + file + '.pdf'\n",
    "            if os.path.isfile(file_path):\n",
    "                print(file, 'already exists, skipping')\n",
    "            else:\n",
    "                try:\n",
    "                    print('Downloading', file)\n",
    "                    download_file(file, file_path)\n",
    "                except:\n",
    "                    print('Failed to download', file)\n",
    "                    !echo $file >> /global/scratch/groups/dh/aanderson/failed_files_download_all.txt\n",
    "        line_number += 1"
   ]
  },
  {
   "cell_type": "code",
   "execution_count": null,
   "metadata": {
    "collapsed": true
   },
   "outputs": [],
   "source": []
  }
 ],
 "metadata": {
  "kernelspec": {
   "display_name": "Python 3",
   "language": "python",
   "name": "python3"
  },
  "language_info": {
   "codemirror_mode": {
    "name": "ipython",
    "version": 3
   },
   "file_extension": ".py",
   "mimetype": "text/x-python",
   "name": "python",
   "nbconvert_exporter": "python",
   "pygments_lexer": "ipython3",
   "version": "3.5.1"
  }
 },
 "nbformat": 4,
 "nbformat_minor": 1
}
